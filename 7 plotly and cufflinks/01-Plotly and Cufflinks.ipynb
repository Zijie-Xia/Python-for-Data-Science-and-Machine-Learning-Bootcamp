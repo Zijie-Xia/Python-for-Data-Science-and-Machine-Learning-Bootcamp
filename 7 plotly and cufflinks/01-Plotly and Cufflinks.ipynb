{
 "cells": [
  {
   "cell_type": "markdown",
   "metadata": {},
   "source": [
    "___\n",
    "\n",
    "<a href='http://www.pieriandata.com'> <img src='../Pierian_Data_Logo.png' /></a>\n",
    "___\n",
    "# Plotly and Cufflinks"
   ]
  },
  {
   "cell_type": "markdown",
   "metadata": {},
   "source": [
    "Plotly is a library that allows you to create interactive plots that you can use in dashboards or websites (you can save them as html files or static images).\n",
    "\n",
    "## Installation\n",
    "\n",
    "In order for this all to work, you'll need to install plotly and cufflinks to call plots directly off of a pandas dataframe. These libraries are not currently available through **conda** but are available through **pip**. Install the libraries at your command line/terminal using:\n",
    "\n",
    "    pip install plotly\n",
    "    pip install cufflinks\n",
    "\n",
    "** NOTE: Make sure you only have one installation of Python on your computer when you do this, otherwise the installation may not work. **\n",
    "\n",
    "## Imports and Set-up"
   ]
  },
  {
   "cell_type": "code",
   "execution_count": 1,
   "metadata": {},
   "outputs": [],
   "source": [
    "import pandas as pd\n",
    "import numpy as np\n",
    "%matplotlib inline"
   ]
  },
  {
   "cell_type": "code",
   "execution_count": 2,
   "metadata": {},
   "outputs": [
    {
     "name": "stdout",
     "output_type": "stream",
     "text": [
      "4.4.1\n"
     ]
    }
   ],
   "source": [
    "from plotly import __version__\n",
    "from plotly.offline import download_plotlyjs, init_notebook_mode, plot, iplot\n",
    "\n",
    "print(__version__) # requires version >= 1.9.0"
   ]
  },
  {
   "cell_type": "code",
   "execution_count": 3,
   "metadata": {},
   "outputs": [],
   "source": [
    "import cufflinks as cf"
   ]
  },
  {
   "cell_type": "code",
   "execution_count": 4,
   "metadata": {},
   "outputs": [
    {
     "data": {
      "text/html": [
       "        <script type=\"text/javascript\">\n",
       "        window.PlotlyConfig = {MathJaxConfig: 'local'};\n",
       "        if (window.MathJax) {MathJax.Hub.Config({SVG: {font: \"STIX-Web\"}});}\n",
       "        if (typeof require !== 'undefined') {\n",
       "        require.undef(\"plotly\");\n",
       "        requirejs.config({\n",
       "            paths: {\n",
       "                'plotly': ['https://cdn.plot.ly/plotly-latest.min']\n",
       "            }\n",
       "        });\n",
       "        require(['plotly'], function(Plotly) {\n",
       "            window._Plotly = Plotly;\n",
       "        });\n",
       "        }\n",
       "        </script>\n",
       "        "
      ]
     },
     "metadata": {},
     "output_type": "display_data"
    }
   ],
   "source": [
    "# For Notebooks\n",
    "init_notebook_mode(connected=True)"
   ]
  },
  {
   "cell_type": "code",
   "execution_count": 5,
   "metadata": {},
   "outputs": [
    {
     "data": {
      "text/html": [
       "        <script type=\"text/javascript\">\n",
       "        window.PlotlyConfig = {MathJaxConfig: 'local'};\n",
       "        if (window.MathJax) {MathJax.Hub.Config({SVG: {font: \"STIX-Web\"}});}\n",
       "        if (typeof require !== 'undefined') {\n",
       "        require.undef(\"plotly\");\n",
       "        requirejs.config({\n",
       "            paths: {\n",
       "                'plotly': ['https://cdn.plot.ly/plotly-latest.min']\n",
       "            }\n",
       "        });\n",
       "        require(['plotly'], function(Plotly) {\n",
       "            window._Plotly = Plotly;\n",
       "        });\n",
       "        }\n",
       "        </script>\n",
       "        "
      ]
     },
     "metadata": {},
     "output_type": "display_data"
    }
   ],
   "source": [
    "# For offline use\n",
    "cf.go_offline()"
   ]
  },
  {
   "cell_type": "markdown",
   "metadata": {},
   "source": [
    "### Fake Data"
   ]
  },
  {
   "cell_type": "code",
   "execution_count": 6,
   "metadata": {},
   "outputs": [],
   "source": [
    "df = pd.DataFrame(np.random.randn(100,4),columns='A B C D'.split())"
   ]
  },
  {
   "cell_type": "code",
   "execution_count": 7,
   "metadata": {},
   "outputs": [
    {
     "data": {
      "text/html": [
       "<div>\n",
       "<style scoped>\n",
       "    .dataframe tbody tr th:only-of-type {\n",
       "        vertical-align: middle;\n",
       "    }\n",
       "\n",
       "    .dataframe tbody tr th {\n",
       "        vertical-align: top;\n",
       "    }\n",
       "\n",
       "    .dataframe thead th {\n",
       "        text-align: right;\n",
       "    }\n",
       "</style>\n",
       "<table border=\"1\" class=\"dataframe\">\n",
       "  <thead>\n",
       "    <tr style=\"text-align: right;\">\n",
       "      <th></th>\n",
       "      <th>A</th>\n",
       "      <th>B</th>\n",
       "      <th>C</th>\n",
       "      <th>D</th>\n",
       "    </tr>\n",
       "  </thead>\n",
       "  <tbody>\n",
       "    <tr>\n",
       "      <th>0</th>\n",
       "      <td>-0.510356</td>\n",
       "      <td>0.439411</td>\n",
       "      <td>1.713461</td>\n",
       "      <td>-0.649431</td>\n",
       "    </tr>\n",
       "    <tr>\n",
       "      <th>1</th>\n",
       "      <td>0.720165</td>\n",
       "      <td>-1.370488</td>\n",
       "      <td>0.012295</td>\n",
       "      <td>0.519605</td>\n",
       "    </tr>\n",
       "    <tr>\n",
       "      <th>2</th>\n",
       "      <td>-0.795638</td>\n",
       "      <td>-0.894780</td>\n",
       "      <td>1.157638</td>\n",
       "      <td>0.082849</td>\n",
       "    </tr>\n",
       "    <tr>\n",
       "      <th>3</th>\n",
       "      <td>1.083281</td>\n",
       "      <td>-0.909170</td>\n",
       "      <td>1.356637</td>\n",
       "      <td>0.424981</td>\n",
       "    </tr>\n",
       "    <tr>\n",
       "      <th>4</th>\n",
       "      <td>-0.301353</td>\n",
       "      <td>-0.787083</td>\n",
       "      <td>-0.211776</td>\n",
       "      <td>0.572929</td>\n",
       "    </tr>\n",
       "  </tbody>\n",
       "</table>\n",
       "</div>"
      ],
      "text/plain": [
       "          A         B         C         D\n",
       "0 -0.510356  0.439411  1.713461 -0.649431\n",
       "1  0.720165 -1.370488  0.012295  0.519605\n",
       "2 -0.795638 -0.894780  1.157638  0.082849\n",
       "3  1.083281 -0.909170  1.356637  0.424981\n",
       "4 -0.301353 -0.787083 -0.211776  0.572929"
      ]
     },
     "execution_count": 7,
     "metadata": {},
     "output_type": "execute_result"
    }
   ],
   "source": [
    "df.head()"
   ]
  },
  {
   "cell_type": "code",
   "execution_count": 9,
   "metadata": {},
   "outputs": [],
   "source": [
    "df2 = pd.DataFrame({'Category':['A','B','C'],'Values':[32,43,50]})"
   ]
  },
  {
   "cell_type": "code",
   "execution_count": 10,
   "metadata": {},
   "outputs": [
    {
     "data": {
      "text/html": [
       "<div>\n",
       "<style scoped>\n",
       "    .dataframe tbody tr th:only-of-type {\n",
       "        vertical-align: middle;\n",
       "    }\n",
       "\n",
       "    .dataframe tbody tr th {\n",
       "        vertical-align: top;\n",
       "    }\n",
       "\n",
       "    .dataframe thead th {\n",
       "        text-align: right;\n",
       "    }\n",
       "</style>\n",
       "<table border=\"1\" class=\"dataframe\">\n",
       "  <thead>\n",
       "    <tr style=\"text-align: right;\">\n",
       "      <th></th>\n",
       "      <th>Category</th>\n",
       "      <th>Values</th>\n",
       "    </tr>\n",
       "  </thead>\n",
       "  <tbody>\n",
       "    <tr>\n",
       "      <th>0</th>\n",
       "      <td>A</td>\n",
       "      <td>32</td>\n",
       "    </tr>\n",
       "    <tr>\n",
       "      <th>1</th>\n",
       "      <td>B</td>\n",
       "      <td>43</td>\n",
       "    </tr>\n",
       "    <tr>\n",
       "      <th>2</th>\n",
       "      <td>C</td>\n",
       "      <td>50</td>\n",
       "    </tr>\n",
       "  </tbody>\n",
       "</table>\n",
       "</div>"
      ],
      "text/plain": [
       "  Category  Values\n",
       "0        A      32\n",
       "1        B      43\n",
       "2        C      50"
      ]
     },
     "execution_count": 10,
     "metadata": {},
     "output_type": "execute_result"
    }
   ],
   "source": [
    "df2.head()"
   ]
  },
  {
   "cell_type": "markdown",
   "metadata": {},
   "source": [
    "## Using Cufflinks and iplot()\n",
    "\n",
    "* scatter\n",
    "* bar\n",
    "* box\n",
    "* spread\n",
    "* ratio\n",
    "* heatmap\n",
    "* surface\n",
    "* histogram\n",
    "* bubble"
   ]
  },
  {
   "cell_type": "markdown",
   "metadata": {},
   "source": [
    "## Scatter"
   ]
  },
  {
   "cell_type": "code",
   "execution_count": 12,
   "metadata": {},
   "outputs": [
    {
     "data": {
      "application/vnd.plotly.v1+json": {
       "config": {
        "linkText": "Export to plot.ly",
        "plotlyServerURL": "https://plot.ly",
        "showLink": true
       },
       "data": [
        {
         "line": {
          "color": "rgba(255, 153, 51, 1.0)",
          "dash": "solid",
          "shape": "linear",
          "width": 1.3
         },
         "marker": {
          "size": 10,
          "symbol": "circle"
         },
         "mode": "markers",
         "name": "B",
         "text": "",
         "type": "scatter",
         "x": [
          -0.510356444121689,
          0.7201652349415042,
          -0.7956381636543068,
          1.0832809916868644,
          -0.30135332660046227,
          0.42411030852509535,
          0.42087262293982375,
          -0.3834038112338632,
          -0.7181067075740701,
          -1.689000975405711,
          -0.768211369533854,
          -1.4009016874638953,
          -0.4609104403187404,
          -0.3610062304045048,
          0.6990611544761113,
          -0.4071983236663745,
          0.9749451967310648,
          -1.5521567512284027,
          2.582839819142019,
          -1.2608047270318732,
          0.68742828657434,
          -0.46537119576917874,
          -0.48064110808268334,
          0.28063181595730985,
          -1.0452623335682787,
          -0.40873364292488046,
          -1.3571367997941601,
          -0.6062375995071084,
          1.4528109216456557,
          0.07731559895151965,
          0.3250397061151751,
          1.201915142424794,
          -0.4504659375584174,
          1.9668847821266044,
          -0.364303563666657,
          -0.13927146800064158,
          0.57348161033347,
          0.4947778974491402,
          0.30569786829351947,
          0.9201554242455009,
          -0.41523183381297085,
          -1.8330412839733048,
          -0.23619614972665107,
          -1.849963868494029,
          0.5461760591197427,
          -0.9361134586802853,
          -0.4528434305920523,
          0.2174161047715857,
          1.0635059691233937,
          -0.9459523350502519,
          -0.13166220663639913,
          -0.6421618174142698,
          0.3047712492940703,
          -0.26344777521625573,
          -0.45306380687736664,
          -0.9705865345061072,
          -0.12741882697516443,
          1.0049752783819161,
          0.4086707843416792,
          -0.4511413941730779,
          0.5104243612824134,
          -0.7255566333311757,
          0.5653467224854392,
          -0.16436532244841037,
          -0.1988484231344934,
          -0.7564557068257352,
          -0.18679418701106604,
          0.007128162141137425,
          -0.04652926061840745,
          -1.2240766600558828,
          0.2548364775874957,
          0.36702432595644263,
          -1.8441953853505533,
          -0.24359038758120563,
          1.3244683296413644,
          0.61165695571586,
          1.5230508996881755,
          1.7353619398397855,
          0.22402443540755565,
          0.33895550763612925,
          0.9223319365608782,
          0.9159143574193307,
          1.2997354894773798,
          -1.4147536326587344,
          -1.0248138567998835,
          -1.7541740527292868,
          -0.6575313266954175,
          -0.6207644107638655,
          -0.44464272561837265,
          -0.836691238296052,
          1.7573684719199605,
          -2.9653482379895464,
          -1.146385550579236,
          0.15786795073923038,
          1.9837911867756637,
          -0.1286989891014074,
          0.6788131762939952,
          -0.012808189565091749,
          -0.7578489572357708,
          1.5590955815629608
         ],
         "y": [
          0.4394113396115198,
          -1.3704879603341773,
          -0.894779683303476,
          -0.9091697423817736,
          -0.7870831654017293,
          1.7078371717736396,
          -0.09852952274905818,
          -0.3301784910650832,
          1.6268395224675645,
          0.23779943709785142,
          0.8320902681835906,
          -1.0395936765569966,
          -1.4627998759745036,
          -1.2905181379536943,
          -0.7458983776289884,
          1.233386993912338,
          0.49681475206133296,
          -0.512701542962839,
          2.064920530388905,
          1.1887225273511324,
          0.9775910490656258,
          0.07947257556784981,
          -0.7874279153056152,
          -1.1496283384200692,
          -1.4302366554682746,
          -1.5038040240345794,
          0.2917872732984551,
          -1.1291913047146693,
          0.381635713258072,
          0.5782386470488836,
          0.18723596532937337,
          -0.3932861774601221,
          0.22451339799635048,
          -0.5639617603917293,
          0.976796922647767,
          1.3294058450552153,
          -0.014823934009534098,
          0.33694456503364056,
          -1.7596659431646775,
          0.18350148416556766,
          2.1186952855091894,
          1.8667466050294965,
          -0.837574209463975,
          1.1115620238149284,
          0.27441666631551975,
          -0.20989609089297878,
          -1.8147053413659966,
          0.7869898004991409,
          -1.7841985376732745,
          -0.5238520144705975,
          0.3812868303501749,
          0.3137975708975645,
          0.9968300457049288,
          0.5824846983864099,
          -0.05913546961926126,
          -0.7790815336783042,
          -0.5034885037883023,
          0.9896954982725973,
          -0.4787666015780376,
          1.9011893896648642,
          -0.13028487404661762,
          -2.1424981055614447,
          -1.0766028098307068,
          -0.792137140883388,
          -1.2103592333561075,
          -1.4878660498301146,
          -0.43106169827739,
          -0.44901688012835594,
          0.29737915922704417,
          -1.5005547897872924,
          -0.6906235587362654,
          0.08165168312136552,
          0.888112558194319,
          0.2162961596844919,
          0.3095124316406531,
          -2.357625950700372,
          -0.5851048603043837,
          1.4090130212670697,
          -0.8972052639813642,
          0.44154770227912477,
          1.1769309603585676,
          3.494886385021715,
          -0.34623819370067876,
          0.49039904790159233,
          -1.4439627916263218,
          -0.23356971773044577,
          1.946859888073679,
          0.39682927408000496,
          0.6947149347178614,
          0.776205432439833,
          -1.6156658133534276,
          0.8735942224395256,
          -0.027535065229056153,
          -0.008472192836710022,
          0.1836800682078861,
          -0.4984619503467606,
          1.705018893410389,
          -2.0132462510663918,
          0.1437439755595477,
          0.38606482996606656
         ]
        }
       ],
       "layout": {
        "legend": {
         "bgcolor": "#F5F6F9",
         "font": {
          "color": "#4D5663"
         }
        },
        "paper_bgcolor": "#F5F6F9",
        "plot_bgcolor": "#F5F6F9",
        "template": {
         "data": {
          "bar": [
           {
            "error_x": {
             "color": "#2a3f5f"
            },
            "error_y": {
             "color": "#2a3f5f"
            },
            "marker": {
             "line": {
              "color": "#E5ECF6",
              "width": 0.5
             }
            },
            "type": "bar"
           }
          ],
          "barpolar": [
           {
            "marker": {
             "line": {
              "color": "#E5ECF6",
              "width": 0.5
             }
            },
            "type": "barpolar"
           }
          ],
          "carpet": [
           {
            "aaxis": {
             "endlinecolor": "#2a3f5f",
             "gridcolor": "white",
             "linecolor": "white",
             "minorgridcolor": "white",
             "startlinecolor": "#2a3f5f"
            },
            "baxis": {
             "endlinecolor": "#2a3f5f",
             "gridcolor": "white",
             "linecolor": "white",
             "minorgridcolor": "white",
             "startlinecolor": "#2a3f5f"
            },
            "type": "carpet"
           }
          ],
          "choropleth": [
           {
            "colorbar": {
             "outlinewidth": 0,
             "ticks": ""
            },
            "type": "choropleth"
           }
          ],
          "contour": [
           {
            "colorbar": {
             "outlinewidth": 0,
             "ticks": ""
            },
            "colorscale": [
             [
              0,
              "#0d0887"
             ],
             [
              0.1111111111111111,
              "#46039f"
             ],
             [
              0.2222222222222222,
              "#7201a8"
             ],
             [
              0.3333333333333333,
              "#9c179e"
             ],
             [
              0.4444444444444444,
              "#bd3786"
             ],
             [
              0.5555555555555556,
              "#d8576b"
             ],
             [
              0.6666666666666666,
              "#ed7953"
             ],
             [
              0.7777777777777778,
              "#fb9f3a"
             ],
             [
              0.8888888888888888,
              "#fdca26"
             ],
             [
              1,
              "#f0f921"
             ]
            ],
            "type": "contour"
           }
          ],
          "contourcarpet": [
           {
            "colorbar": {
             "outlinewidth": 0,
             "ticks": ""
            },
            "type": "contourcarpet"
           }
          ],
          "heatmap": [
           {
            "colorbar": {
             "outlinewidth": 0,
             "ticks": ""
            },
            "colorscale": [
             [
              0,
              "#0d0887"
             ],
             [
              0.1111111111111111,
              "#46039f"
             ],
             [
              0.2222222222222222,
              "#7201a8"
             ],
             [
              0.3333333333333333,
              "#9c179e"
             ],
             [
              0.4444444444444444,
              "#bd3786"
             ],
             [
              0.5555555555555556,
              "#d8576b"
             ],
             [
              0.6666666666666666,
              "#ed7953"
             ],
             [
              0.7777777777777778,
              "#fb9f3a"
             ],
             [
              0.8888888888888888,
              "#fdca26"
             ],
             [
              1,
              "#f0f921"
             ]
            ],
            "type": "heatmap"
           }
          ],
          "heatmapgl": [
           {
            "colorbar": {
             "outlinewidth": 0,
             "ticks": ""
            },
            "colorscale": [
             [
              0,
              "#0d0887"
             ],
             [
              0.1111111111111111,
              "#46039f"
             ],
             [
              0.2222222222222222,
              "#7201a8"
             ],
             [
              0.3333333333333333,
              "#9c179e"
             ],
             [
              0.4444444444444444,
              "#bd3786"
             ],
             [
              0.5555555555555556,
              "#d8576b"
             ],
             [
              0.6666666666666666,
              "#ed7953"
             ],
             [
              0.7777777777777778,
              "#fb9f3a"
             ],
             [
              0.8888888888888888,
              "#fdca26"
             ],
             [
              1,
              "#f0f921"
             ]
            ],
            "type": "heatmapgl"
           }
          ],
          "histogram": [
           {
            "marker": {
             "colorbar": {
              "outlinewidth": 0,
              "ticks": ""
             }
            },
            "type": "histogram"
           }
          ],
          "histogram2d": [
           {
            "colorbar": {
             "outlinewidth": 0,
             "ticks": ""
            },
            "colorscale": [
             [
              0,
              "#0d0887"
             ],
             [
              0.1111111111111111,
              "#46039f"
             ],
             [
              0.2222222222222222,
              "#7201a8"
             ],
             [
              0.3333333333333333,
              "#9c179e"
             ],
             [
              0.4444444444444444,
              "#bd3786"
             ],
             [
              0.5555555555555556,
              "#d8576b"
             ],
             [
              0.6666666666666666,
              "#ed7953"
             ],
             [
              0.7777777777777778,
              "#fb9f3a"
             ],
             [
              0.8888888888888888,
              "#fdca26"
             ],
             [
              1,
              "#f0f921"
             ]
            ],
            "type": "histogram2d"
           }
          ],
          "histogram2dcontour": [
           {
            "colorbar": {
             "outlinewidth": 0,
             "ticks": ""
            },
            "colorscale": [
             [
              0,
              "#0d0887"
             ],
             [
              0.1111111111111111,
              "#46039f"
             ],
             [
              0.2222222222222222,
              "#7201a8"
             ],
             [
              0.3333333333333333,
              "#9c179e"
             ],
             [
              0.4444444444444444,
              "#bd3786"
             ],
             [
              0.5555555555555556,
              "#d8576b"
             ],
             [
              0.6666666666666666,
              "#ed7953"
             ],
             [
              0.7777777777777778,
              "#fb9f3a"
             ],
             [
              0.8888888888888888,
              "#fdca26"
             ],
             [
              1,
              "#f0f921"
             ]
            ],
            "type": "histogram2dcontour"
           }
          ],
          "mesh3d": [
           {
            "colorbar": {
             "outlinewidth": 0,
             "ticks": ""
            },
            "type": "mesh3d"
           }
          ],
          "parcoords": [
           {
            "line": {
             "colorbar": {
              "outlinewidth": 0,
              "ticks": ""
             }
            },
            "type": "parcoords"
           }
          ],
          "pie": [
           {
            "automargin": true,
            "type": "pie"
           }
          ],
          "scatter": [
           {
            "marker": {
             "colorbar": {
              "outlinewidth": 0,
              "ticks": ""
             }
            },
            "type": "scatter"
           }
          ],
          "scatter3d": [
           {
            "line": {
             "colorbar": {
              "outlinewidth": 0,
              "ticks": ""
             }
            },
            "marker": {
             "colorbar": {
              "outlinewidth": 0,
              "ticks": ""
             }
            },
            "type": "scatter3d"
           }
          ],
          "scattercarpet": [
           {
            "marker": {
             "colorbar": {
              "outlinewidth": 0,
              "ticks": ""
             }
            },
            "type": "scattercarpet"
           }
          ],
          "scattergeo": [
           {
            "marker": {
             "colorbar": {
              "outlinewidth": 0,
              "ticks": ""
             }
            },
            "type": "scattergeo"
           }
          ],
          "scattergl": [
           {
            "marker": {
             "colorbar": {
              "outlinewidth": 0,
              "ticks": ""
             }
            },
            "type": "scattergl"
           }
          ],
          "scattermapbox": [
           {
            "marker": {
             "colorbar": {
              "outlinewidth": 0,
              "ticks": ""
             }
            },
            "type": "scattermapbox"
           }
          ],
          "scatterpolar": [
           {
            "marker": {
             "colorbar": {
              "outlinewidth": 0,
              "ticks": ""
             }
            },
            "type": "scatterpolar"
           }
          ],
          "scatterpolargl": [
           {
            "marker": {
             "colorbar": {
              "outlinewidth": 0,
              "ticks": ""
             }
            },
            "type": "scatterpolargl"
           }
          ],
          "scatterternary": [
           {
            "marker": {
             "colorbar": {
              "outlinewidth": 0,
              "ticks": ""
             }
            },
            "type": "scatterternary"
           }
          ],
          "surface": [
           {
            "colorbar": {
             "outlinewidth": 0,
             "ticks": ""
            },
            "colorscale": [
             [
              0,
              "#0d0887"
             ],
             [
              0.1111111111111111,
              "#46039f"
             ],
             [
              0.2222222222222222,
              "#7201a8"
             ],
             [
              0.3333333333333333,
              "#9c179e"
             ],
             [
              0.4444444444444444,
              "#bd3786"
             ],
             [
              0.5555555555555556,
              "#d8576b"
             ],
             [
              0.6666666666666666,
              "#ed7953"
             ],
             [
              0.7777777777777778,
              "#fb9f3a"
             ],
             [
              0.8888888888888888,
              "#fdca26"
             ],
             [
              1,
              "#f0f921"
             ]
            ],
            "type": "surface"
           }
          ],
          "table": [
           {
            "cells": {
             "fill": {
              "color": "#EBF0F8"
             },
             "line": {
              "color": "white"
             }
            },
            "header": {
             "fill": {
              "color": "#C8D4E3"
             },
             "line": {
              "color": "white"
             }
            },
            "type": "table"
           }
          ]
         },
         "layout": {
          "annotationdefaults": {
           "arrowcolor": "#2a3f5f",
           "arrowhead": 0,
           "arrowwidth": 1
          },
          "coloraxis": {
           "colorbar": {
            "outlinewidth": 0,
            "ticks": ""
           }
          },
          "colorscale": {
           "diverging": [
            [
             0,
             "#8e0152"
            ],
            [
             0.1,
             "#c51b7d"
            ],
            [
             0.2,
             "#de77ae"
            ],
            [
             0.3,
             "#f1b6da"
            ],
            [
             0.4,
             "#fde0ef"
            ],
            [
             0.5,
             "#f7f7f7"
            ],
            [
             0.6,
             "#e6f5d0"
            ],
            [
             0.7,
             "#b8e186"
            ],
            [
             0.8,
             "#7fbc41"
            ],
            [
             0.9,
             "#4d9221"
            ],
            [
             1,
             "#276419"
            ]
           ],
           "sequential": [
            [
             0,
             "#0d0887"
            ],
            [
             0.1111111111111111,
             "#46039f"
            ],
            [
             0.2222222222222222,
             "#7201a8"
            ],
            [
             0.3333333333333333,
             "#9c179e"
            ],
            [
             0.4444444444444444,
             "#bd3786"
            ],
            [
             0.5555555555555556,
             "#d8576b"
            ],
            [
             0.6666666666666666,
             "#ed7953"
            ],
            [
             0.7777777777777778,
             "#fb9f3a"
            ],
            [
             0.8888888888888888,
             "#fdca26"
            ],
            [
             1,
             "#f0f921"
            ]
           ],
           "sequentialminus": [
            [
             0,
             "#0d0887"
            ],
            [
             0.1111111111111111,
             "#46039f"
            ],
            [
             0.2222222222222222,
             "#7201a8"
            ],
            [
             0.3333333333333333,
             "#9c179e"
            ],
            [
             0.4444444444444444,
             "#bd3786"
            ],
            [
             0.5555555555555556,
             "#d8576b"
            ],
            [
             0.6666666666666666,
             "#ed7953"
            ],
            [
             0.7777777777777778,
             "#fb9f3a"
            ],
            [
             0.8888888888888888,
             "#fdca26"
            ],
            [
             1,
             "#f0f921"
            ]
           ]
          },
          "colorway": [
           "#636efa",
           "#EF553B",
           "#00cc96",
           "#ab63fa",
           "#FFA15A",
           "#19d3f3",
           "#FF6692",
           "#B6E880",
           "#FF97FF",
           "#FECB52"
          ],
          "font": {
           "color": "#2a3f5f"
          },
          "geo": {
           "bgcolor": "white",
           "lakecolor": "white",
           "landcolor": "#E5ECF6",
           "showlakes": true,
           "showland": true,
           "subunitcolor": "white"
          },
          "hoverlabel": {
           "align": "left"
          },
          "hovermode": "closest",
          "mapbox": {
           "style": "light"
          },
          "paper_bgcolor": "white",
          "plot_bgcolor": "#E5ECF6",
          "polar": {
           "angularaxis": {
            "gridcolor": "white",
            "linecolor": "white",
            "ticks": ""
           },
           "bgcolor": "#E5ECF6",
           "radialaxis": {
            "gridcolor": "white",
            "linecolor": "white",
            "ticks": ""
           }
          },
          "scene": {
           "xaxis": {
            "backgroundcolor": "#E5ECF6",
            "gridcolor": "white",
            "gridwidth": 2,
            "linecolor": "white",
            "showbackground": true,
            "ticks": "",
            "zerolinecolor": "white"
           },
           "yaxis": {
            "backgroundcolor": "#E5ECF6",
            "gridcolor": "white",
            "gridwidth": 2,
            "linecolor": "white",
            "showbackground": true,
            "ticks": "",
            "zerolinecolor": "white"
           },
           "zaxis": {
            "backgroundcolor": "#E5ECF6",
            "gridcolor": "white",
            "gridwidth": 2,
            "linecolor": "white",
            "showbackground": true,
            "ticks": "",
            "zerolinecolor": "white"
           }
          },
          "shapedefaults": {
           "line": {
            "color": "#2a3f5f"
           }
          },
          "ternary": {
           "aaxis": {
            "gridcolor": "white",
            "linecolor": "white",
            "ticks": ""
           },
           "baxis": {
            "gridcolor": "white",
            "linecolor": "white",
            "ticks": ""
           },
           "bgcolor": "#E5ECF6",
           "caxis": {
            "gridcolor": "white",
            "linecolor": "white",
            "ticks": ""
           }
          },
          "title": {
           "x": 0.05
          },
          "xaxis": {
           "automargin": true,
           "gridcolor": "white",
           "linecolor": "white",
           "ticks": "",
           "title": {
            "standoff": 15
           },
           "zerolinecolor": "white",
           "zerolinewidth": 2
          },
          "yaxis": {
           "automargin": true,
           "gridcolor": "white",
           "linecolor": "white",
           "ticks": "",
           "title": {
            "standoff": 15
           },
           "zerolinecolor": "white",
           "zerolinewidth": 2
          }
         }
        },
        "title": {
         "font": {
          "color": "#4D5663"
         }
        },
        "xaxis": {
         "gridcolor": "#E1E5ED",
         "showgrid": true,
         "tickfont": {
          "color": "#4D5663"
         },
         "title": {
          "font": {
           "color": "#4D5663"
          },
          "text": ""
         },
         "zerolinecolor": "#E1E5ED"
        },
        "yaxis": {
         "gridcolor": "#E1E5ED",
         "showgrid": true,
         "tickfont": {
          "color": "#4D5663"
         },
         "title": {
          "font": {
           "color": "#4D5663"
          },
          "text": ""
         },
         "zerolinecolor": "#E1E5ED"
        }
       }
      },
      "text/html": [
       "<div>\n",
       "        \n",
       "        \n",
       "            <div id=\"f4228110-2831-4065-95ba-a62bebd5dc9a\" class=\"plotly-graph-div\" style=\"height:525px; width:100%;\"></div>\n",
       "            <script type=\"text/javascript\">\n",
       "                require([\"plotly\"], function(Plotly) {\n",
       "                    window.PLOTLYENV=window.PLOTLYENV || {};\n",
       "                    window.PLOTLYENV.BASE_URL='https://plot.ly';\n",
       "                    \n",
       "                if (document.getElementById(\"f4228110-2831-4065-95ba-a62bebd5dc9a\")) {\n",
       "                    Plotly.newPlot(\n",
       "                        'f4228110-2831-4065-95ba-a62bebd5dc9a',\n",
       "                        [{\"line\": {\"color\": \"rgba(255, 153, 51, 1.0)\", \"dash\": \"solid\", \"shape\": \"linear\", \"width\": 1.3}, \"marker\": {\"size\": 10, \"symbol\": \"circle\"}, \"mode\": \"markers\", \"name\": \"B\", \"text\": \"\", \"type\": \"scatter\", \"x\": [-0.510356444121689, 0.7201652349415042, -0.7956381636543068, 1.0832809916868644, -0.30135332660046227, 0.42411030852509535, 0.42087262293982375, -0.3834038112338632, -0.7181067075740701, -1.689000975405711, -0.768211369533854, -1.4009016874638953, -0.4609104403187404, -0.3610062304045048, 0.6990611544761113, -0.4071983236663745, 0.9749451967310648, -1.5521567512284027, 2.582839819142019, -1.2608047270318732, 0.68742828657434, -0.46537119576917874, -0.48064110808268334, 0.28063181595730985, -1.0452623335682787, -0.40873364292488046, -1.3571367997941601, -0.6062375995071084, 1.4528109216456557, 0.07731559895151965, 0.3250397061151751, 1.201915142424794, -0.4504659375584174, 1.9668847821266044, -0.364303563666657, -0.13927146800064158, 0.57348161033347, 0.4947778974491402, 0.30569786829351947, 0.9201554242455009, -0.41523183381297085, -1.8330412839733048, -0.23619614972665107, -1.849963868494029, 0.5461760591197427, -0.9361134586802853, -0.4528434305920523, 0.2174161047715857, 1.0635059691233937, -0.9459523350502519, -0.13166220663639913, -0.6421618174142698, 0.3047712492940703, -0.26344777521625573, -0.45306380687736664, -0.9705865345061072, -0.12741882697516443, 1.0049752783819161, 0.4086707843416792, -0.4511413941730779, 0.5104243612824134, -0.7255566333311757, 0.5653467224854392, -0.16436532244841037, -0.1988484231344934, -0.7564557068257352, -0.18679418701106604, 0.007128162141137425, -0.04652926061840745, -1.2240766600558828, 0.2548364775874957, 0.36702432595644263, -1.8441953853505533, -0.24359038758120563, 1.3244683296413644, 0.61165695571586, 1.5230508996881755, 1.7353619398397855, 0.22402443540755565, 0.33895550763612925, 0.9223319365608782, 0.9159143574193307, 1.2997354894773798, -1.4147536326587344, -1.0248138567998835, -1.7541740527292868, -0.6575313266954175, -0.6207644107638655, -0.44464272561837265, -0.836691238296052, 1.7573684719199605, -2.9653482379895464, -1.146385550579236, 0.15786795073923038, 1.9837911867756637, -0.1286989891014074, 0.6788131762939952, -0.012808189565091749, -0.7578489572357708, 1.5590955815629608], \"y\": [0.4394113396115198, -1.3704879603341773, -0.894779683303476, -0.9091697423817736, -0.7870831654017293, 1.7078371717736396, -0.09852952274905818, -0.3301784910650832, 1.6268395224675645, 0.23779943709785142, 0.8320902681835906, -1.0395936765569966, -1.4627998759745036, -1.2905181379536943, -0.7458983776289884, 1.233386993912338, 0.49681475206133296, -0.512701542962839, 2.064920530388905, 1.1887225273511324, 0.9775910490656258, 0.07947257556784981, -0.7874279153056152, -1.1496283384200692, -1.4302366554682746, -1.5038040240345794, 0.2917872732984551, -1.1291913047146693, 0.381635713258072, 0.5782386470488836, 0.18723596532937337, -0.3932861774601221, 0.22451339799635048, -0.5639617603917293, 0.976796922647767, 1.3294058450552153, -0.014823934009534098, 0.33694456503364056, -1.7596659431646775, 0.18350148416556766, 2.1186952855091894, 1.8667466050294965, -0.837574209463975, 1.1115620238149284, 0.27441666631551975, -0.20989609089297878, -1.8147053413659966, 0.7869898004991409, -1.7841985376732745, -0.5238520144705975, 0.3812868303501749, 0.3137975708975645, 0.9968300457049288, 0.5824846983864099, -0.05913546961926126, -0.7790815336783042, -0.5034885037883023, 0.9896954982725973, -0.4787666015780376, 1.9011893896648642, -0.13028487404661762, -2.1424981055614447, -1.0766028098307068, -0.792137140883388, -1.2103592333561075, -1.4878660498301146, -0.43106169827739, -0.44901688012835594, 0.29737915922704417, -1.5005547897872924, -0.6906235587362654, 0.08165168312136552, 0.888112558194319, 0.2162961596844919, 0.3095124316406531, -2.357625950700372, -0.5851048603043837, 1.4090130212670697, -0.8972052639813642, 0.44154770227912477, 1.1769309603585676, 3.494886385021715, -0.34623819370067876, 0.49039904790159233, -1.4439627916263218, -0.23356971773044577, 1.946859888073679, 0.39682927408000496, 0.6947149347178614, 0.776205432439833, -1.6156658133534276, 0.8735942224395256, -0.027535065229056153, -0.008472192836710022, 0.1836800682078861, -0.4984619503467606, 1.705018893410389, -2.0132462510663918, 0.1437439755595477, 0.38606482996606656]}],\n",
       "                        {\"legend\": {\"bgcolor\": \"#F5F6F9\", \"font\": {\"color\": \"#4D5663\"}}, \"paper_bgcolor\": \"#F5F6F9\", \"plot_bgcolor\": \"#F5F6F9\", \"template\": {\"data\": {\"bar\": [{\"error_x\": {\"color\": \"#2a3f5f\"}, \"error_y\": {\"color\": \"#2a3f5f\"}, \"marker\": {\"line\": {\"color\": \"#E5ECF6\", \"width\": 0.5}}, \"type\": \"bar\"}], \"barpolar\": [{\"marker\": {\"line\": {\"color\": \"#E5ECF6\", \"width\": 0.5}}, \"type\": \"barpolar\"}], \"carpet\": [{\"aaxis\": {\"endlinecolor\": \"#2a3f5f\", \"gridcolor\": \"white\", \"linecolor\": \"white\", \"minorgridcolor\": \"white\", \"startlinecolor\": \"#2a3f5f\"}, \"baxis\": {\"endlinecolor\": \"#2a3f5f\", \"gridcolor\": \"white\", \"linecolor\": \"white\", \"minorgridcolor\": \"white\", \"startlinecolor\": \"#2a3f5f\"}, \"type\": \"carpet\"}], \"choropleth\": [{\"colorbar\": {\"outlinewidth\": 0, \"ticks\": \"\"}, \"type\": \"choropleth\"}], \"contour\": [{\"colorbar\": {\"outlinewidth\": 0, \"ticks\": \"\"}, \"colorscale\": [[0.0, \"#0d0887\"], [0.1111111111111111, \"#46039f\"], [0.2222222222222222, \"#7201a8\"], [0.3333333333333333, \"#9c179e\"], [0.4444444444444444, \"#bd3786\"], [0.5555555555555556, \"#d8576b\"], [0.6666666666666666, \"#ed7953\"], [0.7777777777777778, \"#fb9f3a\"], [0.8888888888888888, \"#fdca26\"], [1.0, \"#f0f921\"]], \"type\": \"contour\"}], \"contourcarpet\": [{\"colorbar\": {\"outlinewidth\": 0, \"ticks\": \"\"}, \"type\": \"contourcarpet\"}], \"heatmap\": [{\"colorbar\": {\"outlinewidth\": 0, \"ticks\": \"\"}, \"colorscale\": [[0.0, \"#0d0887\"], [0.1111111111111111, \"#46039f\"], [0.2222222222222222, \"#7201a8\"], [0.3333333333333333, \"#9c179e\"], [0.4444444444444444, \"#bd3786\"], [0.5555555555555556, \"#d8576b\"], [0.6666666666666666, \"#ed7953\"], [0.7777777777777778, \"#fb9f3a\"], [0.8888888888888888, \"#fdca26\"], [1.0, \"#f0f921\"]], \"type\": \"heatmap\"}], \"heatmapgl\": [{\"colorbar\": {\"outlinewidth\": 0, \"ticks\": \"\"}, \"colorscale\": [[0.0, \"#0d0887\"], [0.1111111111111111, \"#46039f\"], [0.2222222222222222, \"#7201a8\"], [0.3333333333333333, \"#9c179e\"], [0.4444444444444444, \"#bd3786\"], [0.5555555555555556, \"#d8576b\"], [0.6666666666666666, \"#ed7953\"], [0.7777777777777778, \"#fb9f3a\"], [0.8888888888888888, \"#fdca26\"], [1.0, \"#f0f921\"]], \"type\": \"heatmapgl\"}], \"histogram\": [{\"marker\": {\"colorbar\": {\"outlinewidth\": 0, \"ticks\": \"\"}}, \"type\": \"histogram\"}], \"histogram2d\": [{\"colorbar\": {\"outlinewidth\": 0, \"ticks\": \"\"}, \"colorscale\": [[0.0, \"#0d0887\"], [0.1111111111111111, \"#46039f\"], [0.2222222222222222, \"#7201a8\"], [0.3333333333333333, \"#9c179e\"], [0.4444444444444444, \"#bd3786\"], [0.5555555555555556, \"#d8576b\"], [0.6666666666666666, \"#ed7953\"], [0.7777777777777778, \"#fb9f3a\"], [0.8888888888888888, \"#fdca26\"], [1.0, \"#f0f921\"]], \"type\": \"histogram2d\"}], \"histogram2dcontour\": [{\"colorbar\": {\"outlinewidth\": 0, \"ticks\": \"\"}, \"colorscale\": [[0.0, \"#0d0887\"], [0.1111111111111111, \"#46039f\"], [0.2222222222222222, \"#7201a8\"], [0.3333333333333333, \"#9c179e\"], [0.4444444444444444, \"#bd3786\"], [0.5555555555555556, \"#d8576b\"], [0.6666666666666666, \"#ed7953\"], [0.7777777777777778, \"#fb9f3a\"], [0.8888888888888888, \"#fdca26\"], [1.0, \"#f0f921\"]], \"type\": \"histogram2dcontour\"}], \"mesh3d\": [{\"colorbar\": {\"outlinewidth\": 0, \"ticks\": \"\"}, \"type\": \"mesh3d\"}], \"parcoords\": [{\"line\": {\"colorbar\": {\"outlinewidth\": 0, \"ticks\": \"\"}}, \"type\": \"parcoords\"}], \"pie\": [{\"automargin\": true, \"type\": \"pie\"}], \"scatter\": [{\"marker\": {\"colorbar\": {\"outlinewidth\": 0, \"ticks\": \"\"}}, \"type\": \"scatter\"}], \"scatter3d\": [{\"line\": {\"colorbar\": {\"outlinewidth\": 0, \"ticks\": \"\"}}, \"marker\": {\"colorbar\": {\"outlinewidth\": 0, \"ticks\": \"\"}}, \"type\": \"scatter3d\"}], \"scattercarpet\": [{\"marker\": {\"colorbar\": {\"outlinewidth\": 0, \"ticks\": \"\"}}, \"type\": \"scattercarpet\"}], \"scattergeo\": [{\"marker\": {\"colorbar\": {\"outlinewidth\": 0, \"ticks\": \"\"}}, \"type\": \"scattergeo\"}], \"scattergl\": [{\"marker\": {\"colorbar\": {\"outlinewidth\": 0, \"ticks\": \"\"}}, \"type\": \"scattergl\"}], \"scattermapbox\": [{\"marker\": {\"colorbar\": {\"outlinewidth\": 0, \"ticks\": \"\"}}, \"type\": \"scattermapbox\"}], \"scatterpolar\": [{\"marker\": {\"colorbar\": {\"outlinewidth\": 0, \"ticks\": \"\"}}, \"type\": \"scatterpolar\"}], \"scatterpolargl\": [{\"marker\": {\"colorbar\": {\"outlinewidth\": 0, \"ticks\": \"\"}}, \"type\": \"scatterpolargl\"}], \"scatterternary\": [{\"marker\": {\"colorbar\": {\"outlinewidth\": 0, \"ticks\": \"\"}}, \"type\": \"scatterternary\"}], \"surface\": [{\"colorbar\": {\"outlinewidth\": 0, \"ticks\": \"\"}, \"colorscale\": [[0.0, \"#0d0887\"], [0.1111111111111111, \"#46039f\"], [0.2222222222222222, \"#7201a8\"], [0.3333333333333333, \"#9c179e\"], [0.4444444444444444, \"#bd3786\"], [0.5555555555555556, \"#d8576b\"], [0.6666666666666666, \"#ed7953\"], [0.7777777777777778, \"#fb9f3a\"], [0.8888888888888888, \"#fdca26\"], [1.0, \"#f0f921\"]], \"type\": \"surface\"}], \"table\": [{\"cells\": {\"fill\": {\"color\": \"#EBF0F8\"}, \"line\": {\"color\": \"white\"}}, \"header\": {\"fill\": {\"color\": \"#C8D4E3\"}, \"line\": {\"color\": \"white\"}}, \"type\": \"table\"}]}, \"layout\": {\"annotationdefaults\": {\"arrowcolor\": \"#2a3f5f\", \"arrowhead\": 0, \"arrowwidth\": 1}, \"coloraxis\": {\"colorbar\": {\"outlinewidth\": 0, \"ticks\": \"\"}}, \"colorscale\": {\"diverging\": [[0, \"#8e0152\"], [0.1, \"#c51b7d\"], [0.2, \"#de77ae\"], [0.3, \"#f1b6da\"], [0.4, \"#fde0ef\"], [0.5, \"#f7f7f7\"], [0.6, \"#e6f5d0\"], [0.7, \"#b8e186\"], [0.8, \"#7fbc41\"], [0.9, \"#4d9221\"], [1, \"#276419\"]], \"sequential\": [[0.0, \"#0d0887\"], [0.1111111111111111, \"#46039f\"], [0.2222222222222222, \"#7201a8\"], [0.3333333333333333, \"#9c179e\"], [0.4444444444444444, \"#bd3786\"], [0.5555555555555556, \"#d8576b\"], [0.6666666666666666, \"#ed7953\"], [0.7777777777777778, \"#fb9f3a\"], [0.8888888888888888, \"#fdca26\"], [1.0, \"#f0f921\"]], \"sequentialminus\": [[0.0, \"#0d0887\"], [0.1111111111111111, \"#46039f\"], [0.2222222222222222, \"#7201a8\"], [0.3333333333333333, \"#9c179e\"], [0.4444444444444444, \"#bd3786\"], [0.5555555555555556, \"#d8576b\"], [0.6666666666666666, \"#ed7953\"], [0.7777777777777778, \"#fb9f3a\"], [0.8888888888888888, \"#fdca26\"], [1.0, \"#f0f921\"]]}, \"colorway\": [\"#636efa\", \"#EF553B\", \"#00cc96\", \"#ab63fa\", \"#FFA15A\", \"#19d3f3\", \"#FF6692\", \"#B6E880\", \"#FF97FF\", \"#FECB52\"], \"font\": {\"color\": \"#2a3f5f\"}, \"geo\": {\"bgcolor\": \"white\", \"lakecolor\": \"white\", \"landcolor\": \"#E5ECF6\", \"showlakes\": true, \"showland\": true, \"subunitcolor\": \"white\"}, \"hoverlabel\": {\"align\": \"left\"}, \"hovermode\": \"closest\", \"mapbox\": {\"style\": \"light\"}, \"paper_bgcolor\": \"white\", \"plot_bgcolor\": \"#E5ECF6\", \"polar\": {\"angularaxis\": {\"gridcolor\": \"white\", \"linecolor\": \"white\", \"ticks\": \"\"}, \"bgcolor\": \"#E5ECF6\", \"radialaxis\": {\"gridcolor\": \"white\", \"linecolor\": \"white\", \"ticks\": \"\"}}, \"scene\": {\"xaxis\": {\"backgroundcolor\": \"#E5ECF6\", \"gridcolor\": \"white\", \"gridwidth\": 2, \"linecolor\": \"white\", \"showbackground\": true, \"ticks\": \"\", \"zerolinecolor\": \"white\"}, \"yaxis\": {\"backgroundcolor\": \"#E5ECF6\", \"gridcolor\": \"white\", \"gridwidth\": 2, \"linecolor\": \"white\", \"showbackground\": true, \"ticks\": \"\", \"zerolinecolor\": \"white\"}, \"zaxis\": {\"backgroundcolor\": \"#E5ECF6\", \"gridcolor\": \"white\", \"gridwidth\": 2, \"linecolor\": \"white\", \"showbackground\": true, \"ticks\": \"\", \"zerolinecolor\": \"white\"}}, \"shapedefaults\": {\"line\": {\"color\": \"#2a3f5f\"}}, \"ternary\": {\"aaxis\": {\"gridcolor\": \"white\", \"linecolor\": \"white\", \"ticks\": \"\"}, \"baxis\": {\"gridcolor\": \"white\", \"linecolor\": \"white\", \"ticks\": \"\"}, \"bgcolor\": \"#E5ECF6\", \"caxis\": {\"gridcolor\": \"white\", \"linecolor\": \"white\", \"ticks\": \"\"}}, \"title\": {\"x\": 0.05}, \"xaxis\": {\"automargin\": true, \"gridcolor\": \"white\", \"linecolor\": \"white\", \"ticks\": \"\", \"title\": {\"standoff\": 15}, \"zerolinecolor\": \"white\", \"zerolinewidth\": 2}, \"yaxis\": {\"automargin\": true, \"gridcolor\": \"white\", \"linecolor\": \"white\", \"ticks\": \"\", \"title\": {\"standoff\": 15}, \"zerolinecolor\": \"white\", \"zerolinewidth\": 2}}}, \"title\": {\"font\": {\"color\": \"#4D5663\"}}, \"xaxis\": {\"gridcolor\": \"#E1E5ED\", \"showgrid\": true, \"tickfont\": {\"color\": \"#4D5663\"}, \"title\": {\"font\": {\"color\": \"#4D5663\"}, \"text\": \"\"}, \"zerolinecolor\": \"#E1E5ED\"}, \"yaxis\": {\"gridcolor\": \"#E1E5ED\", \"showgrid\": true, \"tickfont\": {\"color\": \"#4D5663\"}, \"title\": {\"font\": {\"color\": \"#4D5663\"}, \"text\": \"\"}, \"zerolinecolor\": \"#E1E5ED\"}},\n",
       "                        {\"showLink\": true, \"linkText\": \"Export to plot.ly\", \"plotlyServerURL\": \"https://plot.ly\", \"responsive\": true}\n",
       "                    ).then(function(){\n",
       "                            \n",
       "var gd = document.getElementById('f4228110-2831-4065-95ba-a62bebd5dc9a');\n",
       "var x = new MutationObserver(function (mutations, observer) {{\n",
       "        var display = window.getComputedStyle(gd).display;\n",
       "        if (!display || display === 'none') {{\n",
       "            console.log([gd, 'removed!']);\n",
       "            Plotly.purge(gd);\n",
       "            observer.disconnect();\n",
       "        }}\n",
       "}});\n",
       "\n",
       "// Listen for the removal of the full notebook cells\n",
       "var notebookContainer = gd.closest('#notebook-container');\n",
       "if (notebookContainer) {{\n",
       "    x.observe(notebookContainer, {childList: true});\n",
       "}}\n",
       "\n",
       "// Listen for the clearing of the current output cell\n",
       "var outputEl = gd.closest('.output');\n",
       "if (outputEl) {{\n",
       "    x.observe(outputEl, {childList: true});\n",
       "}}\n",
       "\n",
       "                        })\n",
       "                };\n",
       "                });\n",
       "            </script>\n",
       "        </div>"
      ]
     },
     "metadata": {},
     "output_type": "display_data"
    }
   ],
   "source": [
    "df.iplot(kind='scatter',x='A',y='B',mode='markers',size=10)"
   ]
  },
  {
   "cell_type": "markdown",
   "metadata": {},
   "source": [
    "## Bar Plots"
   ]
  },
  {
   "cell_type": "code",
   "execution_count": 13,
   "metadata": {},
   "outputs": [
    {
     "data": {
      "application/vnd.plotly.v1+json": {
       "config": {
        "linkText": "Export to plot.ly",
        "plotlyServerURL": "https://plot.ly",
        "showLink": true
       },
       "data": [
        {
         "marker": {
          "color": "rgba(255, 153, 51, 0.6)",
          "line": {
           "color": "rgba(255, 153, 51, 1.0)",
           "width": 1
          }
         },
         "name": "Values",
         "orientation": "v",
         "text": "",
         "type": "bar",
         "x": [
          "A",
          "B",
          "C"
         ],
         "y": [
          32,
          43,
          50
         ]
        }
       ],
       "layout": {
        "legend": {
         "bgcolor": "#F5F6F9",
         "font": {
          "color": "#4D5663"
         }
        },
        "paper_bgcolor": "#F5F6F9",
        "plot_bgcolor": "#F5F6F9",
        "template": {
         "data": {
          "bar": [
           {
            "error_x": {
             "color": "#2a3f5f"
            },
            "error_y": {
             "color": "#2a3f5f"
            },
            "marker": {
             "line": {
              "color": "#E5ECF6",
              "width": 0.5
             }
            },
            "type": "bar"
           }
          ],
          "barpolar": [
           {
            "marker": {
             "line": {
              "color": "#E5ECF6",
              "width": 0.5
             }
            },
            "type": "barpolar"
           }
          ],
          "carpet": [
           {
            "aaxis": {
             "endlinecolor": "#2a3f5f",
             "gridcolor": "white",
             "linecolor": "white",
             "minorgridcolor": "white",
             "startlinecolor": "#2a3f5f"
            },
            "baxis": {
             "endlinecolor": "#2a3f5f",
             "gridcolor": "white",
             "linecolor": "white",
             "minorgridcolor": "white",
             "startlinecolor": "#2a3f5f"
            },
            "type": "carpet"
           }
          ],
          "choropleth": [
           {
            "colorbar": {
             "outlinewidth": 0,
             "ticks": ""
            },
            "type": "choropleth"
           }
          ],
          "contour": [
           {
            "colorbar": {
             "outlinewidth": 0,
             "ticks": ""
            },
            "colorscale": [
             [
              0,
              "#0d0887"
             ],
             [
              0.1111111111111111,
              "#46039f"
             ],
             [
              0.2222222222222222,
              "#7201a8"
             ],
             [
              0.3333333333333333,
              "#9c179e"
             ],
             [
              0.4444444444444444,
              "#bd3786"
             ],
             [
              0.5555555555555556,
              "#d8576b"
             ],
             [
              0.6666666666666666,
              "#ed7953"
             ],
             [
              0.7777777777777778,
              "#fb9f3a"
             ],
             [
              0.8888888888888888,
              "#fdca26"
             ],
             [
              1,
              "#f0f921"
             ]
            ],
            "type": "contour"
           }
          ],
          "contourcarpet": [
           {
            "colorbar": {
             "outlinewidth": 0,
             "ticks": ""
            },
            "type": "contourcarpet"
           }
          ],
          "heatmap": [
           {
            "colorbar": {
             "outlinewidth": 0,
             "ticks": ""
            },
            "colorscale": [
             [
              0,
              "#0d0887"
             ],
             [
              0.1111111111111111,
              "#46039f"
             ],
             [
              0.2222222222222222,
              "#7201a8"
             ],
             [
              0.3333333333333333,
              "#9c179e"
             ],
             [
              0.4444444444444444,
              "#bd3786"
             ],
             [
              0.5555555555555556,
              "#d8576b"
             ],
             [
              0.6666666666666666,
              "#ed7953"
             ],
             [
              0.7777777777777778,
              "#fb9f3a"
             ],
             [
              0.8888888888888888,
              "#fdca26"
             ],
             [
              1,
              "#f0f921"
             ]
            ],
            "type": "heatmap"
           }
          ],
          "heatmapgl": [
           {
            "colorbar": {
             "outlinewidth": 0,
             "ticks": ""
            },
            "colorscale": [
             [
              0,
              "#0d0887"
             ],
             [
              0.1111111111111111,
              "#46039f"
             ],
             [
              0.2222222222222222,
              "#7201a8"
             ],
             [
              0.3333333333333333,
              "#9c179e"
             ],
             [
              0.4444444444444444,
              "#bd3786"
             ],
             [
              0.5555555555555556,
              "#d8576b"
             ],
             [
              0.6666666666666666,
              "#ed7953"
             ],
             [
              0.7777777777777778,
              "#fb9f3a"
             ],
             [
              0.8888888888888888,
              "#fdca26"
             ],
             [
              1,
              "#f0f921"
             ]
            ],
            "type": "heatmapgl"
           }
          ],
          "histogram": [
           {
            "marker": {
             "colorbar": {
              "outlinewidth": 0,
              "ticks": ""
             }
            },
            "type": "histogram"
           }
          ],
          "histogram2d": [
           {
            "colorbar": {
             "outlinewidth": 0,
             "ticks": ""
            },
            "colorscale": [
             [
              0,
              "#0d0887"
             ],
             [
              0.1111111111111111,
              "#46039f"
             ],
             [
              0.2222222222222222,
              "#7201a8"
             ],
             [
              0.3333333333333333,
              "#9c179e"
             ],
             [
              0.4444444444444444,
              "#bd3786"
             ],
             [
              0.5555555555555556,
              "#d8576b"
             ],
             [
              0.6666666666666666,
              "#ed7953"
             ],
             [
              0.7777777777777778,
              "#fb9f3a"
             ],
             [
              0.8888888888888888,
              "#fdca26"
             ],
             [
              1,
              "#f0f921"
             ]
            ],
            "type": "histogram2d"
           }
          ],
          "histogram2dcontour": [
           {
            "colorbar": {
             "outlinewidth": 0,
             "ticks": ""
            },
            "colorscale": [
             [
              0,
              "#0d0887"
             ],
             [
              0.1111111111111111,
              "#46039f"
             ],
             [
              0.2222222222222222,
              "#7201a8"
             ],
             [
              0.3333333333333333,
              "#9c179e"
             ],
             [
              0.4444444444444444,
              "#bd3786"
             ],
             [
              0.5555555555555556,
              "#d8576b"
             ],
             [
              0.6666666666666666,
              "#ed7953"
             ],
             [
              0.7777777777777778,
              "#fb9f3a"
             ],
             [
              0.8888888888888888,
              "#fdca26"
             ],
             [
              1,
              "#f0f921"
             ]
            ],
            "type": "histogram2dcontour"
           }
          ],
          "mesh3d": [
           {
            "colorbar": {
             "outlinewidth": 0,
             "ticks": ""
            },
            "type": "mesh3d"
           }
          ],
          "parcoords": [
           {
            "line": {
             "colorbar": {
              "outlinewidth": 0,
              "ticks": ""
             }
            },
            "type": "parcoords"
           }
          ],
          "pie": [
           {
            "automargin": true,
            "type": "pie"
           }
          ],
          "scatter": [
           {
            "marker": {
             "colorbar": {
              "outlinewidth": 0,
              "ticks": ""
             }
            },
            "type": "scatter"
           }
          ],
          "scatter3d": [
           {
            "line": {
             "colorbar": {
              "outlinewidth": 0,
              "ticks": ""
             }
            },
            "marker": {
             "colorbar": {
              "outlinewidth": 0,
              "ticks": ""
             }
            },
            "type": "scatter3d"
           }
          ],
          "scattercarpet": [
           {
            "marker": {
             "colorbar": {
              "outlinewidth": 0,
              "ticks": ""
             }
            },
            "type": "scattercarpet"
           }
          ],
          "scattergeo": [
           {
            "marker": {
             "colorbar": {
              "outlinewidth": 0,
              "ticks": ""
             }
            },
            "type": "scattergeo"
           }
          ],
          "scattergl": [
           {
            "marker": {
             "colorbar": {
              "outlinewidth": 0,
              "ticks": ""
             }
            },
            "type": "scattergl"
           }
          ],
          "scattermapbox": [
           {
            "marker": {
             "colorbar": {
              "outlinewidth": 0,
              "ticks": ""
             }
            },
            "type": "scattermapbox"
           }
          ],
          "scatterpolar": [
           {
            "marker": {
             "colorbar": {
              "outlinewidth": 0,
              "ticks": ""
             }
            },
            "type": "scatterpolar"
           }
          ],
          "scatterpolargl": [
           {
            "marker": {
             "colorbar": {
              "outlinewidth": 0,
              "ticks": ""
             }
            },
            "type": "scatterpolargl"
           }
          ],
          "scatterternary": [
           {
            "marker": {
             "colorbar": {
              "outlinewidth": 0,
              "ticks": ""
             }
            },
            "type": "scatterternary"
           }
          ],
          "surface": [
           {
            "colorbar": {
             "outlinewidth": 0,
             "ticks": ""
            },
            "colorscale": [
             [
              0,
              "#0d0887"
             ],
             [
              0.1111111111111111,
              "#46039f"
             ],
             [
              0.2222222222222222,
              "#7201a8"
             ],
             [
              0.3333333333333333,
              "#9c179e"
             ],
             [
              0.4444444444444444,
              "#bd3786"
             ],
             [
              0.5555555555555556,
              "#d8576b"
             ],
             [
              0.6666666666666666,
              "#ed7953"
             ],
             [
              0.7777777777777778,
              "#fb9f3a"
             ],
             [
              0.8888888888888888,
              "#fdca26"
             ],
             [
              1,
              "#f0f921"
             ]
            ],
            "type": "surface"
           }
          ],
          "table": [
           {
            "cells": {
             "fill": {
              "color": "#EBF0F8"
             },
             "line": {
              "color": "white"
             }
            },
            "header": {
             "fill": {
              "color": "#C8D4E3"
             },
             "line": {
              "color": "white"
             }
            },
            "type": "table"
           }
          ]
         },
         "layout": {
          "annotationdefaults": {
           "arrowcolor": "#2a3f5f",
           "arrowhead": 0,
           "arrowwidth": 1
          },
          "coloraxis": {
           "colorbar": {
            "outlinewidth": 0,
            "ticks": ""
           }
          },
          "colorscale": {
           "diverging": [
            [
             0,
             "#8e0152"
            ],
            [
             0.1,
             "#c51b7d"
            ],
            [
             0.2,
             "#de77ae"
            ],
            [
             0.3,
             "#f1b6da"
            ],
            [
             0.4,
             "#fde0ef"
            ],
            [
             0.5,
             "#f7f7f7"
            ],
            [
             0.6,
             "#e6f5d0"
            ],
            [
             0.7,
             "#b8e186"
            ],
            [
             0.8,
             "#7fbc41"
            ],
            [
             0.9,
             "#4d9221"
            ],
            [
             1,
             "#276419"
            ]
           ],
           "sequential": [
            [
             0,
             "#0d0887"
            ],
            [
             0.1111111111111111,
             "#46039f"
            ],
            [
             0.2222222222222222,
             "#7201a8"
            ],
            [
             0.3333333333333333,
             "#9c179e"
            ],
            [
             0.4444444444444444,
             "#bd3786"
            ],
            [
             0.5555555555555556,
             "#d8576b"
            ],
            [
             0.6666666666666666,
             "#ed7953"
            ],
            [
             0.7777777777777778,
             "#fb9f3a"
            ],
            [
             0.8888888888888888,
             "#fdca26"
            ],
            [
             1,
             "#f0f921"
            ]
           ],
           "sequentialminus": [
            [
             0,
             "#0d0887"
            ],
            [
             0.1111111111111111,
             "#46039f"
            ],
            [
             0.2222222222222222,
             "#7201a8"
            ],
            [
             0.3333333333333333,
             "#9c179e"
            ],
            [
             0.4444444444444444,
             "#bd3786"
            ],
            [
             0.5555555555555556,
             "#d8576b"
            ],
            [
             0.6666666666666666,
             "#ed7953"
            ],
            [
             0.7777777777777778,
             "#fb9f3a"
            ],
            [
             0.8888888888888888,
             "#fdca26"
            ],
            [
             1,
             "#f0f921"
            ]
           ]
          },
          "colorway": [
           "#636efa",
           "#EF553B",
           "#00cc96",
           "#ab63fa",
           "#FFA15A",
           "#19d3f3",
           "#FF6692",
           "#B6E880",
           "#FF97FF",
           "#FECB52"
          ],
          "font": {
           "color": "#2a3f5f"
          },
          "geo": {
           "bgcolor": "white",
           "lakecolor": "white",
           "landcolor": "#E5ECF6",
           "showlakes": true,
           "showland": true,
           "subunitcolor": "white"
          },
          "hoverlabel": {
           "align": "left"
          },
          "hovermode": "closest",
          "mapbox": {
           "style": "light"
          },
          "paper_bgcolor": "white",
          "plot_bgcolor": "#E5ECF6",
          "polar": {
           "angularaxis": {
            "gridcolor": "white",
            "linecolor": "white",
            "ticks": ""
           },
           "bgcolor": "#E5ECF6",
           "radialaxis": {
            "gridcolor": "white",
            "linecolor": "white",
            "ticks": ""
           }
          },
          "scene": {
           "xaxis": {
            "backgroundcolor": "#E5ECF6",
            "gridcolor": "white",
            "gridwidth": 2,
            "linecolor": "white",
            "showbackground": true,
            "ticks": "",
            "zerolinecolor": "white"
           },
           "yaxis": {
            "backgroundcolor": "#E5ECF6",
            "gridcolor": "white",
            "gridwidth": 2,
            "linecolor": "white",
            "showbackground": true,
            "ticks": "",
            "zerolinecolor": "white"
           },
           "zaxis": {
            "backgroundcolor": "#E5ECF6",
            "gridcolor": "white",
            "gridwidth": 2,
            "linecolor": "white",
            "showbackground": true,
            "ticks": "",
            "zerolinecolor": "white"
           }
          },
          "shapedefaults": {
           "line": {
            "color": "#2a3f5f"
           }
          },
          "ternary": {
           "aaxis": {
            "gridcolor": "white",
            "linecolor": "white",
            "ticks": ""
           },
           "baxis": {
            "gridcolor": "white",
            "linecolor": "white",
            "ticks": ""
           },
           "bgcolor": "#E5ECF6",
           "caxis": {
            "gridcolor": "white",
            "linecolor": "white",
            "ticks": ""
           }
          },
          "title": {
           "x": 0.05
          },
          "xaxis": {
           "automargin": true,
           "gridcolor": "white",
           "linecolor": "white",
           "ticks": "",
           "title": {
            "standoff": 15
           },
           "zerolinecolor": "white",
           "zerolinewidth": 2
          },
          "yaxis": {
           "automargin": true,
           "gridcolor": "white",
           "linecolor": "white",
           "ticks": "",
           "title": {
            "standoff": 15
           },
           "zerolinecolor": "white",
           "zerolinewidth": 2
          }
         }
        },
        "title": {
         "font": {
          "color": "#4D5663"
         }
        },
        "xaxis": {
         "gridcolor": "#E1E5ED",
         "showgrid": true,
         "tickfont": {
          "color": "#4D5663"
         },
         "title": {
          "font": {
           "color": "#4D5663"
          },
          "text": ""
         },
         "zerolinecolor": "#E1E5ED"
        },
        "yaxis": {
         "gridcolor": "#E1E5ED",
         "showgrid": true,
         "tickfont": {
          "color": "#4D5663"
         },
         "title": {
          "font": {
           "color": "#4D5663"
          },
          "text": ""
         },
         "zerolinecolor": "#E1E5ED"
        }
       }
      },
      "text/html": [
       "<div>\n",
       "        \n",
       "        \n",
       "            <div id=\"080810d7-6ea8-440c-82b7-503cab066282\" class=\"plotly-graph-div\" style=\"height:525px; width:100%;\"></div>\n",
       "            <script type=\"text/javascript\">\n",
       "                require([\"plotly\"], function(Plotly) {\n",
       "                    window.PLOTLYENV=window.PLOTLYENV || {};\n",
       "                    window.PLOTLYENV.BASE_URL='https://plot.ly';\n",
       "                    \n",
       "                if (document.getElementById(\"080810d7-6ea8-440c-82b7-503cab066282\")) {\n",
       "                    Plotly.newPlot(\n",
       "                        '080810d7-6ea8-440c-82b7-503cab066282',\n",
       "                        [{\"marker\": {\"color\": \"rgba(255, 153, 51, 0.6)\", \"line\": {\"color\": \"rgba(255, 153, 51, 1.0)\", \"width\": 1}}, \"name\": \"Values\", \"orientation\": \"v\", \"text\": \"\", \"type\": \"bar\", \"x\": [\"A\", \"B\", \"C\"], \"y\": [32, 43, 50]}],\n",
       "                        {\"legend\": {\"bgcolor\": \"#F5F6F9\", \"font\": {\"color\": \"#4D5663\"}}, \"paper_bgcolor\": \"#F5F6F9\", \"plot_bgcolor\": \"#F5F6F9\", \"template\": {\"data\": {\"bar\": [{\"error_x\": {\"color\": \"#2a3f5f\"}, \"error_y\": {\"color\": \"#2a3f5f\"}, \"marker\": {\"line\": {\"color\": \"#E5ECF6\", \"width\": 0.5}}, \"type\": \"bar\"}], \"barpolar\": [{\"marker\": {\"line\": {\"color\": \"#E5ECF6\", \"width\": 0.5}}, \"type\": \"barpolar\"}], \"carpet\": [{\"aaxis\": {\"endlinecolor\": \"#2a3f5f\", \"gridcolor\": \"white\", \"linecolor\": \"white\", \"minorgridcolor\": \"white\", \"startlinecolor\": \"#2a3f5f\"}, \"baxis\": {\"endlinecolor\": \"#2a3f5f\", \"gridcolor\": \"white\", \"linecolor\": \"white\", \"minorgridcolor\": \"white\", \"startlinecolor\": \"#2a3f5f\"}, \"type\": \"carpet\"}], \"choropleth\": [{\"colorbar\": {\"outlinewidth\": 0, \"ticks\": \"\"}, \"type\": \"choropleth\"}], \"contour\": [{\"colorbar\": {\"outlinewidth\": 0, \"ticks\": \"\"}, \"colorscale\": [[0.0, \"#0d0887\"], [0.1111111111111111, \"#46039f\"], [0.2222222222222222, \"#7201a8\"], [0.3333333333333333, \"#9c179e\"], [0.4444444444444444, \"#bd3786\"], [0.5555555555555556, \"#d8576b\"], [0.6666666666666666, \"#ed7953\"], [0.7777777777777778, \"#fb9f3a\"], [0.8888888888888888, \"#fdca26\"], [1.0, \"#f0f921\"]], \"type\": \"contour\"}], \"contourcarpet\": [{\"colorbar\": {\"outlinewidth\": 0, \"ticks\": \"\"}, \"type\": \"contourcarpet\"}], \"heatmap\": [{\"colorbar\": {\"outlinewidth\": 0, \"ticks\": \"\"}, \"colorscale\": [[0.0, \"#0d0887\"], [0.1111111111111111, \"#46039f\"], [0.2222222222222222, \"#7201a8\"], [0.3333333333333333, \"#9c179e\"], [0.4444444444444444, \"#bd3786\"], [0.5555555555555556, \"#d8576b\"], [0.6666666666666666, \"#ed7953\"], [0.7777777777777778, \"#fb9f3a\"], [0.8888888888888888, \"#fdca26\"], [1.0, \"#f0f921\"]], \"type\": \"heatmap\"}], \"heatmapgl\": [{\"colorbar\": {\"outlinewidth\": 0, \"ticks\": \"\"}, \"colorscale\": [[0.0, \"#0d0887\"], [0.1111111111111111, \"#46039f\"], [0.2222222222222222, \"#7201a8\"], [0.3333333333333333, \"#9c179e\"], [0.4444444444444444, \"#bd3786\"], [0.5555555555555556, \"#d8576b\"], [0.6666666666666666, \"#ed7953\"], [0.7777777777777778, \"#fb9f3a\"], [0.8888888888888888, \"#fdca26\"], [1.0, \"#f0f921\"]], \"type\": \"heatmapgl\"}], \"histogram\": [{\"marker\": {\"colorbar\": {\"outlinewidth\": 0, \"ticks\": \"\"}}, \"type\": \"histogram\"}], \"histogram2d\": [{\"colorbar\": {\"outlinewidth\": 0, \"ticks\": \"\"}, \"colorscale\": [[0.0, \"#0d0887\"], [0.1111111111111111, \"#46039f\"], [0.2222222222222222, \"#7201a8\"], [0.3333333333333333, \"#9c179e\"], [0.4444444444444444, \"#bd3786\"], [0.5555555555555556, \"#d8576b\"], [0.6666666666666666, \"#ed7953\"], [0.7777777777777778, \"#fb9f3a\"], [0.8888888888888888, \"#fdca26\"], [1.0, \"#f0f921\"]], \"type\": \"histogram2d\"}], \"histogram2dcontour\": [{\"colorbar\": {\"outlinewidth\": 0, \"ticks\": \"\"}, \"colorscale\": [[0.0, \"#0d0887\"], [0.1111111111111111, \"#46039f\"], [0.2222222222222222, \"#7201a8\"], [0.3333333333333333, \"#9c179e\"], [0.4444444444444444, \"#bd3786\"], [0.5555555555555556, \"#d8576b\"], [0.6666666666666666, \"#ed7953\"], [0.7777777777777778, \"#fb9f3a\"], [0.8888888888888888, \"#fdca26\"], [1.0, \"#f0f921\"]], \"type\": \"histogram2dcontour\"}], \"mesh3d\": [{\"colorbar\": {\"outlinewidth\": 0, \"ticks\": \"\"}, \"type\": \"mesh3d\"}], \"parcoords\": [{\"line\": {\"colorbar\": {\"outlinewidth\": 0, \"ticks\": \"\"}}, \"type\": \"parcoords\"}], \"pie\": [{\"automargin\": true, \"type\": \"pie\"}], \"scatter\": [{\"marker\": {\"colorbar\": {\"outlinewidth\": 0, \"ticks\": \"\"}}, \"type\": \"scatter\"}], \"scatter3d\": [{\"line\": {\"colorbar\": {\"outlinewidth\": 0, \"ticks\": \"\"}}, \"marker\": {\"colorbar\": {\"outlinewidth\": 0, \"ticks\": \"\"}}, \"type\": \"scatter3d\"}], \"scattercarpet\": [{\"marker\": {\"colorbar\": {\"outlinewidth\": 0, \"ticks\": \"\"}}, \"type\": \"scattercarpet\"}], \"scattergeo\": [{\"marker\": {\"colorbar\": {\"outlinewidth\": 0, \"ticks\": \"\"}}, \"type\": \"scattergeo\"}], \"scattergl\": [{\"marker\": {\"colorbar\": {\"outlinewidth\": 0, \"ticks\": \"\"}}, \"type\": \"scattergl\"}], \"scattermapbox\": [{\"marker\": {\"colorbar\": {\"outlinewidth\": 0, \"ticks\": \"\"}}, \"type\": \"scattermapbox\"}], \"scatterpolar\": [{\"marker\": {\"colorbar\": {\"outlinewidth\": 0, \"ticks\": \"\"}}, \"type\": \"scatterpolar\"}], \"scatterpolargl\": [{\"marker\": {\"colorbar\": {\"outlinewidth\": 0, \"ticks\": \"\"}}, \"type\": \"scatterpolargl\"}], \"scatterternary\": [{\"marker\": {\"colorbar\": {\"outlinewidth\": 0, \"ticks\": \"\"}}, \"type\": \"scatterternary\"}], \"surface\": [{\"colorbar\": {\"outlinewidth\": 0, \"ticks\": \"\"}, \"colorscale\": [[0.0, \"#0d0887\"], [0.1111111111111111, \"#46039f\"], [0.2222222222222222, \"#7201a8\"], [0.3333333333333333, \"#9c179e\"], [0.4444444444444444, \"#bd3786\"], [0.5555555555555556, \"#d8576b\"], [0.6666666666666666, \"#ed7953\"], [0.7777777777777778, \"#fb9f3a\"], [0.8888888888888888, \"#fdca26\"], [1.0, \"#f0f921\"]], \"type\": \"surface\"}], \"table\": [{\"cells\": {\"fill\": {\"color\": \"#EBF0F8\"}, \"line\": {\"color\": \"white\"}}, \"header\": {\"fill\": {\"color\": \"#C8D4E3\"}, \"line\": {\"color\": \"white\"}}, \"type\": \"table\"}]}, \"layout\": {\"annotationdefaults\": {\"arrowcolor\": \"#2a3f5f\", \"arrowhead\": 0, \"arrowwidth\": 1}, \"coloraxis\": {\"colorbar\": {\"outlinewidth\": 0, \"ticks\": \"\"}}, \"colorscale\": {\"diverging\": [[0, \"#8e0152\"], [0.1, \"#c51b7d\"], [0.2, \"#de77ae\"], [0.3, \"#f1b6da\"], [0.4, \"#fde0ef\"], [0.5, \"#f7f7f7\"], [0.6, \"#e6f5d0\"], [0.7, \"#b8e186\"], [0.8, \"#7fbc41\"], [0.9, \"#4d9221\"], [1, \"#276419\"]], \"sequential\": [[0.0, \"#0d0887\"], [0.1111111111111111, \"#46039f\"], [0.2222222222222222, \"#7201a8\"], [0.3333333333333333, \"#9c179e\"], [0.4444444444444444, \"#bd3786\"], [0.5555555555555556, \"#d8576b\"], [0.6666666666666666, \"#ed7953\"], [0.7777777777777778, \"#fb9f3a\"], [0.8888888888888888, \"#fdca26\"], [1.0, \"#f0f921\"]], \"sequentialminus\": [[0.0, \"#0d0887\"], [0.1111111111111111, \"#46039f\"], [0.2222222222222222, \"#7201a8\"], [0.3333333333333333, \"#9c179e\"], [0.4444444444444444, \"#bd3786\"], [0.5555555555555556, \"#d8576b\"], [0.6666666666666666, \"#ed7953\"], [0.7777777777777778, \"#fb9f3a\"], [0.8888888888888888, \"#fdca26\"], [1.0, \"#f0f921\"]]}, \"colorway\": [\"#636efa\", \"#EF553B\", \"#00cc96\", \"#ab63fa\", \"#FFA15A\", \"#19d3f3\", \"#FF6692\", \"#B6E880\", \"#FF97FF\", \"#FECB52\"], \"font\": {\"color\": \"#2a3f5f\"}, \"geo\": {\"bgcolor\": \"white\", \"lakecolor\": \"white\", \"landcolor\": \"#E5ECF6\", \"showlakes\": true, \"showland\": true, \"subunitcolor\": \"white\"}, \"hoverlabel\": {\"align\": \"left\"}, \"hovermode\": \"closest\", \"mapbox\": {\"style\": \"light\"}, \"paper_bgcolor\": \"white\", \"plot_bgcolor\": \"#E5ECF6\", \"polar\": {\"angularaxis\": {\"gridcolor\": \"white\", \"linecolor\": \"white\", \"ticks\": \"\"}, \"bgcolor\": \"#E5ECF6\", \"radialaxis\": {\"gridcolor\": \"white\", \"linecolor\": \"white\", \"ticks\": \"\"}}, \"scene\": {\"xaxis\": {\"backgroundcolor\": \"#E5ECF6\", \"gridcolor\": \"white\", \"gridwidth\": 2, \"linecolor\": \"white\", \"showbackground\": true, \"ticks\": \"\", \"zerolinecolor\": \"white\"}, \"yaxis\": {\"backgroundcolor\": \"#E5ECF6\", \"gridcolor\": \"white\", \"gridwidth\": 2, \"linecolor\": \"white\", \"showbackground\": true, \"ticks\": \"\", \"zerolinecolor\": \"white\"}, \"zaxis\": {\"backgroundcolor\": \"#E5ECF6\", \"gridcolor\": \"white\", \"gridwidth\": 2, \"linecolor\": \"white\", \"showbackground\": true, \"ticks\": \"\", \"zerolinecolor\": \"white\"}}, \"shapedefaults\": {\"line\": {\"color\": \"#2a3f5f\"}}, \"ternary\": {\"aaxis\": {\"gridcolor\": \"white\", \"linecolor\": \"white\", \"ticks\": \"\"}, \"baxis\": {\"gridcolor\": \"white\", \"linecolor\": \"white\", \"ticks\": \"\"}, \"bgcolor\": \"#E5ECF6\", \"caxis\": {\"gridcolor\": \"white\", \"linecolor\": \"white\", \"ticks\": \"\"}}, \"title\": {\"x\": 0.05}, \"xaxis\": {\"automargin\": true, \"gridcolor\": \"white\", \"linecolor\": \"white\", \"ticks\": \"\", \"title\": {\"standoff\": 15}, \"zerolinecolor\": \"white\", \"zerolinewidth\": 2}, \"yaxis\": {\"automargin\": true, \"gridcolor\": \"white\", \"linecolor\": \"white\", \"ticks\": \"\", \"title\": {\"standoff\": 15}, \"zerolinecolor\": \"white\", \"zerolinewidth\": 2}}}, \"title\": {\"font\": {\"color\": \"#4D5663\"}}, \"xaxis\": {\"gridcolor\": \"#E1E5ED\", \"showgrid\": true, \"tickfont\": {\"color\": \"#4D5663\"}, \"title\": {\"font\": {\"color\": \"#4D5663\"}, \"text\": \"\"}, \"zerolinecolor\": \"#E1E5ED\"}, \"yaxis\": {\"gridcolor\": \"#E1E5ED\", \"showgrid\": true, \"tickfont\": {\"color\": \"#4D5663\"}, \"title\": {\"font\": {\"color\": \"#4D5663\"}, \"text\": \"\"}, \"zerolinecolor\": \"#E1E5ED\"}},\n",
       "                        {\"showLink\": true, \"linkText\": \"Export to plot.ly\", \"plotlyServerURL\": \"https://plot.ly\", \"responsive\": true}\n",
       "                    ).then(function(){\n",
       "                            \n",
       "var gd = document.getElementById('080810d7-6ea8-440c-82b7-503cab066282');\n",
       "var x = new MutationObserver(function (mutations, observer) {{\n",
       "        var display = window.getComputedStyle(gd).display;\n",
       "        if (!display || display === 'none') {{\n",
       "            console.log([gd, 'removed!']);\n",
       "            Plotly.purge(gd);\n",
       "            observer.disconnect();\n",
       "        }}\n",
       "}});\n",
       "\n",
       "// Listen for the removal of the full notebook cells\n",
       "var notebookContainer = gd.closest('#notebook-container');\n",
       "if (notebookContainer) {{\n",
       "    x.observe(notebookContainer, {childList: true});\n",
       "}}\n",
       "\n",
       "// Listen for the clearing of the current output cell\n",
       "var outputEl = gd.closest('.output');\n",
       "if (outputEl) {{\n",
       "    x.observe(outputEl, {childList: true});\n",
       "}}\n",
       "\n",
       "                        })\n",
       "                };\n",
       "                });\n",
       "            </script>\n",
       "        </div>"
      ]
     },
     "metadata": {},
     "output_type": "display_data"
    }
   ],
   "source": [
    "df2.iplot(kind='bar',x='Category',y='Values')"
   ]
  },
  {
   "cell_type": "code",
   "execution_count": 15,
   "metadata": {},
   "outputs": [
    {
     "data": {
      "application/vnd.plotly.v1+json": {
       "config": {
        "linkText": "Export to plot.ly",
        "plotlyServerURL": "https://plot.ly",
        "showLink": true
       },
       "data": [
        {
         "marker": {
          "color": "rgba(255, 153, 51, 0.6)",
          "line": {
           "color": "rgba(255, 153, 51, 1.0)",
           "width": 1
          }
         },
         "name": "None",
         "orientation": "v",
         "text": "",
         "type": "bar",
         "x": [
          "A",
          "B",
          "C",
          "D"
         ],
         "y": [
          100,
          100,
          100,
          100
         ]
        }
       ],
       "layout": {
        "legend": {
         "bgcolor": "#F5F6F9",
         "font": {
          "color": "#4D5663"
         }
        },
        "paper_bgcolor": "#F5F6F9",
        "plot_bgcolor": "#F5F6F9",
        "template": {
         "data": {
          "bar": [
           {
            "error_x": {
             "color": "#2a3f5f"
            },
            "error_y": {
             "color": "#2a3f5f"
            },
            "marker": {
             "line": {
              "color": "#E5ECF6",
              "width": 0.5
             }
            },
            "type": "bar"
           }
          ],
          "barpolar": [
           {
            "marker": {
             "line": {
              "color": "#E5ECF6",
              "width": 0.5
             }
            },
            "type": "barpolar"
           }
          ],
          "carpet": [
           {
            "aaxis": {
             "endlinecolor": "#2a3f5f",
             "gridcolor": "white",
             "linecolor": "white",
             "minorgridcolor": "white",
             "startlinecolor": "#2a3f5f"
            },
            "baxis": {
             "endlinecolor": "#2a3f5f",
             "gridcolor": "white",
             "linecolor": "white",
             "minorgridcolor": "white",
             "startlinecolor": "#2a3f5f"
            },
            "type": "carpet"
           }
          ],
          "choropleth": [
           {
            "colorbar": {
             "outlinewidth": 0,
             "ticks": ""
            },
            "type": "choropleth"
           }
          ],
          "contour": [
           {
            "colorbar": {
             "outlinewidth": 0,
             "ticks": ""
            },
            "colorscale": [
             [
              0,
              "#0d0887"
             ],
             [
              0.1111111111111111,
              "#46039f"
             ],
             [
              0.2222222222222222,
              "#7201a8"
             ],
             [
              0.3333333333333333,
              "#9c179e"
             ],
             [
              0.4444444444444444,
              "#bd3786"
             ],
             [
              0.5555555555555556,
              "#d8576b"
             ],
             [
              0.6666666666666666,
              "#ed7953"
             ],
             [
              0.7777777777777778,
              "#fb9f3a"
             ],
             [
              0.8888888888888888,
              "#fdca26"
             ],
             [
              1,
              "#f0f921"
             ]
            ],
            "type": "contour"
           }
          ],
          "contourcarpet": [
           {
            "colorbar": {
             "outlinewidth": 0,
             "ticks": ""
            },
            "type": "contourcarpet"
           }
          ],
          "heatmap": [
           {
            "colorbar": {
             "outlinewidth": 0,
             "ticks": ""
            },
            "colorscale": [
             [
              0,
              "#0d0887"
             ],
             [
              0.1111111111111111,
              "#46039f"
             ],
             [
              0.2222222222222222,
              "#7201a8"
             ],
             [
              0.3333333333333333,
              "#9c179e"
             ],
             [
              0.4444444444444444,
              "#bd3786"
             ],
             [
              0.5555555555555556,
              "#d8576b"
             ],
             [
              0.6666666666666666,
              "#ed7953"
             ],
             [
              0.7777777777777778,
              "#fb9f3a"
             ],
             [
              0.8888888888888888,
              "#fdca26"
             ],
             [
              1,
              "#f0f921"
             ]
            ],
            "type": "heatmap"
           }
          ],
          "heatmapgl": [
           {
            "colorbar": {
             "outlinewidth": 0,
             "ticks": ""
            },
            "colorscale": [
             [
              0,
              "#0d0887"
             ],
             [
              0.1111111111111111,
              "#46039f"
             ],
             [
              0.2222222222222222,
              "#7201a8"
             ],
             [
              0.3333333333333333,
              "#9c179e"
             ],
             [
              0.4444444444444444,
              "#bd3786"
             ],
             [
              0.5555555555555556,
              "#d8576b"
             ],
             [
              0.6666666666666666,
              "#ed7953"
             ],
             [
              0.7777777777777778,
              "#fb9f3a"
             ],
             [
              0.8888888888888888,
              "#fdca26"
             ],
             [
              1,
              "#f0f921"
             ]
            ],
            "type": "heatmapgl"
           }
          ],
          "histogram": [
           {
            "marker": {
             "colorbar": {
              "outlinewidth": 0,
              "ticks": ""
             }
            },
            "type": "histogram"
           }
          ],
          "histogram2d": [
           {
            "colorbar": {
             "outlinewidth": 0,
             "ticks": ""
            },
            "colorscale": [
             [
              0,
              "#0d0887"
             ],
             [
              0.1111111111111111,
              "#46039f"
             ],
             [
              0.2222222222222222,
              "#7201a8"
             ],
             [
              0.3333333333333333,
              "#9c179e"
             ],
             [
              0.4444444444444444,
              "#bd3786"
             ],
             [
              0.5555555555555556,
              "#d8576b"
             ],
             [
              0.6666666666666666,
              "#ed7953"
             ],
             [
              0.7777777777777778,
              "#fb9f3a"
             ],
             [
              0.8888888888888888,
              "#fdca26"
             ],
             [
              1,
              "#f0f921"
             ]
            ],
            "type": "histogram2d"
           }
          ],
          "histogram2dcontour": [
           {
            "colorbar": {
             "outlinewidth": 0,
             "ticks": ""
            },
            "colorscale": [
             [
              0,
              "#0d0887"
             ],
             [
              0.1111111111111111,
              "#46039f"
             ],
             [
              0.2222222222222222,
              "#7201a8"
             ],
             [
              0.3333333333333333,
              "#9c179e"
             ],
             [
              0.4444444444444444,
              "#bd3786"
             ],
             [
              0.5555555555555556,
              "#d8576b"
             ],
             [
              0.6666666666666666,
              "#ed7953"
             ],
             [
              0.7777777777777778,
              "#fb9f3a"
             ],
             [
              0.8888888888888888,
              "#fdca26"
             ],
             [
              1,
              "#f0f921"
             ]
            ],
            "type": "histogram2dcontour"
           }
          ],
          "mesh3d": [
           {
            "colorbar": {
             "outlinewidth": 0,
             "ticks": ""
            },
            "type": "mesh3d"
           }
          ],
          "parcoords": [
           {
            "line": {
             "colorbar": {
              "outlinewidth": 0,
              "ticks": ""
             }
            },
            "type": "parcoords"
           }
          ],
          "pie": [
           {
            "automargin": true,
            "type": "pie"
           }
          ],
          "scatter": [
           {
            "marker": {
             "colorbar": {
              "outlinewidth": 0,
              "ticks": ""
             }
            },
            "type": "scatter"
           }
          ],
          "scatter3d": [
           {
            "line": {
             "colorbar": {
              "outlinewidth": 0,
              "ticks": ""
             }
            },
            "marker": {
             "colorbar": {
              "outlinewidth": 0,
              "ticks": ""
             }
            },
            "type": "scatter3d"
           }
          ],
          "scattercarpet": [
           {
            "marker": {
             "colorbar": {
              "outlinewidth": 0,
              "ticks": ""
             }
            },
            "type": "scattercarpet"
           }
          ],
          "scattergeo": [
           {
            "marker": {
             "colorbar": {
              "outlinewidth": 0,
              "ticks": ""
             }
            },
            "type": "scattergeo"
           }
          ],
          "scattergl": [
           {
            "marker": {
             "colorbar": {
              "outlinewidth": 0,
              "ticks": ""
             }
            },
            "type": "scattergl"
           }
          ],
          "scattermapbox": [
           {
            "marker": {
             "colorbar": {
              "outlinewidth": 0,
              "ticks": ""
             }
            },
            "type": "scattermapbox"
           }
          ],
          "scatterpolar": [
           {
            "marker": {
             "colorbar": {
              "outlinewidth": 0,
              "ticks": ""
             }
            },
            "type": "scatterpolar"
           }
          ],
          "scatterpolargl": [
           {
            "marker": {
             "colorbar": {
              "outlinewidth": 0,
              "ticks": ""
             }
            },
            "type": "scatterpolargl"
           }
          ],
          "scatterternary": [
           {
            "marker": {
             "colorbar": {
              "outlinewidth": 0,
              "ticks": ""
             }
            },
            "type": "scatterternary"
           }
          ],
          "surface": [
           {
            "colorbar": {
             "outlinewidth": 0,
             "ticks": ""
            },
            "colorscale": [
             [
              0,
              "#0d0887"
             ],
             [
              0.1111111111111111,
              "#46039f"
             ],
             [
              0.2222222222222222,
              "#7201a8"
             ],
             [
              0.3333333333333333,
              "#9c179e"
             ],
             [
              0.4444444444444444,
              "#bd3786"
             ],
             [
              0.5555555555555556,
              "#d8576b"
             ],
             [
              0.6666666666666666,
              "#ed7953"
             ],
             [
              0.7777777777777778,
              "#fb9f3a"
             ],
             [
              0.8888888888888888,
              "#fdca26"
             ],
             [
              1,
              "#f0f921"
             ]
            ],
            "type": "surface"
           }
          ],
          "table": [
           {
            "cells": {
             "fill": {
              "color": "#EBF0F8"
             },
             "line": {
              "color": "white"
             }
            },
            "header": {
             "fill": {
              "color": "#C8D4E3"
             },
             "line": {
              "color": "white"
             }
            },
            "type": "table"
           }
          ]
         },
         "layout": {
          "annotationdefaults": {
           "arrowcolor": "#2a3f5f",
           "arrowhead": 0,
           "arrowwidth": 1
          },
          "coloraxis": {
           "colorbar": {
            "outlinewidth": 0,
            "ticks": ""
           }
          },
          "colorscale": {
           "diverging": [
            [
             0,
             "#8e0152"
            ],
            [
             0.1,
             "#c51b7d"
            ],
            [
             0.2,
             "#de77ae"
            ],
            [
             0.3,
             "#f1b6da"
            ],
            [
             0.4,
             "#fde0ef"
            ],
            [
             0.5,
             "#f7f7f7"
            ],
            [
             0.6,
             "#e6f5d0"
            ],
            [
             0.7,
             "#b8e186"
            ],
            [
             0.8,
             "#7fbc41"
            ],
            [
             0.9,
             "#4d9221"
            ],
            [
             1,
             "#276419"
            ]
           ],
           "sequential": [
            [
             0,
             "#0d0887"
            ],
            [
             0.1111111111111111,
             "#46039f"
            ],
            [
             0.2222222222222222,
             "#7201a8"
            ],
            [
             0.3333333333333333,
             "#9c179e"
            ],
            [
             0.4444444444444444,
             "#bd3786"
            ],
            [
             0.5555555555555556,
             "#d8576b"
            ],
            [
             0.6666666666666666,
             "#ed7953"
            ],
            [
             0.7777777777777778,
             "#fb9f3a"
            ],
            [
             0.8888888888888888,
             "#fdca26"
            ],
            [
             1,
             "#f0f921"
            ]
           ],
           "sequentialminus": [
            [
             0,
             "#0d0887"
            ],
            [
             0.1111111111111111,
             "#46039f"
            ],
            [
             0.2222222222222222,
             "#7201a8"
            ],
            [
             0.3333333333333333,
             "#9c179e"
            ],
            [
             0.4444444444444444,
             "#bd3786"
            ],
            [
             0.5555555555555556,
             "#d8576b"
            ],
            [
             0.6666666666666666,
             "#ed7953"
            ],
            [
             0.7777777777777778,
             "#fb9f3a"
            ],
            [
             0.8888888888888888,
             "#fdca26"
            ],
            [
             1,
             "#f0f921"
            ]
           ]
          },
          "colorway": [
           "#636efa",
           "#EF553B",
           "#00cc96",
           "#ab63fa",
           "#FFA15A",
           "#19d3f3",
           "#FF6692",
           "#B6E880",
           "#FF97FF",
           "#FECB52"
          ],
          "font": {
           "color": "#2a3f5f"
          },
          "geo": {
           "bgcolor": "white",
           "lakecolor": "white",
           "landcolor": "#E5ECF6",
           "showlakes": true,
           "showland": true,
           "subunitcolor": "white"
          },
          "hoverlabel": {
           "align": "left"
          },
          "hovermode": "closest",
          "mapbox": {
           "style": "light"
          },
          "paper_bgcolor": "white",
          "plot_bgcolor": "#E5ECF6",
          "polar": {
           "angularaxis": {
            "gridcolor": "white",
            "linecolor": "white",
            "ticks": ""
           },
           "bgcolor": "#E5ECF6",
           "radialaxis": {
            "gridcolor": "white",
            "linecolor": "white",
            "ticks": ""
           }
          },
          "scene": {
           "xaxis": {
            "backgroundcolor": "#E5ECF6",
            "gridcolor": "white",
            "gridwidth": 2,
            "linecolor": "white",
            "showbackground": true,
            "ticks": "",
            "zerolinecolor": "white"
           },
           "yaxis": {
            "backgroundcolor": "#E5ECF6",
            "gridcolor": "white",
            "gridwidth": 2,
            "linecolor": "white",
            "showbackground": true,
            "ticks": "",
            "zerolinecolor": "white"
           },
           "zaxis": {
            "backgroundcolor": "#E5ECF6",
            "gridcolor": "white",
            "gridwidth": 2,
            "linecolor": "white",
            "showbackground": true,
            "ticks": "",
            "zerolinecolor": "white"
           }
          },
          "shapedefaults": {
           "line": {
            "color": "#2a3f5f"
           }
          },
          "ternary": {
           "aaxis": {
            "gridcolor": "white",
            "linecolor": "white",
            "ticks": ""
           },
           "baxis": {
            "gridcolor": "white",
            "linecolor": "white",
            "ticks": ""
           },
           "bgcolor": "#E5ECF6",
           "caxis": {
            "gridcolor": "white",
            "linecolor": "white",
            "ticks": ""
           }
          },
          "title": {
           "x": 0.05
          },
          "xaxis": {
           "automargin": true,
           "gridcolor": "white",
           "linecolor": "white",
           "ticks": "",
           "title": {
            "standoff": 15
           },
           "zerolinecolor": "white",
           "zerolinewidth": 2
          },
          "yaxis": {
           "automargin": true,
           "gridcolor": "white",
           "linecolor": "white",
           "ticks": "",
           "title": {
            "standoff": 15
           },
           "zerolinecolor": "white",
           "zerolinewidth": 2
          }
         }
        },
        "title": {
         "font": {
          "color": "#4D5663"
         }
        },
        "xaxis": {
         "gridcolor": "#E1E5ED",
         "showgrid": true,
         "tickfont": {
          "color": "#4D5663"
         },
         "title": {
          "font": {
           "color": "#4D5663"
          },
          "text": ""
         },
         "zerolinecolor": "#E1E5ED"
        },
        "yaxis": {
         "gridcolor": "#E1E5ED",
         "showgrid": true,
         "tickfont": {
          "color": "#4D5663"
         },
         "title": {
          "font": {
           "color": "#4D5663"
          },
          "text": ""
         },
         "zerolinecolor": "#E1E5ED"
        }
       }
      },
      "text/html": [
       "<div>\n",
       "        \n",
       "        \n",
       "            <div id=\"63dd3e70-4455-4d8f-b71c-bd873d87cc43\" class=\"plotly-graph-div\" style=\"height:525px; width:100%;\"></div>\n",
       "            <script type=\"text/javascript\">\n",
       "                require([\"plotly\"], function(Plotly) {\n",
       "                    window.PLOTLYENV=window.PLOTLYENV || {};\n",
       "                    window.PLOTLYENV.BASE_URL='https://plot.ly';\n",
       "                    \n",
       "                if (document.getElementById(\"63dd3e70-4455-4d8f-b71c-bd873d87cc43\")) {\n",
       "                    Plotly.newPlot(\n",
       "                        '63dd3e70-4455-4d8f-b71c-bd873d87cc43',\n",
       "                        [{\"marker\": {\"color\": \"rgba(255, 153, 51, 0.6)\", \"line\": {\"color\": \"rgba(255, 153, 51, 1.0)\", \"width\": 1}}, \"name\": \"None\", \"orientation\": \"v\", \"text\": \"\", \"type\": \"bar\", \"x\": [\"A\", \"B\", \"C\", \"D\"], \"y\": [100, 100, 100, 100]}],\n",
       "                        {\"legend\": {\"bgcolor\": \"#F5F6F9\", \"font\": {\"color\": \"#4D5663\"}}, \"paper_bgcolor\": \"#F5F6F9\", \"plot_bgcolor\": \"#F5F6F9\", \"template\": {\"data\": {\"bar\": [{\"error_x\": {\"color\": \"#2a3f5f\"}, \"error_y\": {\"color\": \"#2a3f5f\"}, \"marker\": {\"line\": {\"color\": \"#E5ECF6\", \"width\": 0.5}}, \"type\": \"bar\"}], \"barpolar\": [{\"marker\": {\"line\": {\"color\": \"#E5ECF6\", \"width\": 0.5}}, \"type\": \"barpolar\"}], \"carpet\": [{\"aaxis\": {\"endlinecolor\": \"#2a3f5f\", \"gridcolor\": \"white\", \"linecolor\": \"white\", \"minorgridcolor\": \"white\", \"startlinecolor\": \"#2a3f5f\"}, \"baxis\": {\"endlinecolor\": \"#2a3f5f\", \"gridcolor\": \"white\", \"linecolor\": \"white\", \"minorgridcolor\": \"white\", \"startlinecolor\": \"#2a3f5f\"}, \"type\": \"carpet\"}], \"choropleth\": [{\"colorbar\": {\"outlinewidth\": 0, \"ticks\": \"\"}, \"type\": \"choropleth\"}], \"contour\": [{\"colorbar\": {\"outlinewidth\": 0, \"ticks\": \"\"}, \"colorscale\": [[0.0, \"#0d0887\"], [0.1111111111111111, \"#46039f\"], [0.2222222222222222, \"#7201a8\"], [0.3333333333333333, \"#9c179e\"], [0.4444444444444444, \"#bd3786\"], [0.5555555555555556, \"#d8576b\"], [0.6666666666666666, \"#ed7953\"], [0.7777777777777778, \"#fb9f3a\"], [0.8888888888888888, \"#fdca26\"], [1.0, \"#f0f921\"]], \"type\": \"contour\"}], \"contourcarpet\": [{\"colorbar\": {\"outlinewidth\": 0, \"ticks\": \"\"}, \"type\": \"contourcarpet\"}], \"heatmap\": [{\"colorbar\": {\"outlinewidth\": 0, \"ticks\": \"\"}, \"colorscale\": [[0.0, \"#0d0887\"], [0.1111111111111111, \"#46039f\"], [0.2222222222222222, \"#7201a8\"], [0.3333333333333333, \"#9c179e\"], [0.4444444444444444, \"#bd3786\"], [0.5555555555555556, \"#d8576b\"], [0.6666666666666666, \"#ed7953\"], [0.7777777777777778, \"#fb9f3a\"], [0.8888888888888888, \"#fdca26\"], [1.0, \"#f0f921\"]], \"type\": \"heatmap\"}], \"heatmapgl\": [{\"colorbar\": {\"outlinewidth\": 0, \"ticks\": \"\"}, \"colorscale\": [[0.0, \"#0d0887\"], [0.1111111111111111, \"#46039f\"], [0.2222222222222222, \"#7201a8\"], [0.3333333333333333, \"#9c179e\"], [0.4444444444444444, \"#bd3786\"], [0.5555555555555556, \"#d8576b\"], [0.6666666666666666, \"#ed7953\"], [0.7777777777777778, \"#fb9f3a\"], [0.8888888888888888, \"#fdca26\"], [1.0, \"#f0f921\"]], \"type\": \"heatmapgl\"}], \"histogram\": [{\"marker\": {\"colorbar\": {\"outlinewidth\": 0, \"ticks\": \"\"}}, \"type\": \"histogram\"}], \"histogram2d\": [{\"colorbar\": {\"outlinewidth\": 0, \"ticks\": \"\"}, \"colorscale\": [[0.0, \"#0d0887\"], [0.1111111111111111, \"#46039f\"], [0.2222222222222222, \"#7201a8\"], [0.3333333333333333, \"#9c179e\"], [0.4444444444444444, \"#bd3786\"], [0.5555555555555556, \"#d8576b\"], [0.6666666666666666, \"#ed7953\"], [0.7777777777777778, \"#fb9f3a\"], [0.8888888888888888, \"#fdca26\"], [1.0, \"#f0f921\"]], \"type\": \"histogram2d\"}], \"histogram2dcontour\": [{\"colorbar\": {\"outlinewidth\": 0, \"ticks\": \"\"}, \"colorscale\": [[0.0, \"#0d0887\"], [0.1111111111111111, \"#46039f\"], [0.2222222222222222, \"#7201a8\"], [0.3333333333333333, \"#9c179e\"], [0.4444444444444444, \"#bd3786\"], [0.5555555555555556, \"#d8576b\"], [0.6666666666666666, \"#ed7953\"], [0.7777777777777778, \"#fb9f3a\"], [0.8888888888888888, \"#fdca26\"], [1.0, \"#f0f921\"]], \"type\": \"histogram2dcontour\"}], \"mesh3d\": [{\"colorbar\": {\"outlinewidth\": 0, \"ticks\": \"\"}, \"type\": \"mesh3d\"}], \"parcoords\": [{\"line\": {\"colorbar\": {\"outlinewidth\": 0, \"ticks\": \"\"}}, \"type\": \"parcoords\"}], \"pie\": [{\"automargin\": true, \"type\": \"pie\"}], \"scatter\": [{\"marker\": {\"colorbar\": {\"outlinewidth\": 0, \"ticks\": \"\"}}, \"type\": \"scatter\"}], \"scatter3d\": [{\"line\": {\"colorbar\": {\"outlinewidth\": 0, \"ticks\": \"\"}}, \"marker\": {\"colorbar\": {\"outlinewidth\": 0, \"ticks\": \"\"}}, \"type\": \"scatter3d\"}], \"scattercarpet\": [{\"marker\": {\"colorbar\": {\"outlinewidth\": 0, \"ticks\": \"\"}}, \"type\": \"scattercarpet\"}], \"scattergeo\": [{\"marker\": {\"colorbar\": {\"outlinewidth\": 0, \"ticks\": \"\"}}, \"type\": \"scattergeo\"}], \"scattergl\": [{\"marker\": {\"colorbar\": {\"outlinewidth\": 0, \"ticks\": \"\"}}, \"type\": \"scattergl\"}], \"scattermapbox\": [{\"marker\": {\"colorbar\": {\"outlinewidth\": 0, \"ticks\": \"\"}}, \"type\": \"scattermapbox\"}], \"scatterpolar\": [{\"marker\": {\"colorbar\": {\"outlinewidth\": 0, \"ticks\": \"\"}}, \"type\": \"scatterpolar\"}], \"scatterpolargl\": [{\"marker\": {\"colorbar\": {\"outlinewidth\": 0, \"ticks\": \"\"}}, \"type\": \"scatterpolargl\"}], \"scatterternary\": [{\"marker\": {\"colorbar\": {\"outlinewidth\": 0, \"ticks\": \"\"}}, \"type\": \"scatterternary\"}], \"surface\": [{\"colorbar\": {\"outlinewidth\": 0, \"ticks\": \"\"}, \"colorscale\": [[0.0, \"#0d0887\"], [0.1111111111111111, \"#46039f\"], [0.2222222222222222, \"#7201a8\"], [0.3333333333333333, \"#9c179e\"], [0.4444444444444444, \"#bd3786\"], [0.5555555555555556, \"#d8576b\"], [0.6666666666666666, \"#ed7953\"], [0.7777777777777778, \"#fb9f3a\"], [0.8888888888888888, \"#fdca26\"], [1.0, \"#f0f921\"]], \"type\": \"surface\"}], \"table\": [{\"cells\": {\"fill\": {\"color\": \"#EBF0F8\"}, \"line\": {\"color\": \"white\"}}, \"header\": {\"fill\": {\"color\": \"#C8D4E3\"}, \"line\": {\"color\": \"white\"}}, \"type\": \"table\"}]}, \"layout\": {\"annotationdefaults\": {\"arrowcolor\": \"#2a3f5f\", \"arrowhead\": 0, \"arrowwidth\": 1}, \"coloraxis\": {\"colorbar\": {\"outlinewidth\": 0, \"ticks\": \"\"}}, \"colorscale\": {\"diverging\": [[0, \"#8e0152\"], [0.1, \"#c51b7d\"], [0.2, \"#de77ae\"], [0.3, \"#f1b6da\"], [0.4, \"#fde0ef\"], [0.5, \"#f7f7f7\"], [0.6, \"#e6f5d0\"], [0.7, \"#b8e186\"], [0.8, \"#7fbc41\"], [0.9, \"#4d9221\"], [1, \"#276419\"]], \"sequential\": [[0.0, \"#0d0887\"], [0.1111111111111111, \"#46039f\"], [0.2222222222222222, \"#7201a8\"], [0.3333333333333333, \"#9c179e\"], [0.4444444444444444, \"#bd3786\"], [0.5555555555555556, \"#d8576b\"], [0.6666666666666666, \"#ed7953\"], [0.7777777777777778, \"#fb9f3a\"], [0.8888888888888888, \"#fdca26\"], [1.0, \"#f0f921\"]], \"sequentialminus\": [[0.0, \"#0d0887\"], [0.1111111111111111, \"#46039f\"], [0.2222222222222222, \"#7201a8\"], [0.3333333333333333, \"#9c179e\"], [0.4444444444444444, \"#bd3786\"], [0.5555555555555556, \"#d8576b\"], [0.6666666666666666, \"#ed7953\"], [0.7777777777777778, \"#fb9f3a\"], [0.8888888888888888, \"#fdca26\"], [1.0, \"#f0f921\"]]}, \"colorway\": [\"#636efa\", \"#EF553B\", \"#00cc96\", \"#ab63fa\", \"#FFA15A\", \"#19d3f3\", \"#FF6692\", \"#B6E880\", \"#FF97FF\", \"#FECB52\"], \"font\": {\"color\": \"#2a3f5f\"}, \"geo\": {\"bgcolor\": \"white\", \"lakecolor\": \"white\", \"landcolor\": \"#E5ECF6\", \"showlakes\": true, \"showland\": true, \"subunitcolor\": \"white\"}, \"hoverlabel\": {\"align\": \"left\"}, \"hovermode\": \"closest\", \"mapbox\": {\"style\": \"light\"}, \"paper_bgcolor\": \"white\", \"plot_bgcolor\": \"#E5ECF6\", \"polar\": {\"angularaxis\": {\"gridcolor\": \"white\", \"linecolor\": \"white\", \"ticks\": \"\"}, \"bgcolor\": \"#E5ECF6\", \"radialaxis\": {\"gridcolor\": \"white\", \"linecolor\": \"white\", \"ticks\": \"\"}}, \"scene\": {\"xaxis\": {\"backgroundcolor\": \"#E5ECF6\", \"gridcolor\": \"white\", \"gridwidth\": 2, \"linecolor\": \"white\", \"showbackground\": true, \"ticks\": \"\", \"zerolinecolor\": \"white\"}, \"yaxis\": {\"backgroundcolor\": \"#E5ECF6\", \"gridcolor\": \"white\", \"gridwidth\": 2, \"linecolor\": \"white\", \"showbackground\": true, \"ticks\": \"\", \"zerolinecolor\": \"white\"}, \"zaxis\": {\"backgroundcolor\": \"#E5ECF6\", \"gridcolor\": \"white\", \"gridwidth\": 2, \"linecolor\": \"white\", \"showbackground\": true, \"ticks\": \"\", \"zerolinecolor\": \"white\"}}, \"shapedefaults\": {\"line\": {\"color\": \"#2a3f5f\"}}, \"ternary\": {\"aaxis\": {\"gridcolor\": \"white\", \"linecolor\": \"white\", \"ticks\": \"\"}, \"baxis\": {\"gridcolor\": \"white\", \"linecolor\": \"white\", \"ticks\": \"\"}, \"bgcolor\": \"#E5ECF6\", \"caxis\": {\"gridcolor\": \"white\", \"linecolor\": \"white\", \"ticks\": \"\"}}, \"title\": {\"x\": 0.05}, \"xaxis\": {\"automargin\": true, \"gridcolor\": \"white\", \"linecolor\": \"white\", \"ticks\": \"\", \"title\": {\"standoff\": 15}, \"zerolinecolor\": \"white\", \"zerolinewidth\": 2}, \"yaxis\": {\"automargin\": true, \"gridcolor\": \"white\", \"linecolor\": \"white\", \"ticks\": \"\", \"title\": {\"standoff\": 15}, \"zerolinecolor\": \"white\", \"zerolinewidth\": 2}}}, \"title\": {\"font\": {\"color\": \"#4D5663\"}}, \"xaxis\": {\"gridcolor\": \"#E1E5ED\", \"showgrid\": true, \"tickfont\": {\"color\": \"#4D5663\"}, \"title\": {\"font\": {\"color\": \"#4D5663\"}, \"text\": \"\"}, \"zerolinecolor\": \"#E1E5ED\"}, \"yaxis\": {\"gridcolor\": \"#E1E5ED\", \"showgrid\": true, \"tickfont\": {\"color\": \"#4D5663\"}, \"title\": {\"font\": {\"color\": \"#4D5663\"}, \"text\": \"\"}, \"zerolinecolor\": \"#E1E5ED\"}},\n",
       "                        {\"showLink\": true, \"linkText\": \"Export to plot.ly\", \"plotlyServerURL\": \"https://plot.ly\", \"responsive\": true}\n",
       "                    ).then(function(){\n",
       "                            \n",
       "var gd = document.getElementById('63dd3e70-4455-4d8f-b71c-bd873d87cc43');\n",
       "var x = new MutationObserver(function (mutations, observer) {{\n",
       "        var display = window.getComputedStyle(gd).display;\n",
       "        if (!display || display === 'none') {{\n",
       "            console.log([gd, 'removed!']);\n",
       "            Plotly.purge(gd);\n",
       "            observer.disconnect();\n",
       "        }}\n",
       "}});\n",
       "\n",
       "// Listen for the removal of the full notebook cells\n",
       "var notebookContainer = gd.closest('#notebook-container');\n",
       "if (notebookContainer) {{\n",
       "    x.observe(notebookContainer, {childList: true});\n",
       "}}\n",
       "\n",
       "// Listen for the clearing of the current output cell\n",
       "var outputEl = gd.closest('.output');\n",
       "if (outputEl) {{\n",
       "    x.observe(outputEl, {childList: true});\n",
       "}}\n",
       "\n",
       "                        })\n",
       "                };\n",
       "                });\n",
       "            </script>\n",
       "        </div>"
      ]
     },
     "metadata": {},
     "output_type": "display_data"
    }
   ],
   "source": [
    "df.count().iplot(kind='bar')"
   ]
  },
  {
   "cell_type": "markdown",
   "metadata": {},
   "source": [
    "## Boxplots"
   ]
  },
  {
   "cell_type": "code",
   "execution_count": 14,
   "metadata": {},
   "outputs": [
    {
     "data": {
      "application/vnd.plotly.v1+json": {
       "config": {
        "linkText": "Export to plot.ly",
        "plotlyServerURL": "https://plot.ly",
        "showLink": true
       },
       "data": [
        {
         "boxpoints": false,
         "line": {
          "width": 1.3
         },
         "marker": {
          "color": "rgba(255, 153, 51, 1.0)"
         },
         "name": "A",
         "orientation": "v",
         "type": "box",
         "y": [
          -0.510356444121689,
          0.7201652349415042,
          -0.7956381636543068,
          1.0832809916868644,
          -0.30135332660046227,
          0.42411030852509535,
          0.42087262293982375,
          -0.3834038112338632,
          -0.7181067075740701,
          -1.689000975405711,
          -0.768211369533854,
          -1.4009016874638953,
          -0.4609104403187404,
          -0.3610062304045048,
          0.6990611544761113,
          -0.4071983236663745,
          0.9749451967310648,
          -1.5521567512284027,
          2.582839819142019,
          -1.2608047270318732,
          0.68742828657434,
          -0.46537119576917874,
          -0.48064110808268334,
          0.28063181595730985,
          -1.0452623335682787,
          -0.40873364292488046,
          -1.3571367997941601,
          -0.6062375995071084,
          1.4528109216456557,
          0.07731559895151965,
          0.3250397061151751,
          1.201915142424794,
          -0.4504659375584174,
          1.9668847821266044,
          -0.364303563666657,
          -0.13927146800064158,
          0.57348161033347,
          0.4947778974491402,
          0.30569786829351947,
          0.9201554242455009,
          -0.41523183381297085,
          -1.8330412839733048,
          -0.23619614972665107,
          -1.849963868494029,
          0.5461760591197427,
          -0.9361134586802853,
          -0.4528434305920523,
          0.2174161047715857,
          1.0635059691233937,
          -0.9459523350502519,
          -0.13166220663639913,
          -0.6421618174142698,
          0.3047712492940703,
          -0.26344777521625573,
          -0.45306380687736664,
          -0.9705865345061072,
          -0.12741882697516443,
          1.0049752783819161,
          0.4086707843416792,
          -0.4511413941730779,
          0.5104243612824134,
          -0.7255566333311757,
          0.5653467224854392,
          -0.16436532244841037,
          -0.1988484231344934,
          -0.7564557068257352,
          -0.18679418701106604,
          0.007128162141137425,
          -0.04652926061840745,
          -1.2240766600558828,
          0.2548364775874957,
          0.36702432595644263,
          -1.8441953853505533,
          -0.24359038758120563,
          1.3244683296413644,
          0.61165695571586,
          1.5230508996881755,
          1.7353619398397855,
          0.22402443540755565,
          0.33895550763612925,
          0.9223319365608782,
          0.9159143574193307,
          1.2997354894773798,
          -1.4147536326587344,
          -1.0248138567998835,
          -1.7541740527292868,
          -0.6575313266954175,
          -0.6207644107638655,
          -0.44464272561837265,
          -0.836691238296052,
          1.7573684719199605,
          -2.9653482379895464,
          -1.146385550579236,
          0.15786795073923038,
          1.9837911867756637,
          -0.1286989891014074,
          0.6788131762939952,
          -0.012808189565091749,
          -0.7578489572357708,
          1.5590955815629608
         ]
        },
        {
         "boxpoints": false,
         "line": {
          "width": 1.3
         },
         "marker": {
          "color": "rgba(55, 128, 191, 1.0)"
         },
         "name": "B",
         "orientation": "v",
         "type": "box",
         "y": [
          0.4394113396115198,
          -1.3704879603341773,
          -0.894779683303476,
          -0.9091697423817736,
          -0.7870831654017293,
          1.7078371717736396,
          -0.09852952274905818,
          -0.3301784910650832,
          1.6268395224675645,
          0.23779943709785142,
          0.8320902681835906,
          -1.0395936765569966,
          -1.4627998759745036,
          -1.2905181379536943,
          -0.7458983776289884,
          1.233386993912338,
          0.49681475206133296,
          -0.512701542962839,
          2.064920530388905,
          1.1887225273511324,
          0.9775910490656258,
          0.07947257556784981,
          -0.7874279153056152,
          -1.1496283384200692,
          -1.4302366554682746,
          -1.5038040240345794,
          0.2917872732984551,
          -1.1291913047146693,
          0.381635713258072,
          0.5782386470488836,
          0.18723596532937337,
          -0.3932861774601221,
          0.22451339799635048,
          -0.5639617603917293,
          0.976796922647767,
          1.3294058450552153,
          -0.014823934009534098,
          0.33694456503364056,
          -1.7596659431646775,
          0.18350148416556766,
          2.1186952855091894,
          1.8667466050294965,
          -0.837574209463975,
          1.1115620238149284,
          0.27441666631551975,
          -0.20989609089297878,
          -1.8147053413659966,
          0.7869898004991409,
          -1.7841985376732745,
          -0.5238520144705975,
          0.3812868303501749,
          0.3137975708975645,
          0.9968300457049288,
          0.5824846983864099,
          -0.05913546961926126,
          -0.7790815336783042,
          -0.5034885037883023,
          0.9896954982725973,
          -0.4787666015780376,
          1.9011893896648642,
          -0.13028487404661762,
          -2.1424981055614447,
          -1.0766028098307068,
          -0.792137140883388,
          -1.2103592333561075,
          -1.4878660498301146,
          -0.43106169827739,
          -0.44901688012835594,
          0.29737915922704417,
          -1.5005547897872924,
          -0.6906235587362654,
          0.08165168312136552,
          0.888112558194319,
          0.2162961596844919,
          0.3095124316406531,
          -2.357625950700372,
          -0.5851048603043837,
          1.4090130212670697,
          -0.8972052639813642,
          0.44154770227912477,
          1.1769309603585676,
          3.494886385021715,
          -0.34623819370067876,
          0.49039904790159233,
          -1.4439627916263218,
          -0.23356971773044577,
          1.946859888073679,
          0.39682927408000496,
          0.6947149347178614,
          0.776205432439833,
          -1.6156658133534276,
          0.8735942224395256,
          -0.027535065229056153,
          -0.008472192836710022,
          0.1836800682078861,
          -0.4984619503467606,
          1.705018893410389,
          -2.0132462510663918,
          0.1437439755595477,
          0.38606482996606656
         ]
        },
        {
         "boxpoints": false,
         "line": {
          "width": 1.3
         },
         "marker": {
          "color": "rgba(50, 171, 96, 1.0)"
         },
         "name": "C",
         "orientation": "v",
         "type": "box",
         "y": [
          1.7134607267878292,
          0.01229513019344676,
          1.1576379532319447,
          1.3566370184988912,
          -0.2117756707686416,
          1.5625121947895269,
          0.5533442627161719,
          -1.0388020852135091,
          1.3233843164523944,
          -1.3841321376720623,
          -1.601418147437713,
          -1.4804291986871527,
          0.398123596774922,
          0.6600816610987036,
          0.4401119102974501,
          -0.8431254039393877,
          0.2914057336952613,
          -0.4393007785107817,
          -0.04865772347014313,
          1.1537261875287288,
          0.9635555110319551,
          -0.5880336603132681,
          0.39562638834526176,
          -0.15957211910382443,
          1.0254047780711937,
          0.12423342512452254,
          0.0437126925431905,
          0.8995894615985114,
          1.1260773239894168,
          -1.0240469410966868,
          -0.46796827766550575,
          1.3438990552061132,
          0.7083038644210866,
          -1.4301276155498046,
          -1.1787929121320906,
          1.2589911130944365,
          -1.107663529376245,
          -0.34454418220057675,
          1.1800182427566668,
          0.6621456810599124,
          0.9332278668943851,
          1.0437030244588577,
          1.1589775156621946,
          -1.286641464870168,
          0.09592486742623252,
          -0.060169757044287585,
          -0.42631472192425107,
          0.05509445430998456,
          0.5838635059871827,
          -1.0117104904794283,
          -0.36333960758699724,
          -0.6042376837704702,
          0.46754062186437567,
          0.5434090188257058,
          0.864369979455845,
          -0.03379664750232179,
          -1.8037781405146458,
          1.6759719250546596,
          -0.04334468392284036,
          -0.639674969010019,
          -1.1978450422539484,
          0.44647289296402143,
          0.2934078819402944,
          0.16864785141964597,
          -0.03899654640077746,
          0.2797233408514478,
          0.9706769301218381,
          0.3053152936395522,
          0.3488898255315582,
          -0.3695518224748706,
          1.238513300269592,
          1.1105842613534929,
          -0.45241838137786267,
          0.0061385544732930255,
          -1.519598989469329,
          1.5021261970541342,
          0.9379164174518302,
          -0.044109473046359864,
          1.0675633476248816,
          -1.6088697204823577,
          -1.2116805484645659,
          2.2143799486399542,
          -0.638817358171448,
          1.0689578074338253,
          0.31208077022181774,
          -0.7155400847678097,
          0.4654737522814809,
          -0.5612860156322768,
          -0.29481862276324833,
          0.4485246590538842,
          0.4536017204861066,
          0.3811734827980065,
          0.05859924533815346,
          -1.0184769474724664,
          0.39167521632673225,
          -0.8459166933123231,
          0.9603389026740023,
          -0.08939291758784702,
          -1.3339894824288652,
          0.6489534233801592
         ]
        },
        {
         "boxpoints": false,
         "line": {
          "width": 1.3
         },
         "marker": {
          "color": "rgba(128, 0, 128, 1.0)"
         },
         "name": "D",
         "orientation": "v",
         "type": "box",
         "y": [
          -0.6494312813489145,
          0.5196054801095733,
          0.0828488001042145,
          0.4249812754840084,
          0.5729293370994376,
          0.9292731412356393,
          -0.3416471965687598,
          -0.8792390472325408,
          -0.2537255764371739,
          0.446260129769695,
          2.6514949387993703,
          0.26287820592109423,
          0.9307105379918522,
          -0.11002087128670265,
          -0.3894678170928814,
          -1.2056699291126767,
          -0.33982778539946473,
          -0.5881542236293539,
          0.38293030573445497,
          -0.2971978399749488,
          1.3547218372705987,
          -2.4779811779546486,
          -0.39059599846259063,
          0.21667583702807452,
          -0.5803490910115267,
          0.25546806790574383,
          -0.30223300479977305,
          1.2604364945297997,
          -1.156888967018702,
          -0.021516118040357916,
          -0.6722009918032484,
          -1.6297981653637084,
          1.0722741218800351,
          -0.17793982314165274,
          -0.2870437190408764,
          -0.7447344530324086,
          -1.8866491407895452,
          0.48239707899094636,
          -0.9315051451227777,
          0.7398734905309798,
          -0.4072464898723833,
          -1.8297211898989034,
          -1.2091335318863878,
          -0.47405824350178866,
          0.3317790547794101,
          -0.7335094760607728,
          -0.06069935848235784,
          0.2149359131378458,
          -1.2772687572661934,
          -0.6707945711837375,
          -1.8454602155509663,
          1.3742821834136227,
          -0.6849319114740683,
          0.20962107268154645,
          0.8739647403395655,
          -0.0648512961866547,
          0.10916666355129223,
          0.7742130365257172,
          -0.6202121031517325,
          -2.027047349242399,
          -0.8537322497487592,
          0.10466128223410277,
          -0.9537032798117839,
          -0.2106665962593506,
          -0.9684766400297471,
          -0.6579892171523315,
          -0.7787375038637451,
          -0.9247492346307117,
          -0.9338954872947596,
          0.23386795010542535,
          -0.26925504094370395,
          0.8019489697881516,
          0.49658912032148483,
          1.065966241426964,
          0.3139004072052315,
          0.8198729194069315,
          -0.15747464396416938,
          -1.4172739578471354,
          -2.0091660542923626,
          0.18288638841393226,
          0.9834100356019922,
          -0.3583663367860736,
          0.40689607852516135,
          -1.8183389932144993,
          0.9905748041579666,
          -0.13734448106333003,
          -0.7742743589471643,
          -0.5248974994430586,
          -0.04727700329103183,
          0.09700939432349272,
          0.30365089281729596,
          1.5038805885998434,
          1.146636147027629,
          1.129211795513414,
          -0.09137973751845033,
          -1.8140911181141097,
          -0.0855074483344991,
          0.10415479262056486,
          1.9701469206422444,
          -1.2796223948212122
         ]
        }
       ],
       "layout": {
        "legend": {
         "bgcolor": "#F5F6F9",
         "font": {
          "color": "#4D5663"
         }
        },
        "paper_bgcolor": "#F5F6F9",
        "plot_bgcolor": "#F5F6F9",
        "template": {
         "data": {
          "bar": [
           {
            "error_x": {
             "color": "#2a3f5f"
            },
            "error_y": {
             "color": "#2a3f5f"
            },
            "marker": {
             "line": {
              "color": "#E5ECF6",
              "width": 0.5
             }
            },
            "type": "bar"
           }
          ],
          "barpolar": [
           {
            "marker": {
             "line": {
              "color": "#E5ECF6",
              "width": 0.5
             }
            },
            "type": "barpolar"
           }
          ],
          "carpet": [
           {
            "aaxis": {
             "endlinecolor": "#2a3f5f",
             "gridcolor": "white",
             "linecolor": "white",
             "minorgridcolor": "white",
             "startlinecolor": "#2a3f5f"
            },
            "baxis": {
             "endlinecolor": "#2a3f5f",
             "gridcolor": "white",
             "linecolor": "white",
             "minorgridcolor": "white",
             "startlinecolor": "#2a3f5f"
            },
            "type": "carpet"
           }
          ],
          "choropleth": [
           {
            "colorbar": {
             "outlinewidth": 0,
             "ticks": ""
            },
            "type": "choropleth"
           }
          ],
          "contour": [
           {
            "colorbar": {
             "outlinewidth": 0,
             "ticks": ""
            },
            "colorscale": [
             [
              0,
              "#0d0887"
             ],
             [
              0.1111111111111111,
              "#46039f"
             ],
             [
              0.2222222222222222,
              "#7201a8"
             ],
             [
              0.3333333333333333,
              "#9c179e"
             ],
             [
              0.4444444444444444,
              "#bd3786"
             ],
             [
              0.5555555555555556,
              "#d8576b"
             ],
             [
              0.6666666666666666,
              "#ed7953"
             ],
             [
              0.7777777777777778,
              "#fb9f3a"
             ],
             [
              0.8888888888888888,
              "#fdca26"
             ],
             [
              1,
              "#f0f921"
             ]
            ],
            "type": "contour"
           }
          ],
          "contourcarpet": [
           {
            "colorbar": {
             "outlinewidth": 0,
             "ticks": ""
            },
            "type": "contourcarpet"
           }
          ],
          "heatmap": [
           {
            "colorbar": {
             "outlinewidth": 0,
             "ticks": ""
            },
            "colorscale": [
             [
              0,
              "#0d0887"
             ],
             [
              0.1111111111111111,
              "#46039f"
             ],
             [
              0.2222222222222222,
              "#7201a8"
             ],
             [
              0.3333333333333333,
              "#9c179e"
             ],
             [
              0.4444444444444444,
              "#bd3786"
             ],
             [
              0.5555555555555556,
              "#d8576b"
             ],
             [
              0.6666666666666666,
              "#ed7953"
             ],
             [
              0.7777777777777778,
              "#fb9f3a"
             ],
             [
              0.8888888888888888,
              "#fdca26"
             ],
             [
              1,
              "#f0f921"
             ]
            ],
            "type": "heatmap"
           }
          ],
          "heatmapgl": [
           {
            "colorbar": {
             "outlinewidth": 0,
             "ticks": ""
            },
            "colorscale": [
             [
              0,
              "#0d0887"
             ],
             [
              0.1111111111111111,
              "#46039f"
             ],
             [
              0.2222222222222222,
              "#7201a8"
             ],
             [
              0.3333333333333333,
              "#9c179e"
             ],
             [
              0.4444444444444444,
              "#bd3786"
             ],
             [
              0.5555555555555556,
              "#d8576b"
             ],
             [
              0.6666666666666666,
              "#ed7953"
             ],
             [
              0.7777777777777778,
              "#fb9f3a"
             ],
             [
              0.8888888888888888,
              "#fdca26"
             ],
             [
              1,
              "#f0f921"
             ]
            ],
            "type": "heatmapgl"
           }
          ],
          "histogram": [
           {
            "marker": {
             "colorbar": {
              "outlinewidth": 0,
              "ticks": ""
             }
            },
            "type": "histogram"
           }
          ],
          "histogram2d": [
           {
            "colorbar": {
             "outlinewidth": 0,
             "ticks": ""
            },
            "colorscale": [
             [
              0,
              "#0d0887"
             ],
             [
              0.1111111111111111,
              "#46039f"
             ],
             [
              0.2222222222222222,
              "#7201a8"
             ],
             [
              0.3333333333333333,
              "#9c179e"
             ],
             [
              0.4444444444444444,
              "#bd3786"
             ],
             [
              0.5555555555555556,
              "#d8576b"
             ],
             [
              0.6666666666666666,
              "#ed7953"
             ],
             [
              0.7777777777777778,
              "#fb9f3a"
             ],
             [
              0.8888888888888888,
              "#fdca26"
             ],
             [
              1,
              "#f0f921"
             ]
            ],
            "type": "histogram2d"
           }
          ],
          "histogram2dcontour": [
           {
            "colorbar": {
             "outlinewidth": 0,
             "ticks": ""
            },
            "colorscale": [
             [
              0,
              "#0d0887"
             ],
             [
              0.1111111111111111,
              "#46039f"
             ],
             [
              0.2222222222222222,
              "#7201a8"
             ],
             [
              0.3333333333333333,
              "#9c179e"
             ],
             [
              0.4444444444444444,
              "#bd3786"
             ],
             [
              0.5555555555555556,
              "#d8576b"
             ],
             [
              0.6666666666666666,
              "#ed7953"
             ],
             [
              0.7777777777777778,
              "#fb9f3a"
             ],
             [
              0.8888888888888888,
              "#fdca26"
             ],
             [
              1,
              "#f0f921"
             ]
            ],
            "type": "histogram2dcontour"
           }
          ],
          "mesh3d": [
           {
            "colorbar": {
             "outlinewidth": 0,
             "ticks": ""
            },
            "type": "mesh3d"
           }
          ],
          "parcoords": [
           {
            "line": {
             "colorbar": {
              "outlinewidth": 0,
              "ticks": ""
             }
            },
            "type": "parcoords"
           }
          ],
          "pie": [
           {
            "automargin": true,
            "type": "pie"
           }
          ],
          "scatter": [
           {
            "marker": {
             "colorbar": {
              "outlinewidth": 0,
              "ticks": ""
             }
            },
            "type": "scatter"
           }
          ],
          "scatter3d": [
           {
            "line": {
             "colorbar": {
              "outlinewidth": 0,
              "ticks": ""
             }
            },
            "marker": {
             "colorbar": {
              "outlinewidth": 0,
              "ticks": ""
             }
            },
            "type": "scatter3d"
           }
          ],
          "scattercarpet": [
           {
            "marker": {
             "colorbar": {
              "outlinewidth": 0,
              "ticks": ""
             }
            },
            "type": "scattercarpet"
           }
          ],
          "scattergeo": [
           {
            "marker": {
             "colorbar": {
              "outlinewidth": 0,
              "ticks": ""
             }
            },
            "type": "scattergeo"
           }
          ],
          "scattergl": [
           {
            "marker": {
             "colorbar": {
              "outlinewidth": 0,
              "ticks": ""
             }
            },
            "type": "scattergl"
           }
          ],
          "scattermapbox": [
           {
            "marker": {
             "colorbar": {
              "outlinewidth": 0,
              "ticks": ""
             }
            },
            "type": "scattermapbox"
           }
          ],
          "scatterpolar": [
           {
            "marker": {
             "colorbar": {
              "outlinewidth": 0,
              "ticks": ""
             }
            },
            "type": "scatterpolar"
           }
          ],
          "scatterpolargl": [
           {
            "marker": {
             "colorbar": {
              "outlinewidth": 0,
              "ticks": ""
             }
            },
            "type": "scatterpolargl"
           }
          ],
          "scatterternary": [
           {
            "marker": {
             "colorbar": {
              "outlinewidth": 0,
              "ticks": ""
             }
            },
            "type": "scatterternary"
           }
          ],
          "surface": [
           {
            "colorbar": {
             "outlinewidth": 0,
             "ticks": ""
            },
            "colorscale": [
             [
              0,
              "#0d0887"
             ],
             [
              0.1111111111111111,
              "#46039f"
             ],
             [
              0.2222222222222222,
              "#7201a8"
             ],
             [
              0.3333333333333333,
              "#9c179e"
             ],
             [
              0.4444444444444444,
              "#bd3786"
             ],
             [
              0.5555555555555556,
              "#d8576b"
             ],
             [
              0.6666666666666666,
              "#ed7953"
             ],
             [
              0.7777777777777778,
              "#fb9f3a"
             ],
             [
              0.8888888888888888,
              "#fdca26"
             ],
             [
              1,
              "#f0f921"
             ]
            ],
            "type": "surface"
           }
          ],
          "table": [
           {
            "cells": {
             "fill": {
              "color": "#EBF0F8"
             },
             "line": {
              "color": "white"
             }
            },
            "header": {
             "fill": {
              "color": "#C8D4E3"
             },
             "line": {
              "color": "white"
             }
            },
            "type": "table"
           }
          ]
         },
         "layout": {
          "annotationdefaults": {
           "arrowcolor": "#2a3f5f",
           "arrowhead": 0,
           "arrowwidth": 1
          },
          "coloraxis": {
           "colorbar": {
            "outlinewidth": 0,
            "ticks": ""
           }
          },
          "colorscale": {
           "diverging": [
            [
             0,
             "#8e0152"
            ],
            [
             0.1,
             "#c51b7d"
            ],
            [
             0.2,
             "#de77ae"
            ],
            [
             0.3,
             "#f1b6da"
            ],
            [
             0.4,
             "#fde0ef"
            ],
            [
             0.5,
             "#f7f7f7"
            ],
            [
             0.6,
             "#e6f5d0"
            ],
            [
             0.7,
             "#b8e186"
            ],
            [
             0.8,
             "#7fbc41"
            ],
            [
             0.9,
             "#4d9221"
            ],
            [
             1,
             "#276419"
            ]
           ],
           "sequential": [
            [
             0,
             "#0d0887"
            ],
            [
             0.1111111111111111,
             "#46039f"
            ],
            [
             0.2222222222222222,
             "#7201a8"
            ],
            [
             0.3333333333333333,
             "#9c179e"
            ],
            [
             0.4444444444444444,
             "#bd3786"
            ],
            [
             0.5555555555555556,
             "#d8576b"
            ],
            [
             0.6666666666666666,
             "#ed7953"
            ],
            [
             0.7777777777777778,
             "#fb9f3a"
            ],
            [
             0.8888888888888888,
             "#fdca26"
            ],
            [
             1,
             "#f0f921"
            ]
           ],
           "sequentialminus": [
            [
             0,
             "#0d0887"
            ],
            [
             0.1111111111111111,
             "#46039f"
            ],
            [
             0.2222222222222222,
             "#7201a8"
            ],
            [
             0.3333333333333333,
             "#9c179e"
            ],
            [
             0.4444444444444444,
             "#bd3786"
            ],
            [
             0.5555555555555556,
             "#d8576b"
            ],
            [
             0.6666666666666666,
             "#ed7953"
            ],
            [
             0.7777777777777778,
             "#fb9f3a"
            ],
            [
             0.8888888888888888,
             "#fdca26"
            ],
            [
             1,
             "#f0f921"
            ]
           ]
          },
          "colorway": [
           "#636efa",
           "#EF553B",
           "#00cc96",
           "#ab63fa",
           "#FFA15A",
           "#19d3f3",
           "#FF6692",
           "#B6E880",
           "#FF97FF",
           "#FECB52"
          ],
          "font": {
           "color": "#2a3f5f"
          },
          "geo": {
           "bgcolor": "white",
           "lakecolor": "white",
           "landcolor": "#E5ECF6",
           "showlakes": true,
           "showland": true,
           "subunitcolor": "white"
          },
          "hoverlabel": {
           "align": "left"
          },
          "hovermode": "closest",
          "mapbox": {
           "style": "light"
          },
          "paper_bgcolor": "white",
          "plot_bgcolor": "#E5ECF6",
          "polar": {
           "angularaxis": {
            "gridcolor": "white",
            "linecolor": "white",
            "ticks": ""
           },
           "bgcolor": "#E5ECF6",
           "radialaxis": {
            "gridcolor": "white",
            "linecolor": "white",
            "ticks": ""
           }
          },
          "scene": {
           "xaxis": {
            "backgroundcolor": "#E5ECF6",
            "gridcolor": "white",
            "gridwidth": 2,
            "linecolor": "white",
            "showbackground": true,
            "ticks": "",
            "zerolinecolor": "white"
           },
           "yaxis": {
            "backgroundcolor": "#E5ECF6",
            "gridcolor": "white",
            "gridwidth": 2,
            "linecolor": "white",
            "showbackground": true,
            "ticks": "",
            "zerolinecolor": "white"
           },
           "zaxis": {
            "backgroundcolor": "#E5ECF6",
            "gridcolor": "white",
            "gridwidth": 2,
            "linecolor": "white",
            "showbackground": true,
            "ticks": "",
            "zerolinecolor": "white"
           }
          },
          "shapedefaults": {
           "line": {
            "color": "#2a3f5f"
           }
          },
          "ternary": {
           "aaxis": {
            "gridcolor": "white",
            "linecolor": "white",
            "ticks": ""
           },
           "baxis": {
            "gridcolor": "white",
            "linecolor": "white",
            "ticks": ""
           },
           "bgcolor": "#E5ECF6",
           "caxis": {
            "gridcolor": "white",
            "linecolor": "white",
            "ticks": ""
           }
          },
          "title": {
           "x": 0.05
          },
          "xaxis": {
           "automargin": true,
           "gridcolor": "white",
           "linecolor": "white",
           "ticks": "",
           "title": {
            "standoff": 15
           },
           "zerolinecolor": "white",
           "zerolinewidth": 2
          },
          "yaxis": {
           "automargin": true,
           "gridcolor": "white",
           "linecolor": "white",
           "ticks": "",
           "title": {
            "standoff": 15
           },
           "zerolinecolor": "white",
           "zerolinewidth": 2
          }
         }
        },
        "title": {
         "font": {
          "color": "#4D5663"
         }
        },
        "xaxis": {
         "gridcolor": "#E1E5ED",
         "showgrid": true,
         "tickfont": {
          "color": "#4D5663"
         },
         "title": {
          "font": {
           "color": "#4D5663"
          },
          "text": ""
         },
         "zerolinecolor": "#E1E5ED"
        },
        "yaxis": {
         "gridcolor": "#E1E5ED",
         "showgrid": true,
         "tickfont": {
          "color": "#4D5663"
         },
         "title": {
          "font": {
           "color": "#4D5663"
          },
          "text": ""
         },
         "zerolinecolor": "#E1E5ED"
        }
       }
      },
      "text/html": [
       "<div>\n",
       "        \n",
       "        \n",
       "            <div id=\"d2869b0c-de8d-4b16-999e-f6f45614a876\" class=\"plotly-graph-div\" style=\"height:525px; width:100%;\"></div>\n",
       "            <script type=\"text/javascript\">\n",
       "                require([\"plotly\"], function(Plotly) {\n",
       "                    window.PLOTLYENV=window.PLOTLYENV || {};\n",
       "                    window.PLOTLYENV.BASE_URL='https://plot.ly';\n",
       "                    \n",
       "                if (document.getElementById(\"d2869b0c-de8d-4b16-999e-f6f45614a876\")) {\n",
       "                    Plotly.newPlot(\n",
       "                        'd2869b0c-de8d-4b16-999e-f6f45614a876',\n",
       "                        [{\"boxpoints\": false, \"line\": {\"width\": 1.3}, \"marker\": {\"color\": \"rgba(255, 153, 51, 1.0)\"}, \"name\": \"A\", \"orientation\": \"v\", \"type\": \"box\", \"y\": [-0.510356444121689, 0.7201652349415042, -0.7956381636543068, 1.0832809916868644, -0.30135332660046227, 0.42411030852509535, 0.42087262293982375, -0.3834038112338632, -0.7181067075740701, -1.689000975405711, -0.768211369533854, -1.4009016874638953, -0.4609104403187404, -0.3610062304045048, 0.6990611544761113, -0.4071983236663745, 0.9749451967310648, -1.5521567512284027, 2.582839819142019, -1.2608047270318732, 0.68742828657434, -0.46537119576917874, -0.48064110808268334, 0.28063181595730985, -1.0452623335682787, -0.40873364292488046, -1.3571367997941601, -0.6062375995071084, 1.4528109216456557, 0.07731559895151965, 0.3250397061151751, 1.201915142424794, -0.4504659375584174, 1.9668847821266044, -0.364303563666657, -0.13927146800064158, 0.57348161033347, 0.4947778974491402, 0.30569786829351947, 0.9201554242455009, -0.41523183381297085, -1.8330412839733048, -0.23619614972665107, -1.849963868494029, 0.5461760591197427, -0.9361134586802853, -0.4528434305920523, 0.2174161047715857, 1.0635059691233937, -0.9459523350502519, -0.13166220663639913, -0.6421618174142698, 0.3047712492940703, -0.26344777521625573, -0.45306380687736664, -0.9705865345061072, -0.12741882697516443, 1.0049752783819161, 0.4086707843416792, -0.4511413941730779, 0.5104243612824134, -0.7255566333311757, 0.5653467224854392, -0.16436532244841037, -0.1988484231344934, -0.7564557068257352, -0.18679418701106604, 0.007128162141137425, -0.04652926061840745, -1.2240766600558828, 0.2548364775874957, 0.36702432595644263, -1.8441953853505533, -0.24359038758120563, 1.3244683296413644, 0.61165695571586, 1.5230508996881755, 1.7353619398397855, 0.22402443540755565, 0.33895550763612925, 0.9223319365608782, 0.9159143574193307, 1.2997354894773798, -1.4147536326587344, -1.0248138567998835, -1.7541740527292868, -0.6575313266954175, -0.6207644107638655, -0.44464272561837265, -0.836691238296052, 1.7573684719199605, -2.9653482379895464, -1.146385550579236, 0.15786795073923038, 1.9837911867756637, -0.1286989891014074, 0.6788131762939952, -0.012808189565091749, -0.7578489572357708, 1.5590955815629608]}, {\"boxpoints\": false, \"line\": {\"width\": 1.3}, \"marker\": {\"color\": \"rgba(55, 128, 191, 1.0)\"}, \"name\": \"B\", \"orientation\": \"v\", \"type\": \"box\", \"y\": [0.4394113396115198, -1.3704879603341773, -0.894779683303476, -0.9091697423817736, -0.7870831654017293, 1.7078371717736396, -0.09852952274905818, -0.3301784910650832, 1.6268395224675645, 0.23779943709785142, 0.8320902681835906, -1.0395936765569966, -1.4627998759745036, -1.2905181379536943, -0.7458983776289884, 1.233386993912338, 0.49681475206133296, -0.512701542962839, 2.064920530388905, 1.1887225273511324, 0.9775910490656258, 0.07947257556784981, -0.7874279153056152, -1.1496283384200692, -1.4302366554682746, -1.5038040240345794, 0.2917872732984551, -1.1291913047146693, 0.381635713258072, 0.5782386470488836, 0.18723596532937337, -0.3932861774601221, 0.22451339799635048, -0.5639617603917293, 0.976796922647767, 1.3294058450552153, -0.014823934009534098, 0.33694456503364056, -1.7596659431646775, 0.18350148416556766, 2.1186952855091894, 1.8667466050294965, -0.837574209463975, 1.1115620238149284, 0.27441666631551975, -0.20989609089297878, -1.8147053413659966, 0.7869898004991409, -1.7841985376732745, -0.5238520144705975, 0.3812868303501749, 0.3137975708975645, 0.9968300457049288, 0.5824846983864099, -0.05913546961926126, -0.7790815336783042, -0.5034885037883023, 0.9896954982725973, -0.4787666015780376, 1.9011893896648642, -0.13028487404661762, -2.1424981055614447, -1.0766028098307068, -0.792137140883388, -1.2103592333561075, -1.4878660498301146, -0.43106169827739, -0.44901688012835594, 0.29737915922704417, -1.5005547897872924, -0.6906235587362654, 0.08165168312136552, 0.888112558194319, 0.2162961596844919, 0.3095124316406531, -2.357625950700372, -0.5851048603043837, 1.4090130212670697, -0.8972052639813642, 0.44154770227912477, 1.1769309603585676, 3.494886385021715, -0.34623819370067876, 0.49039904790159233, -1.4439627916263218, -0.23356971773044577, 1.946859888073679, 0.39682927408000496, 0.6947149347178614, 0.776205432439833, -1.6156658133534276, 0.8735942224395256, -0.027535065229056153, -0.008472192836710022, 0.1836800682078861, -0.4984619503467606, 1.705018893410389, -2.0132462510663918, 0.1437439755595477, 0.38606482996606656]}, {\"boxpoints\": false, \"line\": {\"width\": 1.3}, \"marker\": {\"color\": \"rgba(50, 171, 96, 1.0)\"}, \"name\": \"C\", \"orientation\": \"v\", \"type\": \"box\", \"y\": [1.7134607267878292, 0.01229513019344676, 1.1576379532319447, 1.3566370184988912, -0.2117756707686416, 1.5625121947895269, 0.5533442627161719, -1.0388020852135091, 1.3233843164523944, -1.3841321376720623, -1.601418147437713, -1.4804291986871527, 0.398123596774922, 0.6600816610987036, 0.4401119102974501, -0.8431254039393877, 0.2914057336952613, -0.4393007785107817, -0.04865772347014313, 1.1537261875287288, 0.9635555110319551, -0.5880336603132681, 0.39562638834526176, -0.15957211910382443, 1.0254047780711937, 0.12423342512452254, 0.0437126925431905, 0.8995894615985114, 1.1260773239894168, -1.0240469410966868, -0.46796827766550575, 1.3438990552061132, 0.7083038644210866, -1.4301276155498046, -1.1787929121320906, 1.2589911130944365, -1.107663529376245, -0.34454418220057675, 1.1800182427566668, 0.6621456810599124, 0.9332278668943851, 1.0437030244588577, 1.1589775156621946, -1.286641464870168, 0.09592486742623252, -0.060169757044287585, -0.42631472192425107, 0.05509445430998456, 0.5838635059871827, -1.0117104904794283, -0.36333960758699724, -0.6042376837704702, 0.46754062186437567, 0.5434090188257058, 0.864369979455845, -0.03379664750232179, -1.8037781405146458, 1.6759719250546596, -0.04334468392284036, -0.639674969010019, -1.1978450422539484, 0.44647289296402143, 0.2934078819402944, 0.16864785141964597, -0.03899654640077746, 0.2797233408514478, 0.9706769301218381, 0.3053152936395522, 0.3488898255315582, -0.3695518224748706, 1.238513300269592, 1.1105842613534929, -0.45241838137786267, 0.0061385544732930255, -1.519598989469329, 1.5021261970541342, 0.9379164174518302, -0.044109473046359864, 1.0675633476248816, -1.6088697204823577, -1.2116805484645659, 2.2143799486399542, -0.638817358171448, 1.0689578074338253, 0.31208077022181774, -0.7155400847678097, 0.4654737522814809, -0.5612860156322768, -0.29481862276324833, 0.4485246590538842, 0.4536017204861066, 0.3811734827980065, 0.05859924533815346, -1.0184769474724664, 0.39167521632673225, -0.8459166933123231, 0.9603389026740023, -0.08939291758784702, -1.3339894824288652, 0.6489534233801592]}, {\"boxpoints\": false, \"line\": {\"width\": 1.3}, \"marker\": {\"color\": \"rgba(128, 0, 128, 1.0)\"}, \"name\": \"D\", \"orientation\": \"v\", \"type\": \"box\", \"y\": [-0.6494312813489145, 0.5196054801095733, 0.0828488001042145, 0.4249812754840084, 0.5729293370994376, 0.9292731412356393, -0.3416471965687598, -0.8792390472325408, -0.2537255764371739, 0.446260129769695, 2.6514949387993703, 0.26287820592109423, 0.9307105379918522, -0.11002087128670265, -0.3894678170928814, -1.2056699291126767, -0.33982778539946473, -0.5881542236293539, 0.38293030573445497, -0.2971978399749488, 1.3547218372705987, -2.4779811779546486, -0.39059599846259063, 0.21667583702807452, -0.5803490910115267, 0.25546806790574383, -0.30223300479977305, 1.2604364945297997, -1.156888967018702, -0.021516118040357916, -0.6722009918032484, -1.6297981653637084, 1.0722741218800351, -0.17793982314165274, -0.2870437190408764, -0.7447344530324086, -1.8866491407895452, 0.48239707899094636, -0.9315051451227777, 0.7398734905309798, -0.4072464898723833, -1.8297211898989034, -1.2091335318863878, -0.47405824350178866, 0.3317790547794101, -0.7335094760607728, -0.06069935848235784, 0.2149359131378458, -1.2772687572661934, -0.6707945711837375, -1.8454602155509663, 1.3742821834136227, -0.6849319114740683, 0.20962107268154645, 0.8739647403395655, -0.0648512961866547, 0.10916666355129223, 0.7742130365257172, -0.6202121031517325, -2.027047349242399, -0.8537322497487592, 0.10466128223410277, -0.9537032798117839, -0.2106665962593506, -0.9684766400297471, -0.6579892171523315, -0.7787375038637451, -0.9247492346307117, -0.9338954872947596, 0.23386795010542535, -0.26925504094370395, 0.8019489697881516, 0.49658912032148483, 1.065966241426964, 0.3139004072052315, 0.8198729194069315, -0.15747464396416938, -1.4172739578471354, -2.0091660542923626, 0.18288638841393226, 0.9834100356019922, -0.3583663367860736, 0.40689607852516135, -1.8183389932144993, 0.9905748041579666, -0.13734448106333003, -0.7742743589471643, -0.5248974994430586, -0.04727700329103183, 0.09700939432349272, 0.30365089281729596, 1.5038805885998434, 1.146636147027629, 1.129211795513414, -0.09137973751845033, -1.8140911181141097, -0.0855074483344991, 0.10415479262056486, 1.9701469206422444, -1.2796223948212122]}],\n",
       "                        {\"legend\": {\"bgcolor\": \"#F5F6F9\", \"font\": {\"color\": \"#4D5663\"}}, \"paper_bgcolor\": \"#F5F6F9\", \"plot_bgcolor\": \"#F5F6F9\", \"template\": {\"data\": {\"bar\": [{\"error_x\": {\"color\": \"#2a3f5f\"}, \"error_y\": {\"color\": \"#2a3f5f\"}, \"marker\": {\"line\": {\"color\": \"#E5ECF6\", \"width\": 0.5}}, \"type\": \"bar\"}], \"barpolar\": [{\"marker\": {\"line\": {\"color\": \"#E5ECF6\", \"width\": 0.5}}, \"type\": \"barpolar\"}], \"carpet\": [{\"aaxis\": {\"endlinecolor\": \"#2a3f5f\", \"gridcolor\": \"white\", \"linecolor\": \"white\", \"minorgridcolor\": \"white\", \"startlinecolor\": \"#2a3f5f\"}, \"baxis\": {\"endlinecolor\": \"#2a3f5f\", \"gridcolor\": \"white\", \"linecolor\": \"white\", \"minorgridcolor\": \"white\", \"startlinecolor\": \"#2a3f5f\"}, \"type\": \"carpet\"}], \"choropleth\": [{\"colorbar\": {\"outlinewidth\": 0, \"ticks\": \"\"}, \"type\": \"choropleth\"}], \"contour\": [{\"colorbar\": {\"outlinewidth\": 0, \"ticks\": \"\"}, \"colorscale\": [[0.0, \"#0d0887\"], [0.1111111111111111, \"#46039f\"], [0.2222222222222222, \"#7201a8\"], [0.3333333333333333, \"#9c179e\"], [0.4444444444444444, \"#bd3786\"], [0.5555555555555556, \"#d8576b\"], [0.6666666666666666, \"#ed7953\"], [0.7777777777777778, \"#fb9f3a\"], [0.8888888888888888, \"#fdca26\"], [1.0, \"#f0f921\"]], \"type\": \"contour\"}], \"contourcarpet\": [{\"colorbar\": {\"outlinewidth\": 0, \"ticks\": \"\"}, \"type\": \"contourcarpet\"}], \"heatmap\": [{\"colorbar\": {\"outlinewidth\": 0, \"ticks\": \"\"}, \"colorscale\": [[0.0, \"#0d0887\"], [0.1111111111111111, \"#46039f\"], [0.2222222222222222, \"#7201a8\"], [0.3333333333333333, \"#9c179e\"], [0.4444444444444444, \"#bd3786\"], [0.5555555555555556, \"#d8576b\"], [0.6666666666666666, \"#ed7953\"], [0.7777777777777778, \"#fb9f3a\"], [0.8888888888888888, \"#fdca26\"], [1.0, \"#f0f921\"]], \"type\": \"heatmap\"}], \"heatmapgl\": [{\"colorbar\": {\"outlinewidth\": 0, \"ticks\": \"\"}, \"colorscale\": [[0.0, \"#0d0887\"], [0.1111111111111111, \"#46039f\"], [0.2222222222222222, \"#7201a8\"], [0.3333333333333333, \"#9c179e\"], [0.4444444444444444, \"#bd3786\"], [0.5555555555555556, \"#d8576b\"], [0.6666666666666666, \"#ed7953\"], [0.7777777777777778, \"#fb9f3a\"], [0.8888888888888888, \"#fdca26\"], [1.0, \"#f0f921\"]], \"type\": \"heatmapgl\"}], \"histogram\": [{\"marker\": {\"colorbar\": {\"outlinewidth\": 0, \"ticks\": \"\"}}, \"type\": \"histogram\"}], \"histogram2d\": [{\"colorbar\": {\"outlinewidth\": 0, \"ticks\": \"\"}, \"colorscale\": [[0.0, \"#0d0887\"], [0.1111111111111111, \"#46039f\"], [0.2222222222222222, \"#7201a8\"], [0.3333333333333333, \"#9c179e\"], [0.4444444444444444, \"#bd3786\"], [0.5555555555555556, \"#d8576b\"], [0.6666666666666666, \"#ed7953\"], [0.7777777777777778, \"#fb9f3a\"], [0.8888888888888888, \"#fdca26\"], [1.0, \"#f0f921\"]], \"type\": \"histogram2d\"}], \"histogram2dcontour\": [{\"colorbar\": {\"outlinewidth\": 0, \"ticks\": \"\"}, \"colorscale\": [[0.0, \"#0d0887\"], [0.1111111111111111, \"#46039f\"], [0.2222222222222222, \"#7201a8\"], [0.3333333333333333, \"#9c179e\"], [0.4444444444444444, \"#bd3786\"], [0.5555555555555556, \"#d8576b\"], [0.6666666666666666, \"#ed7953\"], [0.7777777777777778, \"#fb9f3a\"], [0.8888888888888888, \"#fdca26\"], [1.0, \"#f0f921\"]], \"type\": \"histogram2dcontour\"}], \"mesh3d\": [{\"colorbar\": {\"outlinewidth\": 0, \"ticks\": \"\"}, \"type\": \"mesh3d\"}], \"parcoords\": [{\"line\": {\"colorbar\": {\"outlinewidth\": 0, \"ticks\": \"\"}}, \"type\": \"parcoords\"}], \"pie\": [{\"automargin\": true, \"type\": \"pie\"}], \"scatter\": [{\"marker\": {\"colorbar\": {\"outlinewidth\": 0, \"ticks\": \"\"}}, \"type\": \"scatter\"}], \"scatter3d\": [{\"line\": {\"colorbar\": {\"outlinewidth\": 0, \"ticks\": \"\"}}, \"marker\": {\"colorbar\": {\"outlinewidth\": 0, \"ticks\": \"\"}}, \"type\": \"scatter3d\"}], \"scattercarpet\": [{\"marker\": {\"colorbar\": {\"outlinewidth\": 0, \"ticks\": \"\"}}, \"type\": \"scattercarpet\"}], \"scattergeo\": [{\"marker\": {\"colorbar\": {\"outlinewidth\": 0, \"ticks\": \"\"}}, \"type\": \"scattergeo\"}], \"scattergl\": [{\"marker\": {\"colorbar\": {\"outlinewidth\": 0, \"ticks\": \"\"}}, \"type\": \"scattergl\"}], \"scattermapbox\": [{\"marker\": {\"colorbar\": {\"outlinewidth\": 0, \"ticks\": \"\"}}, \"type\": \"scattermapbox\"}], \"scatterpolar\": [{\"marker\": {\"colorbar\": {\"outlinewidth\": 0, \"ticks\": \"\"}}, \"type\": \"scatterpolar\"}], \"scatterpolargl\": [{\"marker\": {\"colorbar\": {\"outlinewidth\": 0, \"ticks\": \"\"}}, \"type\": \"scatterpolargl\"}], \"scatterternary\": [{\"marker\": {\"colorbar\": {\"outlinewidth\": 0, \"ticks\": \"\"}}, \"type\": \"scatterternary\"}], \"surface\": [{\"colorbar\": {\"outlinewidth\": 0, \"ticks\": \"\"}, \"colorscale\": [[0.0, \"#0d0887\"], [0.1111111111111111, \"#46039f\"], [0.2222222222222222, \"#7201a8\"], [0.3333333333333333, \"#9c179e\"], [0.4444444444444444, \"#bd3786\"], [0.5555555555555556, \"#d8576b\"], [0.6666666666666666, \"#ed7953\"], [0.7777777777777778, \"#fb9f3a\"], [0.8888888888888888, \"#fdca26\"], [1.0, \"#f0f921\"]], \"type\": \"surface\"}], \"table\": [{\"cells\": {\"fill\": {\"color\": \"#EBF0F8\"}, \"line\": {\"color\": \"white\"}}, \"header\": {\"fill\": {\"color\": \"#C8D4E3\"}, \"line\": {\"color\": \"white\"}}, \"type\": \"table\"}]}, \"layout\": {\"annotationdefaults\": {\"arrowcolor\": \"#2a3f5f\", \"arrowhead\": 0, \"arrowwidth\": 1}, \"coloraxis\": {\"colorbar\": {\"outlinewidth\": 0, \"ticks\": \"\"}}, \"colorscale\": {\"diverging\": [[0, \"#8e0152\"], [0.1, \"#c51b7d\"], [0.2, \"#de77ae\"], [0.3, \"#f1b6da\"], [0.4, \"#fde0ef\"], [0.5, \"#f7f7f7\"], [0.6, \"#e6f5d0\"], [0.7, \"#b8e186\"], [0.8, \"#7fbc41\"], [0.9, \"#4d9221\"], [1, \"#276419\"]], \"sequential\": [[0.0, \"#0d0887\"], [0.1111111111111111, \"#46039f\"], [0.2222222222222222, \"#7201a8\"], [0.3333333333333333, \"#9c179e\"], [0.4444444444444444, \"#bd3786\"], [0.5555555555555556, \"#d8576b\"], [0.6666666666666666, \"#ed7953\"], [0.7777777777777778, \"#fb9f3a\"], [0.8888888888888888, \"#fdca26\"], [1.0, \"#f0f921\"]], \"sequentialminus\": [[0.0, \"#0d0887\"], [0.1111111111111111, \"#46039f\"], [0.2222222222222222, \"#7201a8\"], [0.3333333333333333, \"#9c179e\"], [0.4444444444444444, \"#bd3786\"], [0.5555555555555556, \"#d8576b\"], [0.6666666666666666, \"#ed7953\"], [0.7777777777777778, \"#fb9f3a\"], [0.8888888888888888, \"#fdca26\"], [1.0, \"#f0f921\"]]}, \"colorway\": [\"#636efa\", \"#EF553B\", \"#00cc96\", \"#ab63fa\", \"#FFA15A\", \"#19d3f3\", \"#FF6692\", \"#B6E880\", \"#FF97FF\", \"#FECB52\"], \"font\": {\"color\": \"#2a3f5f\"}, \"geo\": {\"bgcolor\": \"white\", \"lakecolor\": \"white\", \"landcolor\": \"#E5ECF6\", \"showlakes\": true, \"showland\": true, \"subunitcolor\": \"white\"}, \"hoverlabel\": {\"align\": \"left\"}, \"hovermode\": \"closest\", \"mapbox\": {\"style\": \"light\"}, \"paper_bgcolor\": \"white\", \"plot_bgcolor\": \"#E5ECF6\", \"polar\": {\"angularaxis\": {\"gridcolor\": \"white\", \"linecolor\": \"white\", \"ticks\": \"\"}, \"bgcolor\": \"#E5ECF6\", \"radialaxis\": {\"gridcolor\": \"white\", \"linecolor\": \"white\", \"ticks\": \"\"}}, \"scene\": {\"xaxis\": {\"backgroundcolor\": \"#E5ECF6\", \"gridcolor\": \"white\", \"gridwidth\": 2, \"linecolor\": \"white\", \"showbackground\": true, \"ticks\": \"\", \"zerolinecolor\": \"white\"}, \"yaxis\": {\"backgroundcolor\": \"#E5ECF6\", \"gridcolor\": \"white\", \"gridwidth\": 2, \"linecolor\": \"white\", \"showbackground\": true, \"ticks\": \"\", \"zerolinecolor\": \"white\"}, \"zaxis\": {\"backgroundcolor\": \"#E5ECF6\", \"gridcolor\": \"white\", \"gridwidth\": 2, \"linecolor\": \"white\", \"showbackground\": true, \"ticks\": \"\", \"zerolinecolor\": \"white\"}}, \"shapedefaults\": {\"line\": {\"color\": \"#2a3f5f\"}}, \"ternary\": {\"aaxis\": {\"gridcolor\": \"white\", \"linecolor\": \"white\", \"ticks\": \"\"}, \"baxis\": {\"gridcolor\": \"white\", \"linecolor\": \"white\", \"ticks\": \"\"}, \"bgcolor\": \"#E5ECF6\", \"caxis\": {\"gridcolor\": \"white\", \"linecolor\": \"white\", \"ticks\": \"\"}}, \"title\": {\"x\": 0.05}, \"xaxis\": {\"automargin\": true, \"gridcolor\": \"white\", \"linecolor\": \"white\", \"ticks\": \"\", \"title\": {\"standoff\": 15}, \"zerolinecolor\": \"white\", \"zerolinewidth\": 2}, \"yaxis\": {\"automargin\": true, \"gridcolor\": \"white\", \"linecolor\": \"white\", \"ticks\": \"\", \"title\": {\"standoff\": 15}, \"zerolinecolor\": \"white\", \"zerolinewidth\": 2}}}, \"title\": {\"font\": {\"color\": \"#4D5663\"}}, \"xaxis\": {\"gridcolor\": \"#E1E5ED\", \"showgrid\": true, \"tickfont\": {\"color\": \"#4D5663\"}, \"title\": {\"font\": {\"color\": \"#4D5663\"}, \"text\": \"\"}, \"zerolinecolor\": \"#E1E5ED\"}, \"yaxis\": {\"gridcolor\": \"#E1E5ED\", \"showgrid\": true, \"tickfont\": {\"color\": \"#4D5663\"}, \"title\": {\"font\": {\"color\": \"#4D5663\"}, \"text\": \"\"}, \"zerolinecolor\": \"#E1E5ED\"}},\n",
       "                        {\"showLink\": true, \"linkText\": \"Export to plot.ly\", \"plotlyServerURL\": \"https://plot.ly\", \"responsive\": true}\n",
       "                    ).then(function(){\n",
       "                            \n",
       "var gd = document.getElementById('d2869b0c-de8d-4b16-999e-f6f45614a876');\n",
       "var x = new MutationObserver(function (mutations, observer) {{\n",
       "        var display = window.getComputedStyle(gd).display;\n",
       "        if (!display || display === 'none') {{\n",
       "            console.log([gd, 'removed!']);\n",
       "            Plotly.purge(gd);\n",
       "            observer.disconnect();\n",
       "        }}\n",
       "}});\n",
       "\n",
       "// Listen for the removal of the full notebook cells\n",
       "var notebookContainer = gd.closest('#notebook-container');\n",
       "if (notebookContainer) {{\n",
       "    x.observe(notebookContainer, {childList: true});\n",
       "}}\n",
       "\n",
       "// Listen for the clearing of the current output cell\n",
       "var outputEl = gd.closest('.output');\n",
       "if (outputEl) {{\n",
       "    x.observe(outputEl, {childList: true});\n",
       "}}\n",
       "\n",
       "                        })\n",
       "                };\n",
       "                });\n",
       "            </script>\n",
       "        </div>"
      ]
     },
     "metadata": {},
     "output_type": "display_data"
    }
   ],
   "source": [
    "df.iplot(kind='box')"
   ]
  },
  {
   "cell_type": "markdown",
   "metadata": {},
   "source": [
    "## 3d Surface"
   ]
  },
  {
   "cell_type": "code",
   "execution_count": 16,
   "metadata": {},
   "outputs": [
    {
     "data": {
      "application/vnd.plotly.v1+json": {
       "config": {
        "linkText": "Export to plot.ly",
        "plotlyServerURL": "https://plot.ly",
        "showLink": true
       },
       "data": [
        {
         "colorscale": [
          [
           0,
           "rgb(165,0,38)"
          ],
          [
           0.1,
           "rgb(215,48,39)"
          ],
          [
           0.2,
           "rgb(244,109,67)"
          ],
          [
           0.3,
           "rgb(253,174,97)"
          ],
          [
           0.4,
           "rgb(254,224,144)"
          ],
          [
           0.5,
           "rgb(255,255,191)"
          ],
          [
           0.6,
           "rgb(224,243,248)"
          ],
          [
           0.7,
           "rgb(171,217,233)"
          ],
          [
           0.8,
           "rgb(116,173,209)"
          ],
          [
           0.9,
           "rgb(69,117,180)"
          ],
          [
           1,
           "rgb(49,54,149)"
          ]
         ],
         "type": "surface",
         "x": [
          0,
          1,
          2,
          3,
          4
         ],
         "y": [
          "x",
          "y",
          "z"
         ],
         "z": [
          [
           1,
           2,
           3,
           4,
           5
          ],
          [
           10,
           20,
           30,
           20,
           10
          ],
          [
           5,
           4,
           3,
           2,
           1
          ]
         ]
        }
       ],
       "layout": {
        "legend": {
         "bgcolor": "#F5F6F9",
         "font": {
          "color": "#4D5663"
         }
        },
        "paper_bgcolor": "#F5F6F9",
        "plot_bgcolor": "#F5F6F9",
        "template": {
         "data": {
          "bar": [
           {
            "error_x": {
             "color": "#2a3f5f"
            },
            "error_y": {
             "color": "#2a3f5f"
            },
            "marker": {
             "line": {
              "color": "#E5ECF6",
              "width": 0.5
             }
            },
            "type": "bar"
           }
          ],
          "barpolar": [
           {
            "marker": {
             "line": {
              "color": "#E5ECF6",
              "width": 0.5
             }
            },
            "type": "barpolar"
           }
          ],
          "carpet": [
           {
            "aaxis": {
             "endlinecolor": "#2a3f5f",
             "gridcolor": "white",
             "linecolor": "white",
             "minorgridcolor": "white",
             "startlinecolor": "#2a3f5f"
            },
            "baxis": {
             "endlinecolor": "#2a3f5f",
             "gridcolor": "white",
             "linecolor": "white",
             "minorgridcolor": "white",
             "startlinecolor": "#2a3f5f"
            },
            "type": "carpet"
           }
          ],
          "choropleth": [
           {
            "colorbar": {
             "outlinewidth": 0,
             "ticks": ""
            },
            "type": "choropleth"
           }
          ],
          "contour": [
           {
            "colorbar": {
             "outlinewidth": 0,
             "ticks": ""
            },
            "colorscale": [
             [
              0,
              "#0d0887"
             ],
             [
              0.1111111111111111,
              "#46039f"
             ],
             [
              0.2222222222222222,
              "#7201a8"
             ],
             [
              0.3333333333333333,
              "#9c179e"
             ],
             [
              0.4444444444444444,
              "#bd3786"
             ],
             [
              0.5555555555555556,
              "#d8576b"
             ],
             [
              0.6666666666666666,
              "#ed7953"
             ],
             [
              0.7777777777777778,
              "#fb9f3a"
             ],
             [
              0.8888888888888888,
              "#fdca26"
             ],
             [
              1,
              "#f0f921"
             ]
            ],
            "type": "contour"
           }
          ],
          "contourcarpet": [
           {
            "colorbar": {
             "outlinewidth": 0,
             "ticks": ""
            },
            "type": "contourcarpet"
           }
          ],
          "heatmap": [
           {
            "colorbar": {
             "outlinewidth": 0,
             "ticks": ""
            },
            "colorscale": [
             [
              0,
              "#0d0887"
             ],
             [
              0.1111111111111111,
              "#46039f"
             ],
             [
              0.2222222222222222,
              "#7201a8"
             ],
             [
              0.3333333333333333,
              "#9c179e"
             ],
             [
              0.4444444444444444,
              "#bd3786"
             ],
             [
              0.5555555555555556,
              "#d8576b"
             ],
             [
              0.6666666666666666,
              "#ed7953"
             ],
             [
              0.7777777777777778,
              "#fb9f3a"
             ],
             [
              0.8888888888888888,
              "#fdca26"
             ],
             [
              1,
              "#f0f921"
             ]
            ],
            "type": "heatmap"
           }
          ],
          "heatmapgl": [
           {
            "colorbar": {
             "outlinewidth": 0,
             "ticks": ""
            },
            "colorscale": [
             [
              0,
              "#0d0887"
             ],
             [
              0.1111111111111111,
              "#46039f"
             ],
             [
              0.2222222222222222,
              "#7201a8"
             ],
             [
              0.3333333333333333,
              "#9c179e"
             ],
             [
              0.4444444444444444,
              "#bd3786"
             ],
             [
              0.5555555555555556,
              "#d8576b"
             ],
             [
              0.6666666666666666,
              "#ed7953"
             ],
             [
              0.7777777777777778,
              "#fb9f3a"
             ],
             [
              0.8888888888888888,
              "#fdca26"
             ],
             [
              1,
              "#f0f921"
             ]
            ],
            "type": "heatmapgl"
           }
          ],
          "histogram": [
           {
            "marker": {
             "colorbar": {
              "outlinewidth": 0,
              "ticks": ""
             }
            },
            "type": "histogram"
           }
          ],
          "histogram2d": [
           {
            "colorbar": {
             "outlinewidth": 0,
             "ticks": ""
            },
            "colorscale": [
             [
              0,
              "#0d0887"
             ],
             [
              0.1111111111111111,
              "#46039f"
             ],
             [
              0.2222222222222222,
              "#7201a8"
             ],
             [
              0.3333333333333333,
              "#9c179e"
             ],
             [
              0.4444444444444444,
              "#bd3786"
             ],
             [
              0.5555555555555556,
              "#d8576b"
             ],
             [
              0.6666666666666666,
              "#ed7953"
             ],
             [
              0.7777777777777778,
              "#fb9f3a"
             ],
             [
              0.8888888888888888,
              "#fdca26"
             ],
             [
              1,
              "#f0f921"
             ]
            ],
            "type": "histogram2d"
           }
          ],
          "histogram2dcontour": [
           {
            "colorbar": {
             "outlinewidth": 0,
             "ticks": ""
            },
            "colorscale": [
             [
              0,
              "#0d0887"
             ],
             [
              0.1111111111111111,
              "#46039f"
             ],
             [
              0.2222222222222222,
              "#7201a8"
             ],
             [
              0.3333333333333333,
              "#9c179e"
             ],
             [
              0.4444444444444444,
              "#bd3786"
             ],
             [
              0.5555555555555556,
              "#d8576b"
             ],
             [
              0.6666666666666666,
              "#ed7953"
             ],
             [
              0.7777777777777778,
              "#fb9f3a"
             ],
             [
              0.8888888888888888,
              "#fdca26"
             ],
             [
              1,
              "#f0f921"
             ]
            ],
            "type": "histogram2dcontour"
           }
          ],
          "mesh3d": [
           {
            "colorbar": {
             "outlinewidth": 0,
             "ticks": ""
            },
            "type": "mesh3d"
           }
          ],
          "parcoords": [
           {
            "line": {
             "colorbar": {
              "outlinewidth": 0,
              "ticks": ""
             }
            },
            "type": "parcoords"
           }
          ],
          "pie": [
           {
            "automargin": true,
            "type": "pie"
           }
          ],
          "scatter": [
           {
            "marker": {
             "colorbar": {
              "outlinewidth": 0,
              "ticks": ""
             }
            },
            "type": "scatter"
           }
          ],
          "scatter3d": [
           {
            "line": {
             "colorbar": {
              "outlinewidth": 0,
              "ticks": ""
             }
            },
            "marker": {
             "colorbar": {
              "outlinewidth": 0,
              "ticks": ""
             }
            },
            "type": "scatter3d"
           }
          ],
          "scattercarpet": [
           {
            "marker": {
             "colorbar": {
              "outlinewidth": 0,
              "ticks": ""
             }
            },
            "type": "scattercarpet"
           }
          ],
          "scattergeo": [
           {
            "marker": {
             "colorbar": {
              "outlinewidth": 0,
              "ticks": ""
             }
            },
            "type": "scattergeo"
           }
          ],
          "scattergl": [
           {
            "marker": {
             "colorbar": {
              "outlinewidth": 0,
              "ticks": ""
             }
            },
            "type": "scattergl"
           }
          ],
          "scattermapbox": [
           {
            "marker": {
             "colorbar": {
              "outlinewidth": 0,
              "ticks": ""
             }
            },
            "type": "scattermapbox"
           }
          ],
          "scatterpolar": [
           {
            "marker": {
             "colorbar": {
              "outlinewidth": 0,
              "ticks": ""
             }
            },
            "type": "scatterpolar"
           }
          ],
          "scatterpolargl": [
           {
            "marker": {
             "colorbar": {
              "outlinewidth": 0,
              "ticks": ""
             }
            },
            "type": "scatterpolargl"
           }
          ],
          "scatterternary": [
           {
            "marker": {
             "colorbar": {
              "outlinewidth": 0,
              "ticks": ""
             }
            },
            "type": "scatterternary"
           }
          ],
          "surface": [
           {
            "colorbar": {
             "outlinewidth": 0,
             "ticks": ""
            },
            "colorscale": [
             [
              0,
              "#0d0887"
             ],
             [
              0.1111111111111111,
              "#46039f"
             ],
             [
              0.2222222222222222,
              "#7201a8"
             ],
             [
              0.3333333333333333,
              "#9c179e"
             ],
             [
              0.4444444444444444,
              "#bd3786"
             ],
             [
              0.5555555555555556,
              "#d8576b"
             ],
             [
              0.6666666666666666,
              "#ed7953"
             ],
             [
              0.7777777777777778,
              "#fb9f3a"
             ],
             [
              0.8888888888888888,
              "#fdca26"
             ],
             [
              1,
              "#f0f921"
             ]
            ],
            "type": "surface"
           }
          ],
          "table": [
           {
            "cells": {
             "fill": {
              "color": "#EBF0F8"
             },
             "line": {
              "color": "white"
             }
            },
            "header": {
             "fill": {
              "color": "#C8D4E3"
             },
             "line": {
              "color": "white"
             }
            },
            "type": "table"
           }
          ]
         },
         "layout": {
          "annotationdefaults": {
           "arrowcolor": "#2a3f5f",
           "arrowhead": 0,
           "arrowwidth": 1
          },
          "coloraxis": {
           "colorbar": {
            "outlinewidth": 0,
            "ticks": ""
           }
          },
          "colorscale": {
           "diverging": [
            [
             0,
             "#8e0152"
            ],
            [
             0.1,
             "#c51b7d"
            ],
            [
             0.2,
             "#de77ae"
            ],
            [
             0.3,
             "#f1b6da"
            ],
            [
             0.4,
             "#fde0ef"
            ],
            [
             0.5,
             "#f7f7f7"
            ],
            [
             0.6,
             "#e6f5d0"
            ],
            [
             0.7,
             "#b8e186"
            ],
            [
             0.8,
             "#7fbc41"
            ],
            [
             0.9,
             "#4d9221"
            ],
            [
             1,
             "#276419"
            ]
           ],
           "sequential": [
            [
             0,
             "#0d0887"
            ],
            [
             0.1111111111111111,
             "#46039f"
            ],
            [
             0.2222222222222222,
             "#7201a8"
            ],
            [
             0.3333333333333333,
             "#9c179e"
            ],
            [
             0.4444444444444444,
             "#bd3786"
            ],
            [
             0.5555555555555556,
             "#d8576b"
            ],
            [
             0.6666666666666666,
             "#ed7953"
            ],
            [
             0.7777777777777778,
             "#fb9f3a"
            ],
            [
             0.8888888888888888,
             "#fdca26"
            ],
            [
             1,
             "#f0f921"
            ]
           ],
           "sequentialminus": [
            [
             0,
             "#0d0887"
            ],
            [
             0.1111111111111111,
             "#46039f"
            ],
            [
             0.2222222222222222,
             "#7201a8"
            ],
            [
             0.3333333333333333,
             "#9c179e"
            ],
            [
             0.4444444444444444,
             "#bd3786"
            ],
            [
             0.5555555555555556,
             "#d8576b"
            ],
            [
             0.6666666666666666,
             "#ed7953"
            ],
            [
             0.7777777777777778,
             "#fb9f3a"
            ],
            [
             0.8888888888888888,
             "#fdca26"
            ],
            [
             1,
             "#f0f921"
            ]
           ]
          },
          "colorway": [
           "#636efa",
           "#EF553B",
           "#00cc96",
           "#ab63fa",
           "#FFA15A",
           "#19d3f3",
           "#FF6692",
           "#B6E880",
           "#FF97FF",
           "#FECB52"
          ],
          "font": {
           "color": "#2a3f5f"
          },
          "geo": {
           "bgcolor": "white",
           "lakecolor": "white",
           "landcolor": "#E5ECF6",
           "showlakes": true,
           "showland": true,
           "subunitcolor": "white"
          },
          "hoverlabel": {
           "align": "left"
          },
          "hovermode": "closest",
          "mapbox": {
           "style": "light"
          },
          "paper_bgcolor": "white",
          "plot_bgcolor": "#E5ECF6",
          "polar": {
           "angularaxis": {
            "gridcolor": "white",
            "linecolor": "white",
            "ticks": ""
           },
           "bgcolor": "#E5ECF6",
           "radialaxis": {
            "gridcolor": "white",
            "linecolor": "white",
            "ticks": ""
           }
          },
          "scene": {
           "xaxis": {
            "backgroundcolor": "#E5ECF6",
            "gridcolor": "white",
            "gridwidth": 2,
            "linecolor": "white",
            "showbackground": true,
            "ticks": "",
            "zerolinecolor": "white"
           },
           "yaxis": {
            "backgroundcolor": "#E5ECF6",
            "gridcolor": "white",
            "gridwidth": 2,
            "linecolor": "white",
            "showbackground": true,
            "ticks": "",
            "zerolinecolor": "white"
           },
           "zaxis": {
            "backgroundcolor": "#E5ECF6",
            "gridcolor": "white",
            "gridwidth": 2,
            "linecolor": "white",
            "showbackground": true,
            "ticks": "",
            "zerolinecolor": "white"
           }
          },
          "shapedefaults": {
           "line": {
            "color": "#2a3f5f"
           }
          },
          "ternary": {
           "aaxis": {
            "gridcolor": "white",
            "linecolor": "white",
            "ticks": ""
           },
           "baxis": {
            "gridcolor": "white",
            "linecolor": "white",
            "ticks": ""
           },
           "bgcolor": "#E5ECF6",
           "caxis": {
            "gridcolor": "white",
            "linecolor": "white",
            "ticks": ""
           }
          },
          "title": {
           "x": 0.05
          },
          "xaxis": {
           "automargin": true,
           "gridcolor": "white",
           "linecolor": "white",
           "ticks": "",
           "title": {
            "standoff": 15
           },
           "zerolinecolor": "white",
           "zerolinewidth": 2
          },
          "yaxis": {
           "automargin": true,
           "gridcolor": "white",
           "linecolor": "white",
           "ticks": "",
           "title": {
            "standoff": 15
           },
           "zerolinecolor": "white",
           "zerolinewidth": 2
          }
         }
        },
        "title": {
         "font": {
          "color": "#4D5663"
         }
        },
        "xaxis": {
         "gridcolor": "#E1E5ED",
         "showgrid": true,
         "tickfont": {
          "color": "#4D5663"
         },
         "title": {
          "font": {
           "color": "#4D5663"
          },
          "text": ""
         },
         "zerolinecolor": "#E1E5ED"
        },
        "yaxis": {
         "gridcolor": "#E1E5ED",
         "showgrid": true,
         "tickfont": {
          "color": "#4D5663"
         },
         "title": {
          "font": {
           "color": "#4D5663"
          },
          "text": ""
         },
         "zerolinecolor": "#E1E5ED"
        }
       }
      },
      "text/html": [
       "<div>\n",
       "        \n",
       "        \n",
       "            <div id=\"4cf503fa-cf5c-4fb1-807f-42f1230287a9\" class=\"plotly-graph-div\" style=\"height:525px; width:100%;\"></div>\n",
       "            <script type=\"text/javascript\">\n",
       "                require([\"plotly\"], function(Plotly) {\n",
       "                    window.PLOTLYENV=window.PLOTLYENV || {};\n",
       "                    window.PLOTLYENV.BASE_URL='https://plot.ly';\n",
       "                    \n",
       "                if (document.getElementById(\"4cf503fa-cf5c-4fb1-807f-42f1230287a9\")) {\n",
       "                    Plotly.newPlot(\n",
       "                        '4cf503fa-cf5c-4fb1-807f-42f1230287a9',\n",
       "                        [{\"colorscale\": [[0.0, \"rgb(165,0,38)\"], [0.1, \"rgb(215,48,39)\"], [0.2, \"rgb(244,109,67)\"], [0.3, \"rgb(253,174,97)\"], [0.4, \"rgb(254,224,144)\"], [0.5, \"rgb(255,255,191)\"], [0.6, \"rgb(224,243,248)\"], [0.7, \"rgb(171,217,233)\"], [0.8, \"rgb(116,173,209)\"], [0.9, \"rgb(69,117,180)\"], [1.0, \"rgb(49,54,149)\"]], \"type\": \"surface\", \"x\": [0, 1, 2, 3, 4], \"y\": [\"x\", \"y\", \"z\"], \"z\": [[1, 2, 3, 4, 5], [10, 20, 30, 20, 10], [5, 4, 3, 2, 1]]}],\n",
       "                        {\"legend\": {\"bgcolor\": \"#F5F6F9\", \"font\": {\"color\": \"#4D5663\"}}, \"paper_bgcolor\": \"#F5F6F9\", \"plot_bgcolor\": \"#F5F6F9\", \"template\": {\"data\": {\"bar\": [{\"error_x\": {\"color\": \"#2a3f5f\"}, \"error_y\": {\"color\": \"#2a3f5f\"}, \"marker\": {\"line\": {\"color\": \"#E5ECF6\", \"width\": 0.5}}, \"type\": \"bar\"}], \"barpolar\": [{\"marker\": {\"line\": {\"color\": \"#E5ECF6\", \"width\": 0.5}}, \"type\": \"barpolar\"}], \"carpet\": [{\"aaxis\": {\"endlinecolor\": \"#2a3f5f\", \"gridcolor\": \"white\", \"linecolor\": \"white\", \"minorgridcolor\": \"white\", \"startlinecolor\": \"#2a3f5f\"}, \"baxis\": {\"endlinecolor\": \"#2a3f5f\", \"gridcolor\": \"white\", \"linecolor\": \"white\", \"minorgridcolor\": \"white\", \"startlinecolor\": \"#2a3f5f\"}, \"type\": \"carpet\"}], \"choropleth\": [{\"colorbar\": {\"outlinewidth\": 0, \"ticks\": \"\"}, \"type\": \"choropleth\"}], \"contour\": [{\"colorbar\": {\"outlinewidth\": 0, \"ticks\": \"\"}, \"colorscale\": [[0.0, \"#0d0887\"], [0.1111111111111111, \"#46039f\"], [0.2222222222222222, \"#7201a8\"], [0.3333333333333333, \"#9c179e\"], [0.4444444444444444, \"#bd3786\"], [0.5555555555555556, \"#d8576b\"], [0.6666666666666666, \"#ed7953\"], [0.7777777777777778, \"#fb9f3a\"], [0.8888888888888888, \"#fdca26\"], [1.0, \"#f0f921\"]], \"type\": \"contour\"}], \"contourcarpet\": [{\"colorbar\": {\"outlinewidth\": 0, \"ticks\": \"\"}, \"type\": \"contourcarpet\"}], \"heatmap\": [{\"colorbar\": {\"outlinewidth\": 0, \"ticks\": \"\"}, \"colorscale\": [[0.0, \"#0d0887\"], [0.1111111111111111, \"#46039f\"], [0.2222222222222222, \"#7201a8\"], [0.3333333333333333, \"#9c179e\"], [0.4444444444444444, \"#bd3786\"], [0.5555555555555556, \"#d8576b\"], [0.6666666666666666, \"#ed7953\"], [0.7777777777777778, \"#fb9f3a\"], [0.8888888888888888, \"#fdca26\"], [1.0, \"#f0f921\"]], \"type\": \"heatmap\"}], \"heatmapgl\": [{\"colorbar\": {\"outlinewidth\": 0, \"ticks\": \"\"}, \"colorscale\": [[0.0, \"#0d0887\"], [0.1111111111111111, \"#46039f\"], [0.2222222222222222, \"#7201a8\"], [0.3333333333333333, \"#9c179e\"], [0.4444444444444444, \"#bd3786\"], [0.5555555555555556, \"#d8576b\"], [0.6666666666666666, \"#ed7953\"], [0.7777777777777778, \"#fb9f3a\"], [0.8888888888888888, \"#fdca26\"], [1.0, \"#f0f921\"]], \"type\": \"heatmapgl\"}], \"histogram\": [{\"marker\": {\"colorbar\": {\"outlinewidth\": 0, \"ticks\": \"\"}}, \"type\": \"histogram\"}], \"histogram2d\": [{\"colorbar\": {\"outlinewidth\": 0, \"ticks\": \"\"}, \"colorscale\": [[0.0, \"#0d0887\"], [0.1111111111111111, \"#46039f\"], [0.2222222222222222, \"#7201a8\"], [0.3333333333333333, \"#9c179e\"], [0.4444444444444444, \"#bd3786\"], [0.5555555555555556, \"#d8576b\"], [0.6666666666666666, \"#ed7953\"], [0.7777777777777778, \"#fb9f3a\"], [0.8888888888888888, \"#fdca26\"], [1.0, \"#f0f921\"]], \"type\": \"histogram2d\"}], \"histogram2dcontour\": [{\"colorbar\": {\"outlinewidth\": 0, \"ticks\": \"\"}, \"colorscale\": [[0.0, \"#0d0887\"], [0.1111111111111111, \"#46039f\"], [0.2222222222222222, \"#7201a8\"], [0.3333333333333333, \"#9c179e\"], [0.4444444444444444, \"#bd3786\"], [0.5555555555555556, \"#d8576b\"], [0.6666666666666666, \"#ed7953\"], [0.7777777777777778, \"#fb9f3a\"], [0.8888888888888888, \"#fdca26\"], [1.0, \"#f0f921\"]], \"type\": \"histogram2dcontour\"}], \"mesh3d\": [{\"colorbar\": {\"outlinewidth\": 0, \"ticks\": \"\"}, \"type\": \"mesh3d\"}], \"parcoords\": [{\"line\": {\"colorbar\": {\"outlinewidth\": 0, \"ticks\": \"\"}}, \"type\": \"parcoords\"}], \"pie\": [{\"automargin\": true, \"type\": \"pie\"}], \"scatter\": [{\"marker\": {\"colorbar\": {\"outlinewidth\": 0, \"ticks\": \"\"}}, \"type\": \"scatter\"}], \"scatter3d\": [{\"line\": {\"colorbar\": {\"outlinewidth\": 0, \"ticks\": \"\"}}, \"marker\": {\"colorbar\": {\"outlinewidth\": 0, \"ticks\": \"\"}}, \"type\": \"scatter3d\"}], \"scattercarpet\": [{\"marker\": {\"colorbar\": {\"outlinewidth\": 0, \"ticks\": \"\"}}, \"type\": \"scattercarpet\"}], \"scattergeo\": [{\"marker\": {\"colorbar\": {\"outlinewidth\": 0, \"ticks\": \"\"}}, \"type\": \"scattergeo\"}], \"scattergl\": [{\"marker\": {\"colorbar\": {\"outlinewidth\": 0, \"ticks\": \"\"}}, \"type\": \"scattergl\"}], \"scattermapbox\": [{\"marker\": {\"colorbar\": {\"outlinewidth\": 0, \"ticks\": \"\"}}, \"type\": \"scattermapbox\"}], \"scatterpolar\": [{\"marker\": {\"colorbar\": {\"outlinewidth\": 0, \"ticks\": \"\"}}, \"type\": \"scatterpolar\"}], \"scatterpolargl\": [{\"marker\": {\"colorbar\": {\"outlinewidth\": 0, \"ticks\": \"\"}}, \"type\": \"scatterpolargl\"}], \"scatterternary\": [{\"marker\": {\"colorbar\": {\"outlinewidth\": 0, \"ticks\": \"\"}}, \"type\": \"scatterternary\"}], \"surface\": [{\"colorbar\": {\"outlinewidth\": 0, \"ticks\": \"\"}, \"colorscale\": [[0.0, \"#0d0887\"], [0.1111111111111111, \"#46039f\"], [0.2222222222222222, \"#7201a8\"], [0.3333333333333333, \"#9c179e\"], [0.4444444444444444, \"#bd3786\"], [0.5555555555555556, \"#d8576b\"], [0.6666666666666666, \"#ed7953\"], [0.7777777777777778, \"#fb9f3a\"], [0.8888888888888888, \"#fdca26\"], [1.0, \"#f0f921\"]], \"type\": \"surface\"}], \"table\": [{\"cells\": {\"fill\": {\"color\": \"#EBF0F8\"}, \"line\": {\"color\": \"white\"}}, \"header\": {\"fill\": {\"color\": \"#C8D4E3\"}, \"line\": {\"color\": \"white\"}}, \"type\": \"table\"}]}, \"layout\": {\"annotationdefaults\": {\"arrowcolor\": \"#2a3f5f\", \"arrowhead\": 0, \"arrowwidth\": 1}, \"coloraxis\": {\"colorbar\": {\"outlinewidth\": 0, \"ticks\": \"\"}}, \"colorscale\": {\"diverging\": [[0, \"#8e0152\"], [0.1, \"#c51b7d\"], [0.2, \"#de77ae\"], [0.3, \"#f1b6da\"], [0.4, \"#fde0ef\"], [0.5, \"#f7f7f7\"], [0.6, \"#e6f5d0\"], [0.7, \"#b8e186\"], [0.8, \"#7fbc41\"], [0.9, \"#4d9221\"], [1, \"#276419\"]], \"sequential\": [[0.0, \"#0d0887\"], [0.1111111111111111, \"#46039f\"], [0.2222222222222222, \"#7201a8\"], [0.3333333333333333, \"#9c179e\"], [0.4444444444444444, \"#bd3786\"], [0.5555555555555556, \"#d8576b\"], [0.6666666666666666, \"#ed7953\"], [0.7777777777777778, \"#fb9f3a\"], [0.8888888888888888, \"#fdca26\"], [1.0, \"#f0f921\"]], \"sequentialminus\": [[0.0, \"#0d0887\"], [0.1111111111111111, \"#46039f\"], [0.2222222222222222, \"#7201a8\"], [0.3333333333333333, \"#9c179e\"], [0.4444444444444444, \"#bd3786\"], [0.5555555555555556, \"#d8576b\"], [0.6666666666666666, \"#ed7953\"], [0.7777777777777778, \"#fb9f3a\"], [0.8888888888888888, \"#fdca26\"], [1.0, \"#f0f921\"]]}, \"colorway\": [\"#636efa\", \"#EF553B\", \"#00cc96\", \"#ab63fa\", \"#FFA15A\", \"#19d3f3\", \"#FF6692\", \"#B6E880\", \"#FF97FF\", \"#FECB52\"], \"font\": {\"color\": \"#2a3f5f\"}, \"geo\": {\"bgcolor\": \"white\", \"lakecolor\": \"white\", \"landcolor\": \"#E5ECF6\", \"showlakes\": true, \"showland\": true, \"subunitcolor\": \"white\"}, \"hoverlabel\": {\"align\": \"left\"}, \"hovermode\": \"closest\", \"mapbox\": {\"style\": \"light\"}, \"paper_bgcolor\": \"white\", \"plot_bgcolor\": \"#E5ECF6\", \"polar\": {\"angularaxis\": {\"gridcolor\": \"white\", \"linecolor\": \"white\", \"ticks\": \"\"}, \"bgcolor\": \"#E5ECF6\", \"radialaxis\": {\"gridcolor\": \"white\", \"linecolor\": \"white\", \"ticks\": \"\"}}, \"scene\": {\"xaxis\": {\"backgroundcolor\": \"#E5ECF6\", \"gridcolor\": \"white\", \"gridwidth\": 2, \"linecolor\": \"white\", \"showbackground\": true, \"ticks\": \"\", \"zerolinecolor\": \"white\"}, \"yaxis\": {\"backgroundcolor\": \"#E5ECF6\", \"gridcolor\": \"white\", \"gridwidth\": 2, \"linecolor\": \"white\", \"showbackground\": true, \"ticks\": \"\", \"zerolinecolor\": \"white\"}, \"zaxis\": {\"backgroundcolor\": \"#E5ECF6\", \"gridcolor\": \"white\", \"gridwidth\": 2, \"linecolor\": \"white\", \"showbackground\": true, \"ticks\": \"\", \"zerolinecolor\": \"white\"}}, \"shapedefaults\": {\"line\": {\"color\": \"#2a3f5f\"}}, \"ternary\": {\"aaxis\": {\"gridcolor\": \"white\", \"linecolor\": \"white\", \"ticks\": \"\"}, \"baxis\": {\"gridcolor\": \"white\", \"linecolor\": \"white\", \"ticks\": \"\"}, \"bgcolor\": \"#E5ECF6\", \"caxis\": {\"gridcolor\": \"white\", \"linecolor\": \"white\", \"ticks\": \"\"}}, \"title\": {\"x\": 0.05}, \"xaxis\": {\"automargin\": true, \"gridcolor\": \"white\", \"linecolor\": \"white\", \"ticks\": \"\", \"title\": {\"standoff\": 15}, \"zerolinecolor\": \"white\", \"zerolinewidth\": 2}, \"yaxis\": {\"automargin\": true, \"gridcolor\": \"white\", \"linecolor\": \"white\", \"ticks\": \"\", \"title\": {\"standoff\": 15}, \"zerolinecolor\": \"white\", \"zerolinewidth\": 2}}}, \"title\": {\"font\": {\"color\": \"#4D5663\"}}, \"xaxis\": {\"gridcolor\": \"#E1E5ED\", \"showgrid\": true, \"tickfont\": {\"color\": \"#4D5663\"}, \"title\": {\"font\": {\"color\": \"#4D5663\"}, \"text\": \"\"}, \"zerolinecolor\": \"#E1E5ED\"}, \"yaxis\": {\"gridcolor\": \"#E1E5ED\", \"showgrid\": true, \"tickfont\": {\"color\": \"#4D5663\"}, \"title\": {\"font\": {\"color\": \"#4D5663\"}, \"text\": \"\"}, \"zerolinecolor\": \"#E1E5ED\"}},\n",
       "                        {\"showLink\": true, \"linkText\": \"Export to plot.ly\", \"plotlyServerURL\": \"https://plot.ly\", \"responsive\": true}\n",
       "                    ).then(function(){\n",
       "                            \n",
       "var gd = document.getElementById('4cf503fa-cf5c-4fb1-807f-42f1230287a9');\n",
       "var x = new MutationObserver(function (mutations, observer) {{\n",
       "        var display = window.getComputedStyle(gd).display;\n",
       "        if (!display || display === 'none') {{\n",
       "            console.log([gd, 'removed!']);\n",
       "            Plotly.purge(gd);\n",
       "            observer.disconnect();\n",
       "        }}\n",
       "}});\n",
       "\n",
       "// Listen for the removal of the full notebook cells\n",
       "var notebookContainer = gd.closest('#notebook-container');\n",
       "if (notebookContainer) {{\n",
       "    x.observe(notebookContainer, {childList: true});\n",
       "}}\n",
       "\n",
       "// Listen for the clearing of the current output cell\n",
       "var outputEl = gd.closest('.output');\n",
       "if (outputEl) {{\n",
       "    x.observe(outputEl, {childList: true});\n",
       "}}\n",
       "\n",
       "                        })\n",
       "                };\n",
       "                });\n",
       "            </script>\n",
       "        </div>"
      ]
     },
     "metadata": {},
     "output_type": "display_data"
    }
   ],
   "source": [
    "df3 = pd.DataFrame({'x':[1,2,3,4,5],'y':[10,20,30,20,10],'z':[5,4,3,2,1]})\n",
    "df3.iplot(kind='surface',colorscale='rdylbu')"
   ]
  },
  {
   "cell_type": "markdown",
   "metadata": {},
   "source": [
    "## Spread"
   ]
  },
  {
   "cell_type": "code",
   "execution_count": 17,
   "metadata": {},
   "outputs": [
    {
     "data": {
      "application/vnd.plotly.v1+json": {
       "config": {
        "linkText": "Export to plot.ly",
        "plotlyServerURL": "https://plot.ly",
        "showLink": true
       },
       "data": [
        {
         "line": {
          "color": "rgba(255, 153, 51, 1.0)",
          "dash": "solid",
          "shape": "linear",
          "width": 1.3
         },
         "mode": "lines",
         "name": "A",
         "text": "",
         "type": "scatter",
         "x": [
          0,
          1,
          2,
          3,
          4,
          5,
          6,
          7,
          8,
          9,
          10,
          11,
          12,
          13,
          14,
          15,
          16,
          17,
          18,
          19,
          20,
          21,
          22,
          23,
          24,
          25,
          26,
          27,
          28,
          29,
          30,
          31,
          32,
          33,
          34,
          35,
          36,
          37,
          38,
          39,
          40,
          41,
          42,
          43,
          44,
          45,
          46,
          47,
          48,
          49,
          50,
          51,
          52,
          53,
          54,
          55,
          56,
          57,
          58,
          59,
          60,
          61,
          62,
          63,
          64,
          65,
          66,
          67,
          68,
          69,
          70,
          71,
          72,
          73,
          74,
          75,
          76,
          77,
          78,
          79,
          80,
          81,
          82,
          83,
          84,
          85,
          86,
          87,
          88,
          89,
          90,
          91,
          92,
          93,
          94,
          95,
          96,
          97,
          98,
          99
         ],
         "y": [
          -0.510356444121689,
          0.7201652349415042,
          -0.7956381636543068,
          1.0832809916868644,
          -0.30135332660046227,
          0.42411030852509535,
          0.42087262293982375,
          -0.3834038112338632,
          -0.7181067075740701,
          -1.689000975405711,
          -0.768211369533854,
          -1.4009016874638953,
          -0.4609104403187404,
          -0.3610062304045048,
          0.6990611544761113,
          -0.4071983236663745,
          0.9749451967310648,
          -1.5521567512284027,
          2.582839819142019,
          -1.2608047270318732,
          0.68742828657434,
          -0.46537119576917874,
          -0.48064110808268334,
          0.28063181595730985,
          -1.0452623335682787,
          -0.40873364292488046,
          -1.3571367997941601,
          -0.6062375995071084,
          1.4528109216456557,
          0.07731559895151965,
          0.3250397061151751,
          1.201915142424794,
          -0.4504659375584174,
          1.9668847821266044,
          -0.364303563666657,
          -0.13927146800064158,
          0.57348161033347,
          0.4947778974491402,
          0.30569786829351947,
          0.9201554242455009,
          -0.41523183381297085,
          -1.8330412839733048,
          -0.23619614972665107,
          -1.849963868494029,
          0.5461760591197427,
          -0.9361134586802853,
          -0.4528434305920523,
          0.2174161047715857,
          1.0635059691233937,
          -0.9459523350502519,
          -0.13166220663639913,
          -0.6421618174142698,
          0.3047712492940703,
          -0.26344777521625573,
          -0.45306380687736664,
          -0.9705865345061072,
          -0.12741882697516443,
          1.0049752783819161,
          0.4086707843416792,
          -0.4511413941730779,
          0.5104243612824134,
          -0.7255566333311757,
          0.5653467224854392,
          -0.16436532244841037,
          -0.1988484231344934,
          -0.7564557068257352,
          -0.18679418701106604,
          0.007128162141137425,
          -0.04652926061840745,
          -1.2240766600558828,
          0.2548364775874957,
          0.36702432595644263,
          -1.8441953853505533,
          -0.24359038758120563,
          1.3244683296413644,
          0.61165695571586,
          1.5230508996881755,
          1.7353619398397855,
          0.22402443540755565,
          0.33895550763612925,
          0.9223319365608782,
          0.9159143574193307,
          1.2997354894773798,
          -1.4147536326587344,
          -1.0248138567998835,
          -1.7541740527292868,
          -0.6575313266954175,
          -0.6207644107638655,
          -0.44464272561837265,
          -0.836691238296052,
          1.7573684719199605,
          -2.9653482379895464,
          -1.146385550579236,
          0.15786795073923038,
          1.9837911867756637,
          -0.1286989891014074,
          0.6788131762939952,
          -0.012808189565091749,
          -0.7578489572357708,
          1.5590955815629608
         ]
        },
        {
         "line": {
          "color": "rgba(55, 128, 191, 1.0)",
          "dash": "solid",
          "shape": "linear",
          "width": 1.3
         },
         "mode": "lines",
         "name": "B",
         "text": "",
         "type": "scatter",
         "x": [
          0,
          1,
          2,
          3,
          4,
          5,
          6,
          7,
          8,
          9,
          10,
          11,
          12,
          13,
          14,
          15,
          16,
          17,
          18,
          19,
          20,
          21,
          22,
          23,
          24,
          25,
          26,
          27,
          28,
          29,
          30,
          31,
          32,
          33,
          34,
          35,
          36,
          37,
          38,
          39,
          40,
          41,
          42,
          43,
          44,
          45,
          46,
          47,
          48,
          49,
          50,
          51,
          52,
          53,
          54,
          55,
          56,
          57,
          58,
          59,
          60,
          61,
          62,
          63,
          64,
          65,
          66,
          67,
          68,
          69,
          70,
          71,
          72,
          73,
          74,
          75,
          76,
          77,
          78,
          79,
          80,
          81,
          82,
          83,
          84,
          85,
          86,
          87,
          88,
          89,
          90,
          91,
          92,
          93,
          94,
          95,
          96,
          97,
          98,
          99
         ],
         "y": [
          0.4394113396115198,
          -1.3704879603341773,
          -0.894779683303476,
          -0.9091697423817736,
          -0.7870831654017293,
          1.7078371717736396,
          -0.09852952274905818,
          -0.3301784910650832,
          1.6268395224675645,
          0.23779943709785142,
          0.8320902681835906,
          -1.0395936765569966,
          -1.4627998759745036,
          -1.2905181379536943,
          -0.7458983776289884,
          1.233386993912338,
          0.49681475206133296,
          -0.512701542962839,
          2.064920530388905,
          1.1887225273511324,
          0.9775910490656258,
          0.07947257556784981,
          -0.7874279153056152,
          -1.1496283384200692,
          -1.4302366554682746,
          -1.5038040240345794,
          0.2917872732984551,
          -1.1291913047146693,
          0.381635713258072,
          0.5782386470488836,
          0.18723596532937337,
          -0.3932861774601221,
          0.22451339799635048,
          -0.5639617603917293,
          0.976796922647767,
          1.3294058450552153,
          -0.014823934009534098,
          0.33694456503364056,
          -1.7596659431646775,
          0.18350148416556766,
          2.1186952855091894,
          1.8667466050294965,
          -0.837574209463975,
          1.1115620238149284,
          0.27441666631551975,
          -0.20989609089297878,
          -1.8147053413659966,
          0.7869898004991409,
          -1.7841985376732745,
          -0.5238520144705975,
          0.3812868303501749,
          0.3137975708975645,
          0.9968300457049288,
          0.5824846983864099,
          -0.05913546961926126,
          -0.7790815336783042,
          -0.5034885037883023,
          0.9896954982725973,
          -0.4787666015780376,
          1.9011893896648642,
          -0.13028487404661762,
          -2.1424981055614447,
          -1.0766028098307068,
          -0.792137140883388,
          -1.2103592333561075,
          -1.4878660498301146,
          -0.43106169827739,
          -0.44901688012835594,
          0.29737915922704417,
          -1.5005547897872924,
          -0.6906235587362654,
          0.08165168312136552,
          0.888112558194319,
          0.2162961596844919,
          0.3095124316406531,
          -2.357625950700372,
          -0.5851048603043837,
          1.4090130212670697,
          -0.8972052639813642,
          0.44154770227912477,
          1.1769309603585676,
          3.494886385021715,
          -0.34623819370067876,
          0.49039904790159233,
          -1.4439627916263218,
          -0.23356971773044577,
          1.946859888073679,
          0.39682927408000496,
          0.6947149347178614,
          0.776205432439833,
          -1.6156658133534276,
          0.8735942224395256,
          -0.027535065229056153,
          -0.008472192836710022,
          0.1836800682078861,
          -0.4984619503467606,
          1.705018893410389,
          -2.0132462510663918,
          0.1437439755595477,
          0.38606482996606656
         ]
        },
        {
         "connectgaps": false,
         "fill": "tozeroy",
         "line": {
          "color": "green",
          "dash": "solid",
          "shape": "linear",
          "width": 0.5
         },
         "mode": "lines",
         "name": "Spread",
         "showlegend": false,
         "type": "scatter",
         "x": [
          0,
          1,
          2,
          3,
          4,
          5,
          6,
          7,
          8,
          9,
          10,
          11,
          12,
          13,
          14,
          15,
          16,
          17,
          18,
          19,
          20,
          21,
          22,
          23,
          24,
          25,
          26,
          27,
          28,
          29,
          30,
          31,
          32,
          33,
          34,
          35,
          36,
          37,
          38,
          39,
          40,
          41,
          42,
          43,
          44,
          45,
          46,
          47,
          48,
          49,
          50,
          51,
          52,
          53,
          54,
          55,
          56,
          57,
          58,
          59,
          60,
          61,
          62,
          63,
          64,
          65,
          66,
          67,
          68,
          69,
          70,
          71,
          72,
          73,
          74,
          75,
          76,
          77,
          78,
          79,
          80,
          81,
          82,
          83,
          84,
          85,
          86,
          87,
          88,
          89,
          90,
          91,
          92,
          93,
          94,
          95,
          96,
          97,
          98,
          99
         ],
         "xaxis": "x2",
         "y": [
          "",
          2.0906531952756815,
          0.09914151964916917,
          1.9924507340686382,
          0.485729838801267,
          "",
          0.519402145688882,
          "",
          "",
          "",
          "",
          "",
          1.0018894356557633,
          0.9295119075491896,
          1.4449595321050996,
          "",
          0.47813044466973187,
          "",
          0.5179192887531139,
          "",
          "",
          "",
          0.30678680722293183,
          1.430260154377379,
          0.3849743218999959,
          1.095070381109699,
          "",
          0.5229537052075609,
          1.0711752083875838,
          "",
          0.1378037407858017,
          1.5952013198849162,
          "",
          2.5308465425183337,
          "",
          "",
          0.5883055443430041,
          0.15783333241549963,
          2.065363811458197,
          0.7366539400799332,
          "",
          "",
          0.601378059737324,
          "",
          0.2717593928042229,
          "",
          1.3618619107739443,
          "",
          2.847704506796668,
          "",
          "",
          "",
          "",
          "",
          "",
          "",
          0.3760696768131379,
          0.015279780109318852,
          0.8874373859197168,
          "",
          0.640709235329031,
          1.4169414722302691,
          1.641949532316146,
          0.6277718184349776,
          1.0115108102216142,
          0.7314103430043795,
          0.24426751126632396,
          0.4561450422694934,
          "",
          0.2764781297314096,
          0.9454600363237611,
          0.28537264283507713,
          "",
          "",
          1.0149558980007112,
          2.9692829064162316,
          2.108155759992559,
          0.32634891857271575,
          1.12122969938892,
          "",
          "",
          "",
          1.6459736831780587,
          "",
          0.41914893482643834,
          "",
          "",
          "",
          "",
          "",
          3.373034285273388,
          "",
          "",
          0.1663401435759404,
          1.8001111185677776,
          0.36976296124535324,
          "",
          2.0004380615013,
          "",
          1.1730307515968943
         ],
         "yaxis": "y2"
        },
        {
         "connectgaps": false,
         "fill": "tozeroy",
         "line": {
          "color": "red",
          "dash": "solid",
          "shape": "linear",
          "width": 0.5
         },
         "mode": "lines",
         "name": "Spread",
         "showlegend": false,
         "type": "scatter",
         "x": [
          0,
          1,
          2,
          3,
          4,
          5,
          6,
          7,
          8,
          9,
          10,
          11,
          12,
          13,
          14,
          15,
          16,
          17,
          18,
          19,
          20,
          21,
          22,
          23,
          24,
          25,
          26,
          27,
          28,
          29,
          30,
          31,
          32,
          33,
          34,
          35,
          36,
          37,
          38,
          39,
          40,
          41,
          42,
          43,
          44,
          45,
          46,
          47,
          48,
          49,
          50,
          51,
          52,
          53,
          54,
          55,
          56,
          57,
          58,
          59,
          60,
          61,
          62,
          63,
          64,
          65,
          66,
          67,
          68,
          69,
          70,
          71,
          72,
          73,
          74,
          75,
          76,
          77,
          78,
          79,
          80,
          81,
          82,
          83,
          84,
          85,
          86,
          87,
          88,
          89,
          90,
          91,
          92,
          93,
          94,
          95,
          96,
          97,
          98,
          99
         ],
         "xaxis": "x2",
         "y": [
          -0.9497677837332088,
          "",
          "",
          "",
          "",
          -1.2837268632485443,
          "",
          -0.05322532016878001,
          -2.344946230041635,
          -1.9268004125035623,
          -1.6003016377174446,
          -0.3613080109068987,
          "",
          "",
          "",
          -1.6405853175787126,
          "",
          -1.0394552082655637,
          "",
          -2.4495272543830056,
          -0.2901627624912858,
          -0.5448437713370285,
          "",
          "",
          "",
          "",
          -1.6489240730926151,
          "",
          "",
          -0.500923048097364,
          "",
          "",
          -0.6749793355547679,
          "",
          -1.341100486314424,
          -1.4686773130558568,
          "",
          "",
          "",
          "",
          -2.5339271193221604,
          -3.6997878890028013,
          "",
          -2.9615258923089574,
          "",
          -0.7262173677873065,
          "",
          -0.5695736957275552,
          "",
          -0.4221003205796544,
          -0.512949036986574,
          -0.9559593883118342,
          -0.6920587964108585,
          -0.8459324736026657,
          -0.3939283372581054,
          -0.19150500082780297,
          "",
          "",
          "",
          -2.352330783837942,
          "",
          "",
          "",
          "",
          "",
          "",
          "",
          "",
          -0.3439084198454516,
          "",
          "",
          "",
          -2.732307943544872,
          -0.45988654726569755,
          "",
          "",
          "",
          "",
          "",
          -0.10259219464299552,
          -0.2545990237976894,
          -2.5789720276023846,
          "",
          -1.9051526805603267,
          "",
          -1.5206043349988412,
          -2.6043912147690964,
          -1.0175936848438705,
          -1.139357660336234,
          -1.612896670735885,
          "",
          -3.838942460429072,
          -1.1188504853501797,
          "",
          "",
          "",
          -1.0262057171163939,
          "",
          -0.9015929327953185,
          ""
         ],
         "yaxis": "y2"
        }
       ],
       "layout": {
        "hovermode": "x",
        "legend": {
         "bgcolor": "#F5F6F9",
         "font": {
          "color": "#4D5663"
         }
        },
        "paper_bgcolor": "#F5F6F9",
        "plot_bgcolor": "#F5F6F9",
        "template": {
         "data": {
          "bar": [
           {
            "error_x": {
             "color": "#2a3f5f"
            },
            "error_y": {
             "color": "#2a3f5f"
            },
            "marker": {
             "line": {
              "color": "#E5ECF6",
              "width": 0.5
             }
            },
            "type": "bar"
           }
          ],
          "barpolar": [
           {
            "marker": {
             "line": {
              "color": "#E5ECF6",
              "width": 0.5
             }
            },
            "type": "barpolar"
           }
          ],
          "carpet": [
           {
            "aaxis": {
             "endlinecolor": "#2a3f5f",
             "gridcolor": "white",
             "linecolor": "white",
             "minorgridcolor": "white",
             "startlinecolor": "#2a3f5f"
            },
            "baxis": {
             "endlinecolor": "#2a3f5f",
             "gridcolor": "white",
             "linecolor": "white",
             "minorgridcolor": "white",
             "startlinecolor": "#2a3f5f"
            },
            "type": "carpet"
           }
          ],
          "choropleth": [
           {
            "colorbar": {
             "outlinewidth": 0,
             "ticks": ""
            },
            "type": "choropleth"
           }
          ],
          "contour": [
           {
            "colorbar": {
             "outlinewidth": 0,
             "ticks": ""
            },
            "colorscale": [
             [
              0,
              "#0d0887"
             ],
             [
              0.1111111111111111,
              "#46039f"
             ],
             [
              0.2222222222222222,
              "#7201a8"
             ],
             [
              0.3333333333333333,
              "#9c179e"
             ],
             [
              0.4444444444444444,
              "#bd3786"
             ],
             [
              0.5555555555555556,
              "#d8576b"
             ],
             [
              0.6666666666666666,
              "#ed7953"
             ],
             [
              0.7777777777777778,
              "#fb9f3a"
             ],
             [
              0.8888888888888888,
              "#fdca26"
             ],
             [
              1,
              "#f0f921"
             ]
            ],
            "type": "contour"
           }
          ],
          "contourcarpet": [
           {
            "colorbar": {
             "outlinewidth": 0,
             "ticks": ""
            },
            "type": "contourcarpet"
           }
          ],
          "heatmap": [
           {
            "colorbar": {
             "outlinewidth": 0,
             "ticks": ""
            },
            "colorscale": [
             [
              0,
              "#0d0887"
             ],
             [
              0.1111111111111111,
              "#46039f"
             ],
             [
              0.2222222222222222,
              "#7201a8"
             ],
             [
              0.3333333333333333,
              "#9c179e"
             ],
             [
              0.4444444444444444,
              "#bd3786"
             ],
             [
              0.5555555555555556,
              "#d8576b"
             ],
             [
              0.6666666666666666,
              "#ed7953"
             ],
             [
              0.7777777777777778,
              "#fb9f3a"
             ],
             [
              0.8888888888888888,
              "#fdca26"
             ],
             [
              1,
              "#f0f921"
             ]
            ],
            "type": "heatmap"
           }
          ],
          "heatmapgl": [
           {
            "colorbar": {
             "outlinewidth": 0,
             "ticks": ""
            },
            "colorscale": [
             [
              0,
              "#0d0887"
             ],
             [
              0.1111111111111111,
              "#46039f"
             ],
             [
              0.2222222222222222,
              "#7201a8"
             ],
             [
              0.3333333333333333,
              "#9c179e"
             ],
             [
              0.4444444444444444,
              "#bd3786"
             ],
             [
              0.5555555555555556,
              "#d8576b"
             ],
             [
              0.6666666666666666,
              "#ed7953"
             ],
             [
              0.7777777777777778,
              "#fb9f3a"
             ],
             [
              0.8888888888888888,
              "#fdca26"
             ],
             [
              1,
              "#f0f921"
             ]
            ],
            "type": "heatmapgl"
           }
          ],
          "histogram": [
           {
            "marker": {
             "colorbar": {
              "outlinewidth": 0,
              "ticks": ""
             }
            },
            "type": "histogram"
           }
          ],
          "histogram2d": [
           {
            "colorbar": {
             "outlinewidth": 0,
             "ticks": ""
            },
            "colorscale": [
             [
              0,
              "#0d0887"
             ],
             [
              0.1111111111111111,
              "#46039f"
             ],
             [
              0.2222222222222222,
              "#7201a8"
             ],
             [
              0.3333333333333333,
              "#9c179e"
             ],
             [
              0.4444444444444444,
              "#bd3786"
             ],
             [
              0.5555555555555556,
              "#d8576b"
             ],
             [
              0.6666666666666666,
              "#ed7953"
             ],
             [
              0.7777777777777778,
              "#fb9f3a"
             ],
             [
              0.8888888888888888,
              "#fdca26"
             ],
             [
              1,
              "#f0f921"
             ]
            ],
            "type": "histogram2d"
           }
          ],
          "histogram2dcontour": [
           {
            "colorbar": {
             "outlinewidth": 0,
             "ticks": ""
            },
            "colorscale": [
             [
              0,
              "#0d0887"
             ],
             [
              0.1111111111111111,
              "#46039f"
             ],
             [
              0.2222222222222222,
              "#7201a8"
             ],
             [
              0.3333333333333333,
              "#9c179e"
             ],
             [
              0.4444444444444444,
              "#bd3786"
             ],
             [
              0.5555555555555556,
              "#d8576b"
             ],
             [
              0.6666666666666666,
              "#ed7953"
             ],
             [
              0.7777777777777778,
              "#fb9f3a"
             ],
             [
              0.8888888888888888,
              "#fdca26"
             ],
             [
              1,
              "#f0f921"
             ]
            ],
            "type": "histogram2dcontour"
           }
          ],
          "mesh3d": [
           {
            "colorbar": {
             "outlinewidth": 0,
             "ticks": ""
            },
            "type": "mesh3d"
           }
          ],
          "parcoords": [
           {
            "line": {
             "colorbar": {
              "outlinewidth": 0,
              "ticks": ""
             }
            },
            "type": "parcoords"
           }
          ],
          "pie": [
           {
            "automargin": true,
            "type": "pie"
           }
          ],
          "scatter": [
           {
            "marker": {
             "colorbar": {
              "outlinewidth": 0,
              "ticks": ""
             }
            },
            "type": "scatter"
           }
          ],
          "scatter3d": [
           {
            "line": {
             "colorbar": {
              "outlinewidth": 0,
              "ticks": ""
             }
            },
            "marker": {
             "colorbar": {
              "outlinewidth": 0,
              "ticks": ""
             }
            },
            "type": "scatter3d"
           }
          ],
          "scattercarpet": [
           {
            "marker": {
             "colorbar": {
              "outlinewidth": 0,
              "ticks": ""
             }
            },
            "type": "scattercarpet"
           }
          ],
          "scattergeo": [
           {
            "marker": {
             "colorbar": {
              "outlinewidth": 0,
              "ticks": ""
             }
            },
            "type": "scattergeo"
           }
          ],
          "scattergl": [
           {
            "marker": {
             "colorbar": {
              "outlinewidth": 0,
              "ticks": ""
             }
            },
            "type": "scattergl"
           }
          ],
          "scattermapbox": [
           {
            "marker": {
             "colorbar": {
              "outlinewidth": 0,
              "ticks": ""
             }
            },
            "type": "scattermapbox"
           }
          ],
          "scatterpolar": [
           {
            "marker": {
             "colorbar": {
              "outlinewidth": 0,
              "ticks": ""
             }
            },
            "type": "scatterpolar"
           }
          ],
          "scatterpolargl": [
           {
            "marker": {
             "colorbar": {
              "outlinewidth": 0,
              "ticks": ""
             }
            },
            "type": "scatterpolargl"
           }
          ],
          "scatterternary": [
           {
            "marker": {
             "colorbar": {
              "outlinewidth": 0,
              "ticks": ""
             }
            },
            "type": "scatterternary"
           }
          ],
          "surface": [
           {
            "colorbar": {
             "outlinewidth": 0,
             "ticks": ""
            },
            "colorscale": [
             [
              0,
              "#0d0887"
             ],
             [
              0.1111111111111111,
              "#46039f"
             ],
             [
              0.2222222222222222,
              "#7201a8"
             ],
             [
              0.3333333333333333,
              "#9c179e"
             ],
             [
              0.4444444444444444,
              "#bd3786"
             ],
             [
              0.5555555555555556,
              "#d8576b"
             ],
             [
              0.6666666666666666,
              "#ed7953"
             ],
             [
              0.7777777777777778,
              "#fb9f3a"
             ],
             [
              0.8888888888888888,
              "#fdca26"
             ],
             [
              1,
              "#f0f921"
             ]
            ],
            "type": "surface"
           }
          ],
          "table": [
           {
            "cells": {
             "fill": {
              "color": "#EBF0F8"
             },
             "line": {
              "color": "white"
             }
            },
            "header": {
             "fill": {
              "color": "#C8D4E3"
             },
             "line": {
              "color": "white"
             }
            },
            "type": "table"
           }
          ]
         },
         "layout": {
          "annotationdefaults": {
           "arrowcolor": "#2a3f5f",
           "arrowhead": 0,
           "arrowwidth": 1
          },
          "coloraxis": {
           "colorbar": {
            "outlinewidth": 0,
            "ticks": ""
           }
          },
          "colorscale": {
           "diverging": [
            [
             0,
             "#8e0152"
            ],
            [
             0.1,
             "#c51b7d"
            ],
            [
             0.2,
             "#de77ae"
            ],
            [
             0.3,
             "#f1b6da"
            ],
            [
             0.4,
             "#fde0ef"
            ],
            [
             0.5,
             "#f7f7f7"
            ],
            [
             0.6,
             "#e6f5d0"
            ],
            [
             0.7,
             "#b8e186"
            ],
            [
             0.8,
             "#7fbc41"
            ],
            [
             0.9,
             "#4d9221"
            ],
            [
             1,
             "#276419"
            ]
           ],
           "sequential": [
            [
             0,
             "#0d0887"
            ],
            [
             0.1111111111111111,
             "#46039f"
            ],
            [
             0.2222222222222222,
             "#7201a8"
            ],
            [
             0.3333333333333333,
             "#9c179e"
            ],
            [
             0.4444444444444444,
             "#bd3786"
            ],
            [
             0.5555555555555556,
             "#d8576b"
            ],
            [
             0.6666666666666666,
             "#ed7953"
            ],
            [
             0.7777777777777778,
             "#fb9f3a"
            ],
            [
             0.8888888888888888,
             "#fdca26"
            ],
            [
             1,
             "#f0f921"
            ]
           ],
           "sequentialminus": [
            [
             0,
             "#0d0887"
            ],
            [
             0.1111111111111111,
             "#46039f"
            ],
            [
             0.2222222222222222,
             "#7201a8"
            ],
            [
             0.3333333333333333,
             "#9c179e"
            ],
            [
             0.4444444444444444,
             "#bd3786"
            ],
            [
             0.5555555555555556,
             "#d8576b"
            ],
            [
             0.6666666666666666,
             "#ed7953"
            ],
            [
             0.7777777777777778,
             "#fb9f3a"
            ],
            [
             0.8888888888888888,
             "#fdca26"
            ],
            [
             1,
             "#f0f921"
            ]
           ]
          },
          "colorway": [
           "#636efa",
           "#EF553B",
           "#00cc96",
           "#ab63fa",
           "#FFA15A",
           "#19d3f3",
           "#FF6692",
           "#B6E880",
           "#FF97FF",
           "#FECB52"
          ],
          "font": {
           "color": "#2a3f5f"
          },
          "geo": {
           "bgcolor": "white",
           "lakecolor": "white",
           "landcolor": "#E5ECF6",
           "showlakes": true,
           "showland": true,
           "subunitcolor": "white"
          },
          "hoverlabel": {
           "align": "left"
          },
          "hovermode": "closest",
          "mapbox": {
           "style": "light"
          },
          "paper_bgcolor": "white",
          "plot_bgcolor": "#E5ECF6",
          "polar": {
           "angularaxis": {
            "gridcolor": "white",
            "linecolor": "white",
            "ticks": ""
           },
           "bgcolor": "#E5ECF6",
           "radialaxis": {
            "gridcolor": "white",
            "linecolor": "white",
            "ticks": ""
           }
          },
          "scene": {
           "xaxis": {
            "backgroundcolor": "#E5ECF6",
            "gridcolor": "white",
            "gridwidth": 2,
            "linecolor": "white",
            "showbackground": true,
            "ticks": "",
            "zerolinecolor": "white"
           },
           "yaxis": {
            "backgroundcolor": "#E5ECF6",
            "gridcolor": "white",
            "gridwidth": 2,
            "linecolor": "white",
            "showbackground": true,
            "ticks": "",
            "zerolinecolor": "white"
           },
           "zaxis": {
            "backgroundcolor": "#E5ECF6",
            "gridcolor": "white",
            "gridwidth": 2,
            "linecolor": "white",
            "showbackground": true,
            "ticks": "",
            "zerolinecolor": "white"
           }
          },
          "shapedefaults": {
           "line": {
            "color": "#2a3f5f"
           }
          },
          "ternary": {
           "aaxis": {
            "gridcolor": "white",
            "linecolor": "white",
            "ticks": ""
           },
           "baxis": {
            "gridcolor": "white",
            "linecolor": "white",
            "ticks": ""
           },
           "bgcolor": "#E5ECF6",
           "caxis": {
            "gridcolor": "white",
            "linecolor": "white",
            "ticks": ""
           }
          },
          "title": {
           "x": 0.05
          },
          "xaxis": {
           "automargin": true,
           "gridcolor": "white",
           "linecolor": "white",
           "ticks": "",
           "title": {
            "standoff": 15
           },
           "zerolinecolor": "white",
           "zerolinewidth": 2
          },
          "yaxis": {
           "automargin": true,
           "gridcolor": "white",
           "linecolor": "white",
           "ticks": "",
           "title": {
            "standoff": 15
           },
           "zerolinecolor": "white",
           "zerolinewidth": 2
          }
         }
        },
        "title": {
         "font": {
          "color": "#4D5663"
         }
        },
        "xaxis": {
         "gridcolor": "#E1E5ED",
         "showgrid": true,
         "tickfont": {
          "color": "#4D5663"
         },
         "title": {
          "font": {
           "color": "#4D5663"
          },
          "text": ""
         },
         "zerolinecolor": "#E1E5ED"
        },
        "xaxis2": {
         "anchor": "y2",
         "gridcolor": "#E1E5ED",
         "showgrid": true,
         "showticklabels": false,
         "tickfont": {
          "color": "#4D5663"
         },
         "title": {
          "font": {
           "color": "#4D5663"
          },
          "text": ""
         },
         "zerolinecolor": "#E1E5ED"
        },
        "yaxis": {
         "domain": [
          0.3,
          1
         ],
         "gridcolor": "#E1E5ED",
         "showgrid": true,
         "tickfont": {
          "color": "#4D5663"
         },
         "title": {
          "font": {
           "color": "#4D5663"
          },
          "text": ""
         },
         "zerolinecolor": "#E1E5ED"
        },
        "yaxis2": {
         "domain": [
          0,
          0.25
         ],
         "gridcolor": "#E1E5ED",
         "showgrid": true,
         "tickfont": {
          "color": "#4D5663"
         },
         "title": {
          "font": {
           "color": "#4D5663"
          },
          "text": "Spread"
         },
         "zerolinecolor": "#E1E5ED"
        }
       }
      },
      "text/html": [
       "<div>\n",
       "        \n",
       "        \n",
       "            <div id=\"7592d03a-46c9-4bc9-8d44-52a97aae62eb\" class=\"plotly-graph-div\" style=\"height:525px; width:100%;\"></div>\n",
       "            <script type=\"text/javascript\">\n",
       "                require([\"plotly\"], function(Plotly) {\n",
       "                    window.PLOTLYENV=window.PLOTLYENV || {};\n",
       "                    window.PLOTLYENV.BASE_URL='https://plot.ly';\n",
       "                    \n",
       "                if (document.getElementById(\"7592d03a-46c9-4bc9-8d44-52a97aae62eb\")) {\n",
       "                    Plotly.newPlot(\n",
       "                        '7592d03a-46c9-4bc9-8d44-52a97aae62eb',\n",
       "                        [{\"line\": {\"color\": \"rgba(255, 153, 51, 1.0)\", \"dash\": \"solid\", \"shape\": \"linear\", \"width\": 1.3}, \"mode\": \"lines\", \"name\": \"A\", \"text\": \"\", \"type\": \"scatter\", \"x\": [0, 1, 2, 3, 4, 5, 6, 7, 8, 9, 10, 11, 12, 13, 14, 15, 16, 17, 18, 19, 20, 21, 22, 23, 24, 25, 26, 27, 28, 29, 30, 31, 32, 33, 34, 35, 36, 37, 38, 39, 40, 41, 42, 43, 44, 45, 46, 47, 48, 49, 50, 51, 52, 53, 54, 55, 56, 57, 58, 59, 60, 61, 62, 63, 64, 65, 66, 67, 68, 69, 70, 71, 72, 73, 74, 75, 76, 77, 78, 79, 80, 81, 82, 83, 84, 85, 86, 87, 88, 89, 90, 91, 92, 93, 94, 95, 96, 97, 98, 99], \"y\": [-0.510356444121689, 0.7201652349415042, -0.7956381636543068, 1.0832809916868644, -0.30135332660046227, 0.42411030852509535, 0.42087262293982375, -0.3834038112338632, -0.7181067075740701, -1.689000975405711, -0.768211369533854, -1.4009016874638953, -0.4609104403187404, -0.3610062304045048, 0.6990611544761113, -0.4071983236663745, 0.9749451967310648, -1.5521567512284027, 2.582839819142019, -1.2608047270318732, 0.68742828657434, -0.46537119576917874, -0.48064110808268334, 0.28063181595730985, -1.0452623335682787, -0.40873364292488046, -1.3571367997941601, -0.6062375995071084, 1.4528109216456557, 0.07731559895151965, 0.3250397061151751, 1.201915142424794, -0.4504659375584174, 1.9668847821266044, -0.364303563666657, -0.13927146800064158, 0.57348161033347, 0.4947778974491402, 0.30569786829351947, 0.9201554242455009, -0.41523183381297085, -1.8330412839733048, -0.23619614972665107, -1.849963868494029, 0.5461760591197427, -0.9361134586802853, -0.4528434305920523, 0.2174161047715857, 1.0635059691233937, -0.9459523350502519, -0.13166220663639913, -0.6421618174142698, 0.3047712492940703, -0.26344777521625573, -0.45306380687736664, -0.9705865345061072, -0.12741882697516443, 1.0049752783819161, 0.4086707843416792, -0.4511413941730779, 0.5104243612824134, -0.7255566333311757, 0.5653467224854392, -0.16436532244841037, -0.1988484231344934, -0.7564557068257352, -0.18679418701106604, 0.007128162141137425, -0.04652926061840745, -1.2240766600558828, 0.2548364775874957, 0.36702432595644263, -1.8441953853505533, -0.24359038758120563, 1.3244683296413644, 0.61165695571586, 1.5230508996881755, 1.7353619398397855, 0.22402443540755565, 0.33895550763612925, 0.9223319365608782, 0.9159143574193307, 1.2997354894773798, -1.4147536326587344, -1.0248138567998835, -1.7541740527292868, -0.6575313266954175, -0.6207644107638655, -0.44464272561837265, -0.836691238296052, 1.7573684719199605, -2.9653482379895464, -1.146385550579236, 0.15786795073923038, 1.9837911867756637, -0.1286989891014074, 0.6788131762939952, -0.012808189565091749, -0.7578489572357708, 1.5590955815629608]}, {\"line\": {\"color\": \"rgba(55, 128, 191, 1.0)\", \"dash\": \"solid\", \"shape\": \"linear\", \"width\": 1.3}, \"mode\": \"lines\", \"name\": \"B\", \"text\": \"\", \"type\": \"scatter\", \"x\": [0, 1, 2, 3, 4, 5, 6, 7, 8, 9, 10, 11, 12, 13, 14, 15, 16, 17, 18, 19, 20, 21, 22, 23, 24, 25, 26, 27, 28, 29, 30, 31, 32, 33, 34, 35, 36, 37, 38, 39, 40, 41, 42, 43, 44, 45, 46, 47, 48, 49, 50, 51, 52, 53, 54, 55, 56, 57, 58, 59, 60, 61, 62, 63, 64, 65, 66, 67, 68, 69, 70, 71, 72, 73, 74, 75, 76, 77, 78, 79, 80, 81, 82, 83, 84, 85, 86, 87, 88, 89, 90, 91, 92, 93, 94, 95, 96, 97, 98, 99], \"y\": [0.4394113396115198, -1.3704879603341773, -0.894779683303476, -0.9091697423817736, -0.7870831654017293, 1.7078371717736396, -0.09852952274905818, -0.3301784910650832, 1.6268395224675645, 0.23779943709785142, 0.8320902681835906, -1.0395936765569966, -1.4627998759745036, -1.2905181379536943, -0.7458983776289884, 1.233386993912338, 0.49681475206133296, -0.512701542962839, 2.064920530388905, 1.1887225273511324, 0.9775910490656258, 0.07947257556784981, -0.7874279153056152, -1.1496283384200692, -1.4302366554682746, -1.5038040240345794, 0.2917872732984551, -1.1291913047146693, 0.381635713258072, 0.5782386470488836, 0.18723596532937337, -0.3932861774601221, 0.22451339799635048, -0.5639617603917293, 0.976796922647767, 1.3294058450552153, -0.014823934009534098, 0.33694456503364056, -1.7596659431646775, 0.18350148416556766, 2.1186952855091894, 1.8667466050294965, -0.837574209463975, 1.1115620238149284, 0.27441666631551975, -0.20989609089297878, -1.8147053413659966, 0.7869898004991409, -1.7841985376732745, -0.5238520144705975, 0.3812868303501749, 0.3137975708975645, 0.9968300457049288, 0.5824846983864099, -0.05913546961926126, -0.7790815336783042, -0.5034885037883023, 0.9896954982725973, -0.4787666015780376, 1.9011893896648642, -0.13028487404661762, -2.1424981055614447, -1.0766028098307068, -0.792137140883388, -1.2103592333561075, -1.4878660498301146, -0.43106169827739, -0.44901688012835594, 0.29737915922704417, -1.5005547897872924, -0.6906235587362654, 0.08165168312136552, 0.888112558194319, 0.2162961596844919, 0.3095124316406531, -2.357625950700372, -0.5851048603043837, 1.4090130212670697, -0.8972052639813642, 0.44154770227912477, 1.1769309603585676, 3.494886385021715, -0.34623819370067876, 0.49039904790159233, -1.4439627916263218, -0.23356971773044577, 1.946859888073679, 0.39682927408000496, 0.6947149347178614, 0.776205432439833, -1.6156658133534276, 0.8735942224395256, -0.027535065229056153, -0.008472192836710022, 0.1836800682078861, -0.4984619503467606, 1.705018893410389, -2.0132462510663918, 0.1437439755595477, 0.38606482996606656]}, {\"connectgaps\": false, \"fill\": \"tozeroy\", \"line\": {\"color\": \"green\", \"dash\": \"solid\", \"shape\": \"linear\", \"width\": 0.5}, \"mode\": \"lines\", \"name\": \"Spread\", \"showlegend\": false, \"type\": \"scatter\", \"x\": [0, 1, 2, 3, 4, 5, 6, 7, 8, 9, 10, 11, 12, 13, 14, 15, 16, 17, 18, 19, 20, 21, 22, 23, 24, 25, 26, 27, 28, 29, 30, 31, 32, 33, 34, 35, 36, 37, 38, 39, 40, 41, 42, 43, 44, 45, 46, 47, 48, 49, 50, 51, 52, 53, 54, 55, 56, 57, 58, 59, 60, 61, 62, 63, 64, 65, 66, 67, 68, 69, 70, 71, 72, 73, 74, 75, 76, 77, 78, 79, 80, 81, 82, 83, 84, 85, 86, 87, 88, 89, 90, 91, 92, 93, 94, 95, 96, 97, 98, 99], \"xaxis\": \"x2\", \"y\": [\"\", 2.0906531952756815, 0.09914151964916917, 1.9924507340686382, 0.485729838801267, \"\", 0.519402145688882, \"\", \"\", \"\", \"\", \"\", 1.0018894356557633, 0.9295119075491896, 1.4449595321050996, \"\", 0.47813044466973187, \"\", 0.5179192887531139, \"\", \"\", \"\", 0.30678680722293183, 1.430260154377379, 0.3849743218999959, 1.095070381109699, \"\", 0.5229537052075609, 1.0711752083875838, \"\", 0.1378037407858017, 1.5952013198849162, \"\", 2.5308465425183337, \"\", \"\", 0.5883055443430041, 0.15783333241549963, 2.065363811458197, 0.7366539400799332, \"\", \"\", 0.601378059737324, \"\", 0.2717593928042229, \"\", 1.3618619107739443, \"\", 2.847704506796668, \"\", \"\", \"\", \"\", \"\", \"\", \"\", 0.3760696768131379, 0.015279780109318852, 0.8874373859197168, \"\", 0.640709235329031, 1.4169414722302691, 1.641949532316146, 0.6277718184349776, 1.0115108102216142, 0.7314103430043795, 0.24426751126632396, 0.4561450422694934, \"\", 0.2764781297314096, 0.9454600363237611, 0.28537264283507713, \"\", \"\", 1.0149558980007112, 2.9692829064162316, 2.108155759992559, 0.32634891857271575, 1.12122969938892, \"\", \"\", \"\", 1.6459736831780587, \"\", 0.41914893482643834, \"\", \"\", \"\", \"\", \"\", 3.373034285273388, \"\", \"\", 0.1663401435759404, 1.8001111185677776, 0.36976296124535324, \"\", 2.0004380615013, \"\", 1.1730307515968943], \"yaxis\": \"y2\"}, {\"connectgaps\": false, \"fill\": \"tozeroy\", \"line\": {\"color\": \"red\", \"dash\": \"solid\", \"shape\": \"linear\", \"width\": 0.5}, \"mode\": \"lines\", \"name\": \"Spread\", \"showlegend\": false, \"type\": \"scatter\", \"x\": [0, 1, 2, 3, 4, 5, 6, 7, 8, 9, 10, 11, 12, 13, 14, 15, 16, 17, 18, 19, 20, 21, 22, 23, 24, 25, 26, 27, 28, 29, 30, 31, 32, 33, 34, 35, 36, 37, 38, 39, 40, 41, 42, 43, 44, 45, 46, 47, 48, 49, 50, 51, 52, 53, 54, 55, 56, 57, 58, 59, 60, 61, 62, 63, 64, 65, 66, 67, 68, 69, 70, 71, 72, 73, 74, 75, 76, 77, 78, 79, 80, 81, 82, 83, 84, 85, 86, 87, 88, 89, 90, 91, 92, 93, 94, 95, 96, 97, 98, 99], \"xaxis\": \"x2\", \"y\": [-0.9497677837332088, \"\", \"\", \"\", \"\", -1.2837268632485443, \"\", -0.05322532016878001, -2.344946230041635, -1.9268004125035623, -1.6003016377174446, -0.3613080109068987, \"\", \"\", \"\", -1.6405853175787126, \"\", -1.0394552082655637, \"\", -2.4495272543830056, -0.2901627624912858, -0.5448437713370285, \"\", \"\", \"\", \"\", -1.6489240730926151, \"\", \"\", -0.500923048097364, \"\", \"\", -0.6749793355547679, \"\", -1.341100486314424, -1.4686773130558568, \"\", \"\", \"\", \"\", -2.5339271193221604, -3.6997878890028013, \"\", -2.9615258923089574, \"\", -0.7262173677873065, \"\", -0.5695736957275552, \"\", -0.4221003205796544, -0.512949036986574, -0.9559593883118342, -0.6920587964108585, -0.8459324736026657, -0.3939283372581054, -0.19150500082780297, \"\", \"\", \"\", -2.352330783837942, \"\", \"\", \"\", \"\", \"\", \"\", \"\", \"\", -0.3439084198454516, \"\", \"\", \"\", -2.732307943544872, -0.45988654726569755, \"\", \"\", \"\", \"\", \"\", -0.10259219464299552, -0.2545990237976894, -2.5789720276023846, \"\", -1.9051526805603267, \"\", -1.5206043349988412, -2.6043912147690964, -1.0175936848438705, -1.139357660336234, -1.612896670735885, \"\", -3.838942460429072, -1.1188504853501797, \"\", \"\", \"\", -1.0262057171163939, \"\", -0.9015929327953185, \"\"], \"yaxis\": \"y2\"}],\n",
       "                        {\"hovermode\": \"x\", \"legend\": {\"bgcolor\": \"#F5F6F9\", \"font\": {\"color\": \"#4D5663\"}}, \"paper_bgcolor\": \"#F5F6F9\", \"plot_bgcolor\": \"#F5F6F9\", \"template\": {\"data\": {\"bar\": [{\"error_x\": {\"color\": \"#2a3f5f\"}, \"error_y\": {\"color\": \"#2a3f5f\"}, \"marker\": {\"line\": {\"color\": \"#E5ECF6\", \"width\": 0.5}}, \"type\": \"bar\"}], \"barpolar\": [{\"marker\": {\"line\": {\"color\": \"#E5ECF6\", \"width\": 0.5}}, \"type\": \"barpolar\"}], \"carpet\": [{\"aaxis\": {\"endlinecolor\": \"#2a3f5f\", \"gridcolor\": \"white\", \"linecolor\": \"white\", \"minorgridcolor\": \"white\", \"startlinecolor\": \"#2a3f5f\"}, \"baxis\": {\"endlinecolor\": \"#2a3f5f\", \"gridcolor\": \"white\", \"linecolor\": \"white\", \"minorgridcolor\": \"white\", \"startlinecolor\": \"#2a3f5f\"}, \"type\": \"carpet\"}], \"choropleth\": [{\"colorbar\": {\"outlinewidth\": 0, \"ticks\": \"\"}, \"type\": \"choropleth\"}], \"contour\": [{\"colorbar\": {\"outlinewidth\": 0, \"ticks\": \"\"}, \"colorscale\": [[0.0, \"#0d0887\"], [0.1111111111111111, \"#46039f\"], [0.2222222222222222, \"#7201a8\"], [0.3333333333333333, \"#9c179e\"], [0.4444444444444444, \"#bd3786\"], [0.5555555555555556, \"#d8576b\"], [0.6666666666666666, \"#ed7953\"], [0.7777777777777778, \"#fb9f3a\"], [0.8888888888888888, \"#fdca26\"], [1.0, \"#f0f921\"]], \"type\": \"contour\"}], \"contourcarpet\": [{\"colorbar\": {\"outlinewidth\": 0, \"ticks\": \"\"}, \"type\": \"contourcarpet\"}], \"heatmap\": [{\"colorbar\": {\"outlinewidth\": 0, \"ticks\": \"\"}, \"colorscale\": [[0.0, \"#0d0887\"], [0.1111111111111111, \"#46039f\"], [0.2222222222222222, \"#7201a8\"], [0.3333333333333333, \"#9c179e\"], [0.4444444444444444, \"#bd3786\"], [0.5555555555555556, \"#d8576b\"], [0.6666666666666666, \"#ed7953\"], [0.7777777777777778, \"#fb9f3a\"], [0.8888888888888888, \"#fdca26\"], [1.0, \"#f0f921\"]], \"type\": \"heatmap\"}], \"heatmapgl\": [{\"colorbar\": {\"outlinewidth\": 0, \"ticks\": \"\"}, \"colorscale\": [[0.0, \"#0d0887\"], [0.1111111111111111, \"#46039f\"], [0.2222222222222222, \"#7201a8\"], [0.3333333333333333, \"#9c179e\"], [0.4444444444444444, \"#bd3786\"], [0.5555555555555556, \"#d8576b\"], [0.6666666666666666, \"#ed7953\"], [0.7777777777777778, \"#fb9f3a\"], [0.8888888888888888, \"#fdca26\"], [1.0, \"#f0f921\"]], \"type\": \"heatmapgl\"}], \"histogram\": [{\"marker\": {\"colorbar\": {\"outlinewidth\": 0, \"ticks\": \"\"}}, \"type\": \"histogram\"}], \"histogram2d\": [{\"colorbar\": {\"outlinewidth\": 0, \"ticks\": \"\"}, \"colorscale\": [[0.0, \"#0d0887\"], [0.1111111111111111, \"#46039f\"], [0.2222222222222222, \"#7201a8\"], [0.3333333333333333, \"#9c179e\"], [0.4444444444444444, \"#bd3786\"], [0.5555555555555556, \"#d8576b\"], [0.6666666666666666, \"#ed7953\"], [0.7777777777777778, \"#fb9f3a\"], [0.8888888888888888, \"#fdca26\"], [1.0, \"#f0f921\"]], \"type\": \"histogram2d\"}], \"histogram2dcontour\": [{\"colorbar\": {\"outlinewidth\": 0, \"ticks\": \"\"}, \"colorscale\": [[0.0, \"#0d0887\"], [0.1111111111111111, \"#46039f\"], [0.2222222222222222, \"#7201a8\"], [0.3333333333333333, \"#9c179e\"], [0.4444444444444444, \"#bd3786\"], [0.5555555555555556, \"#d8576b\"], [0.6666666666666666, \"#ed7953\"], [0.7777777777777778, \"#fb9f3a\"], [0.8888888888888888, \"#fdca26\"], [1.0, \"#f0f921\"]], \"type\": \"histogram2dcontour\"}], \"mesh3d\": [{\"colorbar\": {\"outlinewidth\": 0, \"ticks\": \"\"}, \"type\": \"mesh3d\"}], \"parcoords\": [{\"line\": {\"colorbar\": {\"outlinewidth\": 0, \"ticks\": \"\"}}, \"type\": \"parcoords\"}], \"pie\": [{\"automargin\": true, \"type\": \"pie\"}], \"scatter\": [{\"marker\": {\"colorbar\": {\"outlinewidth\": 0, \"ticks\": \"\"}}, \"type\": \"scatter\"}], \"scatter3d\": [{\"line\": {\"colorbar\": {\"outlinewidth\": 0, \"ticks\": \"\"}}, \"marker\": {\"colorbar\": {\"outlinewidth\": 0, \"ticks\": \"\"}}, \"type\": \"scatter3d\"}], \"scattercarpet\": [{\"marker\": {\"colorbar\": {\"outlinewidth\": 0, \"ticks\": \"\"}}, \"type\": \"scattercarpet\"}], \"scattergeo\": [{\"marker\": {\"colorbar\": {\"outlinewidth\": 0, \"ticks\": \"\"}}, \"type\": \"scattergeo\"}], \"scattergl\": [{\"marker\": {\"colorbar\": {\"outlinewidth\": 0, \"ticks\": \"\"}}, \"type\": \"scattergl\"}], \"scattermapbox\": [{\"marker\": {\"colorbar\": {\"outlinewidth\": 0, \"ticks\": \"\"}}, \"type\": \"scattermapbox\"}], \"scatterpolar\": [{\"marker\": {\"colorbar\": {\"outlinewidth\": 0, \"ticks\": \"\"}}, \"type\": \"scatterpolar\"}], \"scatterpolargl\": [{\"marker\": {\"colorbar\": {\"outlinewidth\": 0, \"ticks\": \"\"}}, \"type\": \"scatterpolargl\"}], \"scatterternary\": [{\"marker\": {\"colorbar\": {\"outlinewidth\": 0, \"ticks\": \"\"}}, \"type\": \"scatterternary\"}], \"surface\": [{\"colorbar\": {\"outlinewidth\": 0, \"ticks\": \"\"}, \"colorscale\": [[0.0, \"#0d0887\"], [0.1111111111111111, \"#46039f\"], [0.2222222222222222, \"#7201a8\"], [0.3333333333333333, \"#9c179e\"], [0.4444444444444444, \"#bd3786\"], [0.5555555555555556, \"#d8576b\"], [0.6666666666666666, \"#ed7953\"], [0.7777777777777778, \"#fb9f3a\"], [0.8888888888888888, \"#fdca26\"], [1.0, \"#f0f921\"]], \"type\": \"surface\"}], \"table\": [{\"cells\": {\"fill\": {\"color\": \"#EBF0F8\"}, \"line\": {\"color\": \"white\"}}, \"header\": {\"fill\": {\"color\": \"#C8D4E3\"}, \"line\": {\"color\": \"white\"}}, \"type\": \"table\"}]}, \"layout\": {\"annotationdefaults\": {\"arrowcolor\": \"#2a3f5f\", \"arrowhead\": 0, \"arrowwidth\": 1}, \"coloraxis\": {\"colorbar\": {\"outlinewidth\": 0, \"ticks\": \"\"}}, \"colorscale\": {\"diverging\": [[0, \"#8e0152\"], [0.1, \"#c51b7d\"], [0.2, \"#de77ae\"], [0.3, \"#f1b6da\"], [0.4, \"#fde0ef\"], [0.5, \"#f7f7f7\"], [0.6, \"#e6f5d0\"], [0.7, \"#b8e186\"], [0.8, \"#7fbc41\"], [0.9, \"#4d9221\"], [1, \"#276419\"]], \"sequential\": [[0.0, \"#0d0887\"], [0.1111111111111111, \"#46039f\"], [0.2222222222222222, \"#7201a8\"], [0.3333333333333333, \"#9c179e\"], [0.4444444444444444, \"#bd3786\"], [0.5555555555555556, \"#d8576b\"], [0.6666666666666666, \"#ed7953\"], [0.7777777777777778, \"#fb9f3a\"], [0.8888888888888888, \"#fdca26\"], [1.0, \"#f0f921\"]], \"sequentialminus\": [[0.0, \"#0d0887\"], [0.1111111111111111, \"#46039f\"], [0.2222222222222222, \"#7201a8\"], [0.3333333333333333, \"#9c179e\"], [0.4444444444444444, \"#bd3786\"], [0.5555555555555556, \"#d8576b\"], [0.6666666666666666, \"#ed7953\"], [0.7777777777777778, \"#fb9f3a\"], [0.8888888888888888, \"#fdca26\"], [1.0, \"#f0f921\"]]}, \"colorway\": [\"#636efa\", \"#EF553B\", \"#00cc96\", \"#ab63fa\", \"#FFA15A\", \"#19d3f3\", \"#FF6692\", \"#B6E880\", \"#FF97FF\", \"#FECB52\"], \"font\": {\"color\": \"#2a3f5f\"}, \"geo\": {\"bgcolor\": \"white\", \"lakecolor\": \"white\", \"landcolor\": \"#E5ECF6\", \"showlakes\": true, \"showland\": true, \"subunitcolor\": \"white\"}, \"hoverlabel\": {\"align\": \"left\"}, \"hovermode\": \"closest\", \"mapbox\": {\"style\": \"light\"}, \"paper_bgcolor\": \"white\", \"plot_bgcolor\": \"#E5ECF6\", \"polar\": {\"angularaxis\": {\"gridcolor\": \"white\", \"linecolor\": \"white\", \"ticks\": \"\"}, \"bgcolor\": \"#E5ECF6\", \"radialaxis\": {\"gridcolor\": \"white\", \"linecolor\": \"white\", \"ticks\": \"\"}}, \"scene\": {\"xaxis\": {\"backgroundcolor\": \"#E5ECF6\", \"gridcolor\": \"white\", \"gridwidth\": 2, \"linecolor\": \"white\", \"showbackground\": true, \"ticks\": \"\", \"zerolinecolor\": \"white\"}, \"yaxis\": {\"backgroundcolor\": \"#E5ECF6\", \"gridcolor\": \"white\", \"gridwidth\": 2, \"linecolor\": \"white\", \"showbackground\": true, \"ticks\": \"\", \"zerolinecolor\": \"white\"}, \"zaxis\": {\"backgroundcolor\": \"#E5ECF6\", \"gridcolor\": \"white\", \"gridwidth\": 2, \"linecolor\": \"white\", \"showbackground\": true, \"ticks\": \"\", \"zerolinecolor\": \"white\"}}, \"shapedefaults\": {\"line\": {\"color\": \"#2a3f5f\"}}, \"ternary\": {\"aaxis\": {\"gridcolor\": \"white\", \"linecolor\": \"white\", \"ticks\": \"\"}, \"baxis\": {\"gridcolor\": \"white\", \"linecolor\": \"white\", \"ticks\": \"\"}, \"bgcolor\": \"#E5ECF6\", \"caxis\": {\"gridcolor\": \"white\", \"linecolor\": \"white\", \"ticks\": \"\"}}, \"title\": {\"x\": 0.05}, \"xaxis\": {\"automargin\": true, \"gridcolor\": \"white\", \"linecolor\": \"white\", \"ticks\": \"\", \"title\": {\"standoff\": 15}, \"zerolinecolor\": \"white\", \"zerolinewidth\": 2}, \"yaxis\": {\"automargin\": true, \"gridcolor\": \"white\", \"linecolor\": \"white\", \"ticks\": \"\", \"title\": {\"standoff\": 15}, \"zerolinecolor\": \"white\", \"zerolinewidth\": 2}}}, \"title\": {\"font\": {\"color\": \"#4D5663\"}}, \"xaxis\": {\"gridcolor\": \"#E1E5ED\", \"showgrid\": true, \"tickfont\": {\"color\": \"#4D5663\"}, \"title\": {\"font\": {\"color\": \"#4D5663\"}, \"text\": \"\"}, \"zerolinecolor\": \"#E1E5ED\"}, \"xaxis2\": {\"anchor\": \"y2\", \"gridcolor\": \"#E1E5ED\", \"showgrid\": true, \"showticklabels\": false, \"tickfont\": {\"color\": \"#4D5663\"}, \"title\": {\"font\": {\"color\": \"#4D5663\"}, \"text\": \"\"}, \"zerolinecolor\": \"#E1E5ED\"}, \"yaxis\": {\"domain\": [0.3, 1], \"gridcolor\": \"#E1E5ED\", \"showgrid\": true, \"tickfont\": {\"color\": \"#4D5663\"}, \"title\": {\"font\": {\"color\": \"#4D5663\"}, \"text\": \"\"}, \"zerolinecolor\": \"#E1E5ED\"}, \"yaxis2\": {\"domain\": [0, 0.25], \"gridcolor\": \"#E1E5ED\", \"showgrid\": true, \"tickfont\": {\"color\": \"#4D5663\"}, \"title\": {\"font\": {\"color\": \"#4D5663\"}, \"text\": \"Spread\"}, \"zerolinecolor\": \"#E1E5ED\"}},\n",
       "                        {\"showLink\": true, \"linkText\": \"Export to plot.ly\", \"plotlyServerURL\": \"https://plot.ly\", \"responsive\": true}\n",
       "                    ).then(function(){\n",
       "                            \n",
       "var gd = document.getElementById('7592d03a-46c9-4bc9-8d44-52a97aae62eb');\n",
       "var x = new MutationObserver(function (mutations, observer) {{\n",
       "        var display = window.getComputedStyle(gd).display;\n",
       "        if (!display || display === 'none') {{\n",
       "            console.log([gd, 'removed!']);\n",
       "            Plotly.purge(gd);\n",
       "            observer.disconnect();\n",
       "        }}\n",
       "}});\n",
       "\n",
       "// Listen for the removal of the full notebook cells\n",
       "var notebookContainer = gd.closest('#notebook-container');\n",
       "if (notebookContainer) {{\n",
       "    x.observe(notebookContainer, {childList: true});\n",
       "}}\n",
       "\n",
       "// Listen for the clearing of the current output cell\n",
       "var outputEl = gd.closest('.output');\n",
       "if (outputEl) {{\n",
       "    x.observe(outputEl, {childList: true});\n",
       "}}\n",
       "\n",
       "                        })\n",
       "                };\n",
       "                });\n",
       "            </script>\n",
       "        </div>"
      ]
     },
     "metadata": {},
     "output_type": "display_data"
    }
   ],
   "source": [
    "df[['A','B']].iplot(kind='spread')"
   ]
  },
  {
   "cell_type": "markdown",
   "metadata": {},
   "source": [
    "## histogram"
   ]
  },
  {
   "cell_type": "code",
   "execution_count": 18,
   "metadata": {},
   "outputs": [
    {
     "data": {
      "application/vnd.plotly.v1+json": {
       "config": {
        "linkText": "Export to plot.ly",
        "plotlyServerURL": "https://plot.ly",
        "showLink": true
       },
       "data": [
        {
         "histfunc": "count",
         "histnorm": "",
         "marker": {
          "color": "rgba(255, 153, 51, 1.0)",
          "line": {
           "color": "#4D5663",
           "width": 1.3
          }
         },
         "name": "A",
         "nbinsx": 25,
         "opacity": 0.8,
         "orientation": "v",
         "type": "histogram",
         "x": [
          -0.510356444121689,
          0.7201652349415042,
          -0.7956381636543068,
          1.0832809916868644,
          -0.30135332660046227,
          0.42411030852509535,
          0.42087262293982375,
          -0.3834038112338632,
          -0.7181067075740701,
          -1.689000975405711,
          -0.768211369533854,
          -1.4009016874638953,
          -0.4609104403187404,
          -0.3610062304045048,
          0.6990611544761113,
          -0.4071983236663745,
          0.9749451967310648,
          -1.5521567512284027,
          2.582839819142019,
          -1.2608047270318732,
          0.68742828657434,
          -0.46537119576917874,
          -0.48064110808268334,
          0.28063181595730985,
          -1.0452623335682787,
          -0.40873364292488046,
          -1.3571367997941601,
          -0.6062375995071084,
          1.4528109216456557,
          0.07731559895151965,
          0.3250397061151751,
          1.201915142424794,
          -0.4504659375584174,
          1.9668847821266044,
          -0.364303563666657,
          -0.13927146800064158,
          0.57348161033347,
          0.4947778974491402,
          0.30569786829351947,
          0.9201554242455009,
          -0.41523183381297085,
          -1.8330412839733048,
          -0.23619614972665107,
          -1.849963868494029,
          0.5461760591197427,
          -0.9361134586802853,
          -0.4528434305920523,
          0.2174161047715857,
          1.0635059691233937,
          -0.9459523350502519,
          -0.13166220663639913,
          -0.6421618174142698,
          0.3047712492940703,
          -0.26344777521625573,
          -0.45306380687736664,
          -0.9705865345061072,
          -0.12741882697516443,
          1.0049752783819161,
          0.4086707843416792,
          -0.4511413941730779,
          0.5104243612824134,
          -0.7255566333311757,
          0.5653467224854392,
          -0.16436532244841037,
          -0.1988484231344934,
          -0.7564557068257352,
          -0.18679418701106604,
          0.007128162141137425,
          -0.04652926061840745,
          -1.2240766600558828,
          0.2548364775874957,
          0.36702432595644263,
          -1.8441953853505533,
          -0.24359038758120563,
          1.3244683296413644,
          0.61165695571586,
          1.5230508996881755,
          1.7353619398397855,
          0.22402443540755565,
          0.33895550763612925,
          0.9223319365608782,
          0.9159143574193307,
          1.2997354894773798,
          -1.4147536326587344,
          -1.0248138567998835,
          -1.7541740527292868,
          -0.6575313266954175,
          -0.6207644107638655,
          -0.44464272561837265,
          -0.836691238296052,
          1.7573684719199605,
          -2.9653482379895464,
          -1.146385550579236,
          0.15786795073923038,
          1.9837911867756637,
          -0.1286989891014074,
          0.6788131762939952,
          -0.012808189565091749,
          -0.7578489572357708,
          1.5590955815629608
         ]
        }
       ],
       "layout": {
        "barmode": "overlay",
        "legend": {
         "bgcolor": "#F5F6F9",
         "font": {
          "color": "#4D5663"
         }
        },
        "paper_bgcolor": "#F5F6F9",
        "plot_bgcolor": "#F5F6F9",
        "template": {
         "data": {
          "bar": [
           {
            "error_x": {
             "color": "#2a3f5f"
            },
            "error_y": {
             "color": "#2a3f5f"
            },
            "marker": {
             "line": {
              "color": "#E5ECF6",
              "width": 0.5
             }
            },
            "type": "bar"
           }
          ],
          "barpolar": [
           {
            "marker": {
             "line": {
              "color": "#E5ECF6",
              "width": 0.5
             }
            },
            "type": "barpolar"
           }
          ],
          "carpet": [
           {
            "aaxis": {
             "endlinecolor": "#2a3f5f",
             "gridcolor": "white",
             "linecolor": "white",
             "minorgridcolor": "white",
             "startlinecolor": "#2a3f5f"
            },
            "baxis": {
             "endlinecolor": "#2a3f5f",
             "gridcolor": "white",
             "linecolor": "white",
             "minorgridcolor": "white",
             "startlinecolor": "#2a3f5f"
            },
            "type": "carpet"
           }
          ],
          "choropleth": [
           {
            "colorbar": {
             "outlinewidth": 0,
             "ticks": ""
            },
            "type": "choropleth"
           }
          ],
          "contour": [
           {
            "colorbar": {
             "outlinewidth": 0,
             "ticks": ""
            },
            "colorscale": [
             [
              0,
              "#0d0887"
             ],
             [
              0.1111111111111111,
              "#46039f"
             ],
             [
              0.2222222222222222,
              "#7201a8"
             ],
             [
              0.3333333333333333,
              "#9c179e"
             ],
             [
              0.4444444444444444,
              "#bd3786"
             ],
             [
              0.5555555555555556,
              "#d8576b"
             ],
             [
              0.6666666666666666,
              "#ed7953"
             ],
             [
              0.7777777777777778,
              "#fb9f3a"
             ],
             [
              0.8888888888888888,
              "#fdca26"
             ],
             [
              1,
              "#f0f921"
             ]
            ],
            "type": "contour"
           }
          ],
          "contourcarpet": [
           {
            "colorbar": {
             "outlinewidth": 0,
             "ticks": ""
            },
            "type": "contourcarpet"
           }
          ],
          "heatmap": [
           {
            "colorbar": {
             "outlinewidth": 0,
             "ticks": ""
            },
            "colorscale": [
             [
              0,
              "#0d0887"
             ],
             [
              0.1111111111111111,
              "#46039f"
             ],
             [
              0.2222222222222222,
              "#7201a8"
             ],
             [
              0.3333333333333333,
              "#9c179e"
             ],
             [
              0.4444444444444444,
              "#bd3786"
             ],
             [
              0.5555555555555556,
              "#d8576b"
             ],
             [
              0.6666666666666666,
              "#ed7953"
             ],
             [
              0.7777777777777778,
              "#fb9f3a"
             ],
             [
              0.8888888888888888,
              "#fdca26"
             ],
             [
              1,
              "#f0f921"
             ]
            ],
            "type": "heatmap"
           }
          ],
          "heatmapgl": [
           {
            "colorbar": {
             "outlinewidth": 0,
             "ticks": ""
            },
            "colorscale": [
             [
              0,
              "#0d0887"
             ],
             [
              0.1111111111111111,
              "#46039f"
             ],
             [
              0.2222222222222222,
              "#7201a8"
             ],
             [
              0.3333333333333333,
              "#9c179e"
             ],
             [
              0.4444444444444444,
              "#bd3786"
             ],
             [
              0.5555555555555556,
              "#d8576b"
             ],
             [
              0.6666666666666666,
              "#ed7953"
             ],
             [
              0.7777777777777778,
              "#fb9f3a"
             ],
             [
              0.8888888888888888,
              "#fdca26"
             ],
             [
              1,
              "#f0f921"
             ]
            ],
            "type": "heatmapgl"
           }
          ],
          "histogram": [
           {
            "marker": {
             "colorbar": {
              "outlinewidth": 0,
              "ticks": ""
             }
            },
            "type": "histogram"
           }
          ],
          "histogram2d": [
           {
            "colorbar": {
             "outlinewidth": 0,
             "ticks": ""
            },
            "colorscale": [
             [
              0,
              "#0d0887"
             ],
             [
              0.1111111111111111,
              "#46039f"
             ],
             [
              0.2222222222222222,
              "#7201a8"
             ],
             [
              0.3333333333333333,
              "#9c179e"
             ],
             [
              0.4444444444444444,
              "#bd3786"
             ],
             [
              0.5555555555555556,
              "#d8576b"
             ],
             [
              0.6666666666666666,
              "#ed7953"
             ],
             [
              0.7777777777777778,
              "#fb9f3a"
             ],
             [
              0.8888888888888888,
              "#fdca26"
             ],
             [
              1,
              "#f0f921"
             ]
            ],
            "type": "histogram2d"
           }
          ],
          "histogram2dcontour": [
           {
            "colorbar": {
             "outlinewidth": 0,
             "ticks": ""
            },
            "colorscale": [
             [
              0,
              "#0d0887"
             ],
             [
              0.1111111111111111,
              "#46039f"
             ],
             [
              0.2222222222222222,
              "#7201a8"
             ],
             [
              0.3333333333333333,
              "#9c179e"
             ],
             [
              0.4444444444444444,
              "#bd3786"
             ],
             [
              0.5555555555555556,
              "#d8576b"
             ],
             [
              0.6666666666666666,
              "#ed7953"
             ],
             [
              0.7777777777777778,
              "#fb9f3a"
             ],
             [
              0.8888888888888888,
              "#fdca26"
             ],
             [
              1,
              "#f0f921"
             ]
            ],
            "type": "histogram2dcontour"
           }
          ],
          "mesh3d": [
           {
            "colorbar": {
             "outlinewidth": 0,
             "ticks": ""
            },
            "type": "mesh3d"
           }
          ],
          "parcoords": [
           {
            "line": {
             "colorbar": {
              "outlinewidth": 0,
              "ticks": ""
             }
            },
            "type": "parcoords"
           }
          ],
          "pie": [
           {
            "automargin": true,
            "type": "pie"
           }
          ],
          "scatter": [
           {
            "marker": {
             "colorbar": {
              "outlinewidth": 0,
              "ticks": ""
             }
            },
            "type": "scatter"
           }
          ],
          "scatter3d": [
           {
            "line": {
             "colorbar": {
              "outlinewidth": 0,
              "ticks": ""
             }
            },
            "marker": {
             "colorbar": {
              "outlinewidth": 0,
              "ticks": ""
             }
            },
            "type": "scatter3d"
           }
          ],
          "scattercarpet": [
           {
            "marker": {
             "colorbar": {
              "outlinewidth": 0,
              "ticks": ""
             }
            },
            "type": "scattercarpet"
           }
          ],
          "scattergeo": [
           {
            "marker": {
             "colorbar": {
              "outlinewidth": 0,
              "ticks": ""
             }
            },
            "type": "scattergeo"
           }
          ],
          "scattergl": [
           {
            "marker": {
             "colorbar": {
              "outlinewidth": 0,
              "ticks": ""
             }
            },
            "type": "scattergl"
           }
          ],
          "scattermapbox": [
           {
            "marker": {
             "colorbar": {
              "outlinewidth": 0,
              "ticks": ""
             }
            },
            "type": "scattermapbox"
           }
          ],
          "scatterpolar": [
           {
            "marker": {
             "colorbar": {
              "outlinewidth": 0,
              "ticks": ""
             }
            },
            "type": "scatterpolar"
           }
          ],
          "scatterpolargl": [
           {
            "marker": {
             "colorbar": {
              "outlinewidth": 0,
              "ticks": ""
             }
            },
            "type": "scatterpolargl"
           }
          ],
          "scatterternary": [
           {
            "marker": {
             "colorbar": {
              "outlinewidth": 0,
              "ticks": ""
             }
            },
            "type": "scatterternary"
           }
          ],
          "surface": [
           {
            "colorbar": {
             "outlinewidth": 0,
             "ticks": ""
            },
            "colorscale": [
             [
              0,
              "#0d0887"
             ],
             [
              0.1111111111111111,
              "#46039f"
             ],
             [
              0.2222222222222222,
              "#7201a8"
             ],
             [
              0.3333333333333333,
              "#9c179e"
             ],
             [
              0.4444444444444444,
              "#bd3786"
             ],
             [
              0.5555555555555556,
              "#d8576b"
             ],
             [
              0.6666666666666666,
              "#ed7953"
             ],
             [
              0.7777777777777778,
              "#fb9f3a"
             ],
             [
              0.8888888888888888,
              "#fdca26"
             ],
             [
              1,
              "#f0f921"
             ]
            ],
            "type": "surface"
           }
          ],
          "table": [
           {
            "cells": {
             "fill": {
              "color": "#EBF0F8"
             },
             "line": {
              "color": "white"
             }
            },
            "header": {
             "fill": {
              "color": "#C8D4E3"
             },
             "line": {
              "color": "white"
             }
            },
            "type": "table"
           }
          ]
         },
         "layout": {
          "annotationdefaults": {
           "arrowcolor": "#2a3f5f",
           "arrowhead": 0,
           "arrowwidth": 1
          },
          "coloraxis": {
           "colorbar": {
            "outlinewidth": 0,
            "ticks": ""
           }
          },
          "colorscale": {
           "diverging": [
            [
             0,
             "#8e0152"
            ],
            [
             0.1,
             "#c51b7d"
            ],
            [
             0.2,
             "#de77ae"
            ],
            [
             0.3,
             "#f1b6da"
            ],
            [
             0.4,
             "#fde0ef"
            ],
            [
             0.5,
             "#f7f7f7"
            ],
            [
             0.6,
             "#e6f5d0"
            ],
            [
             0.7,
             "#b8e186"
            ],
            [
             0.8,
             "#7fbc41"
            ],
            [
             0.9,
             "#4d9221"
            ],
            [
             1,
             "#276419"
            ]
           ],
           "sequential": [
            [
             0,
             "#0d0887"
            ],
            [
             0.1111111111111111,
             "#46039f"
            ],
            [
             0.2222222222222222,
             "#7201a8"
            ],
            [
             0.3333333333333333,
             "#9c179e"
            ],
            [
             0.4444444444444444,
             "#bd3786"
            ],
            [
             0.5555555555555556,
             "#d8576b"
            ],
            [
             0.6666666666666666,
             "#ed7953"
            ],
            [
             0.7777777777777778,
             "#fb9f3a"
            ],
            [
             0.8888888888888888,
             "#fdca26"
            ],
            [
             1,
             "#f0f921"
            ]
           ],
           "sequentialminus": [
            [
             0,
             "#0d0887"
            ],
            [
             0.1111111111111111,
             "#46039f"
            ],
            [
             0.2222222222222222,
             "#7201a8"
            ],
            [
             0.3333333333333333,
             "#9c179e"
            ],
            [
             0.4444444444444444,
             "#bd3786"
            ],
            [
             0.5555555555555556,
             "#d8576b"
            ],
            [
             0.6666666666666666,
             "#ed7953"
            ],
            [
             0.7777777777777778,
             "#fb9f3a"
            ],
            [
             0.8888888888888888,
             "#fdca26"
            ],
            [
             1,
             "#f0f921"
            ]
           ]
          },
          "colorway": [
           "#636efa",
           "#EF553B",
           "#00cc96",
           "#ab63fa",
           "#FFA15A",
           "#19d3f3",
           "#FF6692",
           "#B6E880",
           "#FF97FF",
           "#FECB52"
          ],
          "font": {
           "color": "#2a3f5f"
          },
          "geo": {
           "bgcolor": "white",
           "lakecolor": "white",
           "landcolor": "#E5ECF6",
           "showlakes": true,
           "showland": true,
           "subunitcolor": "white"
          },
          "hoverlabel": {
           "align": "left"
          },
          "hovermode": "closest",
          "mapbox": {
           "style": "light"
          },
          "paper_bgcolor": "white",
          "plot_bgcolor": "#E5ECF6",
          "polar": {
           "angularaxis": {
            "gridcolor": "white",
            "linecolor": "white",
            "ticks": ""
           },
           "bgcolor": "#E5ECF6",
           "radialaxis": {
            "gridcolor": "white",
            "linecolor": "white",
            "ticks": ""
           }
          },
          "scene": {
           "xaxis": {
            "backgroundcolor": "#E5ECF6",
            "gridcolor": "white",
            "gridwidth": 2,
            "linecolor": "white",
            "showbackground": true,
            "ticks": "",
            "zerolinecolor": "white"
           },
           "yaxis": {
            "backgroundcolor": "#E5ECF6",
            "gridcolor": "white",
            "gridwidth": 2,
            "linecolor": "white",
            "showbackground": true,
            "ticks": "",
            "zerolinecolor": "white"
           },
           "zaxis": {
            "backgroundcolor": "#E5ECF6",
            "gridcolor": "white",
            "gridwidth": 2,
            "linecolor": "white",
            "showbackground": true,
            "ticks": "",
            "zerolinecolor": "white"
           }
          },
          "shapedefaults": {
           "line": {
            "color": "#2a3f5f"
           }
          },
          "ternary": {
           "aaxis": {
            "gridcolor": "white",
            "linecolor": "white",
            "ticks": ""
           },
           "baxis": {
            "gridcolor": "white",
            "linecolor": "white",
            "ticks": ""
           },
           "bgcolor": "#E5ECF6",
           "caxis": {
            "gridcolor": "white",
            "linecolor": "white",
            "ticks": ""
           }
          },
          "title": {
           "x": 0.05
          },
          "xaxis": {
           "automargin": true,
           "gridcolor": "white",
           "linecolor": "white",
           "ticks": "",
           "title": {
            "standoff": 15
           },
           "zerolinecolor": "white",
           "zerolinewidth": 2
          },
          "yaxis": {
           "automargin": true,
           "gridcolor": "white",
           "linecolor": "white",
           "ticks": "",
           "title": {
            "standoff": 15
           },
           "zerolinecolor": "white",
           "zerolinewidth": 2
          }
         }
        },
        "title": {
         "font": {
          "color": "#4D5663"
         }
        },
        "xaxis": {
         "gridcolor": "#E1E5ED",
         "showgrid": true,
         "tickfont": {
          "color": "#4D5663"
         },
         "title": {
          "font": {
           "color": "#4D5663"
          },
          "text": ""
         },
         "zerolinecolor": "#E1E5ED"
        },
        "yaxis": {
         "gridcolor": "#E1E5ED",
         "showgrid": true,
         "tickfont": {
          "color": "#4D5663"
         },
         "title": {
          "font": {
           "color": "#4D5663"
          },
          "text": ""
         },
         "zerolinecolor": "#E1E5ED"
        }
       }
      },
      "text/html": [
       "<div>\n",
       "        \n",
       "        \n",
       "            <div id=\"b3a98434-dd74-42ba-afef-fa125638a6cf\" class=\"plotly-graph-div\" style=\"height:525px; width:100%;\"></div>\n",
       "            <script type=\"text/javascript\">\n",
       "                require([\"plotly\"], function(Plotly) {\n",
       "                    window.PLOTLYENV=window.PLOTLYENV || {};\n",
       "                    window.PLOTLYENV.BASE_URL='https://plot.ly';\n",
       "                    \n",
       "                if (document.getElementById(\"b3a98434-dd74-42ba-afef-fa125638a6cf\")) {\n",
       "                    Plotly.newPlot(\n",
       "                        'b3a98434-dd74-42ba-afef-fa125638a6cf',\n",
       "                        [{\"histfunc\": \"count\", \"histnorm\": \"\", \"marker\": {\"color\": \"rgba(255, 153, 51, 1.0)\", \"line\": {\"color\": \"#4D5663\", \"width\": 1.3}}, \"name\": \"A\", \"nbinsx\": 25, \"opacity\": 0.8, \"orientation\": \"v\", \"type\": \"histogram\", \"x\": [-0.510356444121689, 0.7201652349415042, -0.7956381636543068, 1.0832809916868644, -0.30135332660046227, 0.42411030852509535, 0.42087262293982375, -0.3834038112338632, -0.7181067075740701, -1.689000975405711, -0.768211369533854, -1.4009016874638953, -0.4609104403187404, -0.3610062304045048, 0.6990611544761113, -0.4071983236663745, 0.9749451967310648, -1.5521567512284027, 2.582839819142019, -1.2608047270318732, 0.68742828657434, -0.46537119576917874, -0.48064110808268334, 0.28063181595730985, -1.0452623335682787, -0.40873364292488046, -1.3571367997941601, -0.6062375995071084, 1.4528109216456557, 0.07731559895151965, 0.3250397061151751, 1.201915142424794, -0.4504659375584174, 1.9668847821266044, -0.364303563666657, -0.13927146800064158, 0.57348161033347, 0.4947778974491402, 0.30569786829351947, 0.9201554242455009, -0.41523183381297085, -1.8330412839733048, -0.23619614972665107, -1.849963868494029, 0.5461760591197427, -0.9361134586802853, -0.4528434305920523, 0.2174161047715857, 1.0635059691233937, -0.9459523350502519, -0.13166220663639913, -0.6421618174142698, 0.3047712492940703, -0.26344777521625573, -0.45306380687736664, -0.9705865345061072, -0.12741882697516443, 1.0049752783819161, 0.4086707843416792, -0.4511413941730779, 0.5104243612824134, -0.7255566333311757, 0.5653467224854392, -0.16436532244841037, -0.1988484231344934, -0.7564557068257352, -0.18679418701106604, 0.007128162141137425, -0.04652926061840745, -1.2240766600558828, 0.2548364775874957, 0.36702432595644263, -1.8441953853505533, -0.24359038758120563, 1.3244683296413644, 0.61165695571586, 1.5230508996881755, 1.7353619398397855, 0.22402443540755565, 0.33895550763612925, 0.9223319365608782, 0.9159143574193307, 1.2997354894773798, -1.4147536326587344, -1.0248138567998835, -1.7541740527292868, -0.6575313266954175, -0.6207644107638655, -0.44464272561837265, -0.836691238296052, 1.7573684719199605, -2.9653482379895464, -1.146385550579236, 0.15786795073923038, 1.9837911867756637, -0.1286989891014074, 0.6788131762939952, -0.012808189565091749, -0.7578489572357708, 1.5590955815629608]}],\n",
       "                        {\"barmode\": \"overlay\", \"legend\": {\"bgcolor\": \"#F5F6F9\", \"font\": {\"color\": \"#4D5663\"}}, \"paper_bgcolor\": \"#F5F6F9\", \"plot_bgcolor\": \"#F5F6F9\", \"template\": {\"data\": {\"bar\": [{\"error_x\": {\"color\": \"#2a3f5f\"}, \"error_y\": {\"color\": \"#2a3f5f\"}, \"marker\": {\"line\": {\"color\": \"#E5ECF6\", \"width\": 0.5}}, \"type\": \"bar\"}], \"barpolar\": [{\"marker\": {\"line\": {\"color\": \"#E5ECF6\", \"width\": 0.5}}, \"type\": \"barpolar\"}], \"carpet\": [{\"aaxis\": {\"endlinecolor\": \"#2a3f5f\", \"gridcolor\": \"white\", \"linecolor\": \"white\", \"minorgridcolor\": \"white\", \"startlinecolor\": \"#2a3f5f\"}, \"baxis\": {\"endlinecolor\": \"#2a3f5f\", \"gridcolor\": \"white\", \"linecolor\": \"white\", \"minorgridcolor\": \"white\", \"startlinecolor\": \"#2a3f5f\"}, \"type\": \"carpet\"}], \"choropleth\": [{\"colorbar\": {\"outlinewidth\": 0, \"ticks\": \"\"}, \"type\": \"choropleth\"}], \"contour\": [{\"colorbar\": {\"outlinewidth\": 0, \"ticks\": \"\"}, \"colorscale\": [[0.0, \"#0d0887\"], [0.1111111111111111, \"#46039f\"], [0.2222222222222222, \"#7201a8\"], [0.3333333333333333, \"#9c179e\"], [0.4444444444444444, \"#bd3786\"], [0.5555555555555556, \"#d8576b\"], [0.6666666666666666, \"#ed7953\"], [0.7777777777777778, \"#fb9f3a\"], [0.8888888888888888, \"#fdca26\"], [1.0, \"#f0f921\"]], \"type\": \"contour\"}], \"contourcarpet\": [{\"colorbar\": {\"outlinewidth\": 0, \"ticks\": \"\"}, \"type\": \"contourcarpet\"}], \"heatmap\": [{\"colorbar\": {\"outlinewidth\": 0, \"ticks\": \"\"}, \"colorscale\": [[0.0, \"#0d0887\"], [0.1111111111111111, \"#46039f\"], [0.2222222222222222, \"#7201a8\"], [0.3333333333333333, \"#9c179e\"], [0.4444444444444444, \"#bd3786\"], [0.5555555555555556, \"#d8576b\"], [0.6666666666666666, \"#ed7953\"], [0.7777777777777778, \"#fb9f3a\"], [0.8888888888888888, \"#fdca26\"], [1.0, \"#f0f921\"]], \"type\": \"heatmap\"}], \"heatmapgl\": [{\"colorbar\": {\"outlinewidth\": 0, \"ticks\": \"\"}, \"colorscale\": [[0.0, \"#0d0887\"], [0.1111111111111111, \"#46039f\"], [0.2222222222222222, \"#7201a8\"], [0.3333333333333333, \"#9c179e\"], [0.4444444444444444, \"#bd3786\"], [0.5555555555555556, \"#d8576b\"], [0.6666666666666666, \"#ed7953\"], [0.7777777777777778, \"#fb9f3a\"], [0.8888888888888888, \"#fdca26\"], [1.0, \"#f0f921\"]], \"type\": \"heatmapgl\"}], \"histogram\": [{\"marker\": {\"colorbar\": {\"outlinewidth\": 0, \"ticks\": \"\"}}, \"type\": \"histogram\"}], \"histogram2d\": [{\"colorbar\": {\"outlinewidth\": 0, \"ticks\": \"\"}, \"colorscale\": [[0.0, \"#0d0887\"], [0.1111111111111111, \"#46039f\"], [0.2222222222222222, \"#7201a8\"], [0.3333333333333333, \"#9c179e\"], [0.4444444444444444, \"#bd3786\"], [0.5555555555555556, \"#d8576b\"], [0.6666666666666666, \"#ed7953\"], [0.7777777777777778, \"#fb9f3a\"], [0.8888888888888888, \"#fdca26\"], [1.0, \"#f0f921\"]], \"type\": \"histogram2d\"}], \"histogram2dcontour\": [{\"colorbar\": {\"outlinewidth\": 0, \"ticks\": \"\"}, \"colorscale\": [[0.0, \"#0d0887\"], [0.1111111111111111, \"#46039f\"], [0.2222222222222222, \"#7201a8\"], [0.3333333333333333, \"#9c179e\"], [0.4444444444444444, \"#bd3786\"], [0.5555555555555556, \"#d8576b\"], [0.6666666666666666, \"#ed7953\"], [0.7777777777777778, \"#fb9f3a\"], [0.8888888888888888, \"#fdca26\"], [1.0, \"#f0f921\"]], \"type\": \"histogram2dcontour\"}], \"mesh3d\": [{\"colorbar\": {\"outlinewidth\": 0, \"ticks\": \"\"}, \"type\": \"mesh3d\"}], \"parcoords\": [{\"line\": {\"colorbar\": {\"outlinewidth\": 0, \"ticks\": \"\"}}, \"type\": \"parcoords\"}], \"pie\": [{\"automargin\": true, \"type\": \"pie\"}], \"scatter\": [{\"marker\": {\"colorbar\": {\"outlinewidth\": 0, \"ticks\": \"\"}}, \"type\": \"scatter\"}], \"scatter3d\": [{\"line\": {\"colorbar\": {\"outlinewidth\": 0, \"ticks\": \"\"}}, \"marker\": {\"colorbar\": {\"outlinewidth\": 0, \"ticks\": \"\"}}, \"type\": \"scatter3d\"}], \"scattercarpet\": [{\"marker\": {\"colorbar\": {\"outlinewidth\": 0, \"ticks\": \"\"}}, \"type\": \"scattercarpet\"}], \"scattergeo\": [{\"marker\": {\"colorbar\": {\"outlinewidth\": 0, \"ticks\": \"\"}}, \"type\": \"scattergeo\"}], \"scattergl\": [{\"marker\": {\"colorbar\": {\"outlinewidth\": 0, \"ticks\": \"\"}}, \"type\": \"scattergl\"}], \"scattermapbox\": [{\"marker\": {\"colorbar\": {\"outlinewidth\": 0, \"ticks\": \"\"}}, \"type\": \"scattermapbox\"}], \"scatterpolar\": [{\"marker\": {\"colorbar\": {\"outlinewidth\": 0, \"ticks\": \"\"}}, \"type\": \"scatterpolar\"}], \"scatterpolargl\": [{\"marker\": {\"colorbar\": {\"outlinewidth\": 0, \"ticks\": \"\"}}, \"type\": \"scatterpolargl\"}], \"scatterternary\": [{\"marker\": {\"colorbar\": {\"outlinewidth\": 0, \"ticks\": \"\"}}, \"type\": \"scatterternary\"}], \"surface\": [{\"colorbar\": {\"outlinewidth\": 0, \"ticks\": \"\"}, \"colorscale\": [[0.0, \"#0d0887\"], [0.1111111111111111, \"#46039f\"], [0.2222222222222222, \"#7201a8\"], [0.3333333333333333, \"#9c179e\"], [0.4444444444444444, \"#bd3786\"], [0.5555555555555556, \"#d8576b\"], [0.6666666666666666, \"#ed7953\"], [0.7777777777777778, \"#fb9f3a\"], [0.8888888888888888, \"#fdca26\"], [1.0, \"#f0f921\"]], \"type\": \"surface\"}], \"table\": [{\"cells\": {\"fill\": {\"color\": \"#EBF0F8\"}, \"line\": {\"color\": \"white\"}}, \"header\": {\"fill\": {\"color\": \"#C8D4E3\"}, \"line\": {\"color\": \"white\"}}, \"type\": \"table\"}]}, \"layout\": {\"annotationdefaults\": {\"arrowcolor\": \"#2a3f5f\", \"arrowhead\": 0, \"arrowwidth\": 1}, \"coloraxis\": {\"colorbar\": {\"outlinewidth\": 0, \"ticks\": \"\"}}, \"colorscale\": {\"diverging\": [[0, \"#8e0152\"], [0.1, \"#c51b7d\"], [0.2, \"#de77ae\"], [0.3, \"#f1b6da\"], [0.4, \"#fde0ef\"], [0.5, \"#f7f7f7\"], [0.6, \"#e6f5d0\"], [0.7, \"#b8e186\"], [0.8, \"#7fbc41\"], [0.9, \"#4d9221\"], [1, \"#276419\"]], \"sequential\": [[0.0, \"#0d0887\"], [0.1111111111111111, \"#46039f\"], [0.2222222222222222, \"#7201a8\"], [0.3333333333333333, \"#9c179e\"], [0.4444444444444444, \"#bd3786\"], [0.5555555555555556, \"#d8576b\"], [0.6666666666666666, \"#ed7953\"], [0.7777777777777778, \"#fb9f3a\"], [0.8888888888888888, \"#fdca26\"], [1.0, \"#f0f921\"]], \"sequentialminus\": [[0.0, \"#0d0887\"], [0.1111111111111111, \"#46039f\"], [0.2222222222222222, \"#7201a8\"], [0.3333333333333333, \"#9c179e\"], [0.4444444444444444, \"#bd3786\"], [0.5555555555555556, \"#d8576b\"], [0.6666666666666666, \"#ed7953\"], [0.7777777777777778, \"#fb9f3a\"], [0.8888888888888888, \"#fdca26\"], [1.0, \"#f0f921\"]]}, \"colorway\": [\"#636efa\", \"#EF553B\", \"#00cc96\", \"#ab63fa\", \"#FFA15A\", \"#19d3f3\", \"#FF6692\", \"#B6E880\", \"#FF97FF\", \"#FECB52\"], \"font\": {\"color\": \"#2a3f5f\"}, \"geo\": {\"bgcolor\": \"white\", \"lakecolor\": \"white\", \"landcolor\": \"#E5ECF6\", \"showlakes\": true, \"showland\": true, \"subunitcolor\": \"white\"}, \"hoverlabel\": {\"align\": \"left\"}, \"hovermode\": \"closest\", \"mapbox\": {\"style\": \"light\"}, \"paper_bgcolor\": \"white\", \"plot_bgcolor\": \"#E5ECF6\", \"polar\": {\"angularaxis\": {\"gridcolor\": \"white\", \"linecolor\": \"white\", \"ticks\": \"\"}, \"bgcolor\": \"#E5ECF6\", \"radialaxis\": {\"gridcolor\": \"white\", \"linecolor\": \"white\", \"ticks\": \"\"}}, \"scene\": {\"xaxis\": {\"backgroundcolor\": \"#E5ECF6\", \"gridcolor\": \"white\", \"gridwidth\": 2, \"linecolor\": \"white\", \"showbackground\": true, \"ticks\": \"\", \"zerolinecolor\": \"white\"}, \"yaxis\": {\"backgroundcolor\": \"#E5ECF6\", \"gridcolor\": \"white\", \"gridwidth\": 2, \"linecolor\": \"white\", \"showbackground\": true, \"ticks\": \"\", \"zerolinecolor\": \"white\"}, \"zaxis\": {\"backgroundcolor\": \"#E5ECF6\", \"gridcolor\": \"white\", \"gridwidth\": 2, \"linecolor\": \"white\", \"showbackground\": true, \"ticks\": \"\", \"zerolinecolor\": \"white\"}}, \"shapedefaults\": {\"line\": {\"color\": \"#2a3f5f\"}}, \"ternary\": {\"aaxis\": {\"gridcolor\": \"white\", \"linecolor\": \"white\", \"ticks\": \"\"}, \"baxis\": {\"gridcolor\": \"white\", \"linecolor\": \"white\", \"ticks\": \"\"}, \"bgcolor\": \"#E5ECF6\", \"caxis\": {\"gridcolor\": \"white\", \"linecolor\": \"white\", \"ticks\": \"\"}}, \"title\": {\"x\": 0.05}, \"xaxis\": {\"automargin\": true, \"gridcolor\": \"white\", \"linecolor\": \"white\", \"ticks\": \"\", \"title\": {\"standoff\": 15}, \"zerolinecolor\": \"white\", \"zerolinewidth\": 2}, \"yaxis\": {\"automargin\": true, \"gridcolor\": \"white\", \"linecolor\": \"white\", \"ticks\": \"\", \"title\": {\"standoff\": 15}, \"zerolinecolor\": \"white\", \"zerolinewidth\": 2}}}, \"title\": {\"font\": {\"color\": \"#4D5663\"}}, \"xaxis\": {\"gridcolor\": \"#E1E5ED\", \"showgrid\": true, \"tickfont\": {\"color\": \"#4D5663\"}, \"title\": {\"font\": {\"color\": \"#4D5663\"}, \"text\": \"\"}, \"zerolinecolor\": \"#E1E5ED\"}, \"yaxis\": {\"gridcolor\": \"#E1E5ED\", \"showgrid\": true, \"tickfont\": {\"color\": \"#4D5663\"}, \"title\": {\"font\": {\"color\": \"#4D5663\"}, \"text\": \"\"}, \"zerolinecolor\": \"#E1E5ED\"}},\n",
       "                        {\"showLink\": true, \"linkText\": \"Export to plot.ly\", \"plotlyServerURL\": \"https://plot.ly\", \"responsive\": true}\n",
       "                    ).then(function(){\n",
       "                            \n",
       "var gd = document.getElementById('b3a98434-dd74-42ba-afef-fa125638a6cf');\n",
       "var x = new MutationObserver(function (mutations, observer) {{\n",
       "        var display = window.getComputedStyle(gd).display;\n",
       "        if (!display || display === 'none') {{\n",
       "            console.log([gd, 'removed!']);\n",
       "            Plotly.purge(gd);\n",
       "            observer.disconnect();\n",
       "        }}\n",
       "}});\n",
       "\n",
       "// Listen for the removal of the full notebook cells\n",
       "var notebookContainer = gd.closest('#notebook-container');\n",
       "if (notebookContainer) {{\n",
       "    x.observe(notebookContainer, {childList: true});\n",
       "}}\n",
       "\n",
       "// Listen for the clearing of the current output cell\n",
       "var outputEl = gd.closest('.output');\n",
       "if (outputEl) {{\n",
       "    x.observe(outputEl, {childList: true});\n",
       "}}\n",
       "\n",
       "                        })\n",
       "                };\n",
       "                });\n",
       "            </script>\n",
       "        </div>"
      ]
     },
     "metadata": {},
     "output_type": "display_data"
    }
   ],
   "source": [
    "df['A'].iplot(kind='hist',bins=25)"
   ]
  },
  {
   "cell_type": "code",
   "execution_count": 19,
   "metadata": {},
   "outputs": [
    {
     "data": {
      "application/vnd.plotly.v1+json": {
       "config": {
        "linkText": "Export to plot.ly",
        "plotlyServerURL": "https://plot.ly",
        "showLink": true
       },
       "data": [
        {
         "marker": {
          "color": [
           "rgb(255, 153, 51)",
           "rgb(55, 128, 191)",
           "rgb(50, 171, 96)",
           "rgb(128, 0, 128)",
           "rgb(219, 64, 82)",
           "rgb(0, 128, 128)",
           "rgb(255, 255, 51)",
           "rgb(128, 128, 0)",
           "rgb(251, 128, 114)",
           "rgb(128, 177, 211)"
          ],
          "line": {
           "width": 1.3
          },
          "size": [
           99,
           57,
           85,
           90,
           51,
           95,
           70,
           31,
           89,
           22,
           17,
           20,
           66,
           73,
           67,
           35,
           64,
           45,
           55,
           85,
           80,
           42,
           66,
           52,
           82,
           59,
           57,
           79,
           84,
           31,
           45,
           90,
           74,
           21,
           27,
           88,
           29,
           48,
           86,
           73,
           80,
           82,
           85,
           24,
           59,
           55,
           46,
           58,
           71,
           31,
           47,
           41,
           68,
           70,
           78,
           56,
           12,
           98,
           55,
           40,
           27,
           68,
           64,
           61,
           55,
           63,
           81,
           64,
           65,
           47,
           87,
           84,
           45,
           57,
           19,
           94,
           80,
           55,
           83,
           16,
           26,
           112,
           40,
           83,
           64,
           39,
           68,
           42,
           49,
           68,
           68,
           66,
           58,
           31,
           66,
           35,
           80,
           54,
           23,
           73
          ],
          "symbol": "circle"
         },
         "mode": "markers",
         "text": "",
         "type": "scatter",
         "x": [
          -0.510356444121689,
          0.7201652349415042,
          -0.7956381636543068,
          1.0832809916868644,
          -0.30135332660046227,
          0.42411030852509535,
          0.42087262293982375,
          -0.3834038112338632,
          -0.7181067075740701,
          -1.689000975405711,
          -0.768211369533854,
          -1.4009016874638953,
          -0.4609104403187404,
          -0.3610062304045048,
          0.6990611544761113,
          -0.4071983236663745,
          0.9749451967310648,
          -1.5521567512284027,
          2.582839819142019,
          -1.2608047270318732,
          0.68742828657434,
          -0.46537119576917874,
          -0.48064110808268334,
          0.28063181595730985,
          -1.0452623335682787,
          -0.40873364292488046,
          -1.3571367997941601,
          -0.6062375995071084,
          1.4528109216456557,
          0.07731559895151965,
          0.3250397061151751,
          1.201915142424794,
          -0.4504659375584174,
          1.9668847821266044,
          -0.364303563666657,
          -0.13927146800064158,
          0.57348161033347,
          0.4947778974491402,
          0.30569786829351947,
          0.9201554242455009,
          -0.41523183381297085,
          -1.8330412839733048,
          -0.23619614972665107,
          -1.849963868494029,
          0.5461760591197427,
          -0.9361134586802853,
          -0.4528434305920523,
          0.2174161047715857,
          1.0635059691233937,
          -0.9459523350502519,
          -0.13166220663639913,
          -0.6421618174142698,
          0.3047712492940703,
          -0.26344777521625573,
          -0.45306380687736664,
          -0.9705865345061072,
          -0.12741882697516443,
          1.0049752783819161,
          0.4086707843416792,
          -0.4511413941730779,
          0.5104243612824134,
          -0.7255566333311757,
          0.5653467224854392,
          -0.16436532244841037,
          -0.1988484231344934,
          -0.7564557068257352,
          -0.18679418701106604,
          0.007128162141137425,
          -0.04652926061840745,
          -1.2240766600558828,
          0.2548364775874957,
          0.36702432595644263,
          -1.8441953853505533,
          -0.24359038758120563,
          1.3244683296413644,
          0.61165695571586,
          1.5230508996881755,
          1.7353619398397855,
          0.22402443540755565,
          0.33895550763612925,
          0.9223319365608782,
          0.9159143574193307,
          1.2997354894773798,
          -1.4147536326587344,
          -1.0248138567998835,
          -1.7541740527292868,
          -0.6575313266954175,
          -0.6207644107638655,
          -0.44464272561837265,
          -0.836691238296052,
          1.7573684719199605,
          -2.9653482379895464,
          -1.146385550579236,
          0.15786795073923038,
          1.9837911867756637,
          -0.1286989891014074,
          0.6788131762939952,
          -0.012808189565091749,
          -0.7578489572357708,
          1.5590955815629608
         ],
         "y": [
          0.4394113396115198,
          -1.3704879603341773,
          -0.894779683303476,
          -0.9091697423817736,
          -0.7870831654017293,
          1.7078371717736396,
          -0.09852952274905818,
          -0.3301784910650832,
          1.6268395224675645,
          0.23779943709785142,
          0.8320902681835906,
          -1.0395936765569966,
          -1.4627998759745036,
          -1.2905181379536943,
          -0.7458983776289884,
          1.233386993912338,
          0.49681475206133296,
          -0.512701542962839,
          2.064920530388905,
          1.1887225273511324,
          0.9775910490656258,
          0.07947257556784981,
          -0.7874279153056152,
          -1.1496283384200692,
          -1.4302366554682746,
          -1.5038040240345794,
          0.2917872732984551,
          -1.1291913047146693,
          0.381635713258072,
          0.5782386470488836,
          0.18723596532937337,
          -0.3932861774601221,
          0.22451339799635048,
          -0.5639617603917293,
          0.976796922647767,
          1.3294058450552153,
          -0.014823934009534098,
          0.33694456503364056,
          -1.7596659431646775,
          0.18350148416556766,
          2.1186952855091894,
          1.8667466050294965,
          -0.837574209463975,
          1.1115620238149284,
          0.27441666631551975,
          -0.20989609089297878,
          -1.8147053413659966,
          0.7869898004991409,
          -1.7841985376732745,
          -0.5238520144705975,
          0.3812868303501749,
          0.3137975708975645,
          0.9968300457049288,
          0.5824846983864099,
          -0.05913546961926126,
          -0.7790815336783042,
          -0.5034885037883023,
          0.9896954982725973,
          -0.4787666015780376,
          1.9011893896648642,
          -0.13028487404661762,
          -2.1424981055614447,
          -1.0766028098307068,
          -0.792137140883388,
          -1.2103592333561075,
          -1.4878660498301146,
          -0.43106169827739,
          -0.44901688012835594,
          0.29737915922704417,
          -1.5005547897872924,
          -0.6906235587362654,
          0.08165168312136552,
          0.888112558194319,
          0.2162961596844919,
          0.3095124316406531,
          -2.357625950700372,
          -0.5851048603043837,
          1.4090130212670697,
          -0.8972052639813642,
          0.44154770227912477,
          1.1769309603585676,
          3.494886385021715,
          -0.34623819370067876,
          0.49039904790159233,
          -1.4439627916263218,
          -0.23356971773044577,
          1.946859888073679,
          0.39682927408000496,
          0.6947149347178614,
          0.776205432439833,
          -1.6156658133534276,
          0.8735942224395256,
          -0.027535065229056153,
          -0.008472192836710022,
          0.1836800682078861,
          -0.4984619503467606,
          1.705018893410389,
          -2.0132462510663918,
          0.1437439755595477,
          0.38606482996606656
         ]
        }
       ],
       "layout": {
        "legend": {
         "bgcolor": "#F5F6F9",
         "font": {
          "color": "#4D5663"
         }
        },
        "paper_bgcolor": "#F5F6F9",
        "plot_bgcolor": "#F5F6F9",
        "template": {
         "data": {
          "bar": [
           {
            "error_x": {
             "color": "#2a3f5f"
            },
            "error_y": {
             "color": "#2a3f5f"
            },
            "marker": {
             "line": {
              "color": "#E5ECF6",
              "width": 0.5
             }
            },
            "type": "bar"
           }
          ],
          "barpolar": [
           {
            "marker": {
             "line": {
              "color": "#E5ECF6",
              "width": 0.5
             }
            },
            "type": "barpolar"
           }
          ],
          "carpet": [
           {
            "aaxis": {
             "endlinecolor": "#2a3f5f",
             "gridcolor": "white",
             "linecolor": "white",
             "minorgridcolor": "white",
             "startlinecolor": "#2a3f5f"
            },
            "baxis": {
             "endlinecolor": "#2a3f5f",
             "gridcolor": "white",
             "linecolor": "white",
             "minorgridcolor": "white",
             "startlinecolor": "#2a3f5f"
            },
            "type": "carpet"
           }
          ],
          "choropleth": [
           {
            "colorbar": {
             "outlinewidth": 0,
             "ticks": ""
            },
            "type": "choropleth"
           }
          ],
          "contour": [
           {
            "colorbar": {
             "outlinewidth": 0,
             "ticks": ""
            },
            "colorscale": [
             [
              0,
              "#0d0887"
             ],
             [
              0.1111111111111111,
              "#46039f"
             ],
             [
              0.2222222222222222,
              "#7201a8"
             ],
             [
              0.3333333333333333,
              "#9c179e"
             ],
             [
              0.4444444444444444,
              "#bd3786"
             ],
             [
              0.5555555555555556,
              "#d8576b"
             ],
             [
              0.6666666666666666,
              "#ed7953"
             ],
             [
              0.7777777777777778,
              "#fb9f3a"
             ],
             [
              0.8888888888888888,
              "#fdca26"
             ],
             [
              1,
              "#f0f921"
             ]
            ],
            "type": "contour"
           }
          ],
          "contourcarpet": [
           {
            "colorbar": {
             "outlinewidth": 0,
             "ticks": ""
            },
            "type": "contourcarpet"
           }
          ],
          "heatmap": [
           {
            "colorbar": {
             "outlinewidth": 0,
             "ticks": ""
            },
            "colorscale": [
             [
              0,
              "#0d0887"
             ],
             [
              0.1111111111111111,
              "#46039f"
             ],
             [
              0.2222222222222222,
              "#7201a8"
             ],
             [
              0.3333333333333333,
              "#9c179e"
             ],
             [
              0.4444444444444444,
              "#bd3786"
             ],
             [
              0.5555555555555556,
              "#d8576b"
             ],
             [
              0.6666666666666666,
              "#ed7953"
             ],
             [
              0.7777777777777778,
              "#fb9f3a"
             ],
             [
              0.8888888888888888,
              "#fdca26"
             ],
             [
              1,
              "#f0f921"
             ]
            ],
            "type": "heatmap"
           }
          ],
          "heatmapgl": [
           {
            "colorbar": {
             "outlinewidth": 0,
             "ticks": ""
            },
            "colorscale": [
             [
              0,
              "#0d0887"
             ],
             [
              0.1111111111111111,
              "#46039f"
             ],
             [
              0.2222222222222222,
              "#7201a8"
             ],
             [
              0.3333333333333333,
              "#9c179e"
             ],
             [
              0.4444444444444444,
              "#bd3786"
             ],
             [
              0.5555555555555556,
              "#d8576b"
             ],
             [
              0.6666666666666666,
              "#ed7953"
             ],
             [
              0.7777777777777778,
              "#fb9f3a"
             ],
             [
              0.8888888888888888,
              "#fdca26"
             ],
             [
              1,
              "#f0f921"
             ]
            ],
            "type": "heatmapgl"
           }
          ],
          "histogram": [
           {
            "marker": {
             "colorbar": {
              "outlinewidth": 0,
              "ticks": ""
             }
            },
            "type": "histogram"
           }
          ],
          "histogram2d": [
           {
            "colorbar": {
             "outlinewidth": 0,
             "ticks": ""
            },
            "colorscale": [
             [
              0,
              "#0d0887"
             ],
             [
              0.1111111111111111,
              "#46039f"
             ],
             [
              0.2222222222222222,
              "#7201a8"
             ],
             [
              0.3333333333333333,
              "#9c179e"
             ],
             [
              0.4444444444444444,
              "#bd3786"
             ],
             [
              0.5555555555555556,
              "#d8576b"
             ],
             [
              0.6666666666666666,
              "#ed7953"
             ],
             [
              0.7777777777777778,
              "#fb9f3a"
             ],
             [
              0.8888888888888888,
              "#fdca26"
             ],
             [
              1,
              "#f0f921"
             ]
            ],
            "type": "histogram2d"
           }
          ],
          "histogram2dcontour": [
           {
            "colorbar": {
             "outlinewidth": 0,
             "ticks": ""
            },
            "colorscale": [
             [
              0,
              "#0d0887"
             ],
             [
              0.1111111111111111,
              "#46039f"
             ],
             [
              0.2222222222222222,
              "#7201a8"
             ],
             [
              0.3333333333333333,
              "#9c179e"
             ],
             [
              0.4444444444444444,
              "#bd3786"
             ],
             [
              0.5555555555555556,
              "#d8576b"
             ],
             [
              0.6666666666666666,
              "#ed7953"
             ],
             [
              0.7777777777777778,
              "#fb9f3a"
             ],
             [
              0.8888888888888888,
              "#fdca26"
             ],
             [
              1,
              "#f0f921"
             ]
            ],
            "type": "histogram2dcontour"
           }
          ],
          "mesh3d": [
           {
            "colorbar": {
             "outlinewidth": 0,
             "ticks": ""
            },
            "type": "mesh3d"
           }
          ],
          "parcoords": [
           {
            "line": {
             "colorbar": {
              "outlinewidth": 0,
              "ticks": ""
             }
            },
            "type": "parcoords"
           }
          ],
          "pie": [
           {
            "automargin": true,
            "type": "pie"
           }
          ],
          "scatter": [
           {
            "marker": {
             "colorbar": {
              "outlinewidth": 0,
              "ticks": ""
             }
            },
            "type": "scatter"
           }
          ],
          "scatter3d": [
           {
            "line": {
             "colorbar": {
              "outlinewidth": 0,
              "ticks": ""
             }
            },
            "marker": {
             "colorbar": {
              "outlinewidth": 0,
              "ticks": ""
             }
            },
            "type": "scatter3d"
           }
          ],
          "scattercarpet": [
           {
            "marker": {
             "colorbar": {
              "outlinewidth": 0,
              "ticks": ""
             }
            },
            "type": "scattercarpet"
           }
          ],
          "scattergeo": [
           {
            "marker": {
             "colorbar": {
              "outlinewidth": 0,
              "ticks": ""
             }
            },
            "type": "scattergeo"
           }
          ],
          "scattergl": [
           {
            "marker": {
             "colorbar": {
              "outlinewidth": 0,
              "ticks": ""
             }
            },
            "type": "scattergl"
           }
          ],
          "scattermapbox": [
           {
            "marker": {
             "colorbar": {
              "outlinewidth": 0,
              "ticks": ""
             }
            },
            "type": "scattermapbox"
           }
          ],
          "scatterpolar": [
           {
            "marker": {
             "colorbar": {
              "outlinewidth": 0,
              "ticks": ""
             }
            },
            "type": "scatterpolar"
           }
          ],
          "scatterpolargl": [
           {
            "marker": {
             "colorbar": {
              "outlinewidth": 0,
              "ticks": ""
             }
            },
            "type": "scatterpolargl"
           }
          ],
          "scatterternary": [
           {
            "marker": {
             "colorbar": {
              "outlinewidth": 0,
              "ticks": ""
             }
            },
            "type": "scatterternary"
           }
          ],
          "surface": [
           {
            "colorbar": {
             "outlinewidth": 0,
             "ticks": ""
            },
            "colorscale": [
             [
              0,
              "#0d0887"
             ],
             [
              0.1111111111111111,
              "#46039f"
             ],
             [
              0.2222222222222222,
              "#7201a8"
             ],
             [
              0.3333333333333333,
              "#9c179e"
             ],
             [
              0.4444444444444444,
              "#bd3786"
             ],
             [
              0.5555555555555556,
              "#d8576b"
             ],
             [
              0.6666666666666666,
              "#ed7953"
             ],
             [
              0.7777777777777778,
              "#fb9f3a"
             ],
             [
              0.8888888888888888,
              "#fdca26"
             ],
             [
              1,
              "#f0f921"
             ]
            ],
            "type": "surface"
           }
          ],
          "table": [
           {
            "cells": {
             "fill": {
              "color": "#EBF0F8"
             },
             "line": {
              "color": "white"
             }
            },
            "header": {
             "fill": {
              "color": "#C8D4E3"
             },
             "line": {
              "color": "white"
             }
            },
            "type": "table"
           }
          ]
         },
         "layout": {
          "annotationdefaults": {
           "arrowcolor": "#2a3f5f",
           "arrowhead": 0,
           "arrowwidth": 1
          },
          "coloraxis": {
           "colorbar": {
            "outlinewidth": 0,
            "ticks": ""
           }
          },
          "colorscale": {
           "diverging": [
            [
             0,
             "#8e0152"
            ],
            [
             0.1,
             "#c51b7d"
            ],
            [
             0.2,
             "#de77ae"
            ],
            [
             0.3,
             "#f1b6da"
            ],
            [
             0.4,
             "#fde0ef"
            ],
            [
             0.5,
             "#f7f7f7"
            ],
            [
             0.6,
             "#e6f5d0"
            ],
            [
             0.7,
             "#b8e186"
            ],
            [
             0.8,
             "#7fbc41"
            ],
            [
             0.9,
             "#4d9221"
            ],
            [
             1,
             "#276419"
            ]
           ],
           "sequential": [
            [
             0,
             "#0d0887"
            ],
            [
             0.1111111111111111,
             "#46039f"
            ],
            [
             0.2222222222222222,
             "#7201a8"
            ],
            [
             0.3333333333333333,
             "#9c179e"
            ],
            [
             0.4444444444444444,
             "#bd3786"
            ],
            [
             0.5555555555555556,
             "#d8576b"
            ],
            [
             0.6666666666666666,
             "#ed7953"
            ],
            [
             0.7777777777777778,
             "#fb9f3a"
            ],
            [
             0.8888888888888888,
             "#fdca26"
            ],
            [
             1,
             "#f0f921"
            ]
           ],
           "sequentialminus": [
            [
             0,
             "#0d0887"
            ],
            [
             0.1111111111111111,
             "#46039f"
            ],
            [
             0.2222222222222222,
             "#7201a8"
            ],
            [
             0.3333333333333333,
             "#9c179e"
            ],
            [
             0.4444444444444444,
             "#bd3786"
            ],
            [
             0.5555555555555556,
             "#d8576b"
            ],
            [
             0.6666666666666666,
             "#ed7953"
            ],
            [
             0.7777777777777778,
             "#fb9f3a"
            ],
            [
             0.8888888888888888,
             "#fdca26"
            ],
            [
             1,
             "#f0f921"
            ]
           ]
          },
          "colorway": [
           "#636efa",
           "#EF553B",
           "#00cc96",
           "#ab63fa",
           "#FFA15A",
           "#19d3f3",
           "#FF6692",
           "#B6E880",
           "#FF97FF",
           "#FECB52"
          ],
          "font": {
           "color": "#2a3f5f"
          },
          "geo": {
           "bgcolor": "white",
           "lakecolor": "white",
           "landcolor": "#E5ECF6",
           "showlakes": true,
           "showland": true,
           "subunitcolor": "white"
          },
          "hoverlabel": {
           "align": "left"
          },
          "hovermode": "closest",
          "mapbox": {
           "style": "light"
          },
          "paper_bgcolor": "white",
          "plot_bgcolor": "#E5ECF6",
          "polar": {
           "angularaxis": {
            "gridcolor": "white",
            "linecolor": "white",
            "ticks": ""
           },
           "bgcolor": "#E5ECF6",
           "radialaxis": {
            "gridcolor": "white",
            "linecolor": "white",
            "ticks": ""
           }
          },
          "scene": {
           "xaxis": {
            "backgroundcolor": "#E5ECF6",
            "gridcolor": "white",
            "gridwidth": 2,
            "linecolor": "white",
            "showbackground": true,
            "ticks": "",
            "zerolinecolor": "white"
           },
           "yaxis": {
            "backgroundcolor": "#E5ECF6",
            "gridcolor": "white",
            "gridwidth": 2,
            "linecolor": "white",
            "showbackground": true,
            "ticks": "",
            "zerolinecolor": "white"
           },
           "zaxis": {
            "backgroundcolor": "#E5ECF6",
            "gridcolor": "white",
            "gridwidth": 2,
            "linecolor": "white",
            "showbackground": true,
            "ticks": "",
            "zerolinecolor": "white"
           }
          },
          "shapedefaults": {
           "line": {
            "color": "#2a3f5f"
           }
          },
          "ternary": {
           "aaxis": {
            "gridcolor": "white",
            "linecolor": "white",
            "ticks": ""
           },
           "baxis": {
            "gridcolor": "white",
            "linecolor": "white",
            "ticks": ""
           },
           "bgcolor": "#E5ECF6",
           "caxis": {
            "gridcolor": "white",
            "linecolor": "white",
            "ticks": ""
           }
          },
          "title": {
           "x": 0.05
          },
          "xaxis": {
           "automargin": true,
           "gridcolor": "white",
           "linecolor": "white",
           "ticks": "",
           "title": {
            "standoff": 15
           },
           "zerolinecolor": "white",
           "zerolinewidth": 2
          },
          "yaxis": {
           "automargin": true,
           "gridcolor": "white",
           "linecolor": "white",
           "ticks": "",
           "title": {
            "standoff": 15
           },
           "zerolinecolor": "white",
           "zerolinewidth": 2
          }
         }
        },
        "title": {
         "font": {
          "color": "#4D5663"
         }
        },
        "xaxis": {
         "gridcolor": "#E1E5ED",
         "showgrid": true,
         "tickfont": {
          "color": "#4D5663"
         },
         "title": {
          "font": {
           "color": "#4D5663"
          },
          "text": ""
         },
         "zerolinecolor": "#E1E5ED"
        },
        "yaxis": {
         "gridcolor": "#E1E5ED",
         "showgrid": true,
         "tickfont": {
          "color": "#4D5663"
         },
         "title": {
          "font": {
           "color": "#4D5663"
          },
          "text": ""
         },
         "zerolinecolor": "#E1E5ED"
        }
       }
      },
      "text/html": [
       "<div>\n",
       "        \n",
       "        \n",
       "            <div id=\"74b24cfa-003b-43d6-991c-6db2afff8a20\" class=\"plotly-graph-div\" style=\"height:525px; width:100%;\"></div>\n",
       "            <script type=\"text/javascript\">\n",
       "                require([\"plotly\"], function(Plotly) {\n",
       "                    window.PLOTLYENV=window.PLOTLYENV || {};\n",
       "                    window.PLOTLYENV.BASE_URL='https://plot.ly';\n",
       "                    \n",
       "                if (document.getElementById(\"74b24cfa-003b-43d6-991c-6db2afff8a20\")) {\n",
       "                    Plotly.newPlot(\n",
       "                        '74b24cfa-003b-43d6-991c-6db2afff8a20',\n",
       "                        [{\"marker\": {\"color\": [\"rgb(255, 153, 51)\", \"rgb(55, 128, 191)\", \"rgb(50, 171, 96)\", \"rgb(128, 0, 128)\", \"rgb(219, 64, 82)\", \"rgb(0, 128, 128)\", \"rgb(255, 255, 51)\", \"rgb(128, 128, 0)\", \"rgb(251, 128, 114)\", \"rgb(128, 177, 211)\"], \"line\": {\"width\": 1.3}, \"size\": [99, 57, 85, 90, 51, 95, 70, 31, 89, 22, 17, 20, 66, 73, 67, 35, 64, 45, 55, 85, 80, 42, 66, 52, 82, 59, 57, 79, 84, 31, 45, 90, 74, 21, 27, 88, 29, 48, 86, 73, 80, 82, 85, 24, 59, 55, 46, 58, 71, 31, 47, 41, 68, 70, 78, 56, 12, 98, 55, 40, 27, 68, 64, 61, 55, 63, 81, 64, 65, 47, 87, 84, 45, 57, 19, 94, 80, 55, 83, 16, 26, 112, 40, 83, 64, 39, 68, 42, 49, 68, 68, 66, 58, 31, 66, 35, 80, 54, 23, 73], \"symbol\": \"circle\"}, \"mode\": \"markers\", \"text\": \"\", \"type\": \"scatter\", \"x\": [-0.510356444121689, 0.7201652349415042, -0.7956381636543068, 1.0832809916868644, -0.30135332660046227, 0.42411030852509535, 0.42087262293982375, -0.3834038112338632, -0.7181067075740701, -1.689000975405711, -0.768211369533854, -1.4009016874638953, -0.4609104403187404, -0.3610062304045048, 0.6990611544761113, -0.4071983236663745, 0.9749451967310648, -1.5521567512284027, 2.582839819142019, -1.2608047270318732, 0.68742828657434, -0.46537119576917874, -0.48064110808268334, 0.28063181595730985, -1.0452623335682787, -0.40873364292488046, -1.3571367997941601, -0.6062375995071084, 1.4528109216456557, 0.07731559895151965, 0.3250397061151751, 1.201915142424794, -0.4504659375584174, 1.9668847821266044, -0.364303563666657, -0.13927146800064158, 0.57348161033347, 0.4947778974491402, 0.30569786829351947, 0.9201554242455009, -0.41523183381297085, -1.8330412839733048, -0.23619614972665107, -1.849963868494029, 0.5461760591197427, -0.9361134586802853, -0.4528434305920523, 0.2174161047715857, 1.0635059691233937, -0.9459523350502519, -0.13166220663639913, -0.6421618174142698, 0.3047712492940703, -0.26344777521625573, -0.45306380687736664, -0.9705865345061072, -0.12741882697516443, 1.0049752783819161, 0.4086707843416792, -0.4511413941730779, 0.5104243612824134, -0.7255566333311757, 0.5653467224854392, -0.16436532244841037, -0.1988484231344934, -0.7564557068257352, -0.18679418701106604, 0.007128162141137425, -0.04652926061840745, -1.2240766600558828, 0.2548364775874957, 0.36702432595644263, -1.8441953853505533, -0.24359038758120563, 1.3244683296413644, 0.61165695571586, 1.5230508996881755, 1.7353619398397855, 0.22402443540755565, 0.33895550763612925, 0.9223319365608782, 0.9159143574193307, 1.2997354894773798, -1.4147536326587344, -1.0248138567998835, -1.7541740527292868, -0.6575313266954175, -0.6207644107638655, -0.44464272561837265, -0.836691238296052, 1.7573684719199605, -2.9653482379895464, -1.146385550579236, 0.15786795073923038, 1.9837911867756637, -0.1286989891014074, 0.6788131762939952, -0.012808189565091749, -0.7578489572357708, 1.5590955815629608], \"y\": [0.4394113396115198, -1.3704879603341773, -0.894779683303476, -0.9091697423817736, -0.7870831654017293, 1.7078371717736396, -0.09852952274905818, -0.3301784910650832, 1.6268395224675645, 0.23779943709785142, 0.8320902681835906, -1.0395936765569966, -1.4627998759745036, -1.2905181379536943, -0.7458983776289884, 1.233386993912338, 0.49681475206133296, -0.512701542962839, 2.064920530388905, 1.1887225273511324, 0.9775910490656258, 0.07947257556784981, -0.7874279153056152, -1.1496283384200692, -1.4302366554682746, -1.5038040240345794, 0.2917872732984551, -1.1291913047146693, 0.381635713258072, 0.5782386470488836, 0.18723596532937337, -0.3932861774601221, 0.22451339799635048, -0.5639617603917293, 0.976796922647767, 1.3294058450552153, -0.014823934009534098, 0.33694456503364056, -1.7596659431646775, 0.18350148416556766, 2.1186952855091894, 1.8667466050294965, -0.837574209463975, 1.1115620238149284, 0.27441666631551975, -0.20989609089297878, -1.8147053413659966, 0.7869898004991409, -1.7841985376732745, -0.5238520144705975, 0.3812868303501749, 0.3137975708975645, 0.9968300457049288, 0.5824846983864099, -0.05913546961926126, -0.7790815336783042, -0.5034885037883023, 0.9896954982725973, -0.4787666015780376, 1.9011893896648642, -0.13028487404661762, -2.1424981055614447, -1.0766028098307068, -0.792137140883388, -1.2103592333561075, -1.4878660498301146, -0.43106169827739, -0.44901688012835594, 0.29737915922704417, -1.5005547897872924, -0.6906235587362654, 0.08165168312136552, 0.888112558194319, 0.2162961596844919, 0.3095124316406531, -2.357625950700372, -0.5851048603043837, 1.4090130212670697, -0.8972052639813642, 0.44154770227912477, 1.1769309603585676, 3.494886385021715, -0.34623819370067876, 0.49039904790159233, -1.4439627916263218, -0.23356971773044577, 1.946859888073679, 0.39682927408000496, 0.6947149347178614, 0.776205432439833, -1.6156658133534276, 0.8735942224395256, -0.027535065229056153, -0.008472192836710022, 0.1836800682078861, -0.4984619503467606, 1.705018893410389, -2.0132462510663918, 0.1437439755595477, 0.38606482996606656]}],\n",
       "                        {\"legend\": {\"bgcolor\": \"#F5F6F9\", \"font\": {\"color\": \"#4D5663\"}}, \"paper_bgcolor\": \"#F5F6F9\", \"plot_bgcolor\": \"#F5F6F9\", \"template\": {\"data\": {\"bar\": [{\"error_x\": {\"color\": \"#2a3f5f\"}, \"error_y\": {\"color\": \"#2a3f5f\"}, \"marker\": {\"line\": {\"color\": \"#E5ECF6\", \"width\": 0.5}}, \"type\": \"bar\"}], \"barpolar\": [{\"marker\": {\"line\": {\"color\": \"#E5ECF6\", \"width\": 0.5}}, \"type\": \"barpolar\"}], \"carpet\": [{\"aaxis\": {\"endlinecolor\": \"#2a3f5f\", \"gridcolor\": \"white\", \"linecolor\": \"white\", \"minorgridcolor\": \"white\", \"startlinecolor\": \"#2a3f5f\"}, \"baxis\": {\"endlinecolor\": \"#2a3f5f\", \"gridcolor\": \"white\", \"linecolor\": \"white\", \"minorgridcolor\": \"white\", \"startlinecolor\": \"#2a3f5f\"}, \"type\": \"carpet\"}], \"choropleth\": [{\"colorbar\": {\"outlinewidth\": 0, \"ticks\": \"\"}, \"type\": \"choropleth\"}], \"contour\": [{\"colorbar\": {\"outlinewidth\": 0, \"ticks\": \"\"}, \"colorscale\": [[0.0, \"#0d0887\"], [0.1111111111111111, \"#46039f\"], [0.2222222222222222, \"#7201a8\"], [0.3333333333333333, \"#9c179e\"], [0.4444444444444444, \"#bd3786\"], [0.5555555555555556, \"#d8576b\"], [0.6666666666666666, \"#ed7953\"], [0.7777777777777778, \"#fb9f3a\"], [0.8888888888888888, \"#fdca26\"], [1.0, \"#f0f921\"]], \"type\": \"contour\"}], \"contourcarpet\": [{\"colorbar\": {\"outlinewidth\": 0, \"ticks\": \"\"}, \"type\": \"contourcarpet\"}], \"heatmap\": [{\"colorbar\": {\"outlinewidth\": 0, \"ticks\": \"\"}, \"colorscale\": [[0.0, \"#0d0887\"], [0.1111111111111111, \"#46039f\"], [0.2222222222222222, \"#7201a8\"], [0.3333333333333333, \"#9c179e\"], [0.4444444444444444, \"#bd3786\"], [0.5555555555555556, \"#d8576b\"], [0.6666666666666666, \"#ed7953\"], [0.7777777777777778, \"#fb9f3a\"], [0.8888888888888888, \"#fdca26\"], [1.0, \"#f0f921\"]], \"type\": \"heatmap\"}], \"heatmapgl\": [{\"colorbar\": {\"outlinewidth\": 0, \"ticks\": \"\"}, \"colorscale\": [[0.0, \"#0d0887\"], [0.1111111111111111, \"#46039f\"], [0.2222222222222222, \"#7201a8\"], [0.3333333333333333, \"#9c179e\"], [0.4444444444444444, \"#bd3786\"], [0.5555555555555556, \"#d8576b\"], [0.6666666666666666, \"#ed7953\"], [0.7777777777777778, \"#fb9f3a\"], [0.8888888888888888, \"#fdca26\"], [1.0, \"#f0f921\"]], \"type\": \"heatmapgl\"}], \"histogram\": [{\"marker\": {\"colorbar\": {\"outlinewidth\": 0, \"ticks\": \"\"}}, \"type\": \"histogram\"}], \"histogram2d\": [{\"colorbar\": {\"outlinewidth\": 0, \"ticks\": \"\"}, \"colorscale\": [[0.0, \"#0d0887\"], [0.1111111111111111, \"#46039f\"], [0.2222222222222222, \"#7201a8\"], [0.3333333333333333, \"#9c179e\"], [0.4444444444444444, \"#bd3786\"], [0.5555555555555556, \"#d8576b\"], [0.6666666666666666, \"#ed7953\"], [0.7777777777777778, \"#fb9f3a\"], [0.8888888888888888, \"#fdca26\"], [1.0, \"#f0f921\"]], \"type\": \"histogram2d\"}], \"histogram2dcontour\": [{\"colorbar\": {\"outlinewidth\": 0, \"ticks\": \"\"}, \"colorscale\": [[0.0, \"#0d0887\"], [0.1111111111111111, \"#46039f\"], [0.2222222222222222, \"#7201a8\"], [0.3333333333333333, \"#9c179e\"], [0.4444444444444444, \"#bd3786\"], [0.5555555555555556, \"#d8576b\"], [0.6666666666666666, \"#ed7953\"], [0.7777777777777778, \"#fb9f3a\"], [0.8888888888888888, \"#fdca26\"], [1.0, \"#f0f921\"]], \"type\": \"histogram2dcontour\"}], \"mesh3d\": [{\"colorbar\": {\"outlinewidth\": 0, \"ticks\": \"\"}, \"type\": \"mesh3d\"}], \"parcoords\": [{\"line\": {\"colorbar\": {\"outlinewidth\": 0, \"ticks\": \"\"}}, \"type\": \"parcoords\"}], \"pie\": [{\"automargin\": true, \"type\": \"pie\"}], \"scatter\": [{\"marker\": {\"colorbar\": {\"outlinewidth\": 0, \"ticks\": \"\"}}, \"type\": \"scatter\"}], \"scatter3d\": [{\"line\": {\"colorbar\": {\"outlinewidth\": 0, \"ticks\": \"\"}}, \"marker\": {\"colorbar\": {\"outlinewidth\": 0, \"ticks\": \"\"}}, \"type\": \"scatter3d\"}], \"scattercarpet\": [{\"marker\": {\"colorbar\": {\"outlinewidth\": 0, \"ticks\": \"\"}}, \"type\": \"scattercarpet\"}], \"scattergeo\": [{\"marker\": {\"colorbar\": {\"outlinewidth\": 0, \"ticks\": \"\"}}, \"type\": \"scattergeo\"}], \"scattergl\": [{\"marker\": {\"colorbar\": {\"outlinewidth\": 0, \"ticks\": \"\"}}, \"type\": \"scattergl\"}], \"scattermapbox\": [{\"marker\": {\"colorbar\": {\"outlinewidth\": 0, \"ticks\": \"\"}}, \"type\": \"scattermapbox\"}], \"scatterpolar\": [{\"marker\": {\"colorbar\": {\"outlinewidth\": 0, \"ticks\": \"\"}}, \"type\": \"scatterpolar\"}], \"scatterpolargl\": [{\"marker\": {\"colorbar\": {\"outlinewidth\": 0, \"ticks\": \"\"}}, \"type\": \"scatterpolargl\"}], \"scatterternary\": [{\"marker\": {\"colorbar\": {\"outlinewidth\": 0, \"ticks\": \"\"}}, \"type\": \"scatterternary\"}], \"surface\": [{\"colorbar\": {\"outlinewidth\": 0, \"ticks\": \"\"}, \"colorscale\": [[0.0, \"#0d0887\"], [0.1111111111111111, \"#46039f\"], [0.2222222222222222, \"#7201a8\"], [0.3333333333333333, \"#9c179e\"], [0.4444444444444444, \"#bd3786\"], [0.5555555555555556, \"#d8576b\"], [0.6666666666666666, \"#ed7953\"], [0.7777777777777778, \"#fb9f3a\"], [0.8888888888888888, \"#fdca26\"], [1.0, \"#f0f921\"]], \"type\": \"surface\"}], \"table\": [{\"cells\": {\"fill\": {\"color\": \"#EBF0F8\"}, \"line\": {\"color\": \"white\"}}, \"header\": {\"fill\": {\"color\": \"#C8D4E3\"}, \"line\": {\"color\": \"white\"}}, \"type\": \"table\"}]}, \"layout\": {\"annotationdefaults\": {\"arrowcolor\": \"#2a3f5f\", \"arrowhead\": 0, \"arrowwidth\": 1}, \"coloraxis\": {\"colorbar\": {\"outlinewidth\": 0, \"ticks\": \"\"}}, \"colorscale\": {\"diverging\": [[0, \"#8e0152\"], [0.1, \"#c51b7d\"], [0.2, \"#de77ae\"], [0.3, \"#f1b6da\"], [0.4, \"#fde0ef\"], [0.5, \"#f7f7f7\"], [0.6, \"#e6f5d0\"], [0.7, \"#b8e186\"], [0.8, \"#7fbc41\"], [0.9, \"#4d9221\"], [1, \"#276419\"]], \"sequential\": [[0.0, \"#0d0887\"], [0.1111111111111111, \"#46039f\"], [0.2222222222222222, \"#7201a8\"], [0.3333333333333333, \"#9c179e\"], [0.4444444444444444, \"#bd3786\"], [0.5555555555555556, \"#d8576b\"], [0.6666666666666666, \"#ed7953\"], [0.7777777777777778, \"#fb9f3a\"], [0.8888888888888888, \"#fdca26\"], [1.0, \"#f0f921\"]], \"sequentialminus\": [[0.0, \"#0d0887\"], [0.1111111111111111, \"#46039f\"], [0.2222222222222222, \"#7201a8\"], [0.3333333333333333, \"#9c179e\"], [0.4444444444444444, \"#bd3786\"], [0.5555555555555556, \"#d8576b\"], [0.6666666666666666, \"#ed7953\"], [0.7777777777777778, \"#fb9f3a\"], [0.8888888888888888, \"#fdca26\"], [1.0, \"#f0f921\"]]}, \"colorway\": [\"#636efa\", \"#EF553B\", \"#00cc96\", \"#ab63fa\", \"#FFA15A\", \"#19d3f3\", \"#FF6692\", \"#B6E880\", \"#FF97FF\", \"#FECB52\"], \"font\": {\"color\": \"#2a3f5f\"}, \"geo\": {\"bgcolor\": \"white\", \"lakecolor\": \"white\", \"landcolor\": \"#E5ECF6\", \"showlakes\": true, \"showland\": true, \"subunitcolor\": \"white\"}, \"hoverlabel\": {\"align\": \"left\"}, \"hovermode\": \"closest\", \"mapbox\": {\"style\": \"light\"}, \"paper_bgcolor\": \"white\", \"plot_bgcolor\": \"#E5ECF6\", \"polar\": {\"angularaxis\": {\"gridcolor\": \"white\", \"linecolor\": \"white\", \"ticks\": \"\"}, \"bgcolor\": \"#E5ECF6\", \"radialaxis\": {\"gridcolor\": \"white\", \"linecolor\": \"white\", \"ticks\": \"\"}}, \"scene\": {\"xaxis\": {\"backgroundcolor\": \"#E5ECF6\", \"gridcolor\": \"white\", \"gridwidth\": 2, \"linecolor\": \"white\", \"showbackground\": true, \"ticks\": \"\", \"zerolinecolor\": \"white\"}, \"yaxis\": {\"backgroundcolor\": \"#E5ECF6\", \"gridcolor\": \"white\", \"gridwidth\": 2, \"linecolor\": \"white\", \"showbackground\": true, \"ticks\": \"\", \"zerolinecolor\": \"white\"}, \"zaxis\": {\"backgroundcolor\": \"#E5ECF6\", \"gridcolor\": \"white\", \"gridwidth\": 2, \"linecolor\": \"white\", \"showbackground\": true, \"ticks\": \"\", \"zerolinecolor\": \"white\"}}, \"shapedefaults\": {\"line\": {\"color\": \"#2a3f5f\"}}, \"ternary\": {\"aaxis\": {\"gridcolor\": \"white\", \"linecolor\": \"white\", \"ticks\": \"\"}, \"baxis\": {\"gridcolor\": \"white\", \"linecolor\": \"white\", \"ticks\": \"\"}, \"bgcolor\": \"#E5ECF6\", \"caxis\": {\"gridcolor\": \"white\", \"linecolor\": \"white\", \"ticks\": \"\"}}, \"title\": {\"x\": 0.05}, \"xaxis\": {\"automargin\": true, \"gridcolor\": \"white\", \"linecolor\": \"white\", \"ticks\": \"\", \"title\": {\"standoff\": 15}, \"zerolinecolor\": \"white\", \"zerolinewidth\": 2}, \"yaxis\": {\"automargin\": true, \"gridcolor\": \"white\", \"linecolor\": \"white\", \"ticks\": \"\", \"title\": {\"standoff\": 15}, \"zerolinecolor\": \"white\", \"zerolinewidth\": 2}}}, \"title\": {\"font\": {\"color\": \"#4D5663\"}}, \"xaxis\": {\"gridcolor\": \"#E1E5ED\", \"showgrid\": true, \"tickfont\": {\"color\": \"#4D5663\"}, \"title\": {\"font\": {\"color\": \"#4D5663\"}, \"text\": \"\"}, \"zerolinecolor\": \"#E1E5ED\"}, \"yaxis\": {\"gridcolor\": \"#E1E5ED\", \"showgrid\": true, \"tickfont\": {\"color\": \"#4D5663\"}, \"title\": {\"font\": {\"color\": \"#4D5663\"}, \"text\": \"\"}, \"zerolinecolor\": \"#E1E5ED\"}},\n",
       "                        {\"showLink\": true, \"linkText\": \"Export to plot.ly\", \"plotlyServerURL\": \"https://plot.ly\", \"responsive\": true}\n",
       "                    ).then(function(){\n",
       "                            \n",
       "var gd = document.getElementById('74b24cfa-003b-43d6-991c-6db2afff8a20');\n",
       "var x = new MutationObserver(function (mutations, observer) {{\n",
       "        var display = window.getComputedStyle(gd).display;\n",
       "        if (!display || display === 'none') {{\n",
       "            console.log([gd, 'removed!']);\n",
       "            Plotly.purge(gd);\n",
       "            observer.disconnect();\n",
       "        }}\n",
       "}});\n",
       "\n",
       "// Listen for the removal of the full notebook cells\n",
       "var notebookContainer = gd.closest('#notebook-container');\n",
       "if (notebookContainer) {{\n",
       "    x.observe(notebookContainer, {childList: true});\n",
       "}}\n",
       "\n",
       "// Listen for the clearing of the current output cell\n",
       "var outputEl = gd.closest('.output');\n",
       "if (outputEl) {{\n",
       "    x.observe(outputEl, {childList: true});\n",
       "}}\n",
       "\n",
       "                        })\n",
       "                };\n",
       "                });\n",
       "            </script>\n",
       "        </div>"
      ]
     },
     "metadata": {},
     "output_type": "display_data"
    }
   ],
   "source": [
    "df.iplot(kind='bubble',x='A',y='B',size='C')"
   ]
  },
  {
   "cell_type": "markdown",
   "metadata": {},
   "source": [
    "## scatter_matrix()\n",
    "\n",
    "Similar to sns.pairplot()"
   ]
  },
  {
   "cell_type": "code",
   "execution_count": 20,
   "metadata": {},
   "outputs": [
    {
     "data": {
      "application/vnd.plotly.v1+json": {
       "config": {
        "linkText": "Export to plot.ly",
        "plotlyServerURL": "https://plot.ly",
        "showLink": true
       },
       "data": [
        {
         "histfunc": "count",
         "histnorm": "",
         "marker": {
          "color": "rgba(255, 153, 51, 1.0)",
          "line": {
           "color": "#4D5663",
           "width": 1.3
          }
         },
         "name": "A",
         "nbinsx": 10,
         "opacity": 0.8,
         "orientation": "v",
         "type": "histogram",
         "x": [
          -0.510356444121689,
          0.7201652349415042,
          -0.7956381636543068,
          1.0832809916868644,
          -0.30135332660046227,
          0.42411030852509535,
          0.42087262293982375,
          -0.3834038112338632,
          -0.7181067075740701,
          -1.689000975405711,
          -0.768211369533854,
          -1.4009016874638953,
          -0.4609104403187404,
          -0.3610062304045048,
          0.6990611544761113,
          -0.4071983236663745,
          0.9749451967310648,
          -1.5521567512284027,
          2.582839819142019,
          -1.2608047270318732,
          0.68742828657434,
          -0.46537119576917874,
          -0.48064110808268334,
          0.28063181595730985,
          -1.0452623335682787,
          -0.40873364292488046,
          -1.3571367997941601,
          -0.6062375995071084,
          1.4528109216456557,
          0.07731559895151965,
          0.3250397061151751,
          1.201915142424794,
          -0.4504659375584174,
          1.9668847821266044,
          -0.364303563666657,
          -0.13927146800064158,
          0.57348161033347,
          0.4947778974491402,
          0.30569786829351947,
          0.9201554242455009,
          -0.41523183381297085,
          -1.8330412839733048,
          -0.23619614972665107,
          -1.849963868494029,
          0.5461760591197427,
          -0.9361134586802853,
          -0.4528434305920523,
          0.2174161047715857,
          1.0635059691233937,
          -0.9459523350502519,
          -0.13166220663639913,
          -0.6421618174142698,
          0.3047712492940703,
          -0.26344777521625573,
          -0.45306380687736664,
          -0.9705865345061072,
          -0.12741882697516443,
          1.0049752783819161,
          0.4086707843416792,
          -0.4511413941730779,
          0.5104243612824134,
          -0.7255566333311757,
          0.5653467224854392,
          -0.16436532244841037,
          -0.1988484231344934,
          -0.7564557068257352,
          -0.18679418701106604,
          0.007128162141137425,
          -0.04652926061840745,
          -1.2240766600558828,
          0.2548364775874957,
          0.36702432595644263,
          -1.8441953853505533,
          -0.24359038758120563,
          1.3244683296413644,
          0.61165695571586,
          1.5230508996881755,
          1.7353619398397855,
          0.22402443540755565,
          0.33895550763612925,
          0.9223319365608782,
          0.9159143574193307,
          1.2997354894773798,
          -1.4147536326587344,
          -1.0248138567998835,
          -1.7541740527292868,
          -0.6575313266954175,
          -0.6207644107638655,
          -0.44464272561837265,
          -0.836691238296052,
          1.7573684719199605,
          -2.9653482379895464,
          -1.146385550579236,
          0.15786795073923038,
          1.9837911867756637,
          -0.1286989891014074,
          0.6788131762939952,
          -0.012808189565091749,
          -0.7578489572357708,
          1.5590955815629608
         ],
         "xaxis": "x",
         "yaxis": "y"
        },
        {
         "line": {
          "color": "rgba(128, 128, 128, 1.0)",
          "dash": "solid",
          "shape": "linear",
          "width": 1.3
         },
         "marker": {
          "size": 2,
          "symbol": "circle"
         },
         "mode": "markers",
         "name": "A",
         "text": "",
         "type": "scatter",
         "x": [
          0.4394113396115198,
          -1.3704879603341773,
          -0.894779683303476,
          -0.9091697423817736,
          -0.7870831654017293,
          1.7078371717736396,
          -0.09852952274905818,
          -0.3301784910650832,
          1.6268395224675645,
          0.23779943709785142,
          0.8320902681835906,
          -1.0395936765569966,
          -1.4627998759745036,
          -1.2905181379536943,
          -0.7458983776289884,
          1.233386993912338,
          0.49681475206133296,
          -0.512701542962839,
          2.064920530388905,
          1.1887225273511324,
          0.9775910490656258,
          0.07947257556784981,
          -0.7874279153056152,
          -1.1496283384200692,
          -1.4302366554682746,
          -1.5038040240345794,
          0.2917872732984551,
          -1.1291913047146693,
          0.381635713258072,
          0.5782386470488836,
          0.18723596532937337,
          -0.3932861774601221,
          0.22451339799635048,
          -0.5639617603917293,
          0.976796922647767,
          1.3294058450552153,
          -0.014823934009534098,
          0.33694456503364056,
          -1.7596659431646775,
          0.18350148416556766,
          2.1186952855091894,
          1.8667466050294965,
          -0.837574209463975,
          1.1115620238149284,
          0.27441666631551975,
          -0.20989609089297878,
          -1.8147053413659966,
          0.7869898004991409,
          -1.7841985376732745,
          -0.5238520144705975,
          0.3812868303501749,
          0.3137975708975645,
          0.9968300457049288,
          0.5824846983864099,
          -0.05913546961926126,
          -0.7790815336783042,
          -0.5034885037883023,
          0.9896954982725973,
          -0.4787666015780376,
          1.9011893896648642,
          -0.13028487404661762,
          -2.1424981055614447,
          -1.0766028098307068,
          -0.792137140883388,
          -1.2103592333561075,
          -1.4878660498301146,
          -0.43106169827739,
          -0.44901688012835594,
          0.29737915922704417,
          -1.5005547897872924,
          -0.6906235587362654,
          0.08165168312136552,
          0.888112558194319,
          0.2162961596844919,
          0.3095124316406531,
          -2.357625950700372,
          -0.5851048603043837,
          1.4090130212670697,
          -0.8972052639813642,
          0.44154770227912477,
          1.1769309603585676,
          3.494886385021715,
          -0.34623819370067876,
          0.49039904790159233,
          -1.4439627916263218,
          -0.23356971773044577,
          1.946859888073679,
          0.39682927408000496,
          0.6947149347178614,
          0.776205432439833,
          -1.6156658133534276,
          0.8735942224395256,
          -0.027535065229056153,
          -0.008472192836710022,
          0.1836800682078861,
          -0.4984619503467606,
          1.705018893410389,
          -2.0132462510663918,
          0.1437439755595477,
          0.38606482996606656
         ],
         "xaxis": "x2",
         "y": [
          -0.510356444121689,
          0.7201652349415042,
          -0.7956381636543068,
          1.0832809916868644,
          -0.30135332660046227,
          0.42411030852509535,
          0.42087262293982375,
          -0.3834038112338632,
          -0.7181067075740701,
          -1.689000975405711,
          -0.768211369533854,
          -1.4009016874638953,
          -0.4609104403187404,
          -0.3610062304045048,
          0.6990611544761113,
          -0.4071983236663745,
          0.9749451967310648,
          -1.5521567512284027,
          2.582839819142019,
          -1.2608047270318732,
          0.68742828657434,
          -0.46537119576917874,
          -0.48064110808268334,
          0.28063181595730985,
          -1.0452623335682787,
          -0.40873364292488046,
          -1.3571367997941601,
          -0.6062375995071084,
          1.4528109216456557,
          0.07731559895151965,
          0.3250397061151751,
          1.201915142424794,
          -0.4504659375584174,
          1.9668847821266044,
          -0.364303563666657,
          -0.13927146800064158,
          0.57348161033347,
          0.4947778974491402,
          0.30569786829351947,
          0.9201554242455009,
          -0.41523183381297085,
          -1.8330412839733048,
          -0.23619614972665107,
          -1.849963868494029,
          0.5461760591197427,
          -0.9361134586802853,
          -0.4528434305920523,
          0.2174161047715857,
          1.0635059691233937,
          -0.9459523350502519,
          -0.13166220663639913,
          -0.6421618174142698,
          0.3047712492940703,
          -0.26344777521625573,
          -0.45306380687736664,
          -0.9705865345061072,
          -0.12741882697516443,
          1.0049752783819161,
          0.4086707843416792,
          -0.4511413941730779,
          0.5104243612824134,
          -0.7255566333311757,
          0.5653467224854392,
          -0.16436532244841037,
          -0.1988484231344934,
          -0.7564557068257352,
          -0.18679418701106604,
          0.007128162141137425,
          -0.04652926061840745,
          -1.2240766600558828,
          0.2548364775874957,
          0.36702432595644263,
          -1.8441953853505533,
          -0.24359038758120563,
          1.3244683296413644,
          0.61165695571586,
          1.5230508996881755,
          1.7353619398397855,
          0.22402443540755565,
          0.33895550763612925,
          0.9223319365608782,
          0.9159143574193307,
          1.2997354894773798,
          -1.4147536326587344,
          -1.0248138567998835,
          -1.7541740527292868,
          -0.6575313266954175,
          -0.6207644107638655,
          -0.44464272561837265,
          -0.836691238296052,
          1.7573684719199605,
          -2.9653482379895464,
          -1.146385550579236,
          0.15786795073923038,
          1.9837911867756637,
          -0.1286989891014074,
          0.6788131762939952,
          -0.012808189565091749,
          -0.7578489572357708,
          1.5590955815629608
         ],
         "yaxis": "y2"
        },
        {
         "line": {
          "color": "rgba(128, 128, 128, 1.0)",
          "dash": "solid",
          "shape": "linear",
          "width": 1.3
         },
         "marker": {
          "size": 2,
          "symbol": "circle"
         },
         "mode": "markers",
         "name": "A",
         "text": "",
         "type": "scatter",
         "x": [
          1.7134607267878292,
          0.01229513019344676,
          1.1576379532319447,
          1.3566370184988912,
          -0.2117756707686416,
          1.5625121947895269,
          0.5533442627161719,
          -1.0388020852135091,
          1.3233843164523944,
          -1.3841321376720623,
          -1.601418147437713,
          -1.4804291986871527,
          0.398123596774922,
          0.6600816610987036,
          0.4401119102974501,
          -0.8431254039393877,
          0.2914057336952613,
          -0.4393007785107817,
          -0.04865772347014313,
          1.1537261875287288,
          0.9635555110319551,
          -0.5880336603132681,
          0.39562638834526176,
          -0.15957211910382443,
          1.0254047780711937,
          0.12423342512452254,
          0.0437126925431905,
          0.8995894615985114,
          1.1260773239894168,
          -1.0240469410966868,
          -0.46796827766550575,
          1.3438990552061132,
          0.7083038644210866,
          -1.4301276155498046,
          -1.1787929121320906,
          1.2589911130944365,
          -1.107663529376245,
          -0.34454418220057675,
          1.1800182427566668,
          0.6621456810599124,
          0.9332278668943851,
          1.0437030244588577,
          1.1589775156621946,
          -1.286641464870168,
          0.09592486742623252,
          -0.060169757044287585,
          -0.42631472192425107,
          0.05509445430998456,
          0.5838635059871827,
          -1.0117104904794283,
          -0.36333960758699724,
          -0.6042376837704702,
          0.46754062186437567,
          0.5434090188257058,
          0.864369979455845,
          -0.03379664750232179,
          -1.8037781405146458,
          1.6759719250546596,
          -0.04334468392284036,
          -0.639674969010019,
          -1.1978450422539484,
          0.44647289296402143,
          0.2934078819402944,
          0.16864785141964597,
          -0.03899654640077746,
          0.2797233408514478,
          0.9706769301218381,
          0.3053152936395522,
          0.3488898255315582,
          -0.3695518224748706,
          1.238513300269592,
          1.1105842613534929,
          -0.45241838137786267,
          0.0061385544732930255,
          -1.519598989469329,
          1.5021261970541342,
          0.9379164174518302,
          -0.044109473046359864,
          1.0675633476248816,
          -1.6088697204823577,
          -1.2116805484645659,
          2.2143799486399542,
          -0.638817358171448,
          1.0689578074338253,
          0.31208077022181774,
          -0.7155400847678097,
          0.4654737522814809,
          -0.5612860156322768,
          -0.29481862276324833,
          0.4485246590538842,
          0.4536017204861066,
          0.3811734827980065,
          0.05859924533815346,
          -1.0184769474724664,
          0.39167521632673225,
          -0.8459166933123231,
          0.9603389026740023,
          -0.08939291758784702,
          -1.3339894824288652,
          0.6489534233801592
         ],
         "xaxis": "x3",
         "y": [
          -0.510356444121689,
          0.7201652349415042,
          -0.7956381636543068,
          1.0832809916868644,
          -0.30135332660046227,
          0.42411030852509535,
          0.42087262293982375,
          -0.3834038112338632,
          -0.7181067075740701,
          -1.689000975405711,
          -0.768211369533854,
          -1.4009016874638953,
          -0.4609104403187404,
          -0.3610062304045048,
          0.6990611544761113,
          -0.4071983236663745,
          0.9749451967310648,
          -1.5521567512284027,
          2.582839819142019,
          -1.2608047270318732,
          0.68742828657434,
          -0.46537119576917874,
          -0.48064110808268334,
          0.28063181595730985,
          -1.0452623335682787,
          -0.40873364292488046,
          -1.3571367997941601,
          -0.6062375995071084,
          1.4528109216456557,
          0.07731559895151965,
          0.3250397061151751,
          1.201915142424794,
          -0.4504659375584174,
          1.9668847821266044,
          -0.364303563666657,
          -0.13927146800064158,
          0.57348161033347,
          0.4947778974491402,
          0.30569786829351947,
          0.9201554242455009,
          -0.41523183381297085,
          -1.8330412839733048,
          -0.23619614972665107,
          -1.849963868494029,
          0.5461760591197427,
          -0.9361134586802853,
          -0.4528434305920523,
          0.2174161047715857,
          1.0635059691233937,
          -0.9459523350502519,
          -0.13166220663639913,
          -0.6421618174142698,
          0.3047712492940703,
          -0.26344777521625573,
          -0.45306380687736664,
          -0.9705865345061072,
          -0.12741882697516443,
          1.0049752783819161,
          0.4086707843416792,
          -0.4511413941730779,
          0.5104243612824134,
          -0.7255566333311757,
          0.5653467224854392,
          -0.16436532244841037,
          -0.1988484231344934,
          -0.7564557068257352,
          -0.18679418701106604,
          0.007128162141137425,
          -0.04652926061840745,
          -1.2240766600558828,
          0.2548364775874957,
          0.36702432595644263,
          -1.8441953853505533,
          -0.24359038758120563,
          1.3244683296413644,
          0.61165695571586,
          1.5230508996881755,
          1.7353619398397855,
          0.22402443540755565,
          0.33895550763612925,
          0.9223319365608782,
          0.9159143574193307,
          1.2997354894773798,
          -1.4147536326587344,
          -1.0248138567998835,
          -1.7541740527292868,
          -0.6575313266954175,
          -0.6207644107638655,
          -0.44464272561837265,
          -0.836691238296052,
          1.7573684719199605,
          -2.9653482379895464,
          -1.146385550579236,
          0.15786795073923038,
          1.9837911867756637,
          -0.1286989891014074,
          0.6788131762939952,
          -0.012808189565091749,
          -0.7578489572357708,
          1.5590955815629608
         ],
         "yaxis": "y3"
        },
        {
         "line": {
          "color": "rgba(128, 128, 128, 1.0)",
          "dash": "solid",
          "shape": "linear",
          "width": 1.3
         },
         "marker": {
          "size": 2,
          "symbol": "circle"
         },
         "mode": "markers",
         "name": "A",
         "text": "",
         "type": "scatter",
         "x": [
          -0.6494312813489145,
          0.5196054801095733,
          0.0828488001042145,
          0.4249812754840084,
          0.5729293370994376,
          0.9292731412356393,
          -0.3416471965687598,
          -0.8792390472325408,
          -0.2537255764371739,
          0.446260129769695,
          2.6514949387993703,
          0.26287820592109423,
          0.9307105379918522,
          -0.11002087128670265,
          -0.3894678170928814,
          -1.2056699291126767,
          -0.33982778539946473,
          -0.5881542236293539,
          0.38293030573445497,
          -0.2971978399749488,
          1.3547218372705987,
          -2.4779811779546486,
          -0.39059599846259063,
          0.21667583702807452,
          -0.5803490910115267,
          0.25546806790574383,
          -0.30223300479977305,
          1.2604364945297997,
          -1.156888967018702,
          -0.021516118040357916,
          -0.6722009918032484,
          -1.6297981653637084,
          1.0722741218800351,
          -0.17793982314165274,
          -0.2870437190408764,
          -0.7447344530324086,
          -1.8866491407895452,
          0.48239707899094636,
          -0.9315051451227777,
          0.7398734905309798,
          -0.4072464898723833,
          -1.8297211898989034,
          -1.2091335318863878,
          -0.47405824350178866,
          0.3317790547794101,
          -0.7335094760607728,
          -0.06069935848235784,
          0.2149359131378458,
          -1.2772687572661934,
          -0.6707945711837375,
          -1.8454602155509663,
          1.3742821834136227,
          -0.6849319114740683,
          0.20962107268154645,
          0.8739647403395655,
          -0.0648512961866547,
          0.10916666355129223,
          0.7742130365257172,
          -0.6202121031517325,
          -2.027047349242399,
          -0.8537322497487592,
          0.10466128223410277,
          -0.9537032798117839,
          -0.2106665962593506,
          -0.9684766400297471,
          -0.6579892171523315,
          -0.7787375038637451,
          -0.9247492346307117,
          -0.9338954872947596,
          0.23386795010542535,
          -0.26925504094370395,
          0.8019489697881516,
          0.49658912032148483,
          1.065966241426964,
          0.3139004072052315,
          0.8198729194069315,
          -0.15747464396416938,
          -1.4172739578471354,
          -2.0091660542923626,
          0.18288638841393226,
          0.9834100356019922,
          -0.3583663367860736,
          0.40689607852516135,
          -1.8183389932144993,
          0.9905748041579666,
          -0.13734448106333003,
          -0.7742743589471643,
          -0.5248974994430586,
          -0.04727700329103183,
          0.09700939432349272,
          0.30365089281729596,
          1.5038805885998434,
          1.146636147027629,
          1.129211795513414,
          -0.09137973751845033,
          -1.8140911181141097,
          -0.0855074483344991,
          0.10415479262056486,
          1.9701469206422444,
          -1.2796223948212122
         ],
         "xaxis": "x4",
         "y": [
          -0.510356444121689,
          0.7201652349415042,
          -0.7956381636543068,
          1.0832809916868644,
          -0.30135332660046227,
          0.42411030852509535,
          0.42087262293982375,
          -0.3834038112338632,
          -0.7181067075740701,
          -1.689000975405711,
          -0.768211369533854,
          -1.4009016874638953,
          -0.4609104403187404,
          -0.3610062304045048,
          0.6990611544761113,
          -0.4071983236663745,
          0.9749451967310648,
          -1.5521567512284027,
          2.582839819142019,
          -1.2608047270318732,
          0.68742828657434,
          -0.46537119576917874,
          -0.48064110808268334,
          0.28063181595730985,
          -1.0452623335682787,
          -0.40873364292488046,
          -1.3571367997941601,
          -0.6062375995071084,
          1.4528109216456557,
          0.07731559895151965,
          0.3250397061151751,
          1.201915142424794,
          -0.4504659375584174,
          1.9668847821266044,
          -0.364303563666657,
          -0.13927146800064158,
          0.57348161033347,
          0.4947778974491402,
          0.30569786829351947,
          0.9201554242455009,
          -0.41523183381297085,
          -1.8330412839733048,
          -0.23619614972665107,
          -1.849963868494029,
          0.5461760591197427,
          -0.9361134586802853,
          -0.4528434305920523,
          0.2174161047715857,
          1.0635059691233937,
          -0.9459523350502519,
          -0.13166220663639913,
          -0.6421618174142698,
          0.3047712492940703,
          -0.26344777521625573,
          -0.45306380687736664,
          -0.9705865345061072,
          -0.12741882697516443,
          1.0049752783819161,
          0.4086707843416792,
          -0.4511413941730779,
          0.5104243612824134,
          -0.7255566333311757,
          0.5653467224854392,
          -0.16436532244841037,
          -0.1988484231344934,
          -0.7564557068257352,
          -0.18679418701106604,
          0.007128162141137425,
          -0.04652926061840745,
          -1.2240766600558828,
          0.2548364775874957,
          0.36702432595644263,
          -1.8441953853505533,
          -0.24359038758120563,
          1.3244683296413644,
          0.61165695571586,
          1.5230508996881755,
          1.7353619398397855,
          0.22402443540755565,
          0.33895550763612925,
          0.9223319365608782,
          0.9159143574193307,
          1.2997354894773798,
          -1.4147536326587344,
          -1.0248138567998835,
          -1.7541740527292868,
          -0.6575313266954175,
          -0.6207644107638655,
          -0.44464272561837265,
          -0.836691238296052,
          1.7573684719199605,
          -2.9653482379895464,
          -1.146385550579236,
          0.15786795073923038,
          1.9837911867756637,
          -0.1286989891014074,
          0.6788131762939952,
          -0.012808189565091749,
          -0.7578489572357708,
          1.5590955815629608
         ],
         "yaxis": "y4"
        },
        {
         "line": {
          "color": "rgba(128, 128, 128, 1.0)",
          "dash": "solid",
          "shape": "linear",
          "width": 1.3
         },
         "marker": {
          "size": 2,
          "symbol": "circle"
         },
         "mode": "markers",
         "name": "B",
         "text": "",
         "type": "scatter",
         "x": [
          -0.510356444121689,
          0.7201652349415042,
          -0.7956381636543068,
          1.0832809916868644,
          -0.30135332660046227,
          0.42411030852509535,
          0.42087262293982375,
          -0.3834038112338632,
          -0.7181067075740701,
          -1.689000975405711,
          -0.768211369533854,
          -1.4009016874638953,
          -0.4609104403187404,
          -0.3610062304045048,
          0.6990611544761113,
          -0.4071983236663745,
          0.9749451967310648,
          -1.5521567512284027,
          2.582839819142019,
          -1.2608047270318732,
          0.68742828657434,
          -0.46537119576917874,
          -0.48064110808268334,
          0.28063181595730985,
          -1.0452623335682787,
          -0.40873364292488046,
          -1.3571367997941601,
          -0.6062375995071084,
          1.4528109216456557,
          0.07731559895151965,
          0.3250397061151751,
          1.201915142424794,
          -0.4504659375584174,
          1.9668847821266044,
          -0.364303563666657,
          -0.13927146800064158,
          0.57348161033347,
          0.4947778974491402,
          0.30569786829351947,
          0.9201554242455009,
          -0.41523183381297085,
          -1.8330412839733048,
          -0.23619614972665107,
          -1.849963868494029,
          0.5461760591197427,
          -0.9361134586802853,
          -0.4528434305920523,
          0.2174161047715857,
          1.0635059691233937,
          -0.9459523350502519,
          -0.13166220663639913,
          -0.6421618174142698,
          0.3047712492940703,
          -0.26344777521625573,
          -0.45306380687736664,
          -0.9705865345061072,
          -0.12741882697516443,
          1.0049752783819161,
          0.4086707843416792,
          -0.4511413941730779,
          0.5104243612824134,
          -0.7255566333311757,
          0.5653467224854392,
          -0.16436532244841037,
          -0.1988484231344934,
          -0.7564557068257352,
          -0.18679418701106604,
          0.007128162141137425,
          -0.04652926061840745,
          -1.2240766600558828,
          0.2548364775874957,
          0.36702432595644263,
          -1.8441953853505533,
          -0.24359038758120563,
          1.3244683296413644,
          0.61165695571586,
          1.5230508996881755,
          1.7353619398397855,
          0.22402443540755565,
          0.33895550763612925,
          0.9223319365608782,
          0.9159143574193307,
          1.2997354894773798,
          -1.4147536326587344,
          -1.0248138567998835,
          -1.7541740527292868,
          -0.6575313266954175,
          -0.6207644107638655,
          -0.44464272561837265,
          -0.836691238296052,
          1.7573684719199605,
          -2.9653482379895464,
          -1.146385550579236,
          0.15786795073923038,
          1.9837911867756637,
          -0.1286989891014074,
          0.6788131762939952,
          -0.012808189565091749,
          -0.7578489572357708,
          1.5590955815629608
         ],
         "xaxis": "x5",
         "y": [
          0.4394113396115198,
          -1.3704879603341773,
          -0.894779683303476,
          -0.9091697423817736,
          -0.7870831654017293,
          1.7078371717736396,
          -0.09852952274905818,
          -0.3301784910650832,
          1.6268395224675645,
          0.23779943709785142,
          0.8320902681835906,
          -1.0395936765569966,
          -1.4627998759745036,
          -1.2905181379536943,
          -0.7458983776289884,
          1.233386993912338,
          0.49681475206133296,
          -0.512701542962839,
          2.064920530388905,
          1.1887225273511324,
          0.9775910490656258,
          0.07947257556784981,
          -0.7874279153056152,
          -1.1496283384200692,
          -1.4302366554682746,
          -1.5038040240345794,
          0.2917872732984551,
          -1.1291913047146693,
          0.381635713258072,
          0.5782386470488836,
          0.18723596532937337,
          -0.3932861774601221,
          0.22451339799635048,
          -0.5639617603917293,
          0.976796922647767,
          1.3294058450552153,
          -0.014823934009534098,
          0.33694456503364056,
          -1.7596659431646775,
          0.18350148416556766,
          2.1186952855091894,
          1.8667466050294965,
          -0.837574209463975,
          1.1115620238149284,
          0.27441666631551975,
          -0.20989609089297878,
          -1.8147053413659966,
          0.7869898004991409,
          -1.7841985376732745,
          -0.5238520144705975,
          0.3812868303501749,
          0.3137975708975645,
          0.9968300457049288,
          0.5824846983864099,
          -0.05913546961926126,
          -0.7790815336783042,
          -0.5034885037883023,
          0.9896954982725973,
          -0.4787666015780376,
          1.9011893896648642,
          -0.13028487404661762,
          -2.1424981055614447,
          -1.0766028098307068,
          -0.792137140883388,
          -1.2103592333561075,
          -1.4878660498301146,
          -0.43106169827739,
          -0.44901688012835594,
          0.29737915922704417,
          -1.5005547897872924,
          -0.6906235587362654,
          0.08165168312136552,
          0.888112558194319,
          0.2162961596844919,
          0.3095124316406531,
          -2.357625950700372,
          -0.5851048603043837,
          1.4090130212670697,
          -0.8972052639813642,
          0.44154770227912477,
          1.1769309603585676,
          3.494886385021715,
          -0.34623819370067876,
          0.49039904790159233,
          -1.4439627916263218,
          -0.23356971773044577,
          1.946859888073679,
          0.39682927408000496,
          0.6947149347178614,
          0.776205432439833,
          -1.6156658133534276,
          0.8735942224395256,
          -0.027535065229056153,
          -0.008472192836710022,
          0.1836800682078861,
          -0.4984619503467606,
          1.705018893410389,
          -2.0132462510663918,
          0.1437439755595477,
          0.38606482996606656
         ],
         "yaxis": "y5"
        },
        {
         "histfunc": "count",
         "histnorm": "",
         "marker": {
          "color": "rgba(55, 128, 191, 1.0)",
          "line": {
           "color": "#4D5663",
           "width": 1.3
          }
         },
         "name": "B",
         "nbinsx": 10,
         "opacity": 0.8,
         "orientation": "v",
         "type": "histogram",
         "x": [
          0.4394113396115198,
          -1.3704879603341773,
          -0.894779683303476,
          -0.9091697423817736,
          -0.7870831654017293,
          1.7078371717736396,
          -0.09852952274905818,
          -0.3301784910650832,
          1.6268395224675645,
          0.23779943709785142,
          0.8320902681835906,
          -1.0395936765569966,
          -1.4627998759745036,
          -1.2905181379536943,
          -0.7458983776289884,
          1.233386993912338,
          0.49681475206133296,
          -0.512701542962839,
          2.064920530388905,
          1.1887225273511324,
          0.9775910490656258,
          0.07947257556784981,
          -0.7874279153056152,
          -1.1496283384200692,
          -1.4302366554682746,
          -1.5038040240345794,
          0.2917872732984551,
          -1.1291913047146693,
          0.381635713258072,
          0.5782386470488836,
          0.18723596532937337,
          -0.3932861774601221,
          0.22451339799635048,
          -0.5639617603917293,
          0.976796922647767,
          1.3294058450552153,
          -0.014823934009534098,
          0.33694456503364056,
          -1.7596659431646775,
          0.18350148416556766,
          2.1186952855091894,
          1.8667466050294965,
          -0.837574209463975,
          1.1115620238149284,
          0.27441666631551975,
          -0.20989609089297878,
          -1.8147053413659966,
          0.7869898004991409,
          -1.7841985376732745,
          -0.5238520144705975,
          0.3812868303501749,
          0.3137975708975645,
          0.9968300457049288,
          0.5824846983864099,
          -0.05913546961926126,
          -0.7790815336783042,
          -0.5034885037883023,
          0.9896954982725973,
          -0.4787666015780376,
          1.9011893896648642,
          -0.13028487404661762,
          -2.1424981055614447,
          -1.0766028098307068,
          -0.792137140883388,
          -1.2103592333561075,
          -1.4878660498301146,
          -0.43106169827739,
          -0.44901688012835594,
          0.29737915922704417,
          -1.5005547897872924,
          -0.6906235587362654,
          0.08165168312136552,
          0.888112558194319,
          0.2162961596844919,
          0.3095124316406531,
          -2.357625950700372,
          -0.5851048603043837,
          1.4090130212670697,
          -0.8972052639813642,
          0.44154770227912477,
          1.1769309603585676,
          3.494886385021715,
          -0.34623819370067876,
          0.49039904790159233,
          -1.4439627916263218,
          -0.23356971773044577,
          1.946859888073679,
          0.39682927408000496,
          0.6947149347178614,
          0.776205432439833,
          -1.6156658133534276,
          0.8735942224395256,
          -0.027535065229056153,
          -0.008472192836710022,
          0.1836800682078861,
          -0.4984619503467606,
          1.705018893410389,
          -2.0132462510663918,
          0.1437439755595477,
          0.38606482996606656
         ],
         "xaxis": "x6",
         "yaxis": "y6"
        },
        {
         "line": {
          "color": "rgba(128, 128, 128, 1.0)",
          "dash": "solid",
          "shape": "linear",
          "width": 1.3
         },
         "marker": {
          "size": 2,
          "symbol": "circle"
         },
         "mode": "markers",
         "name": "B",
         "text": "",
         "type": "scatter",
         "x": [
          1.7134607267878292,
          0.01229513019344676,
          1.1576379532319447,
          1.3566370184988912,
          -0.2117756707686416,
          1.5625121947895269,
          0.5533442627161719,
          -1.0388020852135091,
          1.3233843164523944,
          -1.3841321376720623,
          -1.601418147437713,
          -1.4804291986871527,
          0.398123596774922,
          0.6600816610987036,
          0.4401119102974501,
          -0.8431254039393877,
          0.2914057336952613,
          -0.4393007785107817,
          -0.04865772347014313,
          1.1537261875287288,
          0.9635555110319551,
          -0.5880336603132681,
          0.39562638834526176,
          -0.15957211910382443,
          1.0254047780711937,
          0.12423342512452254,
          0.0437126925431905,
          0.8995894615985114,
          1.1260773239894168,
          -1.0240469410966868,
          -0.46796827766550575,
          1.3438990552061132,
          0.7083038644210866,
          -1.4301276155498046,
          -1.1787929121320906,
          1.2589911130944365,
          -1.107663529376245,
          -0.34454418220057675,
          1.1800182427566668,
          0.6621456810599124,
          0.9332278668943851,
          1.0437030244588577,
          1.1589775156621946,
          -1.286641464870168,
          0.09592486742623252,
          -0.060169757044287585,
          -0.42631472192425107,
          0.05509445430998456,
          0.5838635059871827,
          -1.0117104904794283,
          -0.36333960758699724,
          -0.6042376837704702,
          0.46754062186437567,
          0.5434090188257058,
          0.864369979455845,
          -0.03379664750232179,
          -1.8037781405146458,
          1.6759719250546596,
          -0.04334468392284036,
          -0.639674969010019,
          -1.1978450422539484,
          0.44647289296402143,
          0.2934078819402944,
          0.16864785141964597,
          -0.03899654640077746,
          0.2797233408514478,
          0.9706769301218381,
          0.3053152936395522,
          0.3488898255315582,
          -0.3695518224748706,
          1.238513300269592,
          1.1105842613534929,
          -0.45241838137786267,
          0.0061385544732930255,
          -1.519598989469329,
          1.5021261970541342,
          0.9379164174518302,
          -0.044109473046359864,
          1.0675633476248816,
          -1.6088697204823577,
          -1.2116805484645659,
          2.2143799486399542,
          -0.638817358171448,
          1.0689578074338253,
          0.31208077022181774,
          -0.7155400847678097,
          0.4654737522814809,
          -0.5612860156322768,
          -0.29481862276324833,
          0.4485246590538842,
          0.4536017204861066,
          0.3811734827980065,
          0.05859924533815346,
          -1.0184769474724664,
          0.39167521632673225,
          -0.8459166933123231,
          0.9603389026740023,
          -0.08939291758784702,
          -1.3339894824288652,
          0.6489534233801592
         ],
         "xaxis": "x7",
         "y": [
          0.4394113396115198,
          -1.3704879603341773,
          -0.894779683303476,
          -0.9091697423817736,
          -0.7870831654017293,
          1.7078371717736396,
          -0.09852952274905818,
          -0.3301784910650832,
          1.6268395224675645,
          0.23779943709785142,
          0.8320902681835906,
          -1.0395936765569966,
          -1.4627998759745036,
          -1.2905181379536943,
          -0.7458983776289884,
          1.233386993912338,
          0.49681475206133296,
          -0.512701542962839,
          2.064920530388905,
          1.1887225273511324,
          0.9775910490656258,
          0.07947257556784981,
          -0.7874279153056152,
          -1.1496283384200692,
          -1.4302366554682746,
          -1.5038040240345794,
          0.2917872732984551,
          -1.1291913047146693,
          0.381635713258072,
          0.5782386470488836,
          0.18723596532937337,
          -0.3932861774601221,
          0.22451339799635048,
          -0.5639617603917293,
          0.976796922647767,
          1.3294058450552153,
          -0.014823934009534098,
          0.33694456503364056,
          -1.7596659431646775,
          0.18350148416556766,
          2.1186952855091894,
          1.8667466050294965,
          -0.837574209463975,
          1.1115620238149284,
          0.27441666631551975,
          -0.20989609089297878,
          -1.8147053413659966,
          0.7869898004991409,
          -1.7841985376732745,
          -0.5238520144705975,
          0.3812868303501749,
          0.3137975708975645,
          0.9968300457049288,
          0.5824846983864099,
          -0.05913546961926126,
          -0.7790815336783042,
          -0.5034885037883023,
          0.9896954982725973,
          -0.4787666015780376,
          1.9011893896648642,
          -0.13028487404661762,
          -2.1424981055614447,
          -1.0766028098307068,
          -0.792137140883388,
          -1.2103592333561075,
          -1.4878660498301146,
          -0.43106169827739,
          -0.44901688012835594,
          0.29737915922704417,
          -1.5005547897872924,
          -0.6906235587362654,
          0.08165168312136552,
          0.888112558194319,
          0.2162961596844919,
          0.3095124316406531,
          -2.357625950700372,
          -0.5851048603043837,
          1.4090130212670697,
          -0.8972052639813642,
          0.44154770227912477,
          1.1769309603585676,
          3.494886385021715,
          -0.34623819370067876,
          0.49039904790159233,
          -1.4439627916263218,
          -0.23356971773044577,
          1.946859888073679,
          0.39682927408000496,
          0.6947149347178614,
          0.776205432439833,
          -1.6156658133534276,
          0.8735942224395256,
          -0.027535065229056153,
          -0.008472192836710022,
          0.1836800682078861,
          -0.4984619503467606,
          1.705018893410389,
          -2.0132462510663918,
          0.1437439755595477,
          0.38606482996606656
         ],
         "yaxis": "y7"
        },
        {
         "line": {
          "color": "rgba(128, 128, 128, 1.0)",
          "dash": "solid",
          "shape": "linear",
          "width": 1.3
         },
         "marker": {
          "size": 2,
          "symbol": "circle"
         },
         "mode": "markers",
         "name": "B",
         "text": "",
         "type": "scatter",
         "x": [
          -0.6494312813489145,
          0.5196054801095733,
          0.0828488001042145,
          0.4249812754840084,
          0.5729293370994376,
          0.9292731412356393,
          -0.3416471965687598,
          -0.8792390472325408,
          -0.2537255764371739,
          0.446260129769695,
          2.6514949387993703,
          0.26287820592109423,
          0.9307105379918522,
          -0.11002087128670265,
          -0.3894678170928814,
          -1.2056699291126767,
          -0.33982778539946473,
          -0.5881542236293539,
          0.38293030573445497,
          -0.2971978399749488,
          1.3547218372705987,
          -2.4779811779546486,
          -0.39059599846259063,
          0.21667583702807452,
          -0.5803490910115267,
          0.25546806790574383,
          -0.30223300479977305,
          1.2604364945297997,
          -1.156888967018702,
          -0.021516118040357916,
          -0.6722009918032484,
          -1.6297981653637084,
          1.0722741218800351,
          -0.17793982314165274,
          -0.2870437190408764,
          -0.7447344530324086,
          -1.8866491407895452,
          0.48239707899094636,
          -0.9315051451227777,
          0.7398734905309798,
          -0.4072464898723833,
          -1.8297211898989034,
          -1.2091335318863878,
          -0.47405824350178866,
          0.3317790547794101,
          -0.7335094760607728,
          -0.06069935848235784,
          0.2149359131378458,
          -1.2772687572661934,
          -0.6707945711837375,
          -1.8454602155509663,
          1.3742821834136227,
          -0.6849319114740683,
          0.20962107268154645,
          0.8739647403395655,
          -0.0648512961866547,
          0.10916666355129223,
          0.7742130365257172,
          -0.6202121031517325,
          -2.027047349242399,
          -0.8537322497487592,
          0.10466128223410277,
          -0.9537032798117839,
          -0.2106665962593506,
          -0.9684766400297471,
          -0.6579892171523315,
          -0.7787375038637451,
          -0.9247492346307117,
          -0.9338954872947596,
          0.23386795010542535,
          -0.26925504094370395,
          0.8019489697881516,
          0.49658912032148483,
          1.065966241426964,
          0.3139004072052315,
          0.8198729194069315,
          -0.15747464396416938,
          -1.4172739578471354,
          -2.0091660542923626,
          0.18288638841393226,
          0.9834100356019922,
          -0.3583663367860736,
          0.40689607852516135,
          -1.8183389932144993,
          0.9905748041579666,
          -0.13734448106333003,
          -0.7742743589471643,
          -0.5248974994430586,
          -0.04727700329103183,
          0.09700939432349272,
          0.30365089281729596,
          1.5038805885998434,
          1.146636147027629,
          1.129211795513414,
          -0.09137973751845033,
          -1.8140911181141097,
          -0.0855074483344991,
          0.10415479262056486,
          1.9701469206422444,
          -1.2796223948212122
         ],
         "xaxis": "x8",
         "y": [
          0.4394113396115198,
          -1.3704879603341773,
          -0.894779683303476,
          -0.9091697423817736,
          -0.7870831654017293,
          1.7078371717736396,
          -0.09852952274905818,
          -0.3301784910650832,
          1.6268395224675645,
          0.23779943709785142,
          0.8320902681835906,
          -1.0395936765569966,
          -1.4627998759745036,
          -1.2905181379536943,
          -0.7458983776289884,
          1.233386993912338,
          0.49681475206133296,
          -0.512701542962839,
          2.064920530388905,
          1.1887225273511324,
          0.9775910490656258,
          0.07947257556784981,
          -0.7874279153056152,
          -1.1496283384200692,
          -1.4302366554682746,
          -1.5038040240345794,
          0.2917872732984551,
          -1.1291913047146693,
          0.381635713258072,
          0.5782386470488836,
          0.18723596532937337,
          -0.3932861774601221,
          0.22451339799635048,
          -0.5639617603917293,
          0.976796922647767,
          1.3294058450552153,
          -0.014823934009534098,
          0.33694456503364056,
          -1.7596659431646775,
          0.18350148416556766,
          2.1186952855091894,
          1.8667466050294965,
          -0.837574209463975,
          1.1115620238149284,
          0.27441666631551975,
          -0.20989609089297878,
          -1.8147053413659966,
          0.7869898004991409,
          -1.7841985376732745,
          -0.5238520144705975,
          0.3812868303501749,
          0.3137975708975645,
          0.9968300457049288,
          0.5824846983864099,
          -0.05913546961926126,
          -0.7790815336783042,
          -0.5034885037883023,
          0.9896954982725973,
          -0.4787666015780376,
          1.9011893896648642,
          -0.13028487404661762,
          -2.1424981055614447,
          -1.0766028098307068,
          -0.792137140883388,
          -1.2103592333561075,
          -1.4878660498301146,
          -0.43106169827739,
          -0.44901688012835594,
          0.29737915922704417,
          -1.5005547897872924,
          -0.6906235587362654,
          0.08165168312136552,
          0.888112558194319,
          0.2162961596844919,
          0.3095124316406531,
          -2.357625950700372,
          -0.5851048603043837,
          1.4090130212670697,
          -0.8972052639813642,
          0.44154770227912477,
          1.1769309603585676,
          3.494886385021715,
          -0.34623819370067876,
          0.49039904790159233,
          -1.4439627916263218,
          -0.23356971773044577,
          1.946859888073679,
          0.39682927408000496,
          0.6947149347178614,
          0.776205432439833,
          -1.6156658133534276,
          0.8735942224395256,
          -0.027535065229056153,
          -0.008472192836710022,
          0.1836800682078861,
          -0.4984619503467606,
          1.705018893410389,
          -2.0132462510663918,
          0.1437439755595477,
          0.38606482996606656
         ],
         "yaxis": "y8"
        },
        {
         "line": {
          "color": "rgba(128, 128, 128, 1.0)",
          "dash": "solid",
          "shape": "linear",
          "width": 1.3
         },
         "marker": {
          "size": 2,
          "symbol": "circle"
         },
         "mode": "markers",
         "name": "C",
         "text": "",
         "type": "scatter",
         "x": [
          -0.510356444121689,
          0.7201652349415042,
          -0.7956381636543068,
          1.0832809916868644,
          -0.30135332660046227,
          0.42411030852509535,
          0.42087262293982375,
          -0.3834038112338632,
          -0.7181067075740701,
          -1.689000975405711,
          -0.768211369533854,
          -1.4009016874638953,
          -0.4609104403187404,
          -0.3610062304045048,
          0.6990611544761113,
          -0.4071983236663745,
          0.9749451967310648,
          -1.5521567512284027,
          2.582839819142019,
          -1.2608047270318732,
          0.68742828657434,
          -0.46537119576917874,
          -0.48064110808268334,
          0.28063181595730985,
          -1.0452623335682787,
          -0.40873364292488046,
          -1.3571367997941601,
          -0.6062375995071084,
          1.4528109216456557,
          0.07731559895151965,
          0.3250397061151751,
          1.201915142424794,
          -0.4504659375584174,
          1.9668847821266044,
          -0.364303563666657,
          -0.13927146800064158,
          0.57348161033347,
          0.4947778974491402,
          0.30569786829351947,
          0.9201554242455009,
          -0.41523183381297085,
          -1.8330412839733048,
          -0.23619614972665107,
          -1.849963868494029,
          0.5461760591197427,
          -0.9361134586802853,
          -0.4528434305920523,
          0.2174161047715857,
          1.0635059691233937,
          -0.9459523350502519,
          -0.13166220663639913,
          -0.6421618174142698,
          0.3047712492940703,
          -0.26344777521625573,
          -0.45306380687736664,
          -0.9705865345061072,
          -0.12741882697516443,
          1.0049752783819161,
          0.4086707843416792,
          -0.4511413941730779,
          0.5104243612824134,
          -0.7255566333311757,
          0.5653467224854392,
          -0.16436532244841037,
          -0.1988484231344934,
          -0.7564557068257352,
          -0.18679418701106604,
          0.007128162141137425,
          -0.04652926061840745,
          -1.2240766600558828,
          0.2548364775874957,
          0.36702432595644263,
          -1.8441953853505533,
          -0.24359038758120563,
          1.3244683296413644,
          0.61165695571586,
          1.5230508996881755,
          1.7353619398397855,
          0.22402443540755565,
          0.33895550763612925,
          0.9223319365608782,
          0.9159143574193307,
          1.2997354894773798,
          -1.4147536326587344,
          -1.0248138567998835,
          -1.7541740527292868,
          -0.6575313266954175,
          -0.6207644107638655,
          -0.44464272561837265,
          -0.836691238296052,
          1.7573684719199605,
          -2.9653482379895464,
          -1.146385550579236,
          0.15786795073923038,
          1.9837911867756637,
          -0.1286989891014074,
          0.6788131762939952,
          -0.012808189565091749,
          -0.7578489572357708,
          1.5590955815629608
         ],
         "xaxis": "x9",
         "y": [
          1.7134607267878292,
          0.01229513019344676,
          1.1576379532319447,
          1.3566370184988912,
          -0.2117756707686416,
          1.5625121947895269,
          0.5533442627161719,
          -1.0388020852135091,
          1.3233843164523944,
          -1.3841321376720623,
          -1.601418147437713,
          -1.4804291986871527,
          0.398123596774922,
          0.6600816610987036,
          0.4401119102974501,
          -0.8431254039393877,
          0.2914057336952613,
          -0.4393007785107817,
          -0.04865772347014313,
          1.1537261875287288,
          0.9635555110319551,
          -0.5880336603132681,
          0.39562638834526176,
          -0.15957211910382443,
          1.0254047780711937,
          0.12423342512452254,
          0.0437126925431905,
          0.8995894615985114,
          1.1260773239894168,
          -1.0240469410966868,
          -0.46796827766550575,
          1.3438990552061132,
          0.7083038644210866,
          -1.4301276155498046,
          -1.1787929121320906,
          1.2589911130944365,
          -1.107663529376245,
          -0.34454418220057675,
          1.1800182427566668,
          0.6621456810599124,
          0.9332278668943851,
          1.0437030244588577,
          1.1589775156621946,
          -1.286641464870168,
          0.09592486742623252,
          -0.060169757044287585,
          -0.42631472192425107,
          0.05509445430998456,
          0.5838635059871827,
          -1.0117104904794283,
          -0.36333960758699724,
          -0.6042376837704702,
          0.46754062186437567,
          0.5434090188257058,
          0.864369979455845,
          -0.03379664750232179,
          -1.8037781405146458,
          1.6759719250546596,
          -0.04334468392284036,
          -0.639674969010019,
          -1.1978450422539484,
          0.44647289296402143,
          0.2934078819402944,
          0.16864785141964597,
          -0.03899654640077746,
          0.2797233408514478,
          0.9706769301218381,
          0.3053152936395522,
          0.3488898255315582,
          -0.3695518224748706,
          1.238513300269592,
          1.1105842613534929,
          -0.45241838137786267,
          0.0061385544732930255,
          -1.519598989469329,
          1.5021261970541342,
          0.9379164174518302,
          -0.044109473046359864,
          1.0675633476248816,
          -1.6088697204823577,
          -1.2116805484645659,
          2.2143799486399542,
          -0.638817358171448,
          1.0689578074338253,
          0.31208077022181774,
          -0.7155400847678097,
          0.4654737522814809,
          -0.5612860156322768,
          -0.29481862276324833,
          0.4485246590538842,
          0.4536017204861066,
          0.3811734827980065,
          0.05859924533815346,
          -1.0184769474724664,
          0.39167521632673225,
          -0.8459166933123231,
          0.9603389026740023,
          -0.08939291758784702,
          -1.3339894824288652,
          0.6489534233801592
         ],
         "yaxis": "y9"
        },
        {
         "line": {
          "color": "rgba(128, 128, 128, 1.0)",
          "dash": "solid",
          "shape": "linear",
          "width": 1.3
         },
         "marker": {
          "size": 2,
          "symbol": "circle"
         },
         "mode": "markers",
         "name": "C",
         "text": "",
         "type": "scatter",
         "x": [
          0.4394113396115198,
          -1.3704879603341773,
          -0.894779683303476,
          -0.9091697423817736,
          -0.7870831654017293,
          1.7078371717736396,
          -0.09852952274905818,
          -0.3301784910650832,
          1.6268395224675645,
          0.23779943709785142,
          0.8320902681835906,
          -1.0395936765569966,
          -1.4627998759745036,
          -1.2905181379536943,
          -0.7458983776289884,
          1.233386993912338,
          0.49681475206133296,
          -0.512701542962839,
          2.064920530388905,
          1.1887225273511324,
          0.9775910490656258,
          0.07947257556784981,
          -0.7874279153056152,
          -1.1496283384200692,
          -1.4302366554682746,
          -1.5038040240345794,
          0.2917872732984551,
          -1.1291913047146693,
          0.381635713258072,
          0.5782386470488836,
          0.18723596532937337,
          -0.3932861774601221,
          0.22451339799635048,
          -0.5639617603917293,
          0.976796922647767,
          1.3294058450552153,
          -0.014823934009534098,
          0.33694456503364056,
          -1.7596659431646775,
          0.18350148416556766,
          2.1186952855091894,
          1.8667466050294965,
          -0.837574209463975,
          1.1115620238149284,
          0.27441666631551975,
          -0.20989609089297878,
          -1.8147053413659966,
          0.7869898004991409,
          -1.7841985376732745,
          -0.5238520144705975,
          0.3812868303501749,
          0.3137975708975645,
          0.9968300457049288,
          0.5824846983864099,
          -0.05913546961926126,
          -0.7790815336783042,
          -0.5034885037883023,
          0.9896954982725973,
          -0.4787666015780376,
          1.9011893896648642,
          -0.13028487404661762,
          -2.1424981055614447,
          -1.0766028098307068,
          -0.792137140883388,
          -1.2103592333561075,
          -1.4878660498301146,
          -0.43106169827739,
          -0.44901688012835594,
          0.29737915922704417,
          -1.5005547897872924,
          -0.6906235587362654,
          0.08165168312136552,
          0.888112558194319,
          0.2162961596844919,
          0.3095124316406531,
          -2.357625950700372,
          -0.5851048603043837,
          1.4090130212670697,
          -0.8972052639813642,
          0.44154770227912477,
          1.1769309603585676,
          3.494886385021715,
          -0.34623819370067876,
          0.49039904790159233,
          -1.4439627916263218,
          -0.23356971773044577,
          1.946859888073679,
          0.39682927408000496,
          0.6947149347178614,
          0.776205432439833,
          -1.6156658133534276,
          0.8735942224395256,
          -0.027535065229056153,
          -0.008472192836710022,
          0.1836800682078861,
          -0.4984619503467606,
          1.705018893410389,
          -2.0132462510663918,
          0.1437439755595477,
          0.38606482996606656
         ],
         "xaxis": "x10",
         "y": [
          1.7134607267878292,
          0.01229513019344676,
          1.1576379532319447,
          1.3566370184988912,
          -0.2117756707686416,
          1.5625121947895269,
          0.5533442627161719,
          -1.0388020852135091,
          1.3233843164523944,
          -1.3841321376720623,
          -1.601418147437713,
          -1.4804291986871527,
          0.398123596774922,
          0.6600816610987036,
          0.4401119102974501,
          -0.8431254039393877,
          0.2914057336952613,
          -0.4393007785107817,
          -0.04865772347014313,
          1.1537261875287288,
          0.9635555110319551,
          -0.5880336603132681,
          0.39562638834526176,
          -0.15957211910382443,
          1.0254047780711937,
          0.12423342512452254,
          0.0437126925431905,
          0.8995894615985114,
          1.1260773239894168,
          -1.0240469410966868,
          -0.46796827766550575,
          1.3438990552061132,
          0.7083038644210866,
          -1.4301276155498046,
          -1.1787929121320906,
          1.2589911130944365,
          -1.107663529376245,
          -0.34454418220057675,
          1.1800182427566668,
          0.6621456810599124,
          0.9332278668943851,
          1.0437030244588577,
          1.1589775156621946,
          -1.286641464870168,
          0.09592486742623252,
          -0.060169757044287585,
          -0.42631472192425107,
          0.05509445430998456,
          0.5838635059871827,
          -1.0117104904794283,
          -0.36333960758699724,
          -0.6042376837704702,
          0.46754062186437567,
          0.5434090188257058,
          0.864369979455845,
          -0.03379664750232179,
          -1.8037781405146458,
          1.6759719250546596,
          -0.04334468392284036,
          -0.639674969010019,
          -1.1978450422539484,
          0.44647289296402143,
          0.2934078819402944,
          0.16864785141964597,
          -0.03899654640077746,
          0.2797233408514478,
          0.9706769301218381,
          0.3053152936395522,
          0.3488898255315582,
          -0.3695518224748706,
          1.238513300269592,
          1.1105842613534929,
          -0.45241838137786267,
          0.0061385544732930255,
          -1.519598989469329,
          1.5021261970541342,
          0.9379164174518302,
          -0.044109473046359864,
          1.0675633476248816,
          -1.6088697204823577,
          -1.2116805484645659,
          2.2143799486399542,
          -0.638817358171448,
          1.0689578074338253,
          0.31208077022181774,
          -0.7155400847678097,
          0.4654737522814809,
          -0.5612860156322768,
          -0.29481862276324833,
          0.4485246590538842,
          0.4536017204861066,
          0.3811734827980065,
          0.05859924533815346,
          -1.0184769474724664,
          0.39167521632673225,
          -0.8459166933123231,
          0.9603389026740023,
          -0.08939291758784702,
          -1.3339894824288652,
          0.6489534233801592
         ],
         "yaxis": "y10"
        },
        {
         "histfunc": "count",
         "histnorm": "",
         "marker": {
          "color": "rgba(50, 171, 96, 1.0)",
          "line": {
           "color": "#4D5663",
           "width": 1.3
          }
         },
         "name": "C",
         "nbinsx": 10,
         "opacity": 0.8,
         "orientation": "v",
         "type": "histogram",
         "x": [
          1.7134607267878292,
          0.01229513019344676,
          1.1576379532319447,
          1.3566370184988912,
          -0.2117756707686416,
          1.5625121947895269,
          0.5533442627161719,
          -1.0388020852135091,
          1.3233843164523944,
          -1.3841321376720623,
          -1.601418147437713,
          -1.4804291986871527,
          0.398123596774922,
          0.6600816610987036,
          0.4401119102974501,
          -0.8431254039393877,
          0.2914057336952613,
          -0.4393007785107817,
          -0.04865772347014313,
          1.1537261875287288,
          0.9635555110319551,
          -0.5880336603132681,
          0.39562638834526176,
          -0.15957211910382443,
          1.0254047780711937,
          0.12423342512452254,
          0.0437126925431905,
          0.8995894615985114,
          1.1260773239894168,
          -1.0240469410966868,
          -0.46796827766550575,
          1.3438990552061132,
          0.7083038644210866,
          -1.4301276155498046,
          -1.1787929121320906,
          1.2589911130944365,
          -1.107663529376245,
          -0.34454418220057675,
          1.1800182427566668,
          0.6621456810599124,
          0.9332278668943851,
          1.0437030244588577,
          1.1589775156621946,
          -1.286641464870168,
          0.09592486742623252,
          -0.060169757044287585,
          -0.42631472192425107,
          0.05509445430998456,
          0.5838635059871827,
          -1.0117104904794283,
          -0.36333960758699724,
          -0.6042376837704702,
          0.46754062186437567,
          0.5434090188257058,
          0.864369979455845,
          -0.03379664750232179,
          -1.8037781405146458,
          1.6759719250546596,
          -0.04334468392284036,
          -0.639674969010019,
          -1.1978450422539484,
          0.44647289296402143,
          0.2934078819402944,
          0.16864785141964597,
          -0.03899654640077746,
          0.2797233408514478,
          0.9706769301218381,
          0.3053152936395522,
          0.3488898255315582,
          -0.3695518224748706,
          1.238513300269592,
          1.1105842613534929,
          -0.45241838137786267,
          0.0061385544732930255,
          -1.519598989469329,
          1.5021261970541342,
          0.9379164174518302,
          -0.044109473046359864,
          1.0675633476248816,
          -1.6088697204823577,
          -1.2116805484645659,
          2.2143799486399542,
          -0.638817358171448,
          1.0689578074338253,
          0.31208077022181774,
          -0.7155400847678097,
          0.4654737522814809,
          -0.5612860156322768,
          -0.29481862276324833,
          0.4485246590538842,
          0.4536017204861066,
          0.3811734827980065,
          0.05859924533815346,
          -1.0184769474724664,
          0.39167521632673225,
          -0.8459166933123231,
          0.9603389026740023,
          -0.08939291758784702,
          -1.3339894824288652,
          0.6489534233801592
         ],
         "xaxis": "x11",
         "yaxis": "y11"
        },
        {
         "line": {
          "color": "rgba(128, 128, 128, 1.0)",
          "dash": "solid",
          "shape": "linear",
          "width": 1.3
         },
         "marker": {
          "size": 2,
          "symbol": "circle"
         },
         "mode": "markers",
         "name": "C",
         "text": "",
         "type": "scatter",
         "x": [
          -0.6494312813489145,
          0.5196054801095733,
          0.0828488001042145,
          0.4249812754840084,
          0.5729293370994376,
          0.9292731412356393,
          -0.3416471965687598,
          -0.8792390472325408,
          -0.2537255764371739,
          0.446260129769695,
          2.6514949387993703,
          0.26287820592109423,
          0.9307105379918522,
          -0.11002087128670265,
          -0.3894678170928814,
          -1.2056699291126767,
          -0.33982778539946473,
          -0.5881542236293539,
          0.38293030573445497,
          -0.2971978399749488,
          1.3547218372705987,
          -2.4779811779546486,
          -0.39059599846259063,
          0.21667583702807452,
          -0.5803490910115267,
          0.25546806790574383,
          -0.30223300479977305,
          1.2604364945297997,
          -1.156888967018702,
          -0.021516118040357916,
          -0.6722009918032484,
          -1.6297981653637084,
          1.0722741218800351,
          -0.17793982314165274,
          -0.2870437190408764,
          -0.7447344530324086,
          -1.8866491407895452,
          0.48239707899094636,
          -0.9315051451227777,
          0.7398734905309798,
          -0.4072464898723833,
          -1.8297211898989034,
          -1.2091335318863878,
          -0.47405824350178866,
          0.3317790547794101,
          -0.7335094760607728,
          -0.06069935848235784,
          0.2149359131378458,
          -1.2772687572661934,
          -0.6707945711837375,
          -1.8454602155509663,
          1.3742821834136227,
          -0.6849319114740683,
          0.20962107268154645,
          0.8739647403395655,
          -0.0648512961866547,
          0.10916666355129223,
          0.7742130365257172,
          -0.6202121031517325,
          -2.027047349242399,
          -0.8537322497487592,
          0.10466128223410277,
          -0.9537032798117839,
          -0.2106665962593506,
          -0.9684766400297471,
          -0.6579892171523315,
          -0.7787375038637451,
          -0.9247492346307117,
          -0.9338954872947596,
          0.23386795010542535,
          -0.26925504094370395,
          0.8019489697881516,
          0.49658912032148483,
          1.065966241426964,
          0.3139004072052315,
          0.8198729194069315,
          -0.15747464396416938,
          -1.4172739578471354,
          -2.0091660542923626,
          0.18288638841393226,
          0.9834100356019922,
          -0.3583663367860736,
          0.40689607852516135,
          -1.8183389932144993,
          0.9905748041579666,
          -0.13734448106333003,
          -0.7742743589471643,
          -0.5248974994430586,
          -0.04727700329103183,
          0.09700939432349272,
          0.30365089281729596,
          1.5038805885998434,
          1.146636147027629,
          1.129211795513414,
          -0.09137973751845033,
          -1.8140911181141097,
          -0.0855074483344991,
          0.10415479262056486,
          1.9701469206422444,
          -1.2796223948212122
         ],
         "xaxis": "x12",
         "y": [
          1.7134607267878292,
          0.01229513019344676,
          1.1576379532319447,
          1.3566370184988912,
          -0.2117756707686416,
          1.5625121947895269,
          0.5533442627161719,
          -1.0388020852135091,
          1.3233843164523944,
          -1.3841321376720623,
          -1.601418147437713,
          -1.4804291986871527,
          0.398123596774922,
          0.6600816610987036,
          0.4401119102974501,
          -0.8431254039393877,
          0.2914057336952613,
          -0.4393007785107817,
          -0.04865772347014313,
          1.1537261875287288,
          0.9635555110319551,
          -0.5880336603132681,
          0.39562638834526176,
          -0.15957211910382443,
          1.0254047780711937,
          0.12423342512452254,
          0.0437126925431905,
          0.8995894615985114,
          1.1260773239894168,
          -1.0240469410966868,
          -0.46796827766550575,
          1.3438990552061132,
          0.7083038644210866,
          -1.4301276155498046,
          -1.1787929121320906,
          1.2589911130944365,
          -1.107663529376245,
          -0.34454418220057675,
          1.1800182427566668,
          0.6621456810599124,
          0.9332278668943851,
          1.0437030244588577,
          1.1589775156621946,
          -1.286641464870168,
          0.09592486742623252,
          -0.060169757044287585,
          -0.42631472192425107,
          0.05509445430998456,
          0.5838635059871827,
          -1.0117104904794283,
          -0.36333960758699724,
          -0.6042376837704702,
          0.46754062186437567,
          0.5434090188257058,
          0.864369979455845,
          -0.03379664750232179,
          -1.8037781405146458,
          1.6759719250546596,
          -0.04334468392284036,
          -0.639674969010019,
          -1.1978450422539484,
          0.44647289296402143,
          0.2934078819402944,
          0.16864785141964597,
          -0.03899654640077746,
          0.2797233408514478,
          0.9706769301218381,
          0.3053152936395522,
          0.3488898255315582,
          -0.3695518224748706,
          1.238513300269592,
          1.1105842613534929,
          -0.45241838137786267,
          0.0061385544732930255,
          -1.519598989469329,
          1.5021261970541342,
          0.9379164174518302,
          -0.044109473046359864,
          1.0675633476248816,
          -1.6088697204823577,
          -1.2116805484645659,
          2.2143799486399542,
          -0.638817358171448,
          1.0689578074338253,
          0.31208077022181774,
          -0.7155400847678097,
          0.4654737522814809,
          -0.5612860156322768,
          -0.29481862276324833,
          0.4485246590538842,
          0.4536017204861066,
          0.3811734827980065,
          0.05859924533815346,
          -1.0184769474724664,
          0.39167521632673225,
          -0.8459166933123231,
          0.9603389026740023,
          -0.08939291758784702,
          -1.3339894824288652,
          0.6489534233801592
         ],
         "yaxis": "y12"
        },
        {
         "line": {
          "color": "rgba(128, 128, 128, 1.0)",
          "dash": "solid",
          "shape": "linear",
          "width": 1.3
         },
         "marker": {
          "size": 2,
          "symbol": "circle"
         },
         "mode": "markers",
         "name": "D",
         "text": "",
         "type": "scatter",
         "x": [
          -0.510356444121689,
          0.7201652349415042,
          -0.7956381636543068,
          1.0832809916868644,
          -0.30135332660046227,
          0.42411030852509535,
          0.42087262293982375,
          -0.3834038112338632,
          -0.7181067075740701,
          -1.689000975405711,
          -0.768211369533854,
          -1.4009016874638953,
          -0.4609104403187404,
          -0.3610062304045048,
          0.6990611544761113,
          -0.4071983236663745,
          0.9749451967310648,
          -1.5521567512284027,
          2.582839819142019,
          -1.2608047270318732,
          0.68742828657434,
          -0.46537119576917874,
          -0.48064110808268334,
          0.28063181595730985,
          -1.0452623335682787,
          -0.40873364292488046,
          -1.3571367997941601,
          -0.6062375995071084,
          1.4528109216456557,
          0.07731559895151965,
          0.3250397061151751,
          1.201915142424794,
          -0.4504659375584174,
          1.9668847821266044,
          -0.364303563666657,
          -0.13927146800064158,
          0.57348161033347,
          0.4947778974491402,
          0.30569786829351947,
          0.9201554242455009,
          -0.41523183381297085,
          -1.8330412839733048,
          -0.23619614972665107,
          -1.849963868494029,
          0.5461760591197427,
          -0.9361134586802853,
          -0.4528434305920523,
          0.2174161047715857,
          1.0635059691233937,
          -0.9459523350502519,
          -0.13166220663639913,
          -0.6421618174142698,
          0.3047712492940703,
          -0.26344777521625573,
          -0.45306380687736664,
          -0.9705865345061072,
          -0.12741882697516443,
          1.0049752783819161,
          0.4086707843416792,
          -0.4511413941730779,
          0.5104243612824134,
          -0.7255566333311757,
          0.5653467224854392,
          -0.16436532244841037,
          -0.1988484231344934,
          -0.7564557068257352,
          -0.18679418701106604,
          0.007128162141137425,
          -0.04652926061840745,
          -1.2240766600558828,
          0.2548364775874957,
          0.36702432595644263,
          -1.8441953853505533,
          -0.24359038758120563,
          1.3244683296413644,
          0.61165695571586,
          1.5230508996881755,
          1.7353619398397855,
          0.22402443540755565,
          0.33895550763612925,
          0.9223319365608782,
          0.9159143574193307,
          1.2997354894773798,
          -1.4147536326587344,
          -1.0248138567998835,
          -1.7541740527292868,
          -0.6575313266954175,
          -0.6207644107638655,
          -0.44464272561837265,
          -0.836691238296052,
          1.7573684719199605,
          -2.9653482379895464,
          -1.146385550579236,
          0.15786795073923038,
          1.9837911867756637,
          -0.1286989891014074,
          0.6788131762939952,
          -0.012808189565091749,
          -0.7578489572357708,
          1.5590955815629608
         ],
         "xaxis": "x13",
         "y": [
          -0.6494312813489145,
          0.5196054801095733,
          0.0828488001042145,
          0.4249812754840084,
          0.5729293370994376,
          0.9292731412356393,
          -0.3416471965687598,
          -0.8792390472325408,
          -0.2537255764371739,
          0.446260129769695,
          2.6514949387993703,
          0.26287820592109423,
          0.9307105379918522,
          -0.11002087128670265,
          -0.3894678170928814,
          -1.2056699291126767,
          -0.33982778539946473,
          -0.5881542236293539,
          0.38293030573445497,
          -0.2971978399749488,
          1.3547218372705987,
          -2.4779811779546486,
          -0.39059599846259063,
          0.21667583702807452,
          -0.5803490910115267,
          0.25546806790574383,
          -0.30223300479977305,
          1.2604364945297997,
          -1.156888967018702,
          -0.021516118040357916,
          -0.6722009918032484,
          -1.6297981653637084,
          1.0722741218800351,
          -0.17793982314165274,
          -0.2870437190408764,
          -0.7447344530324086,
          -1.8866491407895452,
          0.48239707899094636,
          -0.9315051451227777,
          0.7398734905309798,
          -0.4072464898723833,
          -1.8297211898989034,
          -1.2091335318863878,
          -0.47405824350178866,
          0.3317790547794101,
          -0.7335094760607728,
          -0.06069935848235784,
          0.2149359131378458,
          -1.2772687572661934,
          -0.6707945711837375,
          -1.8454602155509663,
          1.3742821834136227,
          -0.6849319114740683,
          0.20962107268154645,
          0.8739647403395655,
          -0.0648512961866547,
          0.10916666355129223,
          0.7742130365257172,
          -0.6202121031517325,
          -2.027047349242399,
          -0.8537322497487592,
          0.10466128223410277,
          -0.9537032798117839,
          -0.2106665962593506,
          -0.9684766400297471,
          -0.6579892171523315,
          -0.7787375038637451,
          -0.9247492346307117,
          -0.9338954872947596,
          0.23386795010542535,
          -0.26925504094370395,
          0.8019489697881516,
          0.49658912032148483,
          1.065966241426964,
          0.3139004072052315,
          0.8198729194069315,
          -0.15747464396416938,
          -1.4172739578471354,
          -2.0091660542923626,
          0.18288638841393226,
          0.9834100356019922,
          -0.3583663367860736,
          0.40689607852516135,
          -1.8183389932144993,
          0.9905748041579666,
          -0.13734448106333003,
          -0.7742743589471643,
          -0.5248974994430586,
          -0.04727700329103183,
          0.09700939432349272,
          0.30365089281729596,
          1.5038805885998434,
          1.146636147027629,
          1.129211795513414,
          -0.09137973751845033,
          -1.8140911181141097,
          -0.0855074483344991,
          0.10415479262056486,
          1.9701469206422444,
          -1.2796223948212122
         ],
         "yaxis": "y13"
        },
        {
         "line": {
          "color": "rgba(128, 128, 128, 1.0)",
          "dash": "solid",
          "shape": "linear",
          "width": 1.3
         },
         "marker": {
          "size": 2,
          "symbol": "circle"
         },
         "mode": "markers",
         "name": "D",
         "text": "",
         "type": "scatter",
         "x": [
          0.4394113396115198,
          -1.3704879603341773,
          -0.894779683303476,
          -0.9091697423817736,
          -0.7870831654017293,
          1.7078371717736396,
          -0.09852952274905818,
          -0.3301784910650832,
          1.6268395224675645,
          0.23779943709785142,
          0.8320902681835906,
          -1.0395936765569966,
          -1.4627998759745036,
          -1.2905181379536943,
          -0.7458983776289884,
          1.233386993912338,
          0.49681475206133296,
          -0.512701542962839,
          2.064920530388905,
          1.1887225273511324,
          0.9775910490656258,
          0.07947257556784981,
          -0.7874279153056152,
          -1.1496283384200692,
          -1.4302366554682746,
          -1.5038040240345794,
          0.2917872732984551,
          -1.1291913047146693,
          0.381635713258072,
          0.5782386470488836,
          0.18723596532937337,
          -0.3932861774601221,
          0.22451339799635048,
          -0.5639617603917293,
          0.976796922647767,
          1.3294058450552153,
          -0.014823934009534098,
          0.33694456503364056,
          -1.7596659431646775,
          0.18350148416556766,
          2.1186952855091894,
          1.8667466050294965,
          -0.837574209463975,
          1.1115620238149284,
          0.27441666631551975,
          -0.20989609089297878,
          -1.8147053413659966,
          0.7869898004991409,
          -1.7841985376732745,
          -0.5238520144705975,
          0.3812868303501749,
          0.3137975708975645,
          0.9968300457049288,
          0.5824846983864099,
          -0.05913546961926126,
          -0.7790815336783042,
          -0.5034885037883023,
          0.9896954982725973,
          -0.4787666015780376,
          1.9011893896648642,
          -0.13028487404661762,
          -2.1424981055614447,
          -1.0766028098307068,
          -0.792137140883388,
          -1.2103592333561075,
          -1.4878660498301146,
          -0.43106169827739,
          -0.44901688012835594,
          0.29737915922704417,
          -1.5005547897872924,
          -0.6906235587362654,
          0.08165168312136552,
          0.888112558194319,
          0.2162961596844919,
          0.3095124316406531,
          -2.357625950700372,
          -0.5851048603043837,
          1.4090130212670697,
          -0.8972052639813642,
          0.44154770227912477,
          1.1769309603585676,
          3.494886385021715,
          -0.34623819370067876,
          0.49039904790159233,
          -1.4439627916263218,
          -0.23356971773044577,
          1.946859888073679,
          0.39682927408000496,
          0.6947149347178614,
          0.776205432439833,
          -1.6156658133534276,
          0.8735942224395256,
          -0.027535065229056153,
          -0.008472192836710022,
          0.1836800682078861,
          -0.4984619503467606,
          1.705018893410389,
          -2.0132462510663918,
          0.1437439755595477,
          0.38606482996606656
         ],
         "xaxis": "x14",
         "y": [
          -0.6494312813489145,
          0.5196054801095733,
          0.0828488001042145,
          0.4249812754840084,
          0.5729293370994376,
          0.9292731412356393,
          -0.3416471965687598,
          -0.8792390472325408,
          -0.2537255764371739,
          0.446260129769695,
          2.6514949387993703,
          0.26287820592109423,
          0.9307105379918522,
          -0.11002087128670265,
          -0.3894678170928814,
          -1.2056699291126767,
          -0.33982778539946473,
          -0.5881542236293539,
          0.38293030573445497,
          -0.2971978399749488,
          1.3547218372705987,
          -2.4779811779546486,
          -0.39059599846259063,
          0.21667583702807452,
          -0.5803490910115267,
          0.25546806790574383,
          -0.30223300479977305,
          1.2604364945297997,
          -1.156888967018702,
          -0.021516118040357916,
          -0.6722009918032484,
          -1.6297981653637084,
          1.0722741218800351,
          -0.17793982314165274,
          -0.2870437190408764,
          -0.7447344530324086,
          -1.8866491407895452,
          0.48239707899094636,
          -0.9315051451227777,
          0.7398734905309798,
          -0.4072464898723833,
          -1.8297211898989034,
          -1.2091335318863878,
          -0.47405824350178866,
          0.3317790547794101,
          -0.7335094760607728,
          -0.06069935848235784,
          0.2149359131378458,
          -1.2772687572661934,
          -0.6707945711837375,
          -1.8454602155509663,
          1.3742821834136227,
          -0.6849319114740683,
          0.20962107268154645,
          0.8739647403395655,
          -0.0648512961866547,
          0.10916666355129223,
          0.7742130365257172,
          -0.6202121031517325,
          -2.027047349242399,
          -0.8537322497487592,
          0.10466128223410277,
          -0.9537032798117839,
          -0.2106665962593506,
          -0.9684766400297471,
          -0.6579892171523315,
          -0.7787375038637451,
          -0.9247492346307117,
          -0.9338954872947596,
          0.23386795010542535,
          -0.26925504094370395,
          0.8019489697881516,
          0.49658912032148483,
          1.065966241426964,
          0.3139004072052315,
          0.8198729194069315,
          -0.15747464396416938,
          -1.4172739578471354,
          -2.0091660542923626,
          0.18288638841393226,
          0.9834100356019922,
          -0.3583663367860736,
          0.40689607852516135,
          -1.8183389932144993,
          0.9905748041579666,
          -0.13734448106333003,
          -0.7742743589471643,
          -0.5248974994430586,
          -0.04727700329103183,
          0.09700939432349272,
          0.30365089281729596,
          1.5038805885998434,
          1.146636147027629,
          1.129211795513414,
          -0.09137973751845033,
          -1.8140911181141097,
          -0.0855074483344991,
          0.10415479262056486,
          1.9701469206422444,
          -1.2796223948212122
         ],
         "yaxis": "y14"
        },
        {
         "line": {
          "color": "rgba(128, 128, 128, 1.0)",
          "dash": "solid",
          "shape": "linear",
          "width": 1.3
         },
         "marker": {
          "size": 2,
          "symbol": "circle"
         },
         "mode": "markers",
         "name": "D",
         "text": "",
         "type": "scatter",
         "x": [
          1.7134607267878292,
          0.01229513019344676,
          1.1576379532319447,
          1.3566370184988912,
          -0.2117756707686416,
          1.5625121947895269,
          0.5533442627161719,
          -1.0388020852135091,
          1.3233843164523944,
          -1.3841321376720623,
          -1.601418147437713,
          -1.4804291986871527,
          0.398123596774922,
          0.6600816610987036,
          0.4401119102974501,
          -0.8431254039393877,
          0.2914057336952613,
          -0.4393007785107817,
          -0.04865772347014313,
          1.1537261875287288,
          0.9635555110319551,
          -0.5880336603132681,
          0.39562638834526176,
          -0.15957211910382443,
          1.0254047780711937,
          0.12423342512452254,
          0.0437126925431905,
          0.8995894615985114,
          1.1260773239894168,
          -1.0240469410966868,
          -0.46796827766550575,
          1.3438990552061132,
          0.7083038644210866,
          -1.4301276155498046,
          -1.1787929121320906,
          1.2589911130944365,
          -1.107663529376245,
          -0.34454418220057675,
          1.1800182427566668,
          0.6621456810599124,
          0.9332278668943851,
          1.0437030244588577,
          1.1589775156621946,
          -1.286641464870168,
          0.09592486742623252,
          -0.060169757044287585,
          -0.42631472192425107,
          0.05509445430998456,
          0.5838635059871827,
          -1.0117104904794283,
          -0.36333960758699724,
          -0.6042376837704702,
          0.46754062186437567,
          0.5434090188257058,
          0.864369979455845,
          -0.03379664750232179,
          -1.8037781405146458,
          1.6759719250546596,
          -0.04334468392284036,
          -0.639674969010019,
          -1.1978450422539484,
          0.44647289296402143,
          0.2934078819402944,
          0.16864785141964597,
          -0.03899654640077746,
          0.2797233408514478,
          0.9706769301218381,
          0.3053152936395522,
          0.3488898255315582,
          -0.3695518224748706,
          1.238513300269592,
          1.1105842613534929,
          -0.45241838137786267,
          0.0061385544732930255,
          -1.519598989469329,
          1.5021261970541342,
          0.9379164174518302,
          -0.044109473046359864,
          1.0675633476248816,
          -1.6088697204823577,
          -1.2116805484645659,
          2.2143799486399542,
          -0.638817358171448,
          1.0689578074338253,
          0.31208077022181774,
          -0.7155400847678097,
          0.4654737522814809,
          -0.5612860156322768,
          -0.29481862276324833,
          0.4485246590538842,
          0.4536017204861066,
          0.3811734827980065,
          0.05859924533815346,
          -1.0184769474724664,
          0.39167521632673225,
          -0.8459166933123231,
          0.9603389026740023,
          -0.08939291758784702,
          -1.3339894824288652,
          0.6489534233801592
         ],
         "xaxis": "x15",
         "y": [
          -0.6494312813489145,
          0.5196054801095733,
          0.0828488001042145,
          0.4249812754840084,
          0.5729293370994376,
          0.9292731412356393,
          -0.3416471965687598,
          -0.8792390472325408,
          -0.2537255764371739,
          0.446260129769695,
          2.6514949387993703,
          0.26287820592109423,
          0.9307105379918522,
          -0.11002087128670265,
          -0.3894678170928814,
          -1.2056699291126767,
          -0.33982778539946473,
          -0.5881542236293539,
          0.38293030573445497,
          -0.2971978399749488,
          1.3547218372705987,
          -2.4779811779546486,
          -0.39059599846259063,
          0.21667583702807452,
          -0.5803490910115267,
          0.25546806790574383,
          -0.30223300479977305,
          1.2604364945297997,
          -1.156888967018702,
          -0.021516118040357916,
          -0.6722009918032484,
          -1.6297981653637084,
          1.0722741218800351,
          -0.17793982314165274,
          -0.2870437190408764,
          -0.7447344530324086,
          -1.8866491407895452,
          0.48239707899094636,
          -0.9315051451227777,
          0.7398734905309798,
          -0.4072464898723833,
          -1.8297211898989034,
          -1.2091335318863878,
          -0.47405824350178866,
          0.3317790547794101,
          -0.7335094760607728,
          -0.06069935848235784,
          0.2149359131378458,
          -1.2772687572661934,
          -0.6707945711837375,
          -1.8454602155509663,
          1.3742821834136227,
          -0.6849319114740683,
          0.20962107268154645,
          0.8739647403395655,
          -0.0648512961866547,
          0.10916666355129223,
          0.7742130365257172,
          -0.6202121031517325,
          -2.027047349242399,
          -0.8537322497487592,
          0.10466128223410277,
          -0.9537032798117839,
          -0.2106665962593506,
          -0.9684766400297471,
          -0.6579892171523315,
          -0.7787375038637451,
          -0.9247492346307117,
          -0.9338954872947596,
          0.23386795010542535,
          -0.26925504094370395,
          0.8019489697881516,
          0.49658912032148483,
          1.065966241426964,
          0.3139004072052315,
          0.8198729194069315,
          -0.15747464396416938,
          -1.4172739578471354,
          -2.0091660542923626,
          0.18288638841393226,
          0.9834100356019922,
          -0.3583663367860736,
          0.40689607852516135,
          -1.8183389932144993,
          0.9905748041579666,
          -0.13734448106333003,
          -0.7742743589471643,
          -0.5248974994430586,
          -0.04727700329103183,
          0.09700939432349272,
          0.30365089281729596,
          1.5038805885998434,
          1.146636147027629,
          1.129211795513414,
          -0.09137973751845033,
          -1.8140911181141097,
          -0.0855074483344991,
          0.10415479262056486,
          1.9701469206422444,
          -1.2796223948212122
         ],
         "yaxis": "y15"
        },
        {
         "histfunc": "count",
         "histnorm": "",
         "marker": {
          "color": "rgba(128, 0, 128, 1.0)",
          "line": {
           "color": "#4D5663",
           "width": 1.3
          }
         },
         "name": "D",
         "nbinsx": 10,
         "opacity": 0.8,
         "orientation": "v",
         "type": "histogram",
         "x": [
          -0.6494312813489145,
          0.5196054801095733,
          0.0828488001042145,
          0.4249812754840084,
          0.5729293370994376,
          0.9292731412356393,
          -0.3416471965687598,
          -0.8792390472325408,
          -0.2537255764371739,
          0.446260129769695,
          2.6514949387993703,
          0.26287820592109423,
          0.9307105379918522,
          -0.11002087128670265,
          -0.3894678170928814,
          -1.2056699291126767,
          -0.33982778539946473,
          -0.5881542236293539,
          0.38293030573445497,
          -0.2971978399749488,
          1.3547218372705987,
          -2.4779811779546486,
          -0.39059599846259063,
          0.21667583702807452,
          -0.5803490910115267,
          0.25546806790574383,
          -0.30223300479977305,
          1.2604364945297997,
          -1.156888967018702,
          -0.021516118040357916,
          -0.6722009918032484,
          -1.6297981653637084,
          1.0722741218800351,
          -0.17793982314165274,
          -0.2870437190408764,
          -0.7447344530324086,
          -1.8866491407895452,
          0.48239707899094636,
          -0.9315051451227777,
          0.7398734905309798,
          -0.4072464898723833,
          -1.8297211898989034,
          -1.2091335318863878,
          -0.47405824350178866,
          0.3317790547794101,
          -0.7335094760607728,
          -0.06069935848235784,
          0.2149359131378458,
          -1.2772687572661934,
          -0.6707945711837375,
          -1.8454602155509663,
          1.3742821834136227,
          -0.6849319114740683,
          0.20962107268154645,
          0.8739647403395655,
          -0.0648512961866547,
          0.10916666355129223,
          0.7742130365257172,
          -0.6202121031517325,
          -2.027047349242399,
          -0.8537322497487592,
          0.10466128223410277,
          -0.9537032798117839,
          -0.2106665962593506,
          -0.9684766400297471,
          -0.6579892171523315,
          -0.7787375038637451,
          -0.9247492346307117,
          -0.9338954872947596,
          0.23386795010542535,
          -0.26925504094370395,
          0.8019489697881516,
          0.49658912032148483,
          1.065966241426964,
          0.3139004072052315,
          0.8198729194069315,
          -0.15747464396416938,
          -1.4172739578471354,
          -2.0091660542923626,
          0.18288638841393226,
          0.9834100356019922,
          -0.3583663367860736,
          0.40689607852516135,
          -1.8183389932144993,
          0.9905748041579666,
          -0.13734448106333003,
          -0.7742743589471643,
          -0.5248974994430586,
          -0.04727700329103183,
          0.09700939432349272,
          0.30365089281729596,
          1.5038805885998434,
          1.146636147027629,
          1.129211795513414,
          -0.09137973751845033,
          -1.8140911181141097,
          -0.0855074483344991,
          0.10415479262056486,
          1.9701469206422444,
          -1.2796223948212122
         ],
         "xaxis": "x16",
         "yaxis": "y16"
        }
       ],
       "layout": {
        "bargap": 0.02,
        "legend": {
         "bgcolor": "#F5F6F9",
         "font": {
          "color": "#4D5663"
         }
        },
        "paper_bgcolor": "#F5F6F9",
        "plot_bgcolor": "#F5F6F9",
        "showlegend": false,
        "template": {
         "data": {
          "bar": [
           {
            "error_x": {
             "color": "#2a3f5f"
            },
            "error_y": {
             "color": "#2a3f5f"
            },
            "marker": {
             "line": {
              "color": "#E5ECF6",
              "width": 0.5
             }
            },
            "type": "bar"
           }
          ],
          "barpolar": [
           {
            "marker": {
             "line": {
              "color": "#E5ECF6",
              "width": 0.5
             }
            },
            "type": "barpolar"
           }
          ],
          "carpet": [
           {
            "aaxis": {
             "endlinecolor": "#2a3f5f",
             "gridcolor": "white",
             "linecolor": "white",
             "minorgridcolor": "white",
             "startlinecolor": "#2a3f5f"
            },
            "baxis": {
             "endlinecolor": "#2a3f5f",
             "gridcolor": "white",
             "linecolor": "white",
             "minorgridcolor": "white",
             "startlinecolor": "#2a3f5f"
            },
            "type": "carpet"
           }
          ],
          "choropleth": [
           {
            "colorbar": {
             "outlinewidth": 0,
             "ticks": ""
            },
            "type": "choropleth"
           }
          ],
          "contour": [
           {
            "colorbar": {
             "outlinewidth": 0,
             "ticks": ""
            },
            "colorscale": [
             [
              0,
              "#0d0887"
             ],
             [
              0.1111111111111111,
              "#46039f"
             ],
             [
              0.2222222222222222,
              "#7201a8"
             ],
             [
              0.3333333333333333,
              "#9c179e"
             ],
             [
              0.4444444444444444,
              "#bd3786"
             ],
             [
              0.5555555555555556,
              "#d8576b"
             ],
             [
              0.6666666666666666,
              "#ed7953"
             ],
             [
              0.7777777777777778,
              "#fb9f3a"
             ],
             [
              0.8888888888888888,
              "#fdca26"
             ],
             [
              1,
              "#f0f921"
             ]
            ],
            "type": "contour"
           }
          ],
          "contourcarpet": [
           {
            "colorbar": {
             "outlinewidth": 0,
             "ticks": ""
            },
            "type": "contourcarpet"
           }
          ],
          "heatmap": [
           {
            "colorbar": {
             "outlinewidth": 0,
             "ticks": ""
            },
            "colorscale": [
             [
              0,
              "#0d0887"
             ],
             [
              0.1111111111111111,
              "#46039f"
             ],
             [
              0.2222222222222222,
              "#7201a8"
             ],
             [
              0.3333333333333333,
              "#9c179e"
             ],
             [
              0.4444444444444444,
              "#bd3786"
             ],
             [
              0.5555555555555556,
              "#d8576b"
             ],
             [
              0.6666666666666666,
              "#ed7953"
             ],
             [
              0.7777777777777778,
              "#fb9f3a"
             ],
             [
              0.8888888888888888,
              "#fdca26"
             ],
             [
              1,
              "#f0f921"
             ]
            ],
            "type": "heatmap"
           }
          ],
          "heatmapgl": [
           {
            "colorbar": {
             "outlinewidth": 0,
             "ticks": ""
            },
            "colorscale": [
             [
              0,
              "#0d0887"
             ],
             [
              0.1111111111111111,
              "#46039f"
             ],
             [
              0.2222222222222222,
              "#7201a8"
             ],
             [
              0.3333333333333333,
              "#9c179e"
             ],
             [
              0.4444444444444444,
              "#bd3786"
             ],
             [
              0.5555555555555556,
              "#d8576b"
             ],
             [
              0.6666666666666666,
              "#ed7953"
             ],
             [
              0.7777777777777778,
              "#fb9f3a"
             ],
             [
              0.8888888888888888,
              "#fdca26"
             ],
             [
              1,
              "#f0f921"
             ]
            ],
            "type": "heatmapgl"
           }
          ],
          "histogram": [
           {
            "marker": {
             "colorbar": {
              "outlinewidth": 0,
              "ticks": ""
             }
            },
            "type": "histogram"
           }
          ],
          "histogram2d": [
           {
            "colorbar": {
             "outlinewidth": 0,
             "ticks": ""
            },
            "colorscale": [
             [
              0,
              "#0d0887"
             ],
             [
              0.1111111111111111,
              "#46039f"
             ],
             [
              0.2222222222222222,
              "#7201a8"
             ],
             [
              0.3333333333333333,
              "#9c179e"
             ],
             [
              0.4444444444444444,
              "#bd3786"
             ],
             [
              0.5555555555555556,
              "#d8576b"
             ],
             [
              0.6666666666666666,
              "#ed7953"
             ],
             [
              0.7777777777777778,
              "#fb9f3a"
             ],
             [
              0.8888888888888888,
              "#fdca26"
             ],
             [
              1,
              "#f0f921"
             ]
            ],
            "type": "histogram2d"
           }
          ],
          "histogram2dcontour": [
           {
            "colorbar": {
             "outlinewidth": 0,
             "ticks": ""
            },
            "colorscale": [
             [
              0,
              "#0d0887"
             ],
             [
              0.1111111111111111,
              "#46039f"
             ],
             [
              0.2222222222222222,
              "#7201a8"
             ],
             [
              0.3333333333333333,
              "#9c179e"
             ],
             [
              0.4444444444444444,
              "#bd3786"
             ],
             [
              0.5555555555555556,
              "#d8576b"
             ],
             [
              0.6666666666666666,
              "#ed7953"
             ],
             [
              0.7777777777777778,
              "#fb9f3a"
             ],
             [
              0.8888888888888888,
              "#fdca26"
             ],
             [
              1,
              "#f0f921"
             ]
            ],
            "type": "histogram2dcontour"
           }
          ],
          "mesh3d": [
           {
            "colorbar": {
             "outlinewidth": 0,
             "ticks": ""
            },
            "type": "mesh3d"
           }
          ],
          "parcoords": [
           {
            "line": {
             "colorbar": {
              "outlinewidth": 0,
              "ticks": ""
             }
            },
            "type": "parcoords"
           }
          ],
          "pie": [
           {
            "automargin": true,
            "type": "pie"
           }
          ],
          "scatter": [
           {
            "marker": {
             "colorbar": {
              "outlinewidth": 0,
              "ticks": ""
             }
            },
            "type": "scatter"
           }
          ],
          "scatter3d": [
           {
            "line": {
             "colorbar": {
              "outlinewidth": 0,
              "ticks": ""
             }
            },
            "marker": {
             "colorbar": {
              "outlinewidth": 0,
              "ticks": ""
             }
            },
            "type": "scatter3d"
           }
          ],
          "scattercarpet": [
           {
            "marker": {
             "colorbar": {
              "outlinewidth": 0,
              "ticks": ""
             }
            },
            "type": "scattercarpet"
           }
          ],
          "scattergeo": [
           {
            "marker": {
             "colorbar": {
              "outlinewidth": 0,
              "ticks": ""
             }
            },
            "type": "scattergeo"
           }
          ],
          "scattergl": [
           {
            "marker": {
             "colorbar": {
              "outlinewidth": 0,
              "ticks": ""
             }
            },
            "type": "scattergl"
           }
          ],
          "scattermapbox": [
           {
            "marker": {
             "colorbar": {
              "outlinewidth": 0,
              "ticks": ""
             }
            },
            "type": "scattermapbox"
           }
          ],
          "scatterpolar": [
           {
            "marker": {
             "colorbar": {
              "outlinewidth": 0,
              "ticks": ""
             }
            },
            "type": "scatterpolar"
           }
          ],
          "scatterpolargl": [
           {
            "marker": {
             "colorbar": {
              "outlinewidth": 0,
              "ticks": ""
             }
            },
            "type": "scatterpolargl"
           }
          ],
          "scatterternary": [
           {
            "marker": {
             "colorbar": {
              "outlinewidth": 0,
              "ticks": ""
             }
            },
            "type": "scatterternary"
           }
          ],
          "surface": [
           {
            "colorbar": {
             "outlinewidth": 0,
             "ticks": ""
            },
            "colorscale": [
             [
              0,
              "#0d0887"
             ],
             [
              0.1111111111111111,
              "#46039f"
             ],
             [
              0.2222222222222222,
              "#7201a8"
             ],
             [
              0.3333333333333333,
              "#9c179e"
             ],
             [
              0.4444444444444444,
              "#bd3786"
             ],
             [
              0.5555555555555556,
              "#d8576b"
             ],
             [
              0.6666666666666666,
              "#ed7953"
             ],
             [
              0.7777777777777778,
              "#fb9f3a"
             ],
             [
              0.8888888888888888,
              "#fdca26"
             ],
             [
              1,
              "#f0f921"
             ]
            ],
            "type": "surface"
           }
          ],
          "table": [
           {
            "cells": {
             "fill": {
              "color": "#EBF0F8"
             },
             "line": {
              "color": "white"
             }
            },
            "header": {
             "fill": {
              "color": "#C8D4E3"
             },
             "line": {
              "color": "white"
             }
            },
            "type": "table"
           }
          ]
         },
         "layout": {
          "annotationdefaults": {
           "arrowcolor": "#2a3f5f",
           "arrowhead": 0,
           "arrowwidth": 1
          },
          "coloraxis": {
           "colorbar": {
            "outlinewidth": 0,
            "ticks": ""
           }
          },
          "colorscale": {
           "diverging": [
            [
             0,
             "#8e0152"
            ],
            [
             0.1,
             "#c51b7d"
            ],
            [
             0.2,
             "#de77ae"
            ],
            [
             0.3,
             "#f1b6da"
            ],
            [
             0.4,
             "#fde0ef"
            ],
            [
             0.5,
             "#f7f7f7"
            ],
            [
             0.6,
             "#e6f5d0"
            ],
            [
             0.7,
             "#b8e186"
            ],
            [
             0.8,
             "#7fbc41"
            ],
            [
             0.9,
             "#4d9221"
            ],
            [
             1,
             "#276419"
            ]
           ],
           "sequential": [
            [
             0,
             "#0d0887"
            ],
            [
             0.1111111111111111,
             "#46039f"
            ],
            [
             0.2222222222222222,
             "#7201a8"
            ],
            [
             0.3333333333333333,
             "#9c179e"
            ],
            [
             0.4444444444444444,
             "#bd3786"
            ],
            [
             0.5555555555555556,
             "#d8576b"
            ],
            [
             0.6666666666666666,
             "#ed7953"
            ],
            [
             0.7777777777777778,
             "#fb9f3a"
            ],
            [
             0.8888888888888888,
             "#fdca26"
            ],
            [
             1,
             "#f0f921"
            ]
           ],
           "sequentialminus": [
            [
             0,
             "#0d0887"
            ],
            [
             0.1111111111111111,
             "#46039f"
            ],
            [
             0.2222222222222222,
             "#7201a8"
            ],
            [
             0.3333333333333333,
             "#9c179e"
            ],
            [
             0.4444444444444444,
             "#bd3786"
            ],
            [
             0.5555555555555556,
             "#d8576b"
            ],
            [
             0.6666666666666666,
             "#ed7953"
            ],
            [
             0.7777777777777778,
             "#fb9f3a"
            ],
            [
             0.8888888888888888,
             "#fdca26"
            ],
            [
             1,
             "#f0f921"
            ]
           ]
          },
          "colorway": [
           "#636efa",
           "#EF553B",
           "#00cc96",
           "#ab63fa",
           "#FFA15A",
           "#19d3f3",
           "#FF6692",
           "#B6E880",
           "#FF97FF",
           "#FECB52"
          ],
          "font": {
           "color": "#2a3f5f"
          },
          "geo": {
           "bgcolor": "white",
           "lakecolor": "white",
           "landcolor": "#E5ECF6",
           "showlakes": true,
           "showland": true,
           "subunitcolor": "white"
          },
          "hoverlabel": {
           "align": "left"
          },
          "hovermode": "closest",
          "mapbox": {
           "style": "light"
          },
          "paper_bgcolor": "white",
          "plot_bgcolor": "#E5ECF6",
          "polar": {
           "angularaxis": {
            "gridcolor": "white",
            "linecolor": "white",
            "ticks": ""
           },
           "bgcolor": "#E5ECF6",
           "radialaxis": {
            "gridcolor": "white",
            "linecolor": "white",
            "ticks": ""
           }
          },
          "scene": {
           "xaxis": {
            "backgroundcolor": "#E5ECF6",
            "gridcolor": "white",
            "gridwidth": 2,
            "linecolor": "white",
            "showbackground": true,
            "ticks": "",
            "zerolinecolor": "white"
           },
           "yaxis": {
            "backgroundcolor": "#E5ECF6",
            "gridcolor": "white",
            "gridwidth": 2,
            "linecolor": "white",
            "showbackground": true,
            "ticks": "",
            "zerolinecolor": "white"
           },
           "zaxis": {
            "backgroundcolor": "#E5ECF6",
            "gridcolor": "white",
            "gridwidth": 2,
            "linecolor": "white",
            "showbackground": true,
            "ticks": "",
            "zerolinecolor": "white"
           }
          },
          "shapedefaults": {
           "line": {
            "color": "#2a3f5f"
           }
          },
          "ternary": {
           "aaxis": {
            "gridcolor": "white",
            "linecolor": "white",
            "ticks": ""
           },
           "baxis": {
            "gridcolor": "white",
            "linecolor": "white",
            "ticks": ""
           },
           "bgcolor": "#E5ECF6",
           "caxis": {
            "gridcolor": "white",
            "linecolor": "white",
            "ticks": ""
           }
          },
          "title": {
           "x": 0.05
          },
          "xaxis": {
           "automargin": true,
           "gridcolor": "white",
           "linecolor": "white",
           "ticks": "",
           "title": {
            "standoff": 15
           },
           "zerolinecolor": "white",
           "zerolinewidth": 2
          },
          "yaxis": {
           "automargin": true,
           "gridcolor": "white",
           "linecolor": "white",
           "ticks": "",
           "title": {
            "standoff": 15
           },
           "zerolinecolor": "white",
           "zerolinewidth": 2
          }
         }
        },
        "title": {
         "font": {
          "color": "#4D5663"
         }
        },
        "xaxis": {
         "anchor": "y",
         "domain": [
          0,
          0.2125
         ],
         "gridcolor": "#E1E5ED",
         "showgrid": false,
         "tickfont": {
          "color": "#4D5663"
         },
         "title": {
          "font": {
           "color": "#4D5663"
          },
          "text": ""
         },
         "zerolinecolor": "#E1E5ED"
        },
        "xaxis10": {
         "anchor": "y10",
         "domain": [
          0.2625,
          0.475
         ],
         "gridcolor": "#E1E5ED",
         "showgrid": false,
         "tickfont": {
          "color": "#4D5663"
         },
         "title": {
          "font": {
           "color": "#4D5663"
          },
          "text": ""
         },
         "zerolinecolor": "#E1E5ED"
        },
        "xaxis11": {
         "anchor": "y11",
         "domain": [
          0.525,
          0.7375
         ],
         "gridcolor": "#E1E5ED",
         "showgrid": false,
         "tickfont": {
          "color": "#4D5663"
         },
         "title": {
          "font": {
           "color": "#4D5663"
          },
          "text": ""
         },
         "zerolinecolor": "#E1E5ED"
        },
        "xaxis12": {
         "anchor": "y12",
         "domain": [
          0.7875,
          1
         ],
         "gridcolor": "#E1E5ED",
         "showgrid": false,
         "tickfont": {
          "color": "#4D5663"
         },
         "title": {
          "font": {
           "color": "#4D5663"
          },
          "text": ""
         },
         "zerolinecolor": "#E1E5ED"
        },
        "xaxis13": {
         "anchor": "y13",
         "domain": [
          0,
          0.2125
         ],
         "gridcolor": "#E1E5ED",
         "showgrid": false,
         "tickfont": {
          "color": "#4D5663"
         },
         "title": {
          "font": {
           "color": "#4D5663"
          },
          "text": ""
         },
         "zerolinecolor": "#E1E5ED"
        },
        "xaxis14": {
         "anchor": "y14",
         "domain": [
          0.2625,
          0.475
         ],
         "gridcolor": "#E1E5ED",
         "showgrid": false,
         "tickfont": {
          "color": "#4D5663"
         },
         "title": {
          "font": {
           "color": "#4D5663"
          },
          "text": ""
         },
         "zerolinecolor": "#E1E5ED"
        },
        "xaxis15": {
         "anchor": "y15",
         "domain": [
          0.525,
          0.7375
         ],
         "gridcolor": "#E1E5ED",
         "showgrid": false,
         "tickfont": {
          "color": "#4D5663"
         },
         "title": {
          "font": {
           "color": "#4D5663"
          },
          "text": ""
         },
         "zerolinecolor": "#E1E5ED"
        },
        "xaxis16": {
         "anchor": "y16",
         "domain": [
          0.7875,
          1
         ],
         "gridcolor": "#E1E5ED",
         "showgrid": false,
         "tickfont": {
          "color": "#4D5663"
         },
         "title": {
          "font": {
           "color": "#4D5663"
          },
          "text": ""
         },
         "zerolinecolor": "#E1E5ED"
        },
        "xaxis2": {
         "anchor": "y2",
         "domain": [
          0.2625,
          0.475
         ],
         "gridcolor": "#E1E5ED",
         "showgrid": false,
         "tickfont": {
          "color": "#4D5663"
         },
         "title": {
          "font": {
           "color": "#4D5663"
          },
          "text": ""
         },
         "zerolinecolor": "#E1E5ED"
        },
        "xaxis3": {
         "anchor": "y3",
         "domain": [
          0.525,
          0.7375
         ],
         "gridcolor": "#E1E5ED",
         "showgrid": false,
         "tickfont": {
          "color": "#4D5663"
         },
         "title": {
          "font": {
           "color": "#4D5663"
          },
          "text": ""
         },
         "zerolinecolor": "#E1E5ED"
        },
        "xaxis4": {
         "anchor": "y4",
         "domain": [
          0.7875,
          1
         ],
         "gridcolor": "#E1E5ED",
         "showgrid": false,
         "tickfont": {
          "color": "#4D5663"
         },
         "title": {
          "font": {
           "color": "#4D5663"
          },
          "text": ""
         },
         "zerolinecolor": "#E1E5ED"
        },
        "xaxis5": {
         "anchor": "y5",
         "domain": [
          0,
          0.2125
         ],
         "gridcolor": "#E1E5ED",
         "showgrid": false,
         "tickfont": {
          "color": "#4D5663"
         },
         "title": {
          "font": {
           "color": "#4D5663"
          },
          "text": ""
         },
         "zerolinecolor": "#E1E5ED"
        },
        "xaxis6": {
         "anchor": "y6",
         "domain": [
          0.2625,
          0.475
         ],
         "gridcolor": "#E1E5ED",
         "showgrid": false,
         "tickfont": {
          "color": "#4D5663"
         },
         "title": {
          "font": {
           "color": "#4D5663"
          },
          "text": ""
         },
         "zerolinecolor": "#E1E5ED"
        },
        "xaxis7": {
         "anchor": "y7",
         "domain": [
          0.525,
          0.7375
         ],
         "gridcolor": "#E1E5ED",
         "showgrid": false,
         "tickfont": {
          "color": "#4D5663"
         },
         "title": {
          "font": {
           "color": "#4D5663"
          },
          "text": ""
         },
         "zerolinecolor": "#E1E5ED"
        },
        "xaxis8": {
         "anchor": "y8",
         "domain": [
          0.7875,
          1
         ],
         "gridcolor": "#E1E5ED",
         "showgrid": false,
         "tickfont": {
          "color": "#4D5663"
         },
         "title": {
          "font": {
           "color": "#4D5663"
          },
          "text": ""
         },
         "zerolinecolor": "#E1E5ED"
        },
        "xaxis9": {
         "anchor": "y9",
         "domain": [
          0,
          0.2125
         ],
         "gridcolor": "#E1E5ED",
         "showgrid": false,
         "tickfont": {
          "color": "#4D5663"
         },
         "title": {
          "font": {
           "color": "#4D5663"
          },
          "text": ""
         },
         "zerolinecolor": "#E1E5ED"
        },
        "yaxis": {
         "anchor": "x",
         "domain": [
          0.8025,
          1
         ],
         "gridcolor": "#E1E5ED",
         "showgrid": false,
         "tickfont": {
          "color": "#4D5663"
         },
         "title": {
          "font": {
           "color": "#4D5663"
          },
          "text": ""
         },
         "zerolinecolor": "#E1E5ED"
        },
        "yaxis10": {
         "anchor": "x10",
         "domain": [
          0.2675,
          0.465
         ],
         "gridcolor": "#E1E5ED",
         "showgrid": false,
         "tickfont": {
          "color": "#4D5663"
         },
         "title": {
          "font": {
           "color": "#4D5663"
          },
          "text": ""
         },
         "zerolinecolor": "#E1E5ED"
        },
        "yaxis11": {
         "anchor": "x11",
         "domain": [
          0.2675,
          0.465
         ],
         "gridcolor": "#E1E5ED",
         "showgrid": false,
         "tickfont": {
          "color": "#4D5663"
         },
         "title": {
          "font": {
           "color": "#4D5663"
          },
          "text": ""
         },
         "zerolinecolor": "#E1E5ED"
        },
        "yaxis12": {
         "anchor": "x12",
         "domain": [
          0.2675,
          0.465
         ],
         "gridcolor": "#E1E5ED",
         "showgrid": false,
         "tickfont": {
          "color": "#4D5663"
         },
         "title": {
          "font": {
           "color": "#4D5663"
          },
          "text": ""
         },
         "zerolinecolor": "#E1E5ED"
        },
        "yaxis13": {
         "anchor": "x13",
         "domain": [
          0,
          0.1975
         ],
         "gridcolor": "#E1E5ED",
         "showgrid": false,
         "tickfont": {
          "color": "#4D5663"
         },
         "title": {
          "font": {
           "color": "#4D5663"
          },
          "text": ""
         },
         "zerolinecolor": "#E1E5ED"
        },
        "yaxis14": {
         "anchor": "x14",
         "domain": [
          0,
          0.1975
         ],
         "gridcolor": "#E1E5ED",
         "showgrid": false,
         "tickfont": {
          "color": "#4D5663"
         },
         "title": {
          "font": {
           "color": "#4D5663"
          },
          "text": ""
         },
         "zerolinecolor": "#E1E5ED"
        },
        "yaxis15": {
         "anchor": "x15",
         "domain": [
          0,
          0.1975
         ],
         "gridcolor": "#E1E5ED",
         "showgrid": false,
         "tickfont": {
          "color": "#4D5663"
         },
         "title": {
          "font": {
           "color": "#4D5663"
          },
          "text": ""
         },
         "zerolinecolor": "#E1E5ED"
        },
        "yaxis16": {
         "anchor": "x16",
         "domain": [
          0,
          0.1975
         ],
         "gridcolor": "#E1E5ED",
         "showgrid": false,
         "tickfont": {
          "color": "#4D5663"
         },
         "title": {
          "font": {
           "color": "#4D5663"
          },
          "text": ""
         },
         "zerolinecolor": "#E1E5ED"
        },
        "yaxis2": {
         "anchor": "x2",
         "domain": [
          0.8025,
          1
         ],
         "gridcolor": "#E1E5ED",
         "showgrid": false,
         "tickfont": {
          "color": "#4D5663"
         },
         "title": {
          "font": {
           "color": "#4D5663"
          },
          "text": ""
         },
         "zerolinecolor": "#E1E5ED"
        },
        "yaxis3": {
         "anchor": "x3",
         "domain": [
          0.8025,
          1
         ],
         "gridcolor": "#E1E5ED",
         "showgrid": false,
         "tickfont": {
          "color": "#4D5663"
         },
         "title": {
          "font": {
           "color": "#4D5663"
          },
          "text": ""
         },
         "zerolinecolor": "#E1E5ED"
        },
        "yaxis4": {
         "anchor": "x4",
         "domain": [
          0.8025,
          1
         ],
         "gridcolor": "#E1E5ED",
         "showgrid": false,
         "tickfont": {
          "color": "#4D5663"
         },
         "title": {
          "font": {
           "color": "#4D5663"
          },
          "text": ""
         },
         "zerolinecolor": "#E1E5ED"
        },
        "yaxis5": {
         "anchor": "x5",
         "domain": [
          0.535,
          0.7325
         ],
         "gridcolor": "#E1E5ED",
         "showgrid": false,
         "tickfont": {
          "color": "#4D5663"
         },
         "title": {
          "font": {
           "color": "#4D5663"
          },
          "text": ""
         },
         "zerolinecolor": "#E1E5ED"
        },
        "yaxis6": {
         "anchor": "x6",
         "domain": [
          0.535,
          0.7325
         ],
         "gridcolor": "#E1E5ED",
         "showgrid": false,
         "tickfont": {
          "color": "#4D5663"
         },
         "title": {
          "font": {
           "color": "#4D5663"
          },
          "text": ""
         },
         "zerolinecolor": "#E1E5ED"
        },
        "yaxis7": {
         "anchor": "x7",
         "domain": [
          0.535,
          0.7325
         ],
         "gridcolor": "#E1E5ED",
         "showgrid": false,
         "tickfont": {
          "color": "#4D5663"
         },
         "title": {
          "font": {
           "color": "#4D5663"
          },
          "text": ""
         },
         "zerolinecolor": "#E1E5ED"
        },
        "yaxis8": {
         "anchor": "x8",
         "domain": [
          0.535,
          0.7325
         ],
         "gridcolor": "#E1E5ED",
         "showgrid": false,
         "tickfont": {
          "color": "#4D5663"
         },
         "title": {
          "font": {
           "color": "#4D5663"
          },
          "text": ""
         },
         "zerolinecolor": "#E1E5ED"
        },
        "yaxis9": {
         "anchor": "x9",
         "domain": [
          0.2675,
          0.465
         ],
         "gridcolor": "#E1E5ED",
         "showgrid": false,
         "tickfont": {
          "color": "#4D5663"
         },
         "title": {
          "font": {
           "color": "#4D5663"
          },
          "text": ""
         },
         "zerolinecolor": "#E1E5ED"
        }
       }
      },
      "text/html": [
       "<div>\n",
       "        \n",
       "        \n",
       "            <div id=\"eba85a87-a368-4660-9706-6f7c37a2312c\" class=\"plotly-graph-div\" style=\"height:525px; width:100%;\"></div>\n",
       "            <script type=\"text/javascript\">\n",
       "                require([\"plotly\"], function(Plotly) {\n",
       "                    window.PLOTLYENV=window.PLOTLYENV || {};\n",
       "                    window.PLOTLYENV.BASE_URL='https://plot.ly';\n",
       "                    \n",
       "                if (document.getElementById(\"eba85a87-a368-4660-9706-6f7c37a2312c\")) {\n",
       "                    Plotly.newPlot(\n",
       "                        'eba85a87-a368-4660-9706-6f7c37a2312c',\n",
       "                        [{\"histfunc\": \"count\", \"histnorm\": \"\", \"marker\": {\"color\": \"rgba(255, 153, 51, 1.0)\", \"line\": {\"color\": \"#4D5663\", \"width\": 1.3}}, \"name\": \"A\", \"nbinsx\": 10, \"opacity\": 0.8, \"orientation\": \"v\", \"type\": \"histogram\", \"x\": [-0.510356444121689, 0.7201652349415042, -0.7956381636543068, 1.0832809916868644, -0.30135332660046227, 0.42411030852509535, 0.42087262293982375, -0.3834038112338632, -0.7181067075740701, -1.689000975405711, -0.768211369533854, -1.4009016874638953, -0.4609104403187404, -0.3610062304045048, 0.6990611544761113, -0.4071983236663745, 0.9749451967310648, -1.5521567512284027, 2.582839819142019, -1.2608047270318732, 0.68742828657434, -0.46537119576917874, -0.48064110808268334, 0.28063181595730985, -1.0452623335682787, -0.40873364292488046, -1.3571367997941601, -0.6062375995071084, 1.4528109216456557, 0.07731559895151965, 0.3250397061151751, 1.201915142424794, -0.4504659375584174, 1.9668847821266044, -0.364303563666657, -0.13927146800064158, 0.57348161033347, 0.4947778974491402, 0.30569786829351947, 0.9201554242455009, -0.41523183381297085, -1.8330412839733048, -0.23619614972665107, -1.849963868494029, 0.5461760591197427, -0.9361134586802853, -0.4528434305920523, 0.2174161047715857, 1.0635059691233937, -0.9459523350502519, -0.13166220663639913, -0.6421618174142698, 0.3047712492940703, -0.26344777521625573, -0.45306380687736664, -0.9705865345061072, -0.12741882697516443, 1.0049752783819161, 0.4086707843416792, -0.4511413941730779, 0.5104243612824134, -0.7255566333311757, 0.5653467224854392, -0.16436532244841037, -0.1988484231344934, -0.7564557068257352, -0.18679418701106604, 0.007128162141137425, -0.04652926061840745, -1.2240766600558828, 0.2548364775874957, 0.36702432595644263, -1.8441953853505533, -0.24359038758120563, 1.3244683296413644, 0.61165695571586, 1.5230508996881755, 1.7353619398397855, 0.22402443540755565, 0.33895550763612925, 0.9223319365608782, 0.9159143574193307, 1.2997354894773798, -1.4147536326587344, -1.0248138567998835, -1.7541740527292868, -0.6575313266954175, -0.6207644107638655, -0.44464272561837265, -0.836691238296052, 1.7573684719199605, -2.9653482379895464, -1.146385550579236, 0.15786795073923038, 1.9837911867756637, -0.1286989891014074, 0.6788131762939952, -0.012808189565091749, -0.7578489572357708, 1.5590955815629608], \"xaxis\": \"x\", \"yaxis\": \"y\"}, {\"line\": {\"color\": \"rgba(128, 128, 128, 1.0)\", \"dash\": \"solid\", \"shape\": \"linear\", \"width\": 1.3}, \"marker\": {\"size\": 2, \"symbol\": \"circle\"}, \"mode\": \"markers\", \"name\": \"A\", \"text\": \"\", \"type\": \"scatter\", \"x\": [0.4394113396115198, -1.3704879603341773, -0.894779683303476, -0.9091697423817736, -0.7870831654017293, 1.7078371717736396, -0.09852952274905818, -0.3301784910650832, 1.6268395224675645, 0.23779943709785142, 0.8320902681835906, -1.0395936765569966, -1.4627998759745036, -1.2905181379536943, -0.7458983776289884, 1.233386993912338, 0.49681475206133296, -0.512701542962839, 2.064920530388905, 1.1887225273511324, 0.9775910490656258, 0.07947257556784981, -0.7874279153056152, -1.1496283384200692, -1.4302366554682746, -1.5038040240345794, 0.2917872732984551, -1.1291913047146693, 0.381635713258072, 0.5782386470488836, 0.18723596532937337, -0.3932861774601221, 0.22451339799635048, -0.5639617603917293, 0.976796922647767, 1.3294058450552153, -0.014823934009534098, 0.33694456503364056, -1.7596659431646775, 0.18350148416556766, 2.1186952855091894, 1.8667466050294965, -0.837574209463975, 1.1115620238149284, 0.27441666631551975, -0.20989609089297878, -1.8147053413659966, 0.7869898004991409, -1.7841985376732745, -0.5238520144705975, 0.3812868303501749, 0.3137975708975645, 0.9968300457049288, 0.5824846983864099, -0.05913546961926126, -0.7790815336783042, -0.5034885037883023, 0.9896954982725973, -0.4787666015780376, 1.9011893896648642, -0.13028487404661762, -2.1424981055614447, -1.0766028098307068, -0.792137140883388, -1.2103592333561075, -1.4878660498301146, -0.43106169827739, -0.44901688012835594, 0.29737915922704417, -1.5005547897872924, -0.6906235587362654, 0.08165168312136552, 0.888112558194319, 0.2162961596844919, 0.3095124316406531, -2.357625950700372, -0.5851048603043837, 1.4090130212670697, -0.8972052639813642, 0.44154770227912477, 1.1769309603585676, 3.494886385021715, -0.34623819370067876, 0.49039904790159233, -1.4439627916263218, -0.23356971773044577, 1.946859888073679, 0.39682927408000496, 0.6947149347178614, 0.776205432439833, -1.6156658133534276, 0.8735942224395256, -0.027535065229056153, -0.008472192836710022, 0.1836800682078861, -0.4984619503467606, 1.705018893410389, -2.0132462510663918, 0.1437439755595477, 0.38606482996606656], \"xaxis\": \"x2\", \"y\": [-0.510356444121689, 0.7201652349415042, -0.7956381636543068, 1.0832809916868644, -0.30135332660046227, 0.42411030852509535, 0.42087262293982375, -0.3834038112338632, -0.7181067075740701, -1.689000975405711, -0.768211369533854, -1.4009016874638953, -0.4609104403187404, -0.3610062304045048, 0.6990611544761113, -0.4071983236663745, 0.9749451967310648, -1.5521567512284027, 2.582839819142019, -1.2608047270318732, 0.68742828657434, -0.46537119576917874, -0.48064110808268334, 0.28063181595730985, -1.0452623335682787, -0.40873364292488046, -1.3571367997941601, -0.6062375995071084, 1.4528109216456557, 0.07731559895151965, 0.3250397061151751, 1.201915142424794, -0.4504659375584174, 1.9668847821266044, -0.364303563666657, -0.13927146800064158, 0.57348161033347, 0.4947778974491402, 0.30569786829351947, 0.9201554242455009, -0.41523183381297085, -1.8330412839733048, -0.23619614972665107, -1.849963868494029, 0.5461760591197427, -0.9361134586802853, -0.4528434305920523, 0.2174161047715857, 1.0635059691233937, -0.9459523350502519, -0.13166220663639913, -0.6421618174142698, 0.3047712492940703, -0.26344777521625573, -0.45306380687736664, -0.9705865345061072, -0.12741882697516443, 1.0049752783819161, 0.4086707843416792, -0.4511413941730779, 0.5104243612824134, -0.7255566333311757, 0.5653467224854392, -0.16436532244841037, -0.1988484231344934, -0.7564557068257352, -0.18679418701106604, 0.007128162141137425, -0.04652926061840745, -1.2240766600558828, 0.2548364775874957, 0.36702432595644263, -1.8441953853505533, -0.24359038758120563, 1.3244683296413644, 0.61165695571586, 1.5230508996881755, 1.7353619398397855, 0.22402443540755565, 0.33895550763612925, 0.9223319365608782, 0.9159143574193307, 1.2997354894773798, -1.4147536326587344, -1.0248138567998835, -1.7541740527292868, -0.6575313266954175, -0.6207644107638655, -0.44464272561837265, -0.836691238296052, 1.7573684719199605, -2.9653482379895464, -1.146385550579236, 0.15786795073923038, 1.9837911867756637, -0.1286989891014074, 0.6788131762939952, -0.012808189565091749, -0.7578489572357708, 1.5590955815629608], \"yaxis\": \"y2\"}, {\"line\": {\"color\": \"rgba(128, 128, 128, 1.0)\", \"dash\": \"solid\", \"shape\": \"linear\", \"width\": 1.3}, \"marker\": {\"size\": 2, \"symbol\": \"circle\"}, \"mode\": \"markers\", \"name\": \"A\", \"text\": \"\", \"type\": \"scatter\", \"x\": [1.7134607267878292, 0.01229513019344676, 1.1576379532319447, 1.3566370184988912, -0.2117756707686416, 1.5625121947895269, 0.5533442627161719, -1.0388020852135091, 1.3233843164523944, -1.3841321376720623, -1.601418147437713, -1.4804291986871527, 0.398123596774922, 0.6600816610987036, 0.4401119102974501, -0.8431254039393877, 0.2914057336952613, -0.4393007785107817, -0.04865772347014313, 1.1537261875287288, 0.9635555110319551, -0.5880336603132681, 0.39562638834526176, -0.15957211910382443, 1.0254047780711937, 0.12423342512452254, 0.0437126925431905, 0.8995894615985114, 1.1260773239894168, -1.0240469410966868, -0.46796827766550575, 1.3438990552061132, 0.7083038644210866, -1.4301276155498046, -1.1787929121320906, 1.2589911130944365, -1.107663529376245, -0.34454418220057675, 1.1800182427566668, 0.6621456810599124, 0.9332278668943851, 1.0437030244588577, 1.1589775156621946, -1.286641464870168, 0.09592486742623252, -0.060169757044287585, -0.42631472192425107, 0.05509445430998456, 0.5838635059871827, -1.0117104904794283, -0.36333960758699724, -0.6042376837704702, 0.46754062186437567, 0.5434090188257058, 0.864369979455845, -0.03379664750232179, -1.8037781405146458, 1.6759719250546596, -0.04334468392284036, -0.639674969010019, -1.1978450422539484, 0.44647289296402143, 0.2934078819402944, 0.16864785141964597, -0.03899654640077746, 0.2797233408514478, 0.9706769301218381, 0.3053152936395522, 0.3488898255315582, -0.3695518224748706, 1.238513300269592, 1.1105842613534929, -0.45241838137786267, 0.0061385544732930255, -1.519598989469329, 1.5021261970541342, 0.9379164174518302, -0.044109473046359864, 1.0675633476248816, -1.6088697204823577, -1.2116805484645659, 2.2143799486399542, -0.638817358171448, 1.0689578074338253, 0.31208077022181774, -0.7155400847678097, 0.4654737522814809, -0.5612860156322768, -0.29481862276324833, 0.4485246590538842, 0.4536017204861066, 0.3811734827980065, 0.05859924533815346, -1.0184769474724664, 0.39167521632673225, -0.8459166933123231, 0.9603389026740023, -0.08939291758784702, -1.3339894824288652, 0.6489534233801592], \"xaxis\": \"x3\", \"y\": [-0.510356444121689, 0.7201652349415042, -0.7956381636543068, 1.0832809916868644, -0.30135332660046227, 0.42411030852509535, 0.42087262293982375, -0.3834038112338632, -0.7181067075740701, -1.689000975405711, -0.768211369533854, -1.4009016874638953, -0.4609104403187404, -0.3610062304045048, 0.6990611544761113, -0.4071983236663745, 0.9749451967310648, -1.5521567512284027, 2.582839819142019, -1.2608047270318732, 0.68742828657434, -0.46537119576917874, -0.48064110808268334, 0.28063181595730985, -1.0452623335682787, -0.40873364292488046, -1.3571367997941601, -0.6062375995071084, 1.4528109216456557, 0.07731559895151965, 0.3250397061151751, 1.201915142424794, -0.4504659375584174, 1.9668847821266044, -0.364303563666657, -0.13927146800064158, 0.57348161033347, 0.4947778974491402, 0.30569786829351947, 0.9201554242455009, -0.41523183381297085, -1.8330412839733048, -0.23619614972665107, -1.849963868494029, 0.5461760591197427, -0.9361134586802853, -0.4528434305920523, 0.2174161047715857, 1.0635059691233937, -0.9459523350502519, -0.13166220663639913, -0.6421618174142698, 0.3047712492940703, -0.26344777521625573, -0.45306380687736664, -0.9705865345061072, -0.12741882697516443, 1.0049752783819161, 0.4086707843416792, -0.4511413941730779, 0.5104243612824134, -0.7255566333311757, 0.5653467224854392, -0.16436532244841037, -0.1988484231344934, -0.7564557068257352, -0.18679418701106604, 0.007128162141137425, -0.04652926061840745, -1.2240766600558828, 0.2548364775874957, 0.36702432595644263, -1.8441953853505533, -0.24359038758120563, 1.3244683296413644, 0.61165695571586, 1.5230508996881755, 1.7353619398397855, 0.22402443540755565, 0.33895550763612925, 0.9223319365608782, 0.9159143574193307, 1.2997354894773798, -1.4147536326587344, -1.0248138567998835, -1.7541740527292868, -0.6575313266954175, -0.6207644107638655, -0.44464272561837265, -0.836691238296052, 1.7573684719199605, -2.9653482379895464, -1.146385550579236, 0.15786795073923038, 1.9837911867756637, -0.1286989891014074, 0.6788131762939952, -0.012808189565091749, -0.7578489572357708, 1.5590955815629608], \"yaxis\": \"y3\"}, {\"line\": {\"color\": \"rgba(128, 128, 128, 1.0)\", \"dash\": \"solid\", \"shape\": \"linear\", \"width\": 1.3}, \"marker\": {\"size\": 2, \"symbol\": \"circle\"}, \"mode\": \"markers\", \"name\": \"A\", \"text\": \"\", \"type\": \"scatter\", \"x\": [-0.6494312813489145, 0.5196054801095733, 0.0828488001042145, 0.4249812754840084, 0.5729293370994376, 0.9292731412356393, -0.3416471965687598, -0.8792390472325408, -0.2537255764371739, 0.446260129769695, 2.6514949387993703, 0.26287820592109423, 0.9307105379918522, -0.11002087128670265, -0.3894678170928814, -1.2056699291126767, -0.33982778539946473, -0.5881542236293539, 0.38293030573445497, -0.2971978399749488, 1.3547218372705987, -2.4779811779546486, -0.39059599846259063, 0.21667583702807452, -0.5803490910115267, 0.25546806790574383, -0.30223300479977305, 1.2604364945297997, -1.156888967018702, -0.021516118040357916, -0.6722009918032484, -1.6297981653637084, 1.0722741218800351, -0.17793982314165274, -0.2870437190408764, -0.7447344530324086, -1.8866491407895452, 0.48239707899094636, -0.9315051451227777, 0.7398734905309798, -0.4072464898723833, -1.8297211898989034, -1.2091335318863878, -0.47405824350178866, 0.3317790547794101, -0.7335094760607728, -0.06069935848235784, 0.2149359131378458, -1.2772687572661934, -0.6707945711837375, -1.8454602155509663, 1.3742821834136227, -0.6849319114740683, 0.20962107268154645, 0.8739647403395655, -0.0648512961866547, 0.10916666355129223, 0.7742130365257172, -0.6202121031517325, -2.027047349242399, -0.8537322497487592, 0.10466128223410277, -0.9537032798117839, -0.2106665962593506, -0.9684766400297471, -0.6579892171523315, -0.7787375038637451, -0.9247492346307117, -0.9338954872947596, 0.23386795010542535, -0.26925504094370395, 0.8019489697881516, 0.49658912032148483, 1.065966241426964, 0.3139004072052315, 0.8198729194069315, -0.15747464396416938, -1.4172739578471354, -2.0091660542923626, 0.18288638841393226, 0.9834100356019922, -0.3583663367860736, 0.40689607852516135, -1.8183389932144993, 0.9905748041579666, -0.13734448106333003, -0.7742743589471643, -0.5248974994430586, -0.04727700329103183, 0.09700939432349272, 0.30365089281729596, 1.5038805885998434, 1.146636147027629, 1.129211795513414, -0.09137973751845033, -1.8140911181141097, -0.0855074483344991, 0.10415479262056486, 1.9701469206422444, -1.2796223948212122], \"xaxis\": \"x4\", \"y\": [-0.510356444121689, 0.7201652349415042, -0.7956381636543068, 1.0832809916868644, -0.30135332660046227, 0.42411030852509535, 0.42087262293982375, -0.3834038112338632, -0.7181067075740701, -1.689000975405711, -0.768211369533854, -1.4009016874638953, -0.4609104403187404, -0.3610062304045048, 0.6990611544761113, -0.4071983236663745, 0.9749451967310648, -1.5521567512284027, 2.582839819142019, -1.2608047270318732, 0.68742828657434, -0.46537119576917874, -0.48064110808268334, 0.28063181595730985, -1.0452623335682787, -0.40873364292488046, -1.3571367997941601, -0.6062375995071084, 1.4528109216456557, 0.07731559895151965, 0.3250397061151751, 1.201915142424794, -0.4504659375584174, 1.9668847821266044, -0.364303563666657, -0.13927146800064158, 0.57348161033347, 0.4947778974491402, 0.30569786829351947, 0.9201554242455009, -0.41523183381297085, -1.8330412839733048, -0.23619614972665107, -1.849963868494029, 0.5461760591197427, -0.9361134586802853, -0.4528434305920523, 0.2174161047715857, 1.0635059691233937, -0.9459523350502519, -0.13166220663639913, -0.6421618174142698, 0.3047712492940703, -0.26344777521625573, -0.45306380687736664, -0.9705865345061072, -0.12741882697516443, 1.0049752783819161, 0.4086707843416792, -0.4511413941730779, 0.5104243612824134, -0.7255566333311757, 0.5653467224854392, -0.16436532244841037, -0.1988484231344934, -0.7564557068257352, -0.18679418701106604, 0.007128162141137425, -0.04652926061840745, -1.2240766600558828, 0.2548364775874957, 0.36702432595644263, -1.8441953853505533, -0.24359038758120563, 1.3244683296413644, 0.61165695571586, 1.5230508996881755, 1.7353619398397855, 0.22402443540755565, 0.33895550763612925, 0.9223319365608782, 0.9159143574193307, 1.2997354894773798, -1.4147536326587344, -1.0248138567998835, -1.7541740527292868, -0.6575313266954175, -0.6207644107638655, -0.44464272561837265, -0.836691238296052, 1.7573684719199605, -2.9653482379895464, -1.146385550579236, 0.15786795073923038, 1.9837911867756637, -0.1286989891014074, 0.6788131762939952, -0.012808189565091749, -0.7578489572357708, 1.5590955815629608], \"yaxis\": \"y4\"}, {\"line\": {\"color\": \"rgba(128, 128, 128, 1.0)\", \"dash\": \"solid\", \"shape\": \"linear\", \"width\": 1.3}, \"marker\": {\"size\": 2, \"symbol\": \"circle\"}, \"mode\": \"markers\", \"name\": \"B\", \"text\": \"\", \"type\": \"scatter\", \"x\": [-0.510356444121689, 0.7201652349415042, -0.7956381636543068, 1.0832809916868644, -0.30135332660046227, 0.42411030852509535, 0.42087262293982375, -0.3834038112338632, -0.7181067075740701, -1.689000975405711, -0.768211369533854, -1.4009016874638953, -0.4609104403187404, -0.3610062304045048, 0.6990611544761113, -0.4071983236663745, 0.9749451967310648, -1.5521567512284027, 2.582839819142019, -1.2608047270318732, 0.68742828657434, -0.46537119576917874, -0.48064110808268334, 0.28063181595730985, -1.0452623335682787, -0.40873364292488046, -1.3571367997941601, -0.6062375995071084, 1.4528109216456557, 0.07731559895151965, 0.3250397061151751, 1.201915142424794, -0.4504659375584174, 1.9668847821266044, -0.364303563666657, -0.13927146800064158, 0.57348161033347, 0.4947778974491402, 0.30569786829351947, 0.9201554242455009, -0.41523183381297085, -1.8330412839733048, -0.23619614972665107, -1.849963868494029, 0.5461760591197427, -0.9361134586802853, -0.4528434305920523, 0.2174161047715857, 1.0635059691233937, -0.9459523350502519, -0.13166220663639913, -0.6421618174142698, 0.3047712492940703, -0.26344777521625573, -0.45306380687736664, -0.9705865345061072, -0.12741882697516443, 1.0049752783819161, 0.4086707843416792, -0.4511413941730779, 0.5104243612824134, -0.7255566333311757, 0.5653467224854392, -0.16436532244841037, -0.1988484231344934, -0.7564557068257352, -0.18679418701106604, 0.007128162141137425, -0.04652926061840745, -1.2240766600558828, 0.2548364775874957, 0.36702432595644263, -1.8441953853505533, -0.24359038758120563, 1.3244683296413644, 0.61165695571586, 1.5230508996881755, 1.7353619398397855, 0.22402443540755565, 0.33895550763612925, 0.9223319365608782, 0.9159143574193307, 1.2997354894773798, -1.4147536326587344, -1.0248138567998835, -1.7541740527292868, -0.6575313266954175, -0.6207644107638655, -0.44464272561837265, -0.836691238296052, 1.7573684719199605, -2.9653482379895464, -1.146385550579236, 0.15786795073923038, 1.9837911867756637, -0.1286989891014074, 0.6788131762939952, -0.012808189565091749, -0.7578489572357708, 1.5590955815629608], \"xaxis\": \"x5\", \"y\": [0.4394113396115198, -1.3704879603341773, -0.894779683303476, -0.9091697423817736, -0.7870831654017293, 1.7078371717736396, -0.09852952274905818, -0.3301784910650832, 1.6268395224675645, 0.23779943709785142, 0.8320902681835906, -1.0395936765569966, -1.4627998759745036, -1.2905181379536943, -0.7458983776289884, 1.233386993912338, 0.49681475206133296, -0.512701542962839, 2.064920530388905, 1.1887225273511324, 0.9775910490656258, 0.07947257556784981, -0.7874279153056152, -1.1496283384200692, -1.4302366554682746, -1.5038040240345794, 0.2917872732984551, -1.1291913047146693, 0.381635713258072, 0.5782386470488836, 0.18723596532937337, -0.3932861774601221, 0.22451339799635048, -0.5639617603917293, 0.976796922647767, 1.3294058450552153, -0.014823934009534098, 0.33694456503364056, -1.7596659431646775, 0.18350148416556766, 2.1186952855091894, 1.8667466050294965, -0.837574209463975, 1.1115620238149284, 0.27441666631551975, -0.20989609089297878, -1.8147053413659966, 0.7869898004991409, -1.7841985376732745, -0.5238520144705975, 0.3812868303501749, 0.3137975708975645, 0.9968300457049288, 0.5824846983864099, -0.05913546961926126, -0.7790815336783042, -0.5034885037883023, 0.9896954982725973, -0.4787666015780376, 1.9011893896648642, -0.13028487404661762, -2.1424981055614447, -1.0766028098307068, -0.792137140883388, -1.2103592333561075, -1.4878660498301146, -0.43106169827739, -0.44901688012835594, 0.29737915922704417, -1.5005547897872924, -0.6906235587362654, 0.08165168312136552, 0.888112558194319, 0.2162961596844919, 0.3095124316406531, -2.357625950700372, -0.5851048603043837, 1.4090130212670697, -0.8972052639813642, 0.44154770227912477, 1.1769309603585676, 3.494886385021715, -0.34623819370067876, 0.49039904790159233, -1.4439627916263218, -0.23356971773044577, 1.946859888073679, 0.39682927408000496, 0.6947149347178614, 0.776205432439833, -1.6156658133534276, 0.8735942224395256, -0.027535065229056153, -0.008472192836710022, 0.1836800682078861, -0.4984619503467606, 1.705018893410389, -2.0132462510663918, 0.1437439755595477, 0.38606482996606656], \"yaxis\": \"y5\"}, {\"histfunc\": \"count\", \"histnorm\": \"\", \"marker\": {\"color\": \"rgba(55, 128, 191, 1.0)\", \"line\": {\"color\": \"#4D5663\", \"width\": 1.3}}, \"name\": \"B\", \"nbinsx\": 10, \"opacity\": 0.8, \"orientation\": \"v\", \"type\": \"histogram\", \"x\": [0.4394113396115198, -1.3704879603341773, -0.894779683303476, -0.9091697423817736, -0.7870831654017293, 1.7078371717736396, -0.09852952274905818, -0.3301784910650832, 1.6268395224675645, 0.23779943709785142, 0.8320902681835906, -1.0395936765569966, -1.4627998759745036, -1.2905181379536943, -0.7458983776289884, 1.233386993912338, 0.49681475206133296, -0.512701542962839, 2.064920530388905, 1.1887225273511324, 0.9775910490656258, 0.07947257556784981, -0.7874279153056152, -1.1496283384200692, -1.4302366554682746, -1.5038040240345794, 0.2917872732984551, -1.1291913047146693, 0.381635713258072, 0.5782386470488836, 0.18723596532937337, -0.3932861774601221, 0.22451339799635048, -0.5639617603917293, 0.976796922647767, 1.3294058450552153, -0.014823934009534098, 0.33694456503364056, -1.7596659431646775, 0.18350148416556766, 2.1186952855091894, 1.8667466050294965, -0.837574209463975, 1.1115620238149284, 0.27441666631551975, -0.20989609089297878, -1.8147053413659966, 0.7869898004991409, -1.7841985376732745, -0.5238520144705975, 0.3812868303501749, 0.3137975708975645, 0.9968300457049288, 0.5824846983864099, -0.05913546961926126, -0.7790815336783042, -0.5034885037883023, 0.9896954982725973, -0.4787666015780376, 1.9011893896648642, -0.13028487404661762, -2.1424981055614447, -1.0766028098307068, -0.792137140883388, -1.2103592333561075, -1.4878660498301146, -0.43106169827739, -0.44901688012835594, 0.29737915922704417, -1.5005547897872924, -0.6906235587362654, 0.08165168312136552, 0.888112558194319, 0.2162961596844919, 0.3095124316406531, -2.357625950700372, -0.5851048603043837, 1.4090130212670697, -0.8972052639813642, 0.44154770227912477, 1.1769309603585676, 3.494886385021715, -0.34623819370067876, 0.49039904790159233, -1.4439627916263218, -0.23356971773044577, 1.946859888073679, 0.39682927408000496, 0.6947149347178614, 0.776205432439833, -1.6156658133534276, 0.8735942224395256, -0.027535065229056153, -0.008472192836710022, 0.1836800682078861, -0.4984619503467606, 1.705018893410389, -2.0132462510663918, 0.1437439755595477, 0.38606482996606656], \"xaxis\": \"x6\", \"yaxis\": \"y6\"}, {\"line\": {\"color\": \"rgba(128, 128, 128, 1.0)\", \"dash\": \"solid\", \"shape\": \"linear\", \"width\": 1.3}, \"marker\": {\"size\": 2, \"symbol\": \"circle\"}, \"mode\": \"markers\", \"name\": \"B\", \"text\": \"\", \"type\": \"scatter\", \"x\": [1.7134607267878292, 0.01229513019344676, 1.1576379532319447, 1.3566370184988912, -0.2117756707686416, 1.5625121947895269, 0.5533442627161719, -1.0388020852135091, 1.3233843164523944, -1.3841321376720623, -1.601418147437713, -1.4804291986871527, 0.398123596774922, 0.6600816610987036, 0.4401119102974501, -0.8431254039393877, 0.2914057336952613, -0.4393007785107817, -0.04865772347014313, 1.1537261875287288, 0.9635555110319551, -0.5880336603132681, 0.39562638834526176, -0.15957211910382443, 1.0254047780711937, 0.12423342512452254, 0.0437126925431905, 0.8995894615985114, 1.1260773239894168, -1.0240469410966868, -0.46796827766550575, 1.3438990552061132, 0.7083038644210866, -1.4301276155498046, -1.1787929121320906, 1.2589911130944365, -1.107663529376245, -0.34454418220057675, 1.1800182427566668, 0.6621456810599124, 0.9332278668943851, 1.0437030244588577, 1.1589775156621946, -1.286641464870168, 0.09592486742623252, -0.060169757044287585, -0.42631472192425107, 0.05509445430998456, 0.5838635059871827, -1.0117104904794283, -0.36333960758699724, -0.6042376837704702, 0.46754062186437567, 0.5434090188257058, 0.864369979455845, -0.03379664750232179, -1.8037781405146458, 1.6759719250546596, -0.04334468392284036, -0.639674969010019, -1.1978450422539484, 0.44647289296402143, 0.2934078819402944, 0.16864785141964597, -0.03899654640077746, 0.2797233408514478, 0.9706769301218381, 0.3053152936395522, 0.3488898255315582, -0.3695518224748706, 1.238513300269592, 1.1105842613534929, -0.45241838137786267, 0.0061385544732930255, -1.519598989469329, 1.5021261970541342, 0.9379164174518302, -0.044109473046359864, 1.0675633476248816, -1.6088697204823577, -1.2116805484645659, 2.2143799486399542, -0.638817358171448, 1.0689578074338253, 0.31208077022181774, -0.7155400847678097, 0.4654737522814809, -0.5612860156322768, -0.29481862276324833, 0.4485246590538842, 0.4536017204861066, 0.3811734827980065, 0.05859924533815346, -1.0184769474724664, 0.39167521632673225, -0.8459166933123231, 0.9603389026740023, -0.08939291758784702, -1.3339894824288652, 0.6489534233801592], \"xaxis\": \"x7\", \"y\": [0.4394113396115198, -1.3704879603341773, -0.894779683303476, -0.9091697423817736, -0.7870831654017293, 1.7078371717736396, -0.09852952274905818, -0.3301784910650832, 1.6268395224675645, 0.23779943709785142, 0.8320902681835906, -1.0395936765569966, -1.4627998759745036, -1.2905181379536943, -0.7458983776289884, 1.233386993912338, 0.49681475206133296, -0.512701542962839, 2.064920530388905, 1.1887225273511324, 0.9775910490656258, 0.07947257556784981, -0.7874279153056152, -1.1496283384200692, -1.4302366554682746, -1.5038040240345794, 0.2917872732984551, -1.1291913047146693, 0.381635713258072, 0.5782386470488836, 0.18723596532937337, -0.3932861774601221, 0.22451339799635048, -0.5639617603917293, 0.976796922647767, 1.3294058450552153, -0.014823934009534098, 0.33694456503364056, -1.7596659431646775, 0.18350148416556766, 2.1186952855091894, 1.8667466050294965, -0.837574209463975, 1.1115620238149284, 0.27441666631551975, -0.20989609089297878, -1.8147053413659966, 0.7869898004991409, -1.7841985376732745, -0.5238520144705975, 0.3812868303501749, 0.3137975708975645, 0.9968300457049288, 0.5824846983864099, -0.05913546961926126, -0.7790815336783042, -0.5034885037883023, 0.9896954982725973, -0.4787666015780376, 1.9011893896648642, -0.13028487404661762, -2.1424981055614447, -1.0766028098307068, -0.792137140883388, -1.2103592333561075, -1.4878660498301146, -0.43106169827739, -0.44901688012835594, 0.29737915922704417, -1.5005547897872924, -0.6906235587362654, 0.08165168312136552, 0.888112558194319, 0.2162961596844919, 0.3095124316406531, -2.357625950700372, -0.5851048603043837, 1.4090130212670697, -0.8972052639813642, 0.44154770227912477, 1.1769309603585676, 3.494886385021715, -0.34623819370067876, 0.49039904790159233, -1.4439627916263218, -0.23356971773044577, 1.946859888073679, 0.39682927408000496, 0.6947149347178614, 0.776205432439833, -1.6156658133534276, 0.8735942224395256, -0.027535065229056153, -0.008472192836710022, 0.1836800682078861, -0.4984619503467606, 1.705018893410389, -2.0132462510663918, 0.1437439755595477, 0.38606482996606656], \"yaxis\": \"y7\"}, {\"line\": {\"color\": \"rgba(128, 128, 128, 1.0)\", \"dash\": \"solid\", \"shape\": \"linear\", \"width\": 1.3}, \"marker\": {\"size\": 2, \"symbol\": \"circle\"}, \"mode\": \"markers\", \"name\": \"B\", \"text\": \"\", \"type\": \"scatter\", \"x\": [-0.6494312813489145, 0.5196054801095733, 0.0828488001042145, 0.4249812754840084, 0.5729293370994376, 0.9292731412356393, -0.3416471965687598, -0.8792390472325408, -0.2537255764371739, 0.446260129769695, 2.6514949387993703, 0.26287820592109423, 0.9307105379918522, -0.11002087128670265, -0.3894678170928814, -1.2056699291126767, -0.33982778539946473, -0.5881542236293539, 0.38293030573445497, -0.2971978399749488, 1.3547218372705987, -2.4779811779546486, -0.39059599846259063, 0.21667583702807452, -0.5803490910115267, 0.25546806790574383, -0.30223300479977305, 1.2604364945297997, -1.156888967018702, -0.021516118040357916, -0.6722009918032484, -1.6297981653637084, 1.0722741218800351, -0.17793982314165274, -0.2870437190408764, -0.7447344530324086, -1.8866491407895452, 0.48239707899094636, -0.9315051451227777, 0.7398734905309798, -0.4072464898723833, -1.8297211898989034, -1.2091335318863878, -0.47405824350178866, 0.3317790547794101, -0.7335094760607728, -0.06069935848235784, 0.2149359131378458, -1.2772687572661934, -0.6707945711837375, -1.8454602155509663, 1.3742821834136227, -0.6849319114740683, 0.20962107268154645, 0.8739647403395655, -0.0648512961866547, 0.10916666355129223, 0.7742130365257172, -0.6202121031517325, -2.027047349242399, -0.8537322497487592, 0.10466128223410277, -0.9537032798117839, -0.2106665962593506, -0.9684766400297471, -0.6579892171523315, -0.7787375038637451, -0.9247492346307117, -0.9338954872947596, 0.23386795010542535, -0.26925504094370395, 0.8019489697881516, 0.49658912032148483, 1.065966241426964, 0.3139004072052315, 0.8198729194069315, -0.15747464396416938, -1.4172739578471354, -2.0091660542923626, 0.18288638841393226, 0.9834100356019922, -0.3583663367860736, 0.40689607852516135, -1.8183389932144993, 0.9905748041579666, -0.13734448106333003, -0.7742743589471643, -0.5248974994430586, -0.04727700329103183, 0.09700939432349272, 0.30365089281729596, 1.5038805885998434, 1.146636147027629, 1.129211795513414, -0.09137973751845033, -1.8140911181141097, -0.0855074483344991, 0.10415479262056486, 1.9701469206422444, -1.2796223948212122], \"xaxis\": \"x8\", \"y\": [0.4394113396115198, -1.3704879603341773, -0.894779683303476, -0.9091697423817736, -0.7870831654017293, 1.7078371717736396, -0.09852952274905818, -0.3301784910650832, 1.6268395224675645, 0.23779943709785142, 0.8320902681835906, -1.0395936765569966, -1.4627998759745036, -1.2905181379536943, -0.7458983776289884, 1.233386993912338, 0.49681475206133296, -0.512701542962839, 2.064920530388905, 1.1887225273511324, 0.9775910490656258, 0.07947257556784981, -0.7874279153056152, -1.1496283384200692, -1.4302366554682746, -1.5038040240345794, 0.2917872732984551, -1.1291913047146693, 0.381635713258072, 0.5782386470488836, 0.18723596532937337, -0.3932861774601221, 0.22451339799635048, -0.5639617603917293, 0.976796922647767, 1.3294058450552153, -0.014823934009534098, 0.33694456503364056, -1.7596659431646775, 0.18350148416556766, 2.1186952855091894, 1.8667466050294965, -0.837574209463975, 1.1115620238149284, 0.27441666631551975, -0.20989609089297878, -1.8147053413659966, 0.7869898004991409, -1.7841985376732745, -0.5238520144705975, 0.3812868303501749, 0.3137975708975645, 0.9968300457049288, 0.5824846983864099, -0.05913546961926126, -0.7790815336783042, -0.5034885037883023, 0.9896954982725973, -0.4787666015780376, 1.9011893896648642, -0.13028487404661762, -2.1424981055614447, -1.0766028098307068, -0.792137140883388, -1.2103592333561075, -1.4878660498301146, -0.43106169827739, -0.44901688012835594, 0.29737915922704417, -1.5005547897872924, -0.6906235587362654, 0.08165168312136552, 0.888112558194319, 0.2162961596844919, 0.3095124316406531, -2.357625950700372, -0.5851048603043837, 1.4090130212670697, -0.8972052639813642, 0.44154770227912477, 1.1769309603585676, 3.494886385021715, -0.34623819370067876, 0.49039904790159233, -1.4439627916263218, -0.23356971773044577, 1.946859888073679, 0.39682927408000496, 0.6947149347178614, 0.776205432439833, -1.6156658133534276, 0.8735942224395256, -0.027535065229056153, -0.008472192836710022, 0.1836800682078861, -0.4984619503467606, 1.705018893410389, -2.0132462510663918, 0.1437439755595477, 0.38606482996606656], \"yaxis\": \"y8\"}, {\"line\": {\"color\": \"rgba(128, 128, 128, 1.0)\", \"dash\": \"solid\", \"shape\": \"linear\", \"width\": 1.3}, \"marker\": {\"size\": 2, \"symbol\": \"circle\"}, \"mode\": \"markers\", \"name\": \"C\", \"text\": \"\", \"type\": \"scatter\", \"x\": [-0.510356444121689, 0.7201652349415042, -0.7956381636543068, 1.0832809916868644, -0.30135332660046227, 0.42411030852509535, 0.42087262293982375, -0.3834038112338632, -0.7181067075740701, -1.689000975405711, -0.768211369533854, -1.4009016874638953, -0.4609104403187404, -0.3610062304045048, 0.6990611544761113, -0.4071983236663745, 0.9749451967310648, -1.5521567512284027, 2.582839819142019, -1.2608047270318732, 0.68742828657434, -0.46537119576917874, -0.48064110808268334, 0.28063181595730985, -1.0452623335682787, -0.40873364292488046, -1.3571367997941601, -0.6062375995071084, 1.4528109216456557, 0.07731559895151965, 0.3250397061151751, 1.201915142424794, -0.4504659375584174, 1.9668847821266044, -0.364303563666657, -0.13927146800064158, 0.57348161033347, 0.4947778974491402, 0.30569786829351947, 0.9201554242455009, -0.41523183381297085, -1.8330412839733048, -0.23619614972665107, -1.849963868494029, 0.5461760591197427, -0.9361134586802853, -0.4528434305920523, 0.2174161047715857, 1.0635059691233937, -0.9459523350502519, -0.13166220663639913, -0.6421618174142698, 0.3047712492940703, -0.26344777521625573, -0.45306380687736664, -0.9705865345061072, -0.12741882697516443, 1.0049752783819161, 0.4086707843416792, -0.4511413941730779, 0.5104243612824134, -0.7255566333311757, 0.5653467224854392, -0.16436532244841037, -0.1988484231344934, -0.7564557068257352, -0.18679418701106604, 0.007128162141137425, -0.04652926061840745, -1.2240766600558828, 0.2548364775874957, 0.36702432595644263, -1.8441953853505533, -0.24359038758120563, 1.3244683296413644, 0.61165695571586, 1.5230508996881755, 1.7353619398397855, 0.22402443540755565, 0.33895550763612925, 0.9223319365608782, 0.9159143574193307, 1.2997354894773798, -1.4147536326587344, -1.0248138567998835, -1.7541740527292868, -0.6575313266954175, -0.6207644107638655, -0.44464272561837265, -0.836691238296052, 1.7573684719199605, -2.9653482379895464, -1.146385550579236, 0.15786795073923038, 1.9837911867756637, -0.1286989891014074, 0.6788131762939952, -0.012808189565091749, -0.7578489572357708, 1.5590955815629608], \"xaxis\": \"x9\", \"y\": [1.7134607267878292, 0.01229513019344676, 1.1576379532319447, 1.3566370184988912, -0.2117756707686416, 1.5625121947895269, 0.5533442627161719, -1.0388020852135091, 1.3233843164523944, -1.3841321376720623, -1.601418147437713, -1.4804291986871527, 0.398123596774922, 0.6600816610987036, 0.4401119102974501, -0.8431254039393877, 0.2914057336952613, -0.4393007785107817, -0.04865772347014313, 1.1537261875287288, 0.9635555110319551, -0.5880336603132681, 0.39562638834526176, -0.15957211910382443, 1.0254047780711937, 0.12423342512452254, 0.0437126925431905, 0.8995894615985114, 1.1260773239894168, -1.0240469410966868, -0.46796827766550575, 1.3438990552061132, 0.7083038644210866, -1.4301276155498046, -1.1787929121320906, 1.2589911130944365, -1.107663529376245, -0.34454418220057675, 1.1800182427566668, 0.6621456810599124, 0.9332278668943851, 1.0437030244588577, 1.1589775156621946, -1.286641464870168, 0.09592486742623252, -0.060169757044287585, -0.42631472192425107, 0.05509445430998456, 0.5838635059871827, -1.0117104904794283, -0.36333960758699724, -0.6042376837704702, 0.46754062186437567, 0.5434090188257058, 0.864369979455845, -0.03379664750232179, -1.8037781405146458, 1.6759719250546596, -0.04334468392284036, -0.639674969010019, -1.1978450422539484, 0.44647289296402143, 0.2934078819402944, 0.16864785141964597, -0.03899654640077746, 0.2797233408514478, 0.9706769301218381, 0.3053152936395522, 0.3488898255315582, -0.3695518224748706, 1.238513300269592, 1.1105842613534929, -0.45241838137786267, 0.0061385544732930255, -1.519598989469329, 1.5021261970541342, 0.9379164174518302, -0.044109473046359864, 1.0675633476248816, -1.6088697204823577, -1.2116805484645659, 2.2143799486399542, -0.638817358171448, 1.0689578074338253, 0.31208077022181774, -0.7155400847678097, 0.4654737522814809, -0.5612860156322768, -0.29481862276324833, 0.4485246590538842, 0.4536017204861066, 0.3811734827980065, 0.05859924533815346, -1.0184769474724664, 0.39167521632673225, -0.8459166933123231, 0.9603389026740023, -0.08939291758784702, -1.3339894824288652, 0.6489534233801592], \"yaxis\": \"y9\"}, {\"line\": {\"color\": \"rgba(128, 128, 128, 1.0)\", \"dash\": \"solid\", \"shape\": \"linear\", \"width\": 1.3}, \"marker\": {\"size\": 2, \"symbol\": \"circle\"}, \"mode\": \"markers\", \"name\": \"C\", \"text\": \"\", \"type\": \"scatter\", \"x\": [0.4394113396115198, -1.3704879603341773, -0.894779683303476, -0.9091697423817736, -0.7870831654017293, 1.7078371717736396, -0.09852952274905818, -0.3301784910650832, 1.6268395224675645, 0.23779943709785142, 0.8320902681835906, -1.0395936765569966, -1.4627998759745036, -1.2905181379536943, -0.7458983776289884, 1.233386993912338, 0.49681475206133296, -0.512701542962839, 2.064920530388905, 1.1887225273511324, 0.9775910490656258, 0.07947257556784981, -0.7874279153056152, -1.1496283384200692, -1.4302366554682746, -1.5038040240345794, 0.2917872732984551, -1.1291913047146693, 0.381635713258072, 0.5782386470488836, 0.18723596532937337, -0.3932861774601221, 0.22451339799635048, -0.5639617603917293, 0.976796922647767, 1.3294058450552153, -0.014823934009534098, 0.33694456503364056, -1.7596659431646775, 0.18350148416556766, 2.1186952855091894, 1.8667466050294965, -0.837574209463975, 1.1115620238149284, 0.27441666631551975, -0.20989609089297878, -1.8147053413659966, 0.7869898004991409, -1.7841985376732745, -0.5238520144705975, 0.3812868303501749, 0.3137975708975645, 0.9968300457049288, 0.5824846983864099, -0.05913546961926126, -0.7790815336783042, -0.5034885037883023, 0.9896954982725973, -0.4787666015780376, 1.9011893896648642, -0.13028487404661762, -2.1424981055614447, -1.0766028098307068, -0.792137140883388, -1.2103592333561075, -1.4878660498301146, -0.43106169827739, -0.44901688012835594, 0.29737915922704417, -1.5005547897872924, -0.6906235587362654, 0.08165168312136552, 0.888112558194319, 0.2162961596844919, 0.3095124316406531, -2.357625950700372, -0.5851048603043837, 1.4090130212670697, -0.8972052639813642, 0.44154770227912477, 1.1769309603585676, 3.494886385021715, -0.34623819370067876, 0.49039904790159233, -1.4439627916263218, -0.23356971773044577, 1.946859888073679, 0.39682927408000496, 0.6947149347178614, 0.776205432439833, -1.6156658133534276, 0.8735942224395256, -0.027535065229056153, -0.008472192836710022, 0.1836800682078861, -0.4984619503467606, 1.705018893410389, -2.0132462510663918, 0.1437439755595477, 0.38606482996606656], \"xaxis\": \"x10\", \"y\": [1.7134607267878292, 0.01229513019344676, 1.1576379532319447, 1.3566370184988912, -0.2117756707686416, 1.5625121947895269, 0.5533442627161719, -1.0388020852135091, 1.3233843164523944, -1.3841321376720623, -1.601418147437713, -1.4804291986871527, 0.398123596774922, 0.6600816610987036, 0.4401119102974501, -0.8431254039393877, 0.2914057336952613, -0.4393007785107817, -0.04865772347014313, 1.1537261875287288, 0.9635555110319551, -0.5880336603132681, 0.39562638834526176, -0.15957211910382443, 1.0254047780711937, 0.12423342512452254, 0.0437126925431905, 0.8995894615985114, 1.1260773239894168, -1.0240469410966868, -0.46796827766550575, 1.3438990552061132, 0.7083038644210866, -1.4301276155498046, -1.1787929121320906, 1.2589911130944365, -1.107663529376245, -0.34454418220057675, 1.1800182427566668, 0.6621456810599124, 0.9332278668943851, 1.0437030244588577, 1.1589775156621946, -1.286641464870168, 0.09592486742623252, -0.060169757044287585, -0.42631472192425107, 0.05509445430998456, 0.5838635059871827, -1.0117104904794283, -0.36333960758699724, -0.6042376837704702, 0.46754062186437567, 0.5434090188257058, 0.864369979455845, -0.03379664750232179, -1.8037781405146458, 1.6759719250546596, -0.04334468392284036, -0.639674969010019, -1.1978450422539484, 0.44647289296402143, 0.2934078819402944, 0.16864785141964597, -0.03899654640077746, 0.2797233408514478, 0.9706769301218381, 0.3053152936395522, 0.3488898255315582, -0.3695518224748706, 1.238513300269592, 1.1105842613534929, -0.45241838137786267, 0.0061385544732930255, -1.519598989469329, 1.5021261970541342, 0.9379164174518302, -0.044109473046359864, 1.0675633476248816, -1.6088697204823577, -1.2116805484645659, 2.2143799486399542, -0.638817358171448, 1.0689578074338253, 0.31208077022181774, -0.7155400847678097, 0.4654737522814809, -0.5612860156322768, -0.29481862276324833, 0.4485246590538842, 0.4536017204861066, 0.3811734827980065, 0.05859924533815346, -1.0184769474724664, 0.39167521632673225, -0.8459166933123231, 0.9603389026740023, -0.08939291758784702, -1.3339894824288652, 0.6489534233801592], \"yaxis\": \"y10\"}, {\"histfunc\": \"count\", \"histnorm\": \"\", \"marker\": {\"color\": \"rgba(50, 171, 96, 1.0)\", \"line\": {\"color\": \"#4D5663\", \"width\": 1.3}}, \"name\": \"C\", \"nbinsx\": 10, \"opacity\": 0.8, \"orientation\": \"v\", \"type\": \"histogram\", \"x\": [1.7134607267878292, 0.01229513019344676, 1.1576379532319447, 1.3566370184988912, -0.2117756707686416, 1.5625121947895269, 0.5533442627161719, -1.0388020852135091, 1.3233843164523944, -1.3841321376720623, -1.601418147437713, -1.4804291986871527, 0.398123596774922, 0.6600816610987036, 0.4401119102974501, -0.8431254039393877, 0.2914057336952613, -0.4393007785107817, -0.04865772347014313, 1.1537261875287288, 0.9635555110319551, -0.5880336603132681, 0.39562638834526176, -0.15957211910382443, 1.0254047780711937, 0.12423342512452254, 0.0437126925431905, 0.8995894615985114, 1.1260773239894168, -1.0240469410966868, -0.46796827766550575, 1.3438990552061132, 0.7083038644210866, -1.4301276155498046, -1.1787929121320906, 1.2589911130944365, -1.107663529376245, -0.34454418220057675, 1.1800182427566668, 0.6621456810599124, 0.9332278668943851, 1.0437030244588577, 1.1589775156621946, -1.286641464870168, 0.09592486742623252, -0.060169757044287585, -0.42631472192425107, 0.05509445430998456, 0.5838635059871827, -1.0117104904794283, -0.36333960758699724, -0.6042376837704702, 0.46754062186437567, 0.5434090188257058, 0.864369979455845, -0.03379664750232179, -1.8037781405146458, 1.6759719250546596, -0.04334468392284036, -0.639674969010019, -1.1978450422539484, 0.44647289296402143, 0.2934078819402944, 0.16864785141964597, -0.03899654640077746, 0.2797233408514478, 0.9706769301218381, 0.3053152936395522, 0.3488898255315582, -0.3695518224748706, 1.238513300269592, 1.1105842613534929, -0.45241838137786267, 0.0061385544732930255, -1.519598989469329, 1.5021261970541342, 0.9379164174518302, -0.044109473046359864, 1.0675633476248816, -1.6088697204823577, -1.2116805484645659, 2.2143799486399542, -0.638817358171448, 1.0689578074338253, 0.31208077022181774, -0.7155400847678097, 0.4654737522814809, -0.5612860156322768, -0.29481862276324833, 0.4485246590538842, 0.4536017204861066, 0.3811734827980065, 0.05859924533815346, -1.0184769474724664, 0.39167521632673225, -0.8459166933123231, 0.9603389026740023, -0.08939291758784702, -1.3339894824288652, 0.6489534233801592], \"xaxis\": \"x11\", \"yaxis\": \"y11\"}, {\"line\": {\"color\": \"rgba(128, 128, 128, 1.0)\", \"dash\": \"solid\", \"shape\": \"linear\", \"width\": 1.3}, \"marker\": {\"size\": 2, \"symbol\": \"circle\"}, \"mode\": \"markers\", \"name\": \"C\", \"text\": \"\", \"type\": \"scatter\", \"x\": [-0.6494312813489145, 0.5196054801095733, 0.0828488001042145, 0.4249812754840084, 0.5729293370994376, 0.9292731412356393, -0.3416471965687598, -0.8792390472325408, -0.2537255764371739, 0.446260129769695, 2.6514949387993703, 0.26287820592109423, 0.9307105379918522, -0.11002087128670265, -0.3894678170928814, -1.2056699291126767, -0.33982778539946473, -0.5881542236293539, 0.38293030573445497, -0.2971978399749488, 1.3547218372705987, -2.4779811779546486, -0.39059599846259063, 0.21667583702807452, -0.5803490910115267, 0.25546806790574383, -0.30223300479977305, 1.2604364945297997, -1.156888967018702, -0.021516118040357916, -0.6722009918032484, -1.6297981653637084, 1.0722741218800351, -0.17793982314165274, -0.2870437190408764, -0.7447344530324086, -1.8866491407895452, 0.48239707899094636, -0.9315051451227777, 0.7398734905309798, -0.4072464898723833, -1.8297211898989034, -1.2091335318863878, -0.47405824350178866, 0.3317790547794101, -0.7335094760607728, -0.06069935848235784, 0.2149359131378458, -1.2772687572661934, -0.6707945711837375, -1.8454602155509663, 1.3742821834136227, -0.6849319114740683, 0.20962107268154645, 0.8739647403395655, -0.0648512961866547, 0.10916666355129223, 0.7742130365257172, -0.6202121031517325, -2.027047349242399, -0.8537322497487592, 0.10466128223410277, -0.9537032798117839, -0.2106665962593506, -0.9684766400297471, -0.6579892171523315, -0.7787375038637451, -0.9247492346307117, -0.9338954872947596, 0.23386795010542535, -0.26925504094370395, 0.8019489697881516, 0.49658912032148483, 1.065966241426964, 0.3139004072052315, 0.8198729194069315, -0.15747464396416938, -1.4172739578471354, -2.0091660542923626, 0.18288638841393226, 0.9834100356019922, -0.3583663367860736, 0.40689607852516135, -1.8183389932144993, 0.9905748041579666, -0.13734448106333003, -0.7742743589471643, -0.5248974994430586, -0.04727700329103183, 0.09700939432349272, 0.30365089281729596, 1.5038805885998434, 1.146636147027629, 1.129211795513414, -0.09137973751845033, -1.8140911181141097, -0.0855074483344991, 0.10415479262056486, 1.9701469206422444, -1.2796223948212122], \"xaxis\": \"x12\", \"y\": [1.7134607267878292, 0.01229513019344676, 1.1576379532319447, 1.3566370184988912, -0.2117756707686416, 1.5625121947895269, 0.5533442627161719, -1.0388020852135091, 1.3233843164523944, -1.3841321376720623, -1.601418147437713, -1.4804291986871527, 0.398123596774922, 0.6600816610987036, 0.4401119102974501, -0.8431254039393877, 0.2914057336952613, -0.4393007785107817, -0.04865772347014313, 1.1537261875287288, 0.9635555110319551, -0.5880336603132681, 0.39562638834526176, -0.15957211910382443, 1.0254047780711937, 0.12423342512452254, 0.0437126925431905, 0.8995894615985114, 1.1260773239894168, -1.0240469410966868, -0.46796827766550575, 1.3438990552061132, 0.7083038644210866, -1.4301276155498046, -1.1787929121320906, 1.2589911130944365, -1.107663529376245, -0.34454418220057675, 1.1800182427566668, 0.6621456810599124, 0.9332278668943851, 1.0437030244588577, 1.1589775156621946, -1.286641464870168, 0.09592486742623252, -0.060169757044287585, -0.42631472192425107, 0.05509445430998456, 0.5838635059871827, -1.0117104904794283, -0.36333960758699724, -0.6042376837704702, 0.46754062186437567, 0.5434090188257058, 0.864369979455845, -0.03379664750232179, -1.8037781405146458, 1.6759719250546596, -0.04334468392284036, -0.639674969010019, -1.1978450422539484, 0.44647289296402143, 0.2934078819402944, 0.16864785141964597, -0.03899654640077746, 0.2797233408514478, 0.9706769301218381, 0.3053152936395522, 0.3488898255315582, -0.3695518224748706, 1.238513300269592, 1.1105842613534929, -0.45241838137786267, 0.0061385544732930255, -1.519598989469329, 1.5021261970541342, 0.9379164174518302, -0.044109473046359864, 1.0675633476248816, -1.6088697204823577, -1.2116805484645659, 2.2143799486399542, -0.638817358171448, 1.0689578074338253, 0.31208077022181774, -0.7155400847678097, 0.4654737522814809, -0.5612860156322768, -0.29481862276324833, 0.4485246590538842, 0.4536017204861066, 0.3811734827980065, 0.05859924533815346, -1.0184769474724664, 0.39167521632673225, -0.8459166933123231, 0.9603389026740023, -0.08939291758784702, -1.3339894824288652, 0.6489534233801592], \"yaxis\": \"y12\"}, {\"line\": {\"color\": \"rgba(128, 128, 128, 1.0)\", \"dash\": \"solid\", \"shape\": \"linear\", \"width\": 1.3}, \"marker\": {\"size\": 2, \"symbol\": \"circle\"}, \"mode\": \"markers\", \"name\": \"D\", \"text\": \"\", \"type\": \"scatter\", \"x\": [-0.510356444121689, 0.7201652349415042, -0.7956381636543068, 1.0832809916868644, -0.30135332660046227, 0.42411030852509535, 0.42087262293982375, -0.3834038112338632, -0.7181067075740701, -1.689000975405711, -0.768211369533854, -1.4009016874638953, -0.4609104403187404, -0.3610062304045048, 0.6990611544761113, -0.4071983236663745, 0.9749451967310648, -1.5521567512284027, 2.582839819142019, -1.2608047270318732, 0.68742828657434, -0.46537119576917874, -0.48064110808268334, 0.28063181595730985, -1.0452623335682787, -0.40873364292488046, -1.3571367997941601, -0.6062375995071084, 1.4528109216456557, 0.07731559895151965, 0.3250397061151751, 1.201915142424794, -0.4504659375584174, 1.9668847821266044, -0.364303563666657, -0.13927146800064158, 0.57348161033347, 0.4947778974491402, 0.30569786829351947, 0.9201554242455009, -0.41523183381297085, -1.8330412839733048, -0.23619614972665107, -1.849963868494029, 0.5461760591197427, -0.9361134586802853, -0.4528434305920523, 0.2174161047715857, 1.0635059691233937, -0.9459523350502519, -0.13166220663639913, -0.6421618174142698, 0.3047712492940703, -0.26344777521625573, -0.45306380687736664, -0.9705865345061072, -0.12741882697516443, 1.0049752783819161, 0.4086707843416792, -0.4511413941730779, 0.5104243612824134, -0.7255566333311757, 0.5653467224854392, -0.16436532244841037, -0.1988484231344934, -0.7564557068257352, -0.18679418701106604, 0.007128162141137425, -0.04652926061840745, -1.2240766600558828, 0.2548364775874957, 0.36702432595644263, -1.8441953853505533, -0.24359038758120563, 1.3244683296413644, 0.61165695571586, 1.5230508996881755, 1.7353619398397855, 0.22402443540755565, 0.33895550763612925, 0.9223319365608782, 0.9159143574193307, 1.2997354894773798, -1.4147536326587344, -1.0248138567998835, -1.7541740527292868, -0.6575313266954175, -0.6207644107638655, -0.44464272561837265, -0.836691238296052, 1.7573684719199605, -2.9653482379895464, -1.146385550579236, 0.15786795073923038, 1.9837911867756637, -0.1286989891014074, 0.6788131762939952, -0.012808189565091749, -0.7578489572357708, 1.5590955815629608], \"xaxis\": \"x13\", \"y\": [-0.6494312813489145, 0.5196054801095733, 0.0828488001042145, 0.4249812754840084, 0.5729293370994376, 0.9292731412356393, -0.3416471965687598, -0.8792390472325408, -0.2537255764371739, 0.446260129769695, 2.6514949387993703, 0.26287820592109423, 0.9307105379918522, -0.11002087128670265, -0.3894678170928814, -1.2056699291126767, -0.33982778539946473, -0.5881542236293539, 0.38293030573445497, -0.2971978399749488, 1.3547218372705987, -2.4779811779546486, -0.39059599846259063, 0.21667583702807452, -0.5803490910115267, 0.25546806790574383, -0.30223300479977305, 1.2604364945297997, -1.156888967018702, -0.021516118040357916, -0.6722009918032484, -1.6297981653637084, 1.0722741218800351, -0.17793982314165274, -0.2870437190408764, -0.7447344530324086, -1.8866491407895452, 0.48239707899094636, -0.9315051451227777, 0.7398734905309798, -0.4072464898723833, -1.8297211898989034, -1.2091335318863878, -0.47405824350178866, 0.3317790547794101, -0.7335094760607728, -0.06069935848235784, 0.2149359131378458, -1.2772687572661934, -0.6707945711837375, -1.8454602155509663, 1.3742821834136227, -0.6849319114740683, 0.20962107268154645, 0.8739647403395655, -0.0648512961866547, 0.10916666355129223, 0.7742130365257172, -0.6202121031517325, -2.027047349242399, -0.8537322497487592, 0.10466128223410277, -0.9537032798117839, -0.2106665962593506, -0.9684766400297471, -0.6579892171523315, -0.7787375038637451, -0.9247492346307117, -0.9338954872947596, 0.23386795010542535, -0.26925504094370395, 0.8019489697881516, 0.49658912032148483, 1.065966241426964, 0.3139004072052315, 0.8198729194069315, -0.15747464396416938, -1.4172739578471354, -2.0091660542923626, 0.18288638841393226, 0.9834100356019922, -0.3583663367860736, 0.40689607852516135, -1.8183389932144993, 0.9905748041579666, -0.13734448106333003, -0.7742743589471643, -0.5248974994430586, -0.04727700329103183, 0.09700939432349272, 0.30365089281729596, 1.5038805885998434, 1.146636147027629, 1.129211795513414, -0.09137973751845033, -1.8140911181141097, -0.0855074483344991, 0.10415479262056486, 1.9701469206422444, -1.2796223948212122], \"yaxis\": \"y13\"}, {\"line\": {\"color\": \"rgba(128, 128, 128, 1.0)\", \"dash\": \"solid\", \"shape\": \"linear\", \"width\": 1.3}, \"marker\": {\"size\": 2, \"symbol\": \"circle\"}, \"mode\": \"markers\", \"name\": \"D\", \"text\": \"\", \"type\": \"scatter\", \"x\": [0.4394113396115198, -1.3704879603341773, -0.894779683303476, -0.9091697423817736, -0.7870831654017293, 1.7078371717736396, -0.09852952274905818, -0.3301784910650832, 1.6268395224675645, 0.23779943709785142, 0.8320902681835906, -1.0395936765569966, -1.4627998759745036, -1.2905181379536943, -0.7458983776289884, 1.233386993912338, 0.49681475206133296, -0.512701542962839, 2.064920530388905, 1.1887225273511324, 0.9775910490656258, 0.07947257556784981, -0.7874279153056152, -1.1496283384200692, -1.4302366554682746, -1.5038040240345794, 0.2917872732984551, -1.1291913047146693, 0.381635713258072, 0.5782386470488836, 0.18723596532937337, -0.3932861774601221, 0.22451339799635048, -0.5639617603917293, 0.976796922647767, 1.3294058450552153, -0.014823934009534098, 0.33694456503364056, -1.7596659431646775, 0.18350148416556766, 2.1186952855091894, 1.8667466050294965, -0.837574209463975, 1.1115620238149284, 0.27441666631551975, -0.20989609089297878, -1.8147053413659966, 0.7869898004991409, -1.7841985376732745, -0.5238520144705975, 0.3812868303501749, 0.3137975708975645, 0.9968300457049288, 0.5824846983864099, -0.05913546961926126, -0.7790815336783042, -0.5034885037883023, 0.9896954982725973, -0.4787666015780376, 1.9011893896648642, -0.13028487404661762, -2.1424981055614447, -1.0766028098307068, -0.792137140883388, -1.2103592333561075, -1.4878660498301146, -0.43106169827739, -0.44901688012835594, 0.29737915922704417, -1.5005547897872924, -0.6906235587362654, 0.08165168312136552, 0.888112558194319, 0.2162961596844919, 0.3095124316406531, -2.357625950700372, -0.5851048603043837, 1.4090130212670697, -0.8972052639813642, 0.44154770227912477, 1.1769309603585676, 3.494886385021715, -0.34623819370067876, 0.49039904790159233, -1.4439627916263218, -0.23356971773044577, 1.946859888073679, 0.39682927408000496, 0.6947149347178614, 0.776205432439833, -1.6156658133534276, 0.8735942224395256, -0.027535065229056153, -0.008472192836710022, 0.1836800682078861, -0.4984619503467606, 1.705018893410389, -2.0132462510663918, 0.1437439755595477, 0.38606482996606656], \"xaxis\": \"x14\", \"y\": [-0.6494312813489145, 0.5196054801095733, 0.0828488001042145, 0.4249812754840084, 0.5729293370994376, 0.9292731412356393, -0.3416471965687598, -0.8792390472325408, -0.2537255764371739, 0.446260129769695, 2.6514949387993703, 0.26287820592109423, 0.9307105379918522, -0.11002087128670265, -0.3894678170928814, -1.2056699291126767, -0.33982778539946473, -0.5881542236293539, 0.38293030573445497, -0.2971978399749488, 1.3547218372705987, -2.4779811779546486, -0.39059599846259063, 0.21667583702807452, -0.5803490910115267, 0.25546806790574383, -0.30223300479977305, 1.2604364945297997, -1.156888967018702, -0.021516118040357916, -0.6722009918032484, -1.6297981653637084, 1.0722741218800351, -0.17793982314165274, -0.2870437190408764, -0.7447344530324086, -1.8866491407895452, 0.48239707899094636, -0.9315051451227777, 0.7398734905309798, -0.4072464898723833, -1.8297211898989034, -1.2091335318863878, -0.47405824350178866, 0.3317790547794101, -0.7335094760607728, -0.06069935848235784, 0.2149359131378458, -1.2772687572661934, -0.6707945711837375, -1.8454602155509663, 1.3742821834136227, -0.6849319114740683, 0.20962107268154645, 0.8739647403395655, -0.0648512961866547, 0.10916666355129223, 0.7742130365257172, -0.6202121031517325, -2.027047349242399, -0.8537322497487592, 0.10466128223410277, -0.9537032798117839, -0.2106665962593506, -0.9684766400297471, -0.6579892171523315, -0.7787375038637451, -0.9247492346307117, -0.9338954872947596, 0.23386795010542535, -0.26925504094370395, 0.8019489697881516, 0.49658912032148483, 1.065966241426964, 0.3139004072052315, 0.8198729194069315, -0.15747464396416938, -1.4172739578471354, -2.0091660542923626, 0.18288638841393226, 0.9834100356019922, -0.3583663367860736, 0.40689607852516135, -1.8183389932144993, 0.9905748041579666, -0.13734448106333003, -0.7742743589471643, -0.5248974994430586, -0.04727700329103183, 0.09700939432349272, 0.30365089281729596, 1.5038805885998434, 1.146636147027629, 1.129211795513414, -0.09137973751845033, -1.8140911181141097, -0.0855074483344991, 0.10415479262056486, 1.9701469206422444, -1.2796223948212122], \"yaxis\": \"y14\"}, {\"line\": {\"color\": \"rgba(128, 128, 128, 1.0)\", \"dash\": \"solid\", \"shape\": \"linear\", \"width\": 1.3}, \"marker\": {\"size\": 2, \"symbol\": \"circle\"}, \"mode\": \"markers\", \"name\": \"D\", \"text\": \"\", \"type\": \"scatter\", \"x\": [1.7134607267878292, 0.01229513019344676, 1.1576379532319447, 1.3566370184988912, -0.2117756707686416, 1.5625121947895269, 0.5533442627161719, -1.0388020852135091, 1.3233843164523944, -1.3841321376720623, -1.601418147437713, -1.4804291986871527, 0.398123596774922, 0.6600816610987036, 0.4401119102974501, -0.8431254039393877, 0.2914057336952613, -0.4393007785107817, -0.04865772347014313, 1.1537261875287288, 0.9635555110319551, -0.5880336603132681, 0.39562638834526176, -0.15957211910382443, 1.0254047780711937, 0.12423342512452254, 0.0437126925431905, 0.8995894615985114, 1.1260773239894168, -1.0240469410966868, -0.46796827766550575, 1.3438990552061132, 0.7083038644210866, -1.4301276155498046, -1.1787929121320906, 1.2589911130944365, -1.107663529376245, -0.34454418220057675, 1.1800182427566668, 0.6621456810599124, 0.9332278668943851, 1.0437030244588577, 1.1589775156621946, -1.286641464870168, 0.09592486742623252, -0.060169757044287585, -0.42631472192425107, 0.05509445430998456, 0.5838635059871827, -1.0117104904794283, -0.36333960758699724, -0.6042376837704702, 0.46754062186437567, 0.5434090188257058, 0.864369979455845, -0.03379664750232179, -1.8037781405146458, 1.6759719250546596, -0.04334468392284036, -0.639674969010019, -1.1978450422539484, 0.44647289296402143, 0.2934078819402944, 0.16864785141964597, -0.03899654640077746, 0.2797233408514478, 0.9706769301218381, 0.3053152936395522, 0.3488898255315582, -0.3695518224748706, 1.238513300269592, 1.1105842613534929, -0.45241838137786267, 0.0061385544732930255, -1.519598989469329, 1.5021261970541342, 0.9379164174518302, -0.044109473046359864, 1.0675633476248816, -1.6088697204823577, -1.2116805484645659, 2.2143799486399542, -0.638817358171448, 1.0689578074338253, 0.31208077022181774, -0.7155400847678097, 0.4654737522814809, -0.5612860156322768, -0.29481862276324833, 0.4485246590538842, 0.4536017204861066, 0.3811734827980065, 0.05859924533815346, -1.0184769474724664, 0.39167521632673225, -0.8459166933123231, 0.9603389026740023, -0.08939291758784702, -1.3339894824288652, 0.6489534233801592], \"xaxis\": \"x15\", \"y\": [-0.6494312813489145, 0.5196054801095733, 0.0828488001042145, 0.4249812754840084, 0.5729293370994376, 0.9292731412356393, -0.3416471965687598, -0.8792390472325408, -0.2537255764371739, 0.446260129769695, 2.6514949387993703, 0.26287820592109423, 0.9307105379918522, -0.11002087128670265, -0.3894678170928814, -1.2056699291126767, -0.33982778539946473, -0.5881542236293539, 0.38293030573445497, -0.2971978399749488, 1.3547218372705987, -2.4779811779546486, -0.39059599846259063, 0.21667583702807452, -0.5803490910115267, 0.25546806790574383, -0.30223300479977305, 1.2604364945297997, -1.156888967018702, -0.021516118040357916, -0.6722009918032484, -1.6297981653637084, 1.0722741218800351, -0.17793982314165274, -0.2870437190408764, -0.7447344530324086, -1.8866491407895452, 0.48239707899094636, -0.9315051451227777, 0.7398734905309798, -0.4072464898723833, -1.8297211898989034, -1.2091335318863878, -0.47405824350178866, 0.3317790547794101, -0.7335094760607728, -0.06069935848235784, 0.2149359131378458, -1.2772687572661934, -0.6707945711837375, -1.8454602155509663, 1.3742821834136227, -0.6849319114740683, 0.20962107268154645, 0.8739647403395655, -0.0648512961866547, 0.10916666355129223, 0.7742130365257172, -0.6202121031517325, -2.027047349242399, -0.8537322497487592, 0.10466128223410277, -0.9537032798117839, -0.2106665962593506, -0.9684766400297471, -0.6579892171523315, -0.7787375038637451, -0.9247492346307117, -0.9338954872947596, 0.23386795010542535, -0.26925504094370395, 0.8019489697881516, 0.49658912032148483, 1.065966241426964, 0.3139004072052315, 0.8198729194069315, -0.15747464396416938, -1.4172739578471354, -2.0091660542923626, 0.18288638841393226, 0.9834100356019922, -0.3583663367860736, 0.40689607852516135, -1.8183389932144993, 0.9905748041579666, -0.13734448106333003, -0.7742743589471643, -0.5248974994430586, -0.04727700329103183, 0.09700939432349272, 0.30365089281729596, 1.5038805885998434, 1.146636147027629, 1.129211795513414, -0.09137973751845033, -1.8140911181141097, -0.0855074483344991, 0.10415479262056486, 1.9701469206422444, -1.2796223948212122], \"yaxis\": \"y15\"}, {\"histfunc\": \"count\", \"histnorm\": \"\", \"marker\": {\"color\": \"rgba(128, 0, 128, 1.0)\", \"line\": {\"color\": \"#4D5663\", \"width\": 1.3}}, \"name\": \"D\", \"nbinsx\": 10, \"opacity\": 0.8, \"orientation\": \"v\", \"type\": \"histogram\", \"x\": [-0.6494312813489145, 0.5196054801095733, 0.0828488001042145, 0.4249812754840084, 0.5729293370994376, 0.9292731412356393, -0.3416471965687598, -0.8792390472325408, -0.2537255764371739, 0.446260129769695, 2.6514949387993703, 0.26287820592109423, 0.9307105379918522, -0.11002087128670265, -0.3894678170928814, -1.2056699291126767, -0.33982778539946473, -0.5881542236293539, 0.38293030573445497, -0.2971978399749488, 1.3547218372705987, -2.4779811779546486, -0.39059599846259063, 0.21667583702807452, -0.5803490910115267, 0.25546806790574383, -0.30223300479977305, 1.2604364945297997, -1.156888967018702, -0.021516118040357916, -0.6722009918032484, -1.6297981653637084, 1.0722741218800351, -0.17793982314165274, -0.2870437190408764, -0.7447344530324086, -1.8866491407895452, 0.48239707899094636, -0.9315051451227777, 0.7398734905309798, -0.4072464898723833, -1.8297211898989034, -1.2091335318863878, -0.47405824350178866, 0.3317790547794101, -0.7335094760607728, -0.06069935848235784, 0.2149359131378458, -1.2772687572661934, -0.6707945711837375, -1.8454602155509663, 1.3742821834136227, -0.6849319114740683, 0.20962107268154645, 0.8739647403395655, -0.0648512961866547, 0.10916666355129223, 0.7742130365257172, -0.6202121031517325, -2.027047349242399, -0.8537322497487592, 0.10466128223410277, -0.9537032798117839, -0.2106665962593506, -0.9684766400297471, -0.6579892171523315, -0.7787375038637451, -0.9247492346307117, -0.9338954872947596, 0.23386795010542535, -0.26925504094370395, 0.8019489697881516, 0.49658912032148483, 1.065966241426964, 0.3139004072052315, 0.8198729194069315, -0.15747464396416938, -1.4172739578471354, -2.0091660542923626, 0.18288638841393226, 0.9834100356019922, -0.3583663367860736, 0.40689607852516135, -1.8183389932144993, 0.9905748041579666, -0.13734448106333003, -0.7742743589471643, -0.5248974994430586, -0.04727700329103183, 0.09700939432349272, 0.30365089281729596, 1.5038805885998434, 1.146636147027629, 1.129211795513414, -0.09137973751845033, -1.8140911181141097, -0.0855074483344991, 0.10415479262056486, 1.9701469206422444, -1.2796223948212122], \"xaxis\": \"x16\", \"yaxis\": \"y16\"}],\n",
       "                        {\"bargap\": 0.02, \"legend\": {\"bgcolor\": \"#F5F6F9\", \"font\": {\"color\": \"#4D5663\"}}, \"paper_bgcolor\": \"#F5F6F9\", \"plot_bgcolor\": \"#F5F6F9\", \"showlegend\": false, \"template\": {\"data\": {\"bar\": [{\"error_x\": {\"color\": \"#2a3f5f\"}, \"error_y\": {\"color\": \"#2a3f5f\"}, \"marker\": {\"line\": {\"color\": \"#E5ECF6\", \"width\": 0.5}}, \"type\": \"bar\"}], \"barpolar\": [{\"marker\": {\"line\": {\"color\": \"#E5ECF6\", \"width\": 0.5}}, \"type\": \"barpolar\"}], \"carpet\": [{\"aaxis\": {\"endlinecolor\": \"#2a3f5f\", \"gridcolor\": \"white\", \"linecolor\": \"white\", \"minorgridcolor\": \"white\", \"startlinecolor\": \"#2a3f5f\"}, \"baxis\": {\"endlinecolor\": \"#2a3f5f\", \"gridcolor\": \"white\", \"linecolor\": \"white\", \"minorgridcolor\": \"white\", \"startlinecolor\": \"#2a3f5f\"}, \"type\": \"carpet\"}], \"choropleth\": [{\"colorbar\": {\"outlinewidth\": 0, \"ticks\": \"\"}, \"type\": \"choropleth\"}], \"contour\": [{\"colorbar\": {\"outlinewidth\": 0, \"ticks\": \"\"}, \"colorscale\": [[0.0, \"#0d0887\"], [0.1111111111111111, \"#46039f\"], [0.2222222222222222, \"#7201a8\"], [0.3333333333333333, \"#9c179e\"], [0.4444444444444444, \"#bd3786\"], [0.5555555555555556, \"#d8576b\"], [0.6666666666666666, \"#ed7953\"], [0.7777777777777778, \"#fb9f3a\"], [0.8888888888888888, \"#fdca26\"], [1.0, \"#f0f921\"]], \"type\": \"contour\"}], \"contourcarpet\": [{\"colorbar\": {\"outlinewidth\": 0, \"ticks\": \"\"}, \"type\": \"contourcarpet\"}], \"heatmap\": [{\"colorbar\": {\"outlinewidth\": 0, \"ticks\": \"\"}, \"colorscale\": [[0.0, \"#0d0887\"], [0.1111111111111111, \"#46039f\"], [0.2222222222222222, \"#7201a8\"], [0.3333333333333333, \"#9c179e\"], [0.4444444444444444, \"#bd3786\"], [0.5555555555555556, \"#d8576b\"], [0.6666666666666666, \"#ed7953\"], [0.7777777777777778, \"#fb9f3a\"], [0.8888888888888888, \"#fdca26\"], [1.0, \"#f0f921\"]], \"type\": \"heatmap\"}], \"heatmapgl\": [{\"colorbar\": {\"outlinewidth\": 0, \"ticks\": \"\"}, \"colorscale\": [[0.0, \"#0d0887\"], [0.1111111111111111, \"#46039f\"], [0.2222222222222222, \"#7201a8\"], [0.3333333333333333, \"#9c179e\"], [0.4444444444444444, \"#bd3786\"], [0.5555555555555556, \"#d8576b\"], [0.6666666666666666, \"#ed7953\"], [0.7777777777777778, \"#fb9f3a\"], [0.8888888888888888, \"#fdca26\"], [1.0, \"#f0f921\"]], \"type\": \"heatmapgl\"}], \"histogram\": [{\"marker\": {\"colorbar\": {\"outlinewidth\": 0, \"ticks\": \"\"}}, \"type\": \"histogram\"}], \"histogram2d\": [{\"colorbar\": {\"outlinewidth\": 0, \"ticks\": \"\"}, \"colorscale\": [[0.0, \"#0d0887\"], [0.1111111111111111, \"#46039f\"], [0.2222222222222222, \"#7201a8\"], [0.3333333333333333, \"#9c179e\"], [0.4444444444444444, \"#bd3786\"], [0.5555555555555556, \"#d8576b\"], [0.6666666666666666, \"#ed7953\"], [0.7777777777777778, \"#fb9f3a\"], [0.8888888888888888, \"#fdca26\"], [1.0, \"#f0f921\"]], \"type\": \"histogram2d\"}], \"histogram2dcontour\": [{\"colorbar\": {\"outlinewidth\": 0, \"ticks\": \"\"}, \"colorscale\": [[0.0, \"#0d0887\"], [0.1111111111111111, \"#46039f\"], [0.2222222222222222, \"#7201a8\"], [0.3333333333333333, \"#9c179e\"], [0.4444444444444444, \"#bd3786\"], [0.5555555555555556, \"#d8576b\"], [0.6666666666666666, \"#ed7953\"], [0.7777777777777778, \"#fb9f3a\"], [0.8888888888888888, \"#fdca26\"], [1.0, \"#f0f921\"]], \"type\": \"histogram2dcontour\"}], \"mesh3d\": [{\"colorbar\": {\"outlinewidth\": 0, \"ticks\": \"\"}, \"type\": \"mesh3d\"}], \"parcoords\": [{\"line\": {\"colorbar\": {\"outlinewidth\": 0, \"ticks\": \"\"}}, \"type\": \"parcoords\"}], \"pie\": [{\"automargin\": true, \"type\": \"pie\"}], \"scatter\": [{\"marker\": {\"colorbar\": {\"outlinewidth\": 0, \"ticks\": \"\"}}, \"type\": \"scatter\"}], \"scatter3d\": [{\"line\": {\"colorbar\": {\"outlinewidth\": 0, \"ticks\": \"\"}}, \"marker\": {\"colorbar\": {\"outlinewidth\": 0, \"ticks\": \"\"}}, \"type\": \"scatter3d\"}], \"scattercarpet\": [{\"marker\": {\"colorbar\": {\"outlinewidth\": 0, \"ticks\": \"\"}}, \"type\": \"scattercarpet\"}], \"scattergeo\": [{\"marker\": {\"colorbar\": {\"outlinewidth\": 0, \"ticks\": \"\"}}, \"type\": \"scattergeo\"}], \"scattergl\": [{\"marker\": {\"colorbar\": {\"outlinewidth\": 0, \"ticks\": \"\"}}, \"type\": \"scattergl\"}], \"scattermapbox\": [{\"marker\": {\"colorbar\": {\"outlinewidth\": 0, \"ticks\": \"\"}}, \"type\": \"scattermapbox\"}], \"scatterpolar\": [{\"marker\": {\"colorbar\": {\"outlinewidth\": 0, \"ticks\": \"\"}}, \"type\": \"scatterpolar\"}], \"scatterpolargl\": [{\"marker\": {\"colorbar\": {\"outlinewidth\": 0, \"ticks\": \"\"}}, \"type\": \"scatterpolargl\"}], \"scatterternary\": [{\"marker\": {\"colorbar\": {\"outlinewidth\": 0, \"ticks\": \"\"}}, \"type\": \"scatterternary\"}], \"surface\": [{\"colorbar\": {\"outlinewidth\": 0, \"ticks\": \"\"}, \"colorscale\": [[0.0, \"#0d0887\"], [0.1111111111111111, \"#46039f\"], [0.2222222222222222, \"#7201a8\"], [0.3333333333333333, \"#9c179e\"], [0.4444444444444444, \"#bd3786\"], [0.5555555555555556, \"#d8576b\"], [0.6666666666666666, \"#ed7953\"], [0.7777777777777778, \"#fb9f3a\"], [0.8888888888888888, \"#fdca26\"], [1.0, \"#f0f921\"]], \"type\": \"surface\"}], \"table\": [{\"cells\": {\"fill\": {\"color\": \"#EBF0F8\"}, \"line\": {\"color\": \"white\"}}, \"header\": {\"fill\": {\"color\": \"#C8D4E3\"}, \"line\": {\"color\": \"white\"}}, \"type\": \"table\"}]}, \"layout\": {\"annotationdefaults\": {\"arrowcolor\": \"#2a3f5f\", \"arrowhead\": 0, \"arrowwidth\": 1}, \"coloraxis\": {\"colorbar\": {\"outlinewidth\": 0, \"ticks\": \"\"}}, \"colorscale\": {\"diverging\": [[0, \"#8e0152\"], [0.1, \"#c51b7d\"], [0.2, \"#de77ae\"], [0.3, \"#f1b6da\"], [0.4, \"#fde0ef\"], [0.5, \"#f7f7f7\"], [0.6, \"#e6f5d0\"], [0.7, \"#b8e186\"], [0.8, \"#7fbc41\"], [0.9, \"#4d9221\"], [1, \"#276419\"]], \"sequential\": [[0.0, \"#0d0887\"], [0.1111111111111111, \"#46039f\"], [0.2222222222222222, \"#7201a8\"], [0.3333333333333333, \"#9c179e\"], [0.4444444444444444, \"#bd3786\"], [0.5555555555555556, \"#d8576b\"], [0.6666666666666666, \"#ed7953\"], [0.7777777777777778, \"#fb9f3a\"], [0.8888888888888888, \"#fdca26\"], [1.0, \"#f0f921\"]], \"sequentialminus\": [[0.0, \"#0d0887\"], [0.1111111111111111, \"#46039f\"], [0.2222222222222222, \"#7201a8\"], [0.3333333333333333, \"#9c179e\"], [0.4444444444444444, \"#bd3786\"], [0.5555555555555556, \"#d8576b\"], [0.6666666666666666, \"#ed7953\"], [0.7777777777777778, \"#fb9f3a\"], [0.8888888888888888, \"#fdca26\"], [1.0, \"#f0f921\"]]}, \"colorway\": [\"#636efa\", \"#EF553B\", \"#00cc96\", \"#ab63fa\", \"#FFA15A\", \"#19d3f3\", \"#FF6692\", \"#B6E880\", \"#FF97FF\", \"#FECB52\"], \"font\": {\"color\": \"#2a3f5f\"}, \"geo\": {\"bgcolor\": \"white\", \"lakecolor\": \"white\", \"landcolor\": \"#E5ECF6\", \"showlakes\": true, \"showland\": true, \"subunitcolor\": \"white\"}, \"hoverlabel\": {\"align\": \"left\"}, \"hovermode\": \"closest\", \"mapbox\": {\"style\": \"light\"}, \"paper_bgcolor\": \"white\", \"plot_bgcolor\": \"#E5ECF6\", \"polar\": {\"angularaxis\": {\"gridcolor\": \"white\", \"linecolor\": \"white\", \"ticks\": \"\"}, \"bgcolor\": \"#E5ECF6\", \"radialaxis\": {\"gridcolor\": \"white\", \"linecolor\": \"white\", \"ticks\": \"\"}}, \"scene\": {\"xaxis\": {\"backgroundcolor\": \"#E5ECF6\", \"gridcolor\": \"white\", \"gridwidth\": 2, \"linecolor\": \"white\", \"showbackground\": true, \"ticks\": \"\", \"zerolinecolor\": \"white\"}, \"yaxis\": {\"backgroundcolor\": \"#E5ECF6\", \"gridcolor\": \"white\", \"gridwidth\": 2, \"linecolor\": \"white\", \"showbackground\": true, \"ticks\": \"\", \"zerolinecolor\": \"white\"}, \"zaxis\": {\"backgroundcolor\": \"#E5ECF6\", \"gridcolor\": \"white\", \"gridwidth\": 2, \"linecolor\": \"white\", \"showbackground\": true, \"ticks\": \"\", \"zerolinecolor\": \"white\"}}, \"shapedefaults\": {\"line\": {\"color\": \"#2a3f5f\"}}, \"ternary\": {\"aaxis\": {\"gridcolor\": \"white\", \"linecolor\": \"white\", \"ticks\": \"\"}, \"baxis\": {\"gridcolor\": \"white\", \"linecolor\": \"white\", \"ticks\": \"\"}, \"bgcolor\": \"#E5ECF6\", \"caxis\": {\"gridcolor\": \"white\", \"linecolor\": \"white\", \"ticks\": \"\"}}, \"title\": {\"x\": 0.05}, \"xaxis\": {\"automargin\": true, \"gridcolor\": \"white\", \"linecolor\": \"white\", \"ticks\": \"\", \"title\": {\"standoff\": 15}, \"zerolinecolor\": \"white\", \"zerolinewidth\": 2}, \"yaxis\": {\"automargin\": true, \"gridcolor\": \"white\", \"linecolor\": \"white\", \"ticks\": \"\", \"title\": {\"standoff\": 15}, \"zerolinecolor\": \"white\", \"zerolinewidth\": 2}}}, \"title\": {\"font\": {\"color\": \"#4D5663\"}}, \"xaxis\": {\"anchor\": \"y\", \"domain\": [0.0, 0.2125], \"gridcolor\": \"#E1E5ED\", \"showgrid\": false, \"tickfont\": {\"color\": \"#4D5663\"}, \"title\": {\"font\": {\"color\": \"#4D5663\"}, \"text\": \"\"}, \"zerolinecolor\": \"#E1E5ED\"}, \"xaxis10\": {\"anchor\": \"y10\", \"domain\": [0.2625, 0.475], \"gridcolor\": \"#E1E5ED\", \"showgrid\": false, \"tickfont\": {\"color\": \"#4D5663\"}, \"title\": {\"font\": {\"color\": \"#4D5663\"}, \"text\": \"\"}, \"zerolinecolor\": \"#E1E5ED\"}, \"xaxis11\": {\"anchor\": \"y11\", \"domain\": [0.525, 0.7375], \"gridcolor\": \"#E1E5ED\", \"showgrid\": false, \"tickfont\": {\"color\": \"#4D5663\"}, \"title\": {\"font\": {\"color\": \"#4D5663\"}, \"text\": \"\"}, \"zerolinecolor\": \"#E1E5ED\"}, \"xaxis12\": {\"anchor\": \"y12\", \"domain\": [0.7875, 1.0], \"gridcolor\": \"#E1E5ED\", \"showgrid\": false, \"tickfont\": {\"color\": \"#4D5663\"}, \"title\": {\"font\": {\"color\": \"#4D5663\"}, \"text\": \"\"}, \"zerolinecolor\": \"#E1E5ED\"}, \"xaxis13\": {\"anchor\": \"y13\", \"domain\": [0.0, 0.2125], \"gridcolor\": \"#E1E5ED\", \"showgrid\": false, \"tickfont\": {\"color\": \"#4D5663\"}, \"title\": {\"font\": {\"color\": \"#4D5663\"}, \"text\": \"\"}, \"zerolinecolor\": \"#E1E5ED\"}, \"xaxis14\": {\"anchor\": \"y14\", \"domain\": [0.2625, 0.475], \"gridcolor\": \"#E1E5ED\", \"showgrid\": false, \"tickfont\": {\"color\": \"#4D5663\"}, \"title\": {\"font\": {\"color\": \"#4D5663\"}, \"text\": \"\"}, \"zerolinecolor\": \"#E1E5ED\"}, \"xaxis15\": {\"anchor\": \"y15\", \"domain\": [0.525, 0.7375], \"gridcolor\": \"#E1E5ED\", \"showgrid\": false, \"tickfont\": {\"color\": \"#4D5663\"}, \"title\": {\"font\": {\"color\": \"#4D5663\"}, \"text\": \"\"}, \"zerolinecolor\": \"#E1E5ED\"}, \"xaxis16\": {\"anchor\": \"y16\", \"domain\": [0.7875, 1.0], \"gridcolor\": \"#E1E5ED\", \"showgrid\": false, \"tickfont\": {\"color\": \"#4D5663\"}, \"title\": {\"font\": {\"color\": \"#4D5663\"}, \"text\": \"\"}, \"zerolinecolor\": \"#E1E5ED\"}, \"xaxis2\": {\"anchor\": \"y2\", \"domain\": [0.2625, 0.475], \"gridcolor\": \"#E1E5ED\", \"showgrid\": false, \"tickfont\": {\"color\": \"#4D5663\"}, \"title\": {\"font\": {\"color\": \"#4D5663\"}, \"text\": \"\"}, \"zerolinecolor\": \"#E1E5ED\"}, \"xaxis3\": {\"anchor\": \"y3\", \"domain\": [0.525, 0.7375], \"gridcolor\": \"#E1E5ED\", \"showgrid\": false, \"tickfont\": {\"color\": \"#4D5663\"}, \"title\": {\"font\": {\"color\": \"#4D5663\"}, \"text\": \"\"}, \"zerolinecolor\": \"#E1E5ED\"}, \"xaxis4\": {\"anchor\": \"y4\", \"domain\": [0.7875, 1.0], \"gridcolor\": \"#E1E5ED\", \"showgrid\": false, \"tickfont\": {\"color\": \"#4D5663\"}, \"title\": {\"font\": {\"color\": \"#4D5663\"}, \"text\": \"\"}, \"zerolinecolor\": \"#E1E5ED\"}, \"xaxis5\": {\"anchor\": \"y5\", \"domain\": [0.0, 0.2125], \"gridcolor\": \"#E1E5ED\", \"showgrid\": false, \"tickfont\": {\"color\": \"#4D5663\"}, \"title\": {\"font\": {\"color\": \"#4D5663\"}, \"text\": \"\"}, \"zerolinecolor\": \"#E1E5ED\"}, \"xaxis6\": {\"anchor\": \"y6\", \"domain\": [0.2625, 0.475], \"gridcolor\": \"#E1E5ED\", \"showgrid\": false, \"tickfont\": {\"color\": \"#4D5663\"}, \"title\": {\"font\": {\"color\": \"#4D5663\"}, \"text\": \"\"}, \"zerolinecolor\": \"#E1E5ED\"}, \"xaxis7\": {\"anchor\": \"y7\", \"domain\": [0.525, 0.7375], \"gridcolor\": \"#E1E5ED\", \"showgrid\": false, \"tickfont\": {\"color\": \"#4D5663\"}, \"title\": {\"font\": {\"color\": \"#4D5663\"}, \"text\": \"\"}, \"zerolinecolor\": \"#E1E5ED\"}, \"xaxis8\": {\"anchor\": \"y8\", \"domain\": [0.7875, 1.0], \"gridcolor\": \"#E1E5ED\", \"showgrid\": false, \"tickfont\": {\"color\": \"#4D5663\"}, \"title\": {\"font\": {\"color\": \"#4D5663\"}, \"text\": \"\"}, \"zerolinecolor\": \"#E1E5ED\"}, \"xaxis9\": {\"anchor\": \"y9\", \"domain\": [0.0, 0.2125], \"gridcolor\": \"#E1E5ED\", \"showgrid\": false, \"tickfont\": {\"color\": \"#4D5663\"}, \"title\": {\"font\": {\"color\": \"#4D5663\"}, \"text\": \"\"}, \"zerolinecolor\": \"#E1E5ED\"}, \"yaxis\": {\"anchor\": \"x\", \"domain\": [0.8025, 1.0], \"gridcolor\": \"#E1E5ED\", \"showgrid\": false, \"tickfont\": {\"color\": \"#4D5663\"}, \"title\": {\"font\": {\"color\": \"#4D5663\"}, \"text\": \"\"}, \"zerolinecolor\": \"#E1E5ED\"}, \"yaxis10\": {\"anchor\": \"x10\", \"domain\": [0.2675, 0.465], \"gridcolor\": \"#E1E5ED\", \"showgrid\": false, \"tickfont\": {\"color\": \"#4D5663\"}, \"title\": {\"font\": {\"color\": \"#4D5663\"}, \"text\": \"\"}, \"zerolinecolor\": \"#E1E5ED\"}, \"yaxis11\": {\"anchor\": \"x11\", \"domain\": [0.2675, 0.465], \"gridcolor\": \"#E1E5ED\", \"showgrid\": false, \"tickfont\": {\"color\": \"#4D5663\"}, \"title\": {\"font\": {\"color\": \"#4D5663\"}, \"text\": \"\"}, \"zerolinecolor\": \"#E1E5ED\"}, \"yaxis12\": {\"anchor\": \"x12\", \"domain\": [0.2675, 0.465], \"gridcolor\": \"#E1E5ED\", \"showgrid\": false, \"tickfont\": {\"color\": \"#4D5663\"}, \"title\": {\"font\": {\"color\": \"#4D5663\"}, \"text\": \"\"}, \"zerolinecolor\": \"#E1E5ED\"}, \"yaxis13\": {\"anchor\": \"x13\", \"domain\": [0.0, 0.1975], \"gridcolor\": \"#E1E5ED\", \"showgrid\": false, \"tickfont\": {\"color\": \"#4D5663\"}, \"title\": {\"font\": {\"color\": \"#4D5663\"}, \"text\": \"\"}, \"zerolinecolor\": \"#E1E5ED\"}, \"yaxis14\": {\"anchor\": \"x14\", \"domain\": [0.0, 0.1975], \"gridcolor\": \"#E1E5ED\", \"showgrid\": false, \"tickfont\": {\"color\": \"#4D5663\"}, \"title\": {\"font\": {\"color\": \"#4D5663\"}, \"text\": \"\"}, \"zerolinecolor\": \"#E1E5ED\"}, \"yaxis15\": {\"anchor\": \"x15\", \"domain\": [0.0, 0.1975], \"gridcolor\": \"#E1E5ED\", \"showgrid\": false, \"tickfont\": {\"color\": \"#4D5663\"}, \"title\": {\"font\": {\"color\": \"#4D5663\"}, \"text\": \"\"}, \"zerolinecolor\": \"#E1E5ED\"}, \"yaxis16\": {\"anchor\": \"x16\", \"domain\": [0.0, 0.1975], \"gridcolor\": \"#E1E5ED\", \"showgrid\": false, \"tickfont\": {\"color\": \"#4D5663\"}, \"title\": {\"font\": {\"color\": \"#4D5663\"}, \"text\": \"\"}, \"zerolinecolor\": \"#E1E5ED\"}, \"yaxis2\": {\"anchor\": \"x2\", \"domain\": [0.8025, 1.0], \"gridcolor\": \"#E1E5ED\", \"showgrid\": false, \"tickfont\": {\"color\": \"#4D5663\"}, \"title\": {\"font\": {\"color\": \"#4D5663\"}, \"text\": \"\"}, \"zerolinecolor\": \"#E1E5ED\"}, \"yaxis3\": {\"anchor\": \"x3\", \"domain\": [0.8025, 1.0], \"gridcolor\": \"#E1E5ED\", \"showgrid\": false, \"tickfont\": {\"color\": \"#4D5663\"}, \"title\": {\"font\": {\"color\": \"#4D5663\"}, \"text\": \"\"}, \"zerolinecolor\": \"#E1E5ED\"}, \"yaxis4\": {\"anchor\": \"x4\", \"domain\": [0.8025, 1.0], \"gridcolor\": \"#E1E5ED\", \"showgrid\": false, \"tickfont\": {\"color\": \"#4D5663\"}, \"title\": {\"font\": {\"color\": \"#4D5663\"}, \"text\": \"\"}, \"zerolinecolor\": \"#E1E5ED\"}, \"yaxis5\": {\"anchor\": \"x5\", \"domain\": [0.535, 0.7325], \"gridcolor\": \"#E1E5ED\", \"showgrid\": false, \"tickfont\": {\"color\": \"#4D5663\"}, \"title\": {\"font\": {\"color\": \"#4D5663\"}, \"text\": \"\"}, \"zerolinecolor\": \"#E1E5ED\"}, \"yaxis6\": {\"anchor\": \"x6\", \"domain\": [0.535, 0.7325], \"gridcolor\": \"#E1E5ED\", \"showgrid\": false, \"tickfont\": {\"color\": \"#4D5663\"}, \"title\": {\"font\": {\"color\": \"#4D5663\"}, \"text\": \"\"}, \"zerolinecolor\": \"#E1E5ED\"}, \"yaxis7\": {\"anchor\": \"x7\", \"domain\": [0.535, 0.7325], \"gridcolor\": \"#E1E5ED\", \"showgrid\": false, \"tickfont\": {\"color\": \"#4D5663\"}, \"title\": {\"font\": {\"color\": \"#4D5663\"}, \"text\": \"\"}, \"zerolinecolor\": \"#E1E5ED\"}, \"yaxis8\": {\"anchor\": \"x8\", \"domain\": [0.535, 0.7325], \"gridcolor\": \"#E1E5ED\", \"showgrid\": false, \"tickfont\": {\"color\": \"#4D5663\"}, \"title\": {\"font\": {\"color\": \"#4D5663\"}, \"text\": \"\"}, \"zerolinecolor\": \"#E1E5ED\"}, \"yaxis9\": {\"anchor\": \"x9\", \"domain\": [0.2675, 0.465], \"gridcolor\": \"#E1E5ED\", \"showgrid\": false, \"tickfont\": {\"color\": \"#4D5663\"}, \"title\": {\"font\": {\"color\": \"#4D5663\"}, \"text\": \"\"}, \"zerolinecolor\": \"#E1E5ED\"}},\n",
       "                        {\"showLink\": true, \"linkText\": \"Export to plot.ly\", \"plotlyServerURL\": \"https://plot.ly\", \"responsive\": true}\n",
       "                    ).then(function(){\n",
       "                            \n",
       "var gd = document.getElementById('eba85a87-a368-4660-9706-6f7c37a2312c');\n",
       "var x = new MutationObserver(function (mutations, observer) {{\n",
       "        var display = window.getComputedStyle(gd).display;\n",
       "        if (!display || display === 'none') {{\n",
       "            console.log([gd, 'removed!']);\n",
       "            Plotly.purge(gd);\n",
       "            observer.disconnect();\n",
       "        }}\n",
       "}});\n",
       "\n",
       "// Listen for the removal of the full notebook cells\n",
       "var notebookContainer = gd.closest('#notebook-container');\n",
       "if (notebookContainer) {{\n",
       "    x.observe(notebookContainer, {childList: true});\n",
       "}}\n",
       "\n",
       "// Listen for the clearing of the current output cell\n",
       "var outputEl = gd.closest('.output');\n",
       "if (outputEl) {{\n",
       "    x.observe(outputEl, {childList: true});\n",
       "}}\n",
       "\n",
       "                        })\n",
       "                };\n",
       "                });\n",
       "            </script>\n",
       "        </div>"
      ]
     },
     "metadata": {},
     "output_type": "display_data"
    }
   ],
   "source": [
    "df.scatter_matrix()"
   ]
  },
  {
   "cell_type": "markdown",
   "metadata": {
    "collapsed": true
   },
   "source": [
    "# Great Job!"
   ]
  }
 ],
 "metadata": {
  "kernelspec": {
   "display_name": "Python 3",
   "language": "python",
   "name": "python3"
  },
  "language_info": {
   "codemirror_mode": {
    "name": "ipython",
    "version": 3
   },
   "file_extension": ".py",
   "mimetype": "text/x-python",
   "name": "python",
   "nbconvert_exporter": "python",
   "pygments_lexer": "ipython3",
   "version": "3.7.4"
  }
 },
 "nbformat": 4,
 "nbformat_minor": 1
}
